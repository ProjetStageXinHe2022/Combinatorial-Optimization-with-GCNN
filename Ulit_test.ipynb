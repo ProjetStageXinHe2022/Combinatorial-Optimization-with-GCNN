{
 "cells": [
  {
   "cell_type": "code",
   "execution_count": 6,
   "id": "e6ee4268",
   "metadata": {},
   "outputs": [
    {
     "name": "stdout",
     "output_type": "stream",
     "text": [
      "(20, 5)\n",
      "[20, 40]\n",
      "(40, 19)\n"
     ]
    }
   ],
   "source": [
    "import ecole\n",
    "import shutil\n",
    "import os\n",
    "import sys\n",
    "import time\n",
    "import numpy as np\n",
    "from tqdm import trange\n",
    "import pyscipopt as pyscip\n",
    "import pickle as pkl\n",
    "\n",
    "scip_parameters = {\"branching/scorefunc\": \"s\",\n",
    "                   \"limits/time\": 360,\n",
    "                   \"conflict/enable\": False,\n",
    "                   \n",
    "                   \"presolving/maxrounds\": 0,\n",
    "                   \"presolving/maxrestarts\": 0,\n",
    "                   \n",
    "                   \"separating/maxrounds\": 0,\n",
    "                   \"separating/maxroundsroot\" : 0,\n",
    "                   \"separating/maxcutsroot\": 0,\n",
    "                   \n",
    "                   \"propagating/maxroundsroot\" : 0,\n",
    "                   \"propagating/maxrounds\" : 0,\n",
    "                   \n",
    "                   \"randomization/permutevars\": False,\n",
    "                   \"randomization/permuteconss\": False,\n",
    "                   \"randomization/permutationseed\": 0,\n",
    "                  }\n",
    "\n",
    "setCover = ecole.instance.SetCoverGenerator\\\n",
    "            (n_rows=20, n_cols=40,density=0.4)\n",
    "env = ecole.environment.Branching(observation_function = ecole.observation.NodeBipartite(),\\\n",
    "                                scip_params = scip_parameters)\n",
    "instance = next(setCover)\n",
    "instance.write_problem(\"debugFile/ulitTest.lp\")\n",
    "\n",
    "obs, action_set, _, _, _ = env.reset(instance)\n",
    "print(obs.row_features.shape)\n",
    "print(obs.edge_features.shape)\n",
    "print(obs.variable_features.shape)\n",
    "done = 1\n"
   ]
  },
  {
   "cell_type": "code",
   "execution_count": 64,
   "id": "bd50637b",
   "metadata": {},
   "outputs": [
    {
     "name": "stdout",
     "output_type": "stream",
     "text": [
      "[3, 4]\n",
      "[ 0.27149084  1.          0.          0.          0.          1.\n",
      "  1.         -0.          0.5         0.5         0.          0.\n",
      "  0.          1.          0.82857143  0.          1.          0.\n",
      "  0.        ]\n",
      "{0: [1, 2, 3], 1: [0, 1, 2], 2: [0, 1, 3]}\n"
     ]
    }
   ],
   "source": [
    "env = ecole.environment.Branching(observation_function = ecole.observation.NodeBipartite(),\\\n",
    "                                scip_params = scip_parameters)\n",
    "\n",
    "instance = ecole.scip.Model.from_file(\"debugFile/ulitTest.lp\")\n",
    "instance.set_param(\"randomization/permutevars\",0)\n",
    "obs, action_set, _, _, _ = env.reset(instance)\n",
    "# print(obs.row_features.shape)\n",
    "print(obs.edge_features.shape)\n",
    "print(obs.variable_features[0])\n",
    "\n",
    "edges_dict = {}\n",
    "for i in range(len(obs.edge_features.indices[0])):\n",
    "    if obs.edge_features.indices[0][i] not in edges_dict:\n",
    "        edges_dict[obs.edge_features.indices[0][i]] = []\n",
    "    edges_dict[obs.edge_features.indices[0][i]].append(obs.edge_features.indices[1][i])\n",
    "np.set_printoptions(threshold=np.inf)\n",
    "print(edges_dict)"
   ]
  },
  {
   "cell_type": "code",
   "execution_count": null,
   "id": "0c817864",
   "metadata": {},
   "outputs": [],
   "source": []
  }
 ],
 "metadata": {
  "kernelspec": {
   "display_name": "Python 3 (ipykernel)",
   "language": "python",
   "name": "python3"
  },
  "language_info": {
   "codemirror_mode": {
    "name": "ipython",
    "version": 3
   },
   "file_extension": ".py",
   "mimetype": "text/x-python",
   "name": "python",
   "nbconvert_exporter": "python",
   "pygments_lexer": "ipython3",
   "version": "3.10.4"
  }
 },
 "nbformat": 4,
 "nbformat_minor": 5
}
