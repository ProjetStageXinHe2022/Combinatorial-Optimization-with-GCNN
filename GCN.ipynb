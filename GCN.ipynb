{
 "cells": [
  {
   "cell_type": "code",
   "execution_count": 1,
   "id": "24ce6631",
   "metadata": {},
   "outputs": [],
   "source": [
    "import os\n",
    "import numpy as np\n",
    "from tqdm import tqdm\n",
    "import matplotlib.pyplot as plt\n",
    "\n",
    "import torch\n",
    "import torch.nn as nn\n",
    "import torch.nn.functional as F\n",
    "from torch.optim import Adam\n",
    "from torch.utils.data import DataLoader\n",
    "from torch.nn import init\n",
    "from tabulate import tabulate\n",
    "import csv\n",
    "from focal_Loss import *\n",
    "from utility import *\n",
    "from torch.utils.tensorboard import SummaryWriter  \n"
   ]
  },
  {
   "cell_type": "markdown",
   "id": "2900ec36",
   "metadata": {},
   "source": [
    "# Read dataset"
   ]
  },
  {
   "cell_type": "code",
   "execution_count": 3,
   "id": "ec9032d6",
   "metadata": {},
   "outputs": [
    {
     "name": "stdout",
     "output_type": "stream",
     "text": [
      "cuda\n"
     ]
    }
   ],
   "source": [
    "data_name = \"SC1000\"\n",
    "# data_name = \"CFL30\"\n",
    "\n",
    "data_path = \"DataSet\"+data_name+\"/\"\n",
    "split = [0.70,0.15,0.15]\n",
    "\n",
    "dataSet = load_data(data_path)\n",
    "\n",
    "data_train,data_validation,data_test = torch.utils.data.random_split(dataSet,[int(len(dataSet) * s) for s in split])\n",
    "# print(dataSet[0]['A'])\n",
    "# for l in dataSet[0]['A']:\n",
    "#     for i in l:\n",
    "#         print(int(i!=0),end = '\\t')\n",
    "#     print()\n",
    "\n",
    "# data_train_X,data_train_Y,data_validation_X,data_validation_Y,data_test_X,data_test_Y,A = load_data()\n",
    "# print(data_train_X.shape)\n",
    "# print(data_train_Y.shape)\n",
    "# print(A.shape)\n",
    "def setup_seed(seed):\n",
    "    torch.manual_seed(seed)\n",
    "    torch.cuda.manual_seed_all(seed)\n",
    "    np.random.seed(seed)\n",
    "    torch.backends.cudnn.deterministic = True\n",
    "# 设置随机数种子\n",
    "\n",
    "device = torch.device(\"cuda\" if torch.cuda.is_available() else \"cpu\")\n",
    "os.environ[\"CUDA_VISIBLE_DEVICES\"] = \"0\"\n",
    "print(device)\n",
    "if device == torch.device(\"cuda\"):\n",
    "#     torch.cuda.empty_cache()\n",
    "    data_train_gpu = []\n",
    "    for i in range(len(data_train)):\n",
    "        inputs, labels = torch.from_numpy(data_train[i]['X']).float(),torch.from_numpy(data_train[i]['Y']).type(torch.FloatTensor).float()\n",
    "        A = torch.from_numpy(data_train[i]['A']).float()\n",
    "        inputs = inputs.to(device)\n",
    "        labels = labels.to(device)\n",
    "        A = A.to(device)\n",
    "        data_train_gpu.append([inputs,labels,A])\n",
    "    data_valide_gpu = []\n",
    "    for i in range(len(data_validation)):\n",
    "        inputs, labels = torch.from_numpy(data_validation[i]['X']).float(),torch.from_numpy(data_validation[i]['Y']).type(torch.FloatTensor).float()\n",
    "        A = torch.from_numpy(data_validation[i]['A']).float()\n",
    "        inputs = inputs.to(device)\n",
    "        labels = labels.to(device)\n",
    "        A = A.to(device)\n",
    "        data_valide_gpu.append([inputs,labels,A])\n",
    "        \n",
    "    data_test_gpu = []\n",
    "    for i in range(len(data_test)):\n",
    "        inputs, labels = torch.from_numpy(data_test[i]['X']).float(),torch.from_numpy(data_test[i]['Y']).type(torch.FloatTensor).float()\n",
    "        A = torch.from_numpy(data_test[i]['A']).float()\n",
    "        inputs = inputs.to(device)\n",
    "        labels = labels.to(device)\n",
    "        A = A.to(device)\n",
    "        data_test_gpu.append([inputs,labels,A])"
   ]
  },
  {
   "cell_type": "markdown",
   "id": "75ecad4a",
   "metadata": {},
   "source": [
    "# GCN"
   ]
  },
  {
   "cell_type": "code",
   "execution_count": 4,
   "id": "fe67f691",
   "metadata": {},
   "outputs": [],
   "source": [
    "class simpleMLP(nn.Module):\n",
    "    def __init__(self, input_size, out_size,activate = nn.ReLU()):\n",
    "        super(simpleMLP, self).__init__()\n",
    "        self.linear = nn.Linear(input_size, out_size)\n",
    "        self.activate = activate\n",
    "        \n",
    "    def forward(self, x):\n",
    "        x = self.linear(x)\n",
    "        x = self.activate(x)\n",
    "        return x\n",
    "    \n",
    "class GNN(nn.Module):\n",
    "    def __init__(self, input_size,hidden_size,nb_MLP):\n",
    "        super(GNN,self).__init__()\n",
    "        self.mlp = nn.ModuleList(\n",
    "            [simpleMLP(input_size, hidden_size)]+[simpleMLP(hidden_size, hidden_size) for i in range(nb_MLP - 1)]   \n",
    "        )\n",
    "    \n",
    "    def forward(self, x, A):\n",
    "        for mlp_module in self.mlp:\n",
    "            x = mlp_module(x)\n",
    "            x = A @ x\n",
    "        return x\n",
    "    \n",
    "# class GNN(nn.Module):\n",
    "#     def __init__(self, input_size,hidden_size,nb_MLP):\n",
    "#         super(GNN,self).__init__()\n",
    "#         self.input_mlp = simpleMLP(input_size, hidden_size)\n",
    "#         self.mlp = nn.ModuleList(\n",
    "#             [simpleMLP(hidden_size, hidden_size) for i in range(nb_MLP - 1)]   \n",
    "#         )\n",
    "    \n",
    "#     def forward(self, x, A):\n",
    "#         x = self.input_mlp(x)\n",
    "# #         x = A @ x\n",
    "#         for mlp_module in self.mlp:\n",
    "#             x = mlp_module(x)\n",
    "# #             x = A @ x\n",
    "#         return x\n",
    "    \n",
    "class VariablePredictor(nn.Module):\n",
    "    def __init__(self, input_size,hidden_size,nb_MLP):\n",
    "        super(VariablePredictor,self).__init__()\n",
    "        self.GNN = GNN(input_size,hidden_size,nb_MLP)\n",
    "        self.outlayer = simpleMLP(hidden_size,1,nn.Sigmoid())    \n",
    "    \n",
    "    def forward(self,x,A):\n",
    "        x = self.GNN(x,A)\n",
    "        return self.outlayer(x)\n",
    "\n",
    "\n",
    "\n",
    "\n",
    "class VariablePredictor_OnlyOutLayer(nn.Module):\n",
    "    def __init__(self, input_size,hidden_size,nb_MLP):\n",
    "        super(VariablePredictor_OnlyOutLayer,self).__init__()\n",
    "#         self.GNN = GNN(input_size,hidden_size,nb_MLP)\n",
    "        self.outlayer = simpleMLP(hidden_size,1,nn.Sigmoid())    \n",
    "    \n",
    "    def forward(self,x,A):\n",
    "#         x = self.GNN(x,A)\n",
    "        return self.outlayer(x)        "
   ]
  },
  {
   "cell_type": "markdown",
   "id": "d577d052",
   "metadata": {},
   "source": [
    "## Train\n"
   ]
  },
  {
   "cell_type": "code",
   "execution_count": 5,
   "id": "dfe7a895",
   "metadata": {},
   "outputs": [],
   "source": [
    "def train_step(model, x, y,A, optimizer,criterion):\n",
    "    optimizer.zero_grad()\n",
    "    output = model(x,A)[:len(y)].squeeze(dim=-1)\n",
    "#     print(\"output\",output)\n",
    "    loss =criterion(output,y)\n",
    "#     print(\"loss\",loss)\n",
    "    loss.backward()\n",
    "    optimizer.step()\n",
    "    \n",
    "    return loss, output\n",
    "\n",
    "\n",
    "def valide(model,criterion,data_validation,proportion = 0.7):\n",
    "        vloss = []\n",
    "        accuracy_value = []\n",
    "        accuracy_instance = []\n",
    "        \n",
    "        accuracy_one = []\n",
    "        accuracy_one_predict = []\n",
    "        nb_predict_one = []\n",
    "        nb_one = []\n",
    "        \n",
    "        accuracy_zero = []\n",
    "        accuracy_zero_predict = []\n",
    "        nb_zero = []\n",
    "        nb_predict_zero = []\n",
    "        \n",
    "        accuracy_fixe_one = []\n",
    "        accuracy_fixe_zero = []  \n",
    "        accuracy_fixe = []\n",
    "        \n",
    "        data_size = len(data_validation)\n",
    "        for i in range(data_size):\n",
    "            if device == torch.device(\"cuda\"):\n",
    "                inputs, labels = data_validation[i][0],data_validation[i][1]#torch.from_numpy(data_train[i]['X']).float(),torch.from_numpy(data_train[i]['Y']).type(torch.FloatTensor).float()\n",
    "                A =data_validation[i][2]# torch.from_numpy(data_train[i]['A']).float()\n",
    "            else:\n",
    "                inputs, labels =torch.from_numpy(data_train[i]['X']).float(),torch.from_numpy(data_train[i]['Y']).type(torch.FloatTensor).float()\n",
    "                A =torch.from_numpy(data_train[i]['A']).float()\n",
    "            predictions = model(inputs,A)[:len(labels)].squeeze(dim=-1)\n",
    "            loss =criterion(predictions,labels)\n",
    "            A = A.cpu()\n",
    "            labels = labels.cpu()\n",
    "            predictions = predictions.cpu()\n",
    "            \n",
    "            nb_one_total = torch.sum(torch.where(labels == 1,1,0))\n",
    "            nb_zero_total = (len(labels) - nb_one_total)\n",
    "            aux= torch.Tensor([0.5])\n",
    "            y_hat = (predictions > aux).float() * 1\n",
    "            is_equal = torch.where(y_hat == labels,1,0)\n",
    "            vloss.append(loss.cpu().detach().numpy())\n",
    "            accuracy_value.append(is_equal.cpu().sum().detach().numpy()/\n",
    "                           len(labels))\n",
    "            accuracy_instance.append(int(accuracy_value[-1]==1))\n",
    "            #accuracy proportion\n",
    "            predictions_abs =  np.abs(0.5 - predictions.detach().numpy())\n",
    "            thresholds = abs(np.sort(-predictions_abs))[int(proportion * len(predictions.cpu().detach().numpy()))- 1]\n",
    "#             thresholds_low = np.sort(predictions_abs)[int(proportion_low * nb_zero_total]\n",
    "#             thresholds_up = abs(np.sort(-predictions_abs))[int(proportion_up * nb_one_total)]\n",
    "            \n",
    "            #accuracy for differents labels(0 or 1)\n",
    "            nb_one_fixe = 0\n",
    "            nb_zero_fixe = 0\n",
    "            nb_correct_one = 0\n",
    "            nb_correct_zero = 0\n",
    "            nb_correct_fixe_one = 0\n",
    "            nb_correct_fixe_zero = 0\n",
    "            nb_correct_fixe = 0\n",
    "            nb_fixe = 0 \n",
    "            for j,v in enumerate(is_equal):\n",
    "                if labels[j] == 1:\n",
    "                    nb_correct_one += v\n",
    "                else:\n",
    "                    nb_correct_zero += v\n",
    "\n",
    "                if predictions_abs[j] >= thresholds:             \n",
    "                    if labels[j]:\n",
    "                        nb_correct_fixe_one += v\n",
    "                    else:\n",
    "                        nb_correct_fixe_zero += v\n",
    "                        \n",
    "                    if y_hat[j]:\n",
    "                        nb_one_fixe += 1\n",
    "                    else:\n",
    "                        nb_zero_fixe += 1\n",
    "\n",
    "#                 if predictions_abs[j] <= thresholds_low:\n",
    "#                     if labels[j] == 0:\n",
    "#                         nb_correct_fixe_zero += v\n",
    "#                     nb_zero_to_fixe += 1\n",
    "#                 if predictions_abs[j] >= thresholds_up:\n",
    "#                     if labels[j] == 1:\n",
    "#                         nb_correct_fixe_one += v\n",
    "#                     nb_one_to_fixe += 1\n",
    "                    \n",
    "            nb_one_total = torch.sum(torch.where(labels == 1,1,0))\n",
    "            nb_one_predict = torch.sum(torch.where(y_hat == 1,1,0))\n",
    "            accuracy_one.append((nb_correct_one/nb_one_total))\n",
    "            accuracy_one_predict.append((nb_correct_one/nb_one_predict) if nb_one_predict > 0 else 0)\n",
    "            nb_predict_one.append(nb_one_predict)\n",
    "            nb_one.append(nb_one_total)\n",
    "            \n",
    "            nb_zero_predict = (len(labels) - nb_one_predict)\n",
    "            accuracy_zero.append((nb_correct_zero/nb_zero_total))\n",
    "            accuracy_zero_predict.append((nb_correct_zero/nb_zero_predict) if nb_zero_predict > 0 else 0)\n",
    "            nb_predict_zero.append(nb_zero_predict)\n",
    "            nb_zero.append(nb_zero_total)\n",
    "            \n",
    "            accuracy_fixe.append((nb_correct_fixe_one+nb_correct_fixe_zero)/(nb_one_fixe+nb_zero_fixe))\n",
    "            accuracy_fixe_one.append(nb_correct_fixe_one/nb_one_fixe if nb_one_fixe>0 else 0)\n",
    "            accuracy_fixe_zero.append(nb_correct_fixe_zero/nb_zero_fixe if nb_zero_fixe>0 else 0)\n",
    "            \n",
    "        #     print(nb_correct_fixe.cpu(),nb_var_fixe)\n",
    "        #         print(labels,\"\\n\",predictions)\n",
    "        #         print(labels[0:10],y_hat[0:10])\n",
    "        msg = (\"Loss = %f,Accuracy_value = %f,Accuracy_instance = %f\\n\"\\\n",
    "              %(np.mean(vloss),np.mean(accuracy_value),np.sum(accuracy_instance)/len(accuracy_instance)))\n",
    "        msg +=(\"Label_One_Predict_One = %f,Predict_One_Label_One = %f,Nombre_Predict_One = %f,Nombre_One_Mean = %f\\n\"\\\n",
    "              %(np.mean(accuracy_one),np.mean(accuracy_one_predict),np.mean(nb_predict_one),np.mean(nb_one)))\n",
    "        msg +=(\"Label_Zero_Predict_Zero = %f,Label_Zero_Predict_Zero = %f,Nombre_Predict_Zero = %f,Nombre_Zero_Mean = %f\\n\"\\\n",
    "              %(np.mean(accuracy_zero),np.mean(accuracy_zero_predict),np.mean(nb_predict_zero),np.mean(nb_zero)))\n",
    "        msg +=(\"Accuracy_fixe_mean = %f,Accuracy_fixe_one = %f,Accuracy_fixe_zero = %f\\n\"\\\n",
    "              %(np.mean(accuracy_fixe),np.mean(accuracy_fixe_one),np.mean(accuracy_fixe_zero)))\n",
    "        print(msg)\n",
    "        return msg,np.mean(accuracy_value),np.sum(accuracy_instance)/len(accuracy_instance),np.mean(accuracy_fixe_one),np.mean(accuracy_fixe_zero)"
   ]
  },
  {
   "cell_type": "code",
   "execution_count": 43,
   "id": "5df9752b",
   "metadata": {},
   "outputs": [],
   "source": [
    "def train(net,criterion,data_valide,proportion,writer,EPOCHS=500,do_valide = True,do_log = True,epochs_continue = 0):\n",
    "    aux= torch.Tensor([0.5]).to(device)\n",
    "    for epoch in tqdm(range(epochs_continue,epochs_continue+EPOCHS)):\n",
    "        #validation\n",
    "        if do_valide and epoch % 50 == 0:\n",
    "            v = valide(net,criterion,data_valide,proportion)\n",
    "            if do_log:\n",
    "                writer.add_scalar('Accuracy_fixe_one ', v[3], epoch)\n",
    "                writer.add_scalar('Accuracy_fixe_zero ', v[4], epoch)\n",
    "        #train\n",
    "        data_size = len(data_train)\n",
    "        log = []\n",
    "        for i in range(data_size):\n",
    "            if device == torch.device(\"cuda\"):\n",
    "                train_inputs, train_labels = data_train_gpu[i][0],data_train_gpu[i][1]#torch.from_numpy(data_train[i]['X']).float(),torch.from_numpy(data_train[i]['Y']).type(torch.FloatTensor).float()\n",
    "                A =data_train_gpu[i][2]# torch.from_numpy(data_train[i]['A']).float()\n",
    "            else:\n",
    "                train_inputs, train_labels = torch.from_numpy(data_train[i]['X']).float(),torch.from_numpy(data_train[i]['Y']).type(torch.FloatTensor).float()\n",
    "                A = torch.from_numpy(data_train[i]['A']).float()    \n",
    "            loss, predictions = train_step(net,train_inputs,train_labels,A,optm, criterion)\n",
    "\n",
    "            gradient_norm = 0\n",
    "            for p in net.parameters():\n",
    "                param_norm = p.grad.detach().data.norm(2)\n",
    "                gradient_norm += param_norm.item() ** 2\n",
    "            gradient_norm = gradient_norm ** 0.5\n",
    "\n",
    "            y_hat = (predictions > aux).float() * 1\n",
    "            is_equal = torch.where(y_hat == train_labels,1,0)\n",
    "            acc = is_equal.cpu().sum().detach().numpy()/len(train_labels)\n",
    "    #         is_correct_predit_one = 0\n",
    "    #         for i,v in enumerate(is_equal):\n",
    "    #             if v == 1 and train_labels[i]==1:\n",
    "    #                 is_correct_predit_one\n",
    "    #         if is_correct_predit_one != 0:\n",
    "    #             print(is_correct_predit_one)\n",
    "            log.append([loss.cpu().detach().numpy(),acc,gradient_norm])\n",
    "        log = np.array(log).T\n",
    "        if do_log:\n",
    "            writer.add_scalar('Loss', np.mean(log[0]), epoch)\n",
    "            writer.add_scalar('Accuracy', np.mean(log[1]), epoch)\n",
    "            writer.add_scalar('Gradient_norm', np.mean(log[2]), epoch)\n"
   ]
  },
  {
   "cell_type": "code",
   "execution_count": 15,
   "id": "17cc4020",
   "metadata": {},
   "outputs": [
    {
     "name": "stdout",
     "output_type": "stream",
     "text": [
      "cuda\n"
     ]
    }
   ],
   "source": [
    "print(device)\n"
   ]
  },
  {
   "cell_type": "code",
   "execution_count": null,
   "id": "db285533",
   "metadata": {
    "scrolled": true
   },
   "outputs": [
    {
     "name": "stderr",
     "output_type": "stream",
     "text": [
      "\r",
      "  0%|                                                                                          | 0/300 [00:00<?, ?it/s]"
     ]
    },
    {
     "name": "stdout",
     "output_type": "stream",
     "text": [
      "Loss = 0.382553,Accuracy_value = 0.971341,Accuracy_instance = 0.000000\n",
      "Label_One_Predict_One = 0.000000,Predict_One_Label_One = 0.000000,Nombre_Predict_One = 0.000000,Nombre_One_Mean = 23.333333\n",
      "Label_Zero_Predict_Zero = 1.000000,Label_Zero_Predict_Zero = 0.971341,Nombre_Predict_Zero = 917.777778,Nombre_Zero_Mean = 894.444444\n",
      "Accuracy_fixe_mean = 0.977958,Accuracy_fixe_one = 0.000000,Accuracy_fixe_zero = 0.977958\n",
      "\n"
     ]
    },
    {
     "name": "stderr",
     "output_type": "stream",
     "text": [
      " 17%|█████████████▌                                                                   | 50/300 [00:24<01:55,  2.17it/s]"
     ]
    },
    {
     "name": "stdout",
     "output_type": "stream",
     "text": [
      "Loss = 0.019171,Accuracy_value = 0.993537,Accuracy_instance = 0.355556\n",
      "Label_One_Predict_One = 0.871022,Predict_One_Label_One = 0.869525,Nombre_Predict_One = 23.466667,Nombre_One_Mean = 23.333333\n",
      "Label_Zero_Predict_Zero = 0.996629,Label_Zero_Predict_Zero = 0.996712,Nombre_Predict_Zero = 894.311111,Nombre_Zero_Mean = 894.444444\n",
      "Accuracy_fixe_mean = 1.000000,Accuracy_fixe_one = 0.066667,Accuracy_fixe_zero = 1.000000\n",
      "\n"
     ]
    },
    {
     "name": "stderr",
     "output_type": "stream",
     "text": [
      " 33%|██████████████████████████▋                                                     | 100/300 [00:47<01:23,  2.40it/s]"
     ]
    },
    {
     "name": "stdout",
     "output_type": "stream",
     "text": [
      "Loss = 0.018890,Accuracy_value = 0.993583,Accuracy_instance = 0.355556\n",
      "Label_One_Predict_One = 0.871022,Predict_One_Label_One = 0.871176,Nombre_Predict_One = 23.422222,Nombre_One_Mean = 23.333333\n",
      "Label_Zero_Predict_Zero = 0.996676,Label_Zero_Predict_Zero = 0.996712,Nombre_Predict_Zero = 894.355556,Nombre_Zero_Mean = 894.444444\n",
      "Accuracy_fixe_mean = 1.000000,Accuracy_fixe_one = 0.044444,Accuracy_fixe_zero = 1.000000\n",
      "\n"
     ]
    },
    {
     "name": "stderr",
     "output_type": "stream",
     "text": [
      " 50%|████████████████████████████████████████                                        | 150/300 [01:09<01:02,  2.40it/s]"
     ]
    },
    {
     "name": "stdout",
     "output_type": "stream",
     "text": [
      "Loss = 0.018644,Accuracy_value = 0.993654,Accuracy_instance = 0.400000\n",
      "Label_One_Predict_One = 0.872370,Predict_One_Label_One = 0.870629,Nombre_Predict_One = 23.488889,Nombre_One_Mean = 23.333333\n",
      "Label_Zero_Predict_Zero = 0.996657,Label_Zero_Predict_Zero = 0.996807,Nombre_Predict_Zero = 894.288889,Nombre_Zero_Mean = 894.444444\n",
      "Accuracy_fixe_mean = 1.000000,Accuracy_fixe_one = 0.044444,Accuracy_fixe_zero = 1.000000\n",
      "\n"
     ]
    },
    {
     "name": "stderr",
     "output_type": "stream",
     "text": [
      " 65%|████████████████████████████████████████████████████                            | 195/300 [01:29<00:43,  2.39it/s]"
     ]
    }
   ],
   "source": [
    "nb_mlp = 1\n",
    "EPOCHS = 300\n",
    "proportion = 0.8\n",
    "H = 50\n",
    "info_valide = []\n",
    "gamma = 0.5\n",
    "alpha = 0.25\n",
    "for nb_mlp in [1]:\n",
    "    criterion = nn.BCELoss()\n",
    "#     criterion = FocalLoss(gamma=gamma,alpha = alpha)\n",
    "    if criterion.__str__()==\"BCELoss()\":\n",
    "        train_name = data_name+\"_BCE_\"+nb_mlp.__str__()+\"MLP\"+H.__str__()+\"TailleH\"\n",
    "    elif criterion.__str__()==\"FocalLoss()\":\n",
    "        train_name = data_name+\"_FL_\"+gamma.__str__()+\"Gamma_\"+alpha.__str__()+\"Alpha_\"+nb_mlp.__str__()+\"MLP\"+H.__str__()+\"TailleH\"\n",
    "\n",
    "    writer = SummaryWriter('./logs/'+train_name+\"/\")\n",
    "    net = VariablePredictor(24,H,nb_mlp)\n",
    "    net.to(device)\n",
    "    optm = Adam(net.parameters(), lr = 0.01)\n",
    "    train(net,criterion,data_valide_gpu,proportion,writer,EPOCHS=EPOCHS,do_valide = True,do_log = True)\n",
    "    model_path = \"model/\"+train_name\n",
    "    torch.save(net.state_dict(),model_path)\n",
    "    msg=valide(net,criterion,data_test_gpu,proportion = proportion)\n",
    "    info_valide.append(msg[1:])\n",
    "    with open('./logs/'+train_name+\"/valide_log.txt\", \"w\") as txtfile:\n",
    "        print(\"{}\".format(msg), file=txtfile)\n",
    "\n",
    "    "
   ]
  },
  {
   "cell_type": "code",
   "execution_count": null,
   "id": "56b77780",
   "metadata": {},
   "outputs": [],
   "source": [
    "nb_mlp = 1\n",
    "EPOCHS = 1000\n",
    "proportion = 0.8\n",
    "H = 50\n",
    "info_valide = []\n",
    "gamma = 0.5\n",
    "alpha = 0.25\n",
    "for H in [10,50,100]:\n",
    "    criterion = nn.BCELoss()\n",
    "#     criterion = FocalLoss(gamma=gamma,alpha = alpha)\n",
    "    if criterion.__str__()==\"BCELoss()\":\n",
    "        train_name = data_name+\"_BCE_\"+nb_mlp.__str__()+\"MLP\"+H.__str__()+\"TailleH\"\n",
    "    elif criterion.__str__()==\"FocalLoss()\":\n",
    "        train_name = data_name+\"_FL_\"+gamma.__str__()+\"Gamma_\"+alpha.__str__()+\"Alpha_\"+nb_mlp.__str__()+\"MLP\"+H.__str__()+\"TailleH\"\n",
    "\n",
    "    writer = SummaryWriter('./logs/'+train_name+\"/\")\n",
    "    net = VariablePredictor(24,H,nb_mlp)\n",
    "    net.to(device)\n",
    "    optm = Adam(net.parameters(), lr = 0.0001)\n",
    "    train(net,criterion,data_valide_gpu,proportion,writer,EPOCHS=EPOCHS,do_valide = True,do_log = True)\n",
    "    model_path = \"model/\"+train_name\n",
    "    torch.save(net.state_dict(),model_path)\n",
    "    msg=valide(net,criterion,data_test_gpu,proportion = proportion)\n",
    "    info_valide.append(msg[1:])\n",
    "    with open('./logs/'+train_name+\"/valide_log.txt\", \"w\") as txtfile:\n",
    "        print(\"{}\".format(msg), file=txtfile)\n"
   ]
  },
  {
   "cell_type": "code",
   "execution_count": 10,
   "id": "94e90176",
   "metadata": {},
   "outputs": [
    {
     "name": "stdout",
     "output_type": "stream",
     "text": [
      "Loss = 3.034445,Accuracy_value = 0.969656,Accuracy_instance = 0.000000\n",
      "Label_One_Predict_One = 0.000000,Predict_One_Label_One = 0.000000,Nombre_Predict_One = 0.000000,Nombre_One_Mean = 23.955556\n",
      "Label_Zero_Predict_Zero = 1.000000,Label_Zero_Predict_Zero = 0.969656,Nombre_Predict_Zero = 904.444444,Nombre_Zero_Mean = 880.488889\n",
      "Accuracy_fixe_mean = 0.969656,Accuracy_fixe_one = 0.000000,Accuracy_fixe_zero = 0.969656\n",
      "\n"
     ]
    }
   ],
   "source": [
    "m=valide(model,nn.BCELoss(),data_test_gpu,proportion = 0.9)"
   ]
  },
  {
   "cell_type": "markdown",
   "id": "538ac302",
   "metadata": {},
   "source": [
    "## Test"
   ]
  },
  {
   "cell_type": "code",
   "execution_count": 35,
   "id": "0a425d8d",
   "metadata": {},
   "outputs": [],
   "source": [
    "# nb_mlp = 1\n",
    "# net = VariablePredictor(24,50,nb_mlp)\n",
    "# net.to(device)\n",
    "# data_name = \"SC100\"\n",
    "\n",
    "# model_path = \"model/\"+data_name+\"_MLP\"+nb_mlp.__str__()+\"Gamma\"+gam.__str__()\n",
    "model_path = \"model/\"+train_name\n",
    "torch.save(net.state_dict(),model_path)\n"
   ]
  },
  {
   "cell_type": "code",
   "execution_count": null,
   "id": "3324c11d",
   "metadata": {},
   "outputs": [],
   "source": [
    "# model_path = \"model/SC1000_MLP3_NoA\"\n",
    "model_path = \"model/CFL30_MLP3_NoA\"\n",
    "torch.save(net.state_dict(),model_path)"
   ]
  },
  {
   "cell_type": "code",
   "execution_count": 8,
   "id": "9b25a1a6",
   "metadata": {},
   "outputs": [
    {
     "ename": "NameError",
     "evalue": "name 'alpha' is not defined",
     "output_type": "error",
     "traceback": [
      "\u001b[1;31m---------------------------------------------------------------------------\u001b[0m",
      "\u001b[1;31mNameError\u001b[0m                                 Traceback (most recent call last)",
      "Input \u001b[1;32mIn [8]\u001b[0m, in \u001b[0;36m<cell line: 1>\u001b[1;34m()\u001b[0m\n\u001b[1;32m----> 1\u001b[0m train_name \u001b[38;5;241m=\u001b[39m data_name\u001b[38;5;241m+\u001b[39m\u001b[38;5;124m\"\u001b[39m\u001b[38;5;124m_FL_\u001b[39m\u001b[38;5;124m\"\u001b[39m\u001b[38;5;241m+\u001b[39m\u001b[38;5;124m\"\u001b[39m\u001b[38;5;124m3Gamma_\u001b[39m\u001b[38;5;124m\"\u001b[39m\u001b[38;5;241m+\u001b[39m\u001b[43malpha\u001b[49m\u001b[38;5;241m.\u001b[39m\u001b[38;5;21m__str__\u001b[39m()\u001b[38;5;241m+\u001b[39m\u001b[38;5;124m\"\u001b[39m\u001b[38;5;124mAlpha_\u001b[39m\u001b[38;5;124m\"\u001b[39m\u001b[38;5;241m+\u001b[39m\u001b[38;5;124m\"\u001b[39m\u001b[38;5;124m1MLP\u001b[39m\u001b[38;5;124m\"\u001b[39m\n\u001b[0;32m      2\u001b[0m model_path \u001b[38;5;241m=\u001b[39m \u001b[38;5;124m\"\u001b[39m\u001b[38;5;124mmodel/CFL30_FL_1Gamma_0.1Alpha_3MLP\u001b[39m\u001b[38;5;124m\"\u001b[39m\n\u001b[0;32m      3\u001b[0m model \u001b[38;5;241m=\u001b[39m VariablePredictor(\u001b[38;5;241m24\u001b[39m,\u001b[38;5;241m50\u001b[39m,\u001b[38;5;241m3\u001b[39m)\u001b[38;5;241m.\u001b[39mto(device)\n",
      "\u001b[1;31mNameError\u001b[0m: name 'alpha' is not defined"
     ]
    }
   ],
   "source": [
    "train_name = data_name+\"_FL_\"+\"3Gamma_\"+alpha.__str__()+\"Alpha_\"+\"1MLP\"\n",
    "model_path = \"model/CFL30_FL_1Gamma_0.1Alpha_3MLP\"\n",
    "model = VariablePredictor(24,50,3).to(device)\n",
    "model.load_state_dict(torch.load(model_path))\n",
    "valide(model,criterion,data_test_gpu,proportion = 0.8)"
   ]
  },
  {
   "cell_type": "markdown",
   "id": "573b7c09",
   "metadata": {},
   "source": [
    "# Analyse\n"
   ]
  },
  {
   "cell_type": "code",
   "execution_count": 71,
   "id": "739bb78b",
   "metadata": {},
   "outputs": [],
   "source": [
    "def predict(model,data_validation):\n",
    "        predictions_values = []\n",
    "        is_predict_correct = []\n",
    "        data_size = len(data_validation)\n",
    "        y_hats = []\n",
    "        labels = []\n",
    "        for i in range(data_size):\n",
    "            if data_validation[0][0].device == \"cpu\":\n",
    "                inputs, label = torch.from_numpy(data_validation[i]['X']).float(),\\\n",
    "                                torch.from_numpy(data_validation[i]['Y']).type(torch.FloatTensor).float()\n",
    "                A = torch.from_numpy(data_validation[i]['A']).float()\n",
    "                inputs = inputs.to(device)\n",
    "                label = label.to(device)\n",
    "                A = A.to(device)\n",
    "            else:\n",
    "                inputs, label = data_validation[i][0],data_validation[i][1]\n",
    "                A =data_validation[i][2]\n",
    "                \n",
    "            predictions = model(inputs,A)[:len(label)].squeeze(dim=-1)\n",
    "            label = label.cpu()\n",
    "            predictions = predictions.cpu()\n",
    "            predictions_values.append(predictions)\n",
    "\n",
    "            aux= torch.Tensor([0.5])\n",
    "            y_hat = (predictions > aux).float() * 1\n",
    "            is_equal = torch.where(y_hat == label,1,0)\n",
    "            is_predict_correct.append(is_equal)\n",
    "            y_hats.append(y_hat)\n",
    "            labels.append(label)\n",
    "        return predictions_values,labels,y_hats,is_predict_correct\n",
    "\n",
    "def fixe_proportionally(predictions_values,labels,y_hat,is_predict_correct,proportion = 0.7): \n",
    "        hist_nb_one_fixe = []\n",
    "        hist_nb_zero_fixe = []\n",
    "        accuracy_fixe_one = []\n",
    "        accuracy_fixe_zero = []  \n",
    "        \n",
    "        data_size = len(predictions_values)\n",
    "        for i in range(data_size):\n",
    "            problem_size = len(y_hat[i])\n",
    "            nb_one_total = torch.sum(torch.where(labels[i] == 1,1,0))\n",
    "            nb_zero_total = (problem_size - nb_one_total)\n",
    "            aux= torch.Tensor([0.5])\n",
    "            predictions_norm =  np.abs(0.5 - predictions_values[i].detach().numpy())\n",
    "            thresholds = abs(np.sort(-predictions_norm))[int(proportion * problem_size)- 1]\n",
    "            nb_one_fixe = 0\n",
    "            nb_zero_fixe = 0\n",
    "            nb_correct_fixe_one = 0\n",
    "            nb_correct_fixe_zero = 0\n",
    "            nb_correct_fixe = 0\n",
    "            nb_fixe = 0 \n",
    "            for j,v in enumerate(is_predict_correct[i]):\n",
    "                if predictions_norm[j] >= thresholds:             \n",
    "                    if labels[i][j]:\n",
    "                        nb_correct_fixe_one += v\n",
    "                    else:\n",
    "                        nb_correct_fixe_zero += v\n",
    "                        \n",
    "                    if y_hat[i][j]:\n",
    "                        nb_one_fixe += 1\n",
    "                    else:\n",
    "                        nb_zero_fixe += 1\n",
    "            hist_nb_one_fixe.append(nb_one_fixe)\n",
    "            hist_nb_zero_fixe.append(nb_zero_fixe)\n",
    "            accuracy_fixe_one.append(nb_correct_fixe_one/nb_one_fixe if nb_one_fixe>0 else 0)\n",
    "            accuracy_fixe_zero.append(nb_correct_fixe_zero/nb_zero_fixe if nb_zero_fixe>0 else 0)\n",
    "        return np.mean(accuracy_fixe_one),np.mean(hist_nb_one_fixe),np.mean(accuracy_fixe_zero),np.mean(hist_nb_zero_fixe)\n",
    "    \n",
    "def fixe_one_epsilon(predictions_values,y_hats,labels,e = 0.01):\n",
    "    nbs_fixe = []\n",
    "    accs_fixe = []\n",
    "    props = []\n",
    "    data_size = len(data_validation)\n",
    "    thresholds = 1 - e\n",
    "    for i in range(data_size):\n",
    "        problem_size = len(labels[i])\n",
    "        nb_fixe = 0\n",
    "        nb_correct_fixe = 0\n",
    "        nb_one_total = torch.sum(torch.where(labels[i] == 1,1,0))\n",
    "        for j in range(problem_size):\n",
    "            if predictions[i][j] >= thresholds:  \n",
    "                nb_fixe += 1\n",
    "                if y_hats[i][j] and labels[i][j]:\n",
    "                    nb_correct_fixe += 1\n",
    "        nbs_fixe.append(nb_fixe)\n",
    "        accs_fixe.append(nb_correct_fixe/nb_fixe if nb_fixe > 0 else 0)        \n",
    "        props.append(nb_correct_fixe/nb_one_total)\n",
    "    return np.mean(accs_fixe),np.mean(nbs_fixe),np.mean(props)\n",
    "\n",
    "def get_cost_effective(data_instance):\n",
    "    features = data_instance[0]\n",
    "    labels = data_instance[1]\n",
    "    size = len(labels)\n",
    "    A=data_instance[2] \n",
    "    return [float(features[i][0]/sum(torch.where(A[i]==0,0,1))) for i in range(size)]\n",
    "\n",
    "\n",
    "\n",
    "    "
   ]
  },
  {
   "cell_type": "code",
   "execution_count": 115,
   "id": "d1acdabe",
   "metadata": {},
   "outputs": [
    {
     "name": "stdout",
     "output_type": "stream",
     "text": [
      "Loss = 0.124151,Accuracy_value = 0.994478,Accuracy_instance = 0.422222\n",
      "Label_One_Predict_One = 0.910292,Predict_One_Label_One = 0.913030,Nombre_Predict_One = 23.933333,Nombre_One_Mean = 23.955556\n",
      "Label_Zero_Predict_Zero = 0.997162,Label_Zero_Predict_Zero = 0.997095,Nombre_Predict_Zero = 880.511111,Nombre_Zero_Mean = 880.488889\n",
      "Accuracy_fixe_mean = 0.994478,Accuracy_fixe_one = 0.913030,Accuracy_fixe_zero = 0.997095\n",
      "\n"
     ]
    }
   ],
   "source": [
    "_ = valide(model,criterion,data_test_gpu,proportion = 1)"
   ]
  },
  {
   "cell_type": "code",
   "execution_count": 125,
   "id": "0aff9b4a",
   "metadata": {},
   "outputs": [],
   "source": [
    "prediction_mean = np.zeros((500))\n",
    "data_size = len(data_test_gpu)\n",
    "for i in tqdm(range(data_size)):\n",
    "    cost_effective = get_cost_effective(data_test_gpu[i])\n",
    "    aux_dict = {}\n",
    "    for j,v in enumerate(cost_effective):\n",
    "        aux_dict[j] = v\n",
    "    aux_dict = sorted(aux_dict.items(), key = lambda kv:(kv[1], kv[0]))\n",
    "    inputs, label = data_test_gpu[i][0],data_test_gpu[i][1]\n",
    "    A =data_test_gpu[i][2]\n",
    "\n",
    "    predictions = model(inputs,A)[:len(label)].squeeze(dim=-1)\n",
    "    label = label.cpu()\n",
    "    predictions = predictions.cpu()\n",
    "\n",
    "    cost_effective_reorder = []\n",
    "    predictions_reorder=[]\n",
    "    for idx in range(len(prediction_mean)):\n",
    "        prediction_mean[idx]+=float(predictions[aux_dict[idx][0]])\n"
   ]
  },
  {
   "cell_type": "code",
   "execution_count": 129,
   "id": "2d4cb305",
   "metadata": {},
   "outputs": [
    {
     "data": {
      "image/png": "[encoded data removed]",
      "text/plain": [
       "<Figure size 432x288 with 1 Axes>"
      ]
     },
     "metadata": {
      "needs_background": "light"
     },
     "output_type": "display_data"
    }
   ],
   "source": [
    "prediction_means = prediction_mean/data_size\n",
    "fig, ax = plt.subplots()\n",
    "# acc_one,= ax.plot(range(len(cost_effective_reorder)),cost_effective_reorder, linewidth=2.0,label=r'')\n",
    "nb_one,= ax.plot(range(len(prediction_means)),prediction_means , linewidth=2.0)\n",
    "plt.title(\"Prediction-Cout_Moyen\")\n",
    "plt.xlabel('Ascending order of cost-effective')\n",
    "plt.ylabel('prediction_means')\n",
    "plt.savefig(\"image/Prediction_Cout_Moyen\")\n",
    "plt.grid()\n",
    "plt.show()"
   ]
  },
  {
   "cell_type": "code",
   "execution_count": 100,
   "id": "2c743388",
   "metadata": {},
   "outputs": [],
   "source": [
    "# model_name = data_name+\"_MLP\"+nb_mlp.__str__()+\"Gamma0.5\"\n",
    "nb_mlp = 1\n",
    "# data_name = \"SC1000\"\n",
    "\n",
    "# model_name = data_name+\"_MLP\"+nb_mlp.__str__()\n",
    "# model_name = data_name+\"_MLP\"+nb_mlp.__str__()+\"Gamma0.5\"\n",
    "# model_name = \"CFL30_NoCov_OnlyOutLayer\"\n",
    "# model_name = \"CFL30_BCE_3MLP\"\n",
    "# model_name = \"SC1000_NoCov_OnlyOutLayer\"\n",
    "model_name = \"SC1000_BCE_1MLP\"\n",
    "\n",
    "\n",
    "model_path = \"model/\"+model_name\n",
    "\n",
    "model = VariablePredictor(24,50,nb_mlp).to(device)\n",
    "# model = VariablePredictor_OnlyOutLayer(24,24,nb_mlp).to(device)\n",
    "\n",
    "model.load_state_dict(torch.load(model_path))\n",
    "predictions,labels,y_hats,is_corrects = predict(model,data_test_gpu)\n",
    "# _=valide(model,criterion,data_test_gpu,proportion = 0.9)"
   ]
  },
  {
   "cell_type": "code",
   "execution_count": 139,
   "id": "790554f8",
   "metadata": {},
   "outputs": [
    {
     "data": {
      "image/png": "[encoded data removed]",
      "text/plain": [
       "<Figure size 432x288 with 1 Axes>"
      ]
     },
     "metadata": {
      "needs_background": "light"
     },
     "output_type": "display_data"
    }
   ],
   "source": [
    "test_epsilon = []\n",
    "epsilons = [0.01 * i for i in range(0,30,1)]+[0.01 * i for i in range(30,51,10)]\n",
    "for e in epsilons:\n",
    "    test_epsilon.append([e]+list(fixe_one_epsilon(predictions,y_hats,labels,e)))\n",
    "header=[\"Epsilon\", \"Accuracy_fixe_one\", \"Number_fixe_one\",\"Correct_One/Total_One\"]\n",
    "# print(tabulate(test_epsilon, headers=header))\n",
    "\n",
    "with open(\"CSV/\"+model_name+\"_epsilon.csv\",\"w\") as csvfile: \n",
    "    writer = csv.writer(csvfile)\n",
    "    writer.writerow(header)\n",
    "    writer.writerows(test_epsilon)\n",
    "\n",
    "fig, ax = plt.subplots()\n",
    "values = np.array(test_epsilon).T\n",
    "acc_one,= ax.plot(values[0], values[1], linewidth=2.0,label=r'Acc_fixe_one')\n",
    "maxv = int(max(values[2]))\n",
    "nb_one,= ax.plot(values[0], values[2]/maxv, linewidth=2.0,label=r'Nb_fixe_one/'+maxv.__str__())\n",
    "plt.legend(handles=[acc_one,nb_one],loc=\"best\",)\n",
    "plt.title(model_name+\"_epsilon\")\n",
    "plt.savefig(\"image/\"+model_name+\"_epsilon.png\")\n",
    "plt.grid()\n",
    "plt.show()\n"
   ]
  },
  {
   "cell_type": "code",
   "execution_count": 140,
   "id": "cf9b3a85",
   "metadata": {},
   "outputs": [
    {
     "data": {
      "image/png": "[encoded data removed]",
      "text/plain": [
       "<Figure size 432x288 with 1 Axes>"
      ]
     },
     "metadata": {
      "needs_background": "light"
     },
     "output_type": "display_data"
    }
   ],
   "source": [
    "test_values = []\n",
    "proportions = [0.1 * i for i in range(1,8)]+[0.01 * i for i in range(80,101)]\n",
    "for p in proportions:\n",
    "    test_values.append([p]+list(fixe_proportionally(predictions,labels,y_hats,is_corrects,proportion = p)))\n",
    "header=[\"Proportion\", \"Accuracy_fixe_one\", \"Number_fixe_one\",\"Accuracy_fixe_zero\", \"Number_fixe_zero\"] \n",
    "# print(tabulate(test_values, headers=header))\n",
    "\n",
    "with open(\"CSV/\"+model_name+\"_proportion.csv\",\"w\") as csvfile: \n",
    "    writer = csv.writer(csvfile)\n",
    "    writer.writerow(header)\n",
    "    writer.writerows(test_values)\n",
    "\n",
    "fig, ax = plt.subplots()\n",
    "values = np.array(test_values).T\n",
    "acc_one,= ax.plot(values[0], values[1], linewidth=2.0,label=r'Acc_fixe_one')\n",
    "maxv = int(max(values[2]))\n",
    "nb_one,= ax.plot(values[0], values[2]/maxv, linewidth=2.0,label=r'Nb_fixe_one/'+maxv.__str__())\n",
    "plt.legend(handles=[acc_one,nb_one],loc=\"best\",)\n",
    "plt.title(model_name+\"_proportion\")\n",
    "plt.savefig(\"image/\"+model_name+\"_prop.png\")\n",
    "plt.grid()\n",
    "plt.show()"
   ]
  },
  {
   "cell_type": "code",
   "execution_count": null,
   "id": "4723e84c",
   "metadata": {},
   "outputs": [],
   "source": []
  }
 ],
 "metadata": {
  "kernelspec": {
   "display_name": "Python 3 (ipykernel)",
   "language": "python",
   "name": "python3"
  },
  "language_info": {
   "codemirror_mode": {
    "name": "ipython",
    "version": 3
   },
   "file_extension": ".py",
   "mimetype": "text/x-python",
   "name": "python",
   "nbconvert_exporter": "python",
   "pygments_lexer": "ipython3",
   "version": "3.9.12"
  }
 },
 "nbformat": 4,
 "nbformat_minor": 5
}
