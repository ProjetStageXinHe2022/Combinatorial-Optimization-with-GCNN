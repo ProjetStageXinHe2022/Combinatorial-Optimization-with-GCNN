{
 "cells": [
  {
   "cell_type": "code",
   "execution_count": 1,
   "id": "celtic-montana",
   "metadata": {},
   "outputs": [],
   "source": [
    "import os\n",
    "import numpy as np\n",
    "from tqdm import tqdm\n",
    "import matplotlib.pyplot as plt\n",
    "\n",
    "import torch\n",
    "import torch.nn as nn\n",
    "import torch.nn.functional as F\n",
    "from torch.optim import Adam\n",
    "from torch.utils.data import DataLoader"
   ]
  },
  {
   "cell_type": "markdown",
   "id": "compact-handbook",
   "metadata": {},
   "source": [
    "# Read dataset"
   ]
  },
  {
   "cell_type": "code",
   "execution_count": 16,
   "id": "valuable-production",
   "metadata": {},
   "outputs": [
    {
     "name": "stdout",
     "output_type": "stream",
     "text": [
      "0\t0\t0\t0\t0\t1\t1\t0\t1\t1\t\n",
      "0\t0\t0\t0\t0\t1\t1\t1\t0\t1\t\n",
      "0\t0\t0\t0\t0\t0\t1\t1\t1\t1\t\n",
      "0\t0\t0\t0\t0\t1\t1\t1\t1\t0\t\n",
      "0\t0\t0\t0\t0\t1\t1\t0\t1\t1\t\n",
      "1\t1\t0\t1\t1\t0\t0\t0\t0\t0\t\n",
      "1\t1\t1\t1\t1\t0\t0\t0\t0\t0\t\n",
      "0\t1\t1\t1\t0\t0\t0\t0\t0\t0\t\n",
      "1\t0\t1\t1\t1\t0\t0\t0\t0\t0\t\n",
      "1\t1\t1\t0\t1\t0\t0\t0\t0\t0\t\n"
     ]
    },
    {
     "ename": "ValueError",
     "evalue": "too many values to unpack (expected 7)",
     "output_type": "error",
     "traceback": [
      "\u001b[1;31m---------------------------------------------------------------------------\u001b[0m",
      "\u001b[1;31mValueError\u001b[0m                                Traceback (most recent call last)",
      "\u001b[1;32m<ipython-input-16-d098459f0515>\u001b[0m in \u001b[0;36m<module>\u001b[1;34m\u001b[0m\n\u001b[0;32m     51\u001b[0m         \u001b[0mprint\u001b[0m\u001b[1;33m(\u001b[0m\u001b[0mint\u001b[0m\u001b[1;33m(\u001b[0m\u001b[0mi\u001b[0m\u001b[1;33m!=\u001b[0m\u001b[1;36m0\u001b[0m\u001b[1;33m)\u001b[0m\u001b[1;33m,\u001b[0m\u001b[0mend\u001b[0m \u001b[1;33m=\u001b[0m \u001b[1;34m'\\t'\u001b[0m\u001b[1;33m)\u001b[0m\u001b[1;33m\u001b[0m\u001b[1;33m\u001b[0m\u001b[0m\n\u001b[0;32m     52\u001b[0m     \u001b[0mprint\u001b[0m\u001b[1;33m(\u001b[0m\u001b[1;33m)\u001b[0m\u001b[1;33m\u001b[0m\u001b[1;33m\u001b[0m\u001b[0m\n\u001b[1;32m---> 53\u001b[1;33m \u001b[0mdata_train_X\u001b[0m\u001b[1;33m,\u001b[0m\u001b[0mdata_train_Y\u001b[0m\u001b[1;33m,\u001b[0m\u001b[0mdata_validation_X\u001b[0m\u001b[1;33m,\u001b[0m\u001b[0mdata_validation_Y\u001b[0m\u001b[1;33m,\u001b[0m\u001b[0mdata_test_X\u001b[0m\u001b[1;33m,\u001b[0m\u001b[0mdata_test_Y\u001b[0m\u001b[1;33m,\u001b[0m\u001b[0mA\u001b[0m \u001b[1;33m=\u001b[0m \u001b[0mload_data\u001b[0m\u001b[1;33m(\u001b[0m\u001b[1;33m)\u001b[0m\u001b[1;33m\u001b[0m\u001b[1;33m\u001b[0m\u001b[0m\n\u001b[0m\u001b[0;32m     54\u001b[0m \u001b[0mprint\u001b[0m\u001b[1;33m(\u001b[0m\u001b[0mdata_train_X\u001b[0m\u001b[1;33m.\u001b[0m\u001b[0mshape\u001b[0m\u001b[1;33m)\u001b[0m\u001b[1;33m\u001b[0m\u001b[1;33m\u001b[0m\u001b[0m\n\u001b[0;32m     55\u001b[0m \u001b[0mprint\u001b[0m\u001b[1;33m(\u001b[0m\u001b[0mdata_train_Y\u001b[0m\u001b[1;33m.\u001b[0m\u001b[0mshape\u001b[0m\u001b[1;33m)\u001b[0m\u001b[1;33m\u001b[0m\u001b[1;33m\u001b[0m\u001b[0m\n",
      "\u001b[1;31mValueError\u001b[0m: too many values to unpack (expected 7)"
     ]
    }
   ],
   "source": [
    "import pickle as pkl\n",
    "import json\n",
    "import ast\n",
    "\"\"\"\n",
    "param:path of folder\n",
    "return :data_train_X,data_train_Y,data_validation_X,data_validation_Y,data_test_X,data_test_Y\n",
    "\"\"\"\n",
    "def load_data1(path = \"DataSet/\"):\n",
    "    split = [0.75,0.15,0.15]\n",
    "    path_set = os.listdir(path)\n",
    "    data_train_X = []\n",
    "    data_validation_X = []\n",
    "    data_test_X = []\n",
    "    data_train_Y = []\n",
    "    data_validation_Y = []\n",
    "    data_test_Y = []\n",
    "    data_A = []\n",
    "    index = 0\n",
    "    nb_total = len(path_set)\n",
    "    for filename in path_set:\n",
    "        #read features of constraints \n",
    "        cons_file = open(path+filename+\"/constraints_features.json\",\"rb\")\n",
    "        data = json.load(cons_file)\n",
    "        data_cons = np.array(data[\"values\"])\n",
    "\n",
    "        #read features of variables \n",
    "        var_file = open(path+filename+\"/variables_features.json\",\"rb\")\n",
    "        data = json.load(var_file)\n",
    "        data_var = np.array(data[\"values\"])\n",
    "\n",
    "        #read label \n",
    "        label_file = open(path+filename+\"/label.json\",\"rb\")\n",
    "        data = json.load(label_file)\n",
    "        bestSol = data[\"Best_Solution\"]\n",
    "        data_label = np.array(bestSol)\n",
    "\n",
    "        #read edge\n",
    "        edges_file = open(path+filename+\"/edges_features.json\",\"rb\")\n",
    "#         print(data_cons.shape)\n",
    "#         print(data_var.shape)\n",
    "        data_cons = np.hstack((data_cons,np.zeros((data_cons.shape[0],19))))\n",
    "        data_var = np.hstack((np.zeros((data_var.shape[0],5)),data_var))\n",
    "        \n",
    "        matrix_A = np.vstack((data_cons,data_var))\n",
    "        data_A.append(matrix_A)\n",
    "    #     print(matrix_A.shape)\n",
    "        if index < nb_total * split[0]:\n",
    "#             print(filename)\n",
    "            data_train_X.append(data_var)\n",
    "            data_train_Y.append(data_label)\n",
    "        elif index < nb_total * split[1]:\n",
    "            data_validation_X.append(data_var)\n",
    "            data_validation_Y.append(data_label)\n",
    "        else:\n",
    "            data_test_X.append(data_var)\n",
    "            data_test_Y.append(data_label)\n",
    "        index += 1\n",
    "    return     np.array(data_train_X),np.array(data_train_Y),np.array(data_validation_X),np.array(data_validation_Y),np.array(data_test_X),np.array(data_test_Y),np.array(data_A)\n",
    "data_train_X,data_train_Y,data_validation_X,data_validation_Y,data_test_X,data_test_Y,A = load_data()\n",
    "print(data_train_X.shape)\n",
    "print(data_train_Y.shape)\n",
    "print(A.shape)"
   ]
  },
  {
   "cell_type": "code",
   "execution_count": 54,
   "id": "d11cc8cc",
   "metadata": {},
   "outputs": [],
   "source": [
    "import pickle as pkl\n",
    "import json\n",
    "import ast\n",
    "np.set_printoptions(threshold=np.inf)\n",
    "\"\"\"\n",
    "param:path of folder\n",
    "return :data_train_X,data_train_Y,data_validation_X,data_validation_Y,data_test_X,data_test_Y\n",
    "\"\"\"\n",
    "def load_data(path = \"DataSet/\"):\n",
    "    path_set = os.listdir(path)\n",
    "    dataSet = []\n",
    "    for filename in path_set:\n",
    "        #read features of constraints \n",
    "        cons_file = open(path+filename+\"/constraints_features.json\",\"rb\")\n",
    "        data = json.load(cons_file)\n",
    "        data_cons = np.array(data[\"values\"])\n",
    "        nb_cons = data_cons.shape[0]\n",
    "        #read features of variables \n",
    "        var_file = open(path+filename+\"/variables_features.json\",\"rb\")\n",
    "        data = json.load(var_file)\n",
    "        data_var = np.array(data[\"values\"])\n",
    "        nb_var = data_var.shape[0]\n",
    "        #compose H\n",
    "        data_cons = np.hstack((np.zeros((data_cons.shape[0],19)),data_cons))\n",
    "        data_var = np.hstack((data_var,np.zeros((data_var.shape[0],5))))\n",
    "        matrix_H = np.vstack((data_var,data_cons))\n",
    "        \n",
    "        #read label \n",
    "        label_file = open(path+filename+\"/label.json\",\"rb\")\n",
    "        data = json.load(label_file)\n",
    "        bestSol = data[\"Best_Solution\"]\n",
    "        data_label = np.array(bestSol)\n",
    "\n",
    "        #read edge\n",
    "        edges_file = open(path+filename+\"/edges_features.json\",\"rb\")\n",
    "        data = json.load(edges_file)\n",
    "        matrix_A = np.zeros((nb_cons+nb_var,nb_cons+nb_var))\n",
    "        for i in range(len(data[\"values\"])):\n",
    "            iVar,iCons = data[\"indices\"][1][i],data[\"indices\"][0][i] \n",
    "            matrix_A[iVar][nb_var+iCons] = data[\"values\"][i]\n",
    "            matrix_A[iCons+nb_var][iVar] = data[\"values\"][i]\n",
    "        \n",
    "        dataSet.append({\"X\":matrix_H,\"Y\":data_label,\"A\":matrix_A})\n",
    "        \n",
    "    return np.array(dataSet)\n",
    "split = [0.70,0.15,0.15]\n",
    "dataSet = load_data()\n",
    "data_train,data_validation,data_test = torch.utils.data.random_split(dataSet,[int(len(dataSet) * s) for s in split])\n",
    "# print(dataSet[0]['A'])\n",
    "# for l in dataSet[0]['A']:\n",
    "#     for i in l:\n",
    "#         print(int(i!=0),end = '\\t')\n",
    "#     print()"
   ]
  },
  {
   "cell_type": "markdown",
   "id": "velvet-daniel",
   "metadata": {},
   "source": [
    "# GCN"
   ]
  },
  {
   "attachments": {
    "image-2.png": {
     "image/png": "[encoded data removed]"
    },
    "image-3.png": {
     "image/png": "[encoded data removed]"
    },
    "image-4.png": {
     "image/png": "[encoded data removed]"
    },
    "image.png": {
     "image/png": "[encoded data removed]"
    }
   },
   "cell_type": "markdown",
   "id": "funded-habitat",
   "metadata": {},
   "source": [
    "![image-2.png](attachment:image-2.png)\n",
    "\n",
    "![image-3.png](attachment:image-3.png)\n",
    "![image-4.png](attachment:image-4.png)\n",
    "\n",
    "![image.png](attachment:image.png)"
   ]
  },
  {
   "cell_type": "code",
   "execution_count": 158,
   "id": "decent-moisture",
   "metadata": {},
   "outputs": [],
   "source": [
    "class MLP(nn.Module):\n",
    "    def __init__(self, in_channel, out_channel):\n",
    "        super(MLP, self).__init__()\n",
    "        self.linear = nn.Linear(in_channel, out_channel)\n",
    "        self.activate = nn.ReLU()\n",
    "        \n",
    "    def forward(self, x, A):\n",
    "        x = self.linear(x)\n",
    "        \n",
    "        print(x[0])\n",
    "        print(A[0])\n",
    "\n",
    "        x = self.activate(x)\n",
    "        print(x[0])\n",
    "        x = A.mm(x)       \n",
    "        print(x[0])\n",
    "        return x\n",
    "    \n",
    "class Net(nn.Module):\n",
    "    def __init__(self, in_channel,aux_channel,out_channel):\n",
    "        super(Net,self).__init__()\n",
    "        self.layer = nn.Sequential(\n",
    "            nn.Linear(aux_channel, aux_channel),\n",
    "            nn.ReLU(),\n",
    "            nn.Linear(aux_channel, aux_channel),\n",
    "        )\n",
    "#         self.m = nn.log_softmax()\n",
    "        self.mlp = MLP(in_channel, aux_channel)\n",
    "        self.outlayer = nn.Sequential(\n",
    "            nn.Linear(aux_channel, aux_channel),\n",
    "            nn.ReLU(),\n",
    "            nn.Linear(aux_channel, out_channel),\n",
    "        )\n",
    "    \n",
    "    def forward(self, x, A,nb_net):\n",
    "        x = self.mlp(x,A)\n",
    "        for i in range(nb_net):\n",
    "            x = self.layer(x)\n",
    "        x = self.outlayer(x)\n",
    "#         x = self.m(x)\n",
    "#         print(x[0]) \n",
    "        return x\n",
    "\n",
    "    "
   ]
  },
  {
   "cell_type": "markdown",
   "id": "described-preliminary",
   "metadata": {},
   "source": [
    "## Train\n"
   ]
  },
  {
   "cell_type": "code",
   "execution_count": 159,
   "id": "homeless-harbor",
   "metadata": {},
   "outputs": [],
   "source": [
    "def train(model, x, y,A, optimizer,nb_net,criterion):\n",
    "    model.zero_grad()\n",
    "    size_y = len(y)\n",
    "    output = model(x.float(),A.float(),nb_net)\n",
    "#     print(output)\n",
    "    loss =criterion(output,y)\n",
    "    loss.backward()\n",
    "    optimizer.step()\n",
    "\n",
    "    return loss, output"
   ]
  },
  {
   "cell_type": "code",
   "execution_count": 162,
   "id": "aware-unemployment",
   "metadata": {},
   "outputs": [
    {
     "name": "stderr",
     "output_type": "stream",
     "text": [
      "  0%|                                                                                           | 0/70 [00:00<?, ?it/s]"
     ]
    },
    {
     "name": "stdout",
     "output_type": "stream",
     "text": [
      "tensor([1.0000, 0.0000, 0.0000, 0.0000, 1.0000, 1.0000, -0.0000, 0.4737, 0.4737,\n",
      "        0.0000, 0.0000, 0.0000, 0.0000, 0.3508, 0.0000, 1.0000, 0.0000, 0.0000,\n",
      "        1.0000, 0.0000, 0.0000, 0.0000, 0.0000, 0.0000], dtype=torch.float64)\n",
      "tensor([ 8.9114e-02, -5.9544e-02,  5.9618e-01,  1.7717e-01,  3.6322e-01,\n",
      "         2.4550e-01,  1.5632e-01, -2.7786e-01, -1.5852e-01, -3.8170e-01,\n",
      "        -5.7730e-02, -2.0541e-01, -3.7464e-01,  5.2798e-01,  9.9224e-02,\n",
      "        -6.0221e-01,  4.2229e-01, -2.7891e-01, -3.4535e-01, -2.1614e-01,\n",
      "         2.1223e-01, -1.9057e-01,  7.7581e-01,  6.0380e-01, -4.5941e-02,\n",
      "         2.7219e-01,  9.2523e-02,  2.1383e-01, -5.3906e-04,  6.3306e-02,\n",
      "         2.2965e-01, -4.4949e-01, -4.9438e-01,  2.9999e-02,  4.8279e-02,\n",
      "        -4.8719e-01, -1.7914e-02,  2.9808e-01,  2.9708e-01, -3.9331e-01,\n",
      "         1.4757e-01, -5.9299e-02,  4.0617e-01,  5.1369e-01,  1.4808e-01,\n",
      "         5.2780e-02, -4.3141e-01,  1.0196e-01,  1.8061e-02,  1.4898e-01],\n",
      "       grad_fn=<SelectBackward>)\n",
      "tensor([ 0.0000,  0.0000,  0.0000,  0.0000,  0.0000,  0.0000,  0.0000,  0.0000,\n",
      "         0.0000,  0.0000,  0.0000,  0.0000,  0.0000,  0.0000,  0.0000,  0.0000,\n",
      "         0.0000,  0.0000,  0.0000,  0.0000,  0.0000,  0.0000,  0.0000,  0.0000,\n",
      "         0.0000,  0.0000,  0.0000,  0.0000,  0.0000,  0.0000,  0.0000,  0.0000,\n",
      "         0.0000,  0.0000,  0.0000,  0.0000,  0.0000,  0.0000,  0.0000,  0.0000,\n",
      "         0.0000,  0.0000,  0.0000,  0.0000,  0.0000,  0.0000,  0.0000,  0.0000,\n",
      "         0.0000,  0.0000,  0.0000,  0.0000,  0.0000,  0.0000,  0.0000,  0.0000,\n",
      "         0.0000,  0.0000,  0.0000,  0.0000,  0.0000,  0.0000,  0.0000,  0.0000,\n",
      "         0.0000,  0.0000,  0.0000,  0.0000,  0.0000,  0.0000,  0.0000,  0.0000,\n",
      "         0.0000,  0.0000,  0.0000,  0.0000,  0.0000,  0.0000,  0.0000,  0.0000,\n",
      "         0.0000,  0.0000,  0.0000,  0.0000,  0.0000,  0.0000,  0.0000,  0.0000,\n",
      "         0.0000,  0.0000,  0.0000,  0.0000,  0.0000,  0.0000,  0.0000,  0.0000,\n",
      "         0.0000,  0.0000,  0.0000,  0.0000,  0.0000,  0.0000,  0.0000,  0.0000,\n",
      "        -0.3780,  0.0000,  0.0000,  0.0000,  0.0000,  0.0000,  0.0000,  0.0000,\n",
      "         0.0000,  0.0000,  0.0000,  0.0000,  0.0000,  0.0000,  0.0000,  0.0000,\n",
      "         0.0000,  0.0000,  0.0000,  0.0000,  0.0000,  0.0000,  0.0000,  0.0000,\n",
      "         0.0000,  0.0000,  0.0000,  0.0000,  0.0000,  0.0000,  0.0000,  0.0000,\n",
      "         0.0000,  0.0000,  0.0000,  0.0000,  0.0000,  0.0000,  0.0000,  0.0000,\n",
      "         0.0000,  0.0000,  0.0000,  0.0000,  0.0000, -0.3162,  0.0000,  0.0000,\n",
      "         0.0000,  0.0000,  0.0000,  0.0000, -0.3780,  0.0000,  0.0000,  0.0000,\n",
      "        -0.4472,  0.0000,  0.0000,  0.0000,  0.0000, -0.4082,  0.0000,  0.0000,\n",
      "         0.0000,  0.0000,  0.0000,  0.0000,  0.0000,  0.0000,  0.0000,  0.0000,\n",
      "         0.0000,  0.0000,  0.0000,  0.0000,  0.0000,  0.0000,  0.0000,  0.0000,\n",
      "         0.0000,  0.0000,  0.0000, -0.3333,  0.0000,  0.0000,  0.0000,  0.0000,\n",
      "         0.0000,  0.0000,  0.0000,  0.0000,  0.0000,  0.0000,  0.0000,  0.0000])\n",
      "tensor([0.0891, 0.0000, 0.5962, 0.1772, 0.3632, 0.2455, 0.1563, 0.0000, 0.0000,\n",
      "        0.0000, 0.0000, 0.0000, 0.0000, 0.5280, 0.0992, 0.0000, 0.4223, 0.0000,\n",
      "        0.0000, 0.0000, 0.2122, 0.0000, 0.7758, 0.6038, 0.0000, 0.2722, 0.0925,\n",
      "        0.2138, 0.0000, 0.0633, 0.2296, 0.0000, 0.0000, 0.0300, 0.0483, 0.0000,\n",
      "        0.0000, 0.2981, 0.2971, 0.0000, 0.1476, 0.0000, 0.4062, 0.5137, 0.1481,\n",
      "        0.0528, 0.0000, 0.1020, 0.0181, 0.1490], grad_fn=<SelectBackward>)\n",
      "tensor([nan, nan, nan, nan, nan, nan, nan, nan, nan, nan, nan, nan, nan, nan, nan, nan, nan, nan, nan, nan, nan, nan, nan, nan,\n",
      "        nan, nan, nan, nan, nan, nan, nan, nan, nan, nan, nan, nan, nan, nan, nan, nan, nan, nan, nan, nan, nan, nan, nan, nan,\n",
      "        nan, nan], grad_fn=<SelectBackward>)\n"
     ]
    },
    {
     "name": "stderr",
     "output_type": "stream",
     "text": [
      "\n"
     ]
    },
    {
     "ename": "ValueError",
     "evalue": "Expected input batch_size (200) to match target batch_size (100).",
     "output_type": "error",
     "traceback": [
      "\u001b[1;31m---------------------------------------------------------------------------\u001b[0m",
      "\u001b[1;31mValueError\u001b[0m                                Traceback (most recent call last)",
      "\u001b[1;32m<ipython-input-162-f851dec764f1>\u001b[0m in \u001b[0;36m<module>\u001b[1;34m\u001b[0m\n\u001b[0;32m     15\u001b[0m         \u001b[0mprint\u001b[0m\u001b[1;33m(\u001b[0m\u001b[0mx_train\u001b[0m\u001b[1;33m[\u001b[0m\u001b[1;36m0\u001b[0m\u001b[1;33m]\u001b[0m\u001b[1;33m)\u001b[0m\u001b[1;33m\u001b[0m\u001b[1;33m\u001b[0m\u001b[0m\n\u001b[0;32m     16\u001b[0m         \u001b[0my_train\u001b[0m \u001b[1;33m=\u001b[0m \u001b[0my_train\u001b[0m\u001b[1;33m.\u001b[0m\u001b[0mto\u001b[0m\u001b[1;33m(\u001b[0m\u001b[0mdevice\u001b[0m\u001b[1;33m)\u001b[0m\u001b[1;33m\u001b[0m\u001b[1;33m\u001b[0m\u001b[0m\n\u001b[1;32m---> 17\u001b[1;33m         \u001b[0mloss\u001b[0m\u001b[1;33m,\u001b[0m \u001b[0mpredictions\u001b[0m \u001b[1;33m=\u001b[0m \u001b[0mtrain\u001b[0m\u001b[1;33m(\u001b[0m\u001b[0mnet\u001b[0m\u001b[1;33m,\u001b[0m\u001b[0mx_train\u001b[0m\u001b[1;33m,\u001b[0m\u001b[0my_train\u001b[0m\u001b[1;33m,\u001b[0m\u001b[0mA\u001b[0m\u001b[1;33m,\u001b[0m\u001b[0moptm\u001b[0m\u001b[1;33m,\u001b[0m\u001b[0mnb_net\u001b[0m\u001b[1;33m,\u001b[0m \u001b[0mcriterion\u001b[0m\u001b[1;33m)\u001b[0m\u001b[1;33m\u001b[0m\u001b[1;33m\u001b[0m\u001b[0m\n\u001b[0m",
      "\u001b[1;32m<ipython-input-159-6d1d7b4e8cbd>\u001b[0m in \u001b[0;36mtrain\u001b[1;34m(model, x, y, A, optimizer, nb_net, criterion)\u001b[0m\n\u001b[0;32m      4\u001b[0m     \u001b[0moutput\u001b[0m \u001b[1;33m=\u001b[0m \u001b[0mmodel\u001b[0m\u001b[1;33m(\u001b[0m\u001b[0mx\u001b[0m\u001b[1;33m.\u001b[0m\u001b[0mfloat\u001b[0m\u001b[1;33m(\u001b[0m\u001b[1;33m)\u001b[0m\u001b[1;33m,\u001b[0m\u001b[0mA\u001b[0m\u001b[1;33m.\u001b[0m\u001b[0mfloat\u001b[0m\u001b[1;33m(\u001b[0m\u001b[1;33m)\u001b[0m\u001b[1;33m,\u001b[0m\u001b[0mnb_net\u001b[0m\u001b[1;33m)\u001b[0m\u001b[1;33m\u001b[0m\u001b[1;33m\u001b[0m\u001b[0m\n\u001b[0;32m      5\u001b[0m \u001b[1;31m#     print(output)\u001b[0m\u001b[1;33m\u001b[0m\u001b[1;33m\u001b[0m\u001b[1;33m\u001b[0m\u001b[0m\n\u001b[1;32m----> 6\u001b[1;33m     \u001b[0mloss\u001b[0m \u001b[1;33m=\u001b[0m\u001b[0mcriterion\u001b[0m\u001b[1;33m(\u001b[0m\u001b[0moutput\u001b[0m\u001b[1;33m,\u001b[0m\u001b[0my\u001b[0m\u001b[1;33m)\u001b[0m\u001b[1;33m\u001b[0m\u001b[1;33m\u001b[0m\u001b[0m\n\u001b[0m\u001b[0;32m      7\u001b[0m     \u001b[0mloss\u001b[0m\u001b[1;33m.\u001b[0m\u001b[0mbackward\u001b[0m\u001b[1;33m(\u001b[0m\u001b[1;33m)\u001b[0m\u001b[1;33m\u001b[0m\u001b[1;33m\u001b[0m\u001b[0m\n\u001b[0;32m      8\u001b[0m     \u001b[0moptimizer\u001b[0m\u001b[1;33m.\u001b[0m\u001b[0mstep\u001b[0m\u001b[1;33m(\u001b[0m\u001b[1;33m)\u001b[0m\u001b[1;33m\u001b[0m\u001b[1;33m\u001b[0m\u001b[0m\n",
      "\u001b[1;32mc:\\users\\leonaire\\appdata\\local\\programs\\python\\python39\\lib\\site-packages\\torch\\nn\\modules\\module.py\u001b[0m in \u001b[0;36m_call_impl\u001b[1;34m(self, *input, **kwargs)\u001b[0m\n\u001b[0;32m    887\u001b[0m             \u001b[0mresult\u001b[0m \u001b[1;33m=\u001b[0m \u001b[0mself\u001b[0m\u001b[1;33m.\u001b[0m\u001b[0m_slow_forward\u001b[0m\u001b[1;33m(\u001b[0m\u001b[1;33m*\u001b[0m\u001b[0minput\u001b[0m\u001b[1;33m,\u001b[0m \u001b[1;33m**\u001b[0m\u001b[0mkwargs\u001b[0m\u001b[1;33m)\u001b[0m\u001b[1;33m\u001b[0m\u001b[1;33m\u001b[0m\u001b[0m\n\u001b[0;32m    888\u001b[0m         \u001b[1;32melse\u001b[0m\u001b[1;33m:\u001b[0m\u001b[1;33m\u001b[0m\u001b[1;33m\u001b[0m\u001b[0m\n\u001b[1;32m--> 889\u001b[1;33m             \u001b[0mresult\u001b[0m \u001b[1;33m=\u001b[0m \u001b[0mself\u001b[0m\u001b[1;33m.\u001b[0m\u001b[0mforward\u001b[0m\u001b[1;33m(\u001b[0m\u001b[1;33m*\u001b[0m\u001b[0minput\u001b[0m\u001b[1;33m,\u001b[0m \u001b[1;33m**\u001b[0m\u001b[0mkwargs\u001b[0m\u001b[1;33m)\u001b[0m\u001b[1;33m\u001b[0m\u001b[1;33m\u001b[0m\u001b[0m\n\u001b[0m\u001b[0;32m    890\u001b[0m         for hook in itertools.chain(\n\u001b[0;32m    891\u001b[0m                 \u001b[0m_global_forward_hooks\u001b[0m\u001b[1;33m.\u001b[0m\u001b[0mvalues\u001b[0m\u001b[1;33m(\u001b[0m\u001b[1;33m)\u001b[0m\u001b[1;33m,\u001b[0m\u001b[1;33m\u001b[0m\u001b[1;33m\u001b[0m\u001b[0m\n",
      "\u001b[1;32mc:\\users\\leonaire\\appdata\\local\\programs\\python\\python39\\lib\\site-packages\\torch\\nn\\modules\\loss.py\u001b[0m in \u001b[0;36mforward\u001b[1;34m(self, input, target)\u001b[0m\n\u001b[0;32m   1045\u001b[0m     \u001b[1;32mdef\u001b[0m \u001b[0mforward\u001b[0m\u001b[1;33m(\u001b[0m\u001b[0mself\u001b[0m\u001b[1;33m,\u001b[0m \u001b[0minput\u001b[0m\u001b[1;33m:\u001b[0m \u001b[0mTensor\u001b[0m\u001b[1;33m,\u001b[0m \u001b[0mtarget\u001b[0m\u001b[1;33m:\u001b[0m \u001b[0mTensor\u001b[0m\u001b[1;33m)\u001b[0m \u001b[1;33m->\u001b[0m \u001b[0mTensor\u001b[0m\u001b[1;33m:\u001b[0m\u001b[1;33m\u001b[0m\u001b[1;33m\u001b[0m\u001b[0m\n\u001b[0;32m   1046\u001b[0m         \u001b[1;32massert\u001b[0m \u001b[0mself\u001b[0m\u001b[1;33m.\u001b[0m\u001b[0mweight\u001b[0m \u001b[1;32mis\u001b[0m \u001b[1;32mNone\u001b[0m \u001b[1;32mor\u001b[0m \u001b[0misinstance\u001b[0m\u001b[1;33m(\u001b[0m\u001b[0mself\u001b[0m\u001b[1;33m.\u001b[0m\u001b[0mweight\u001b[0m\u001b[1;33m,\u001b[0m \u001b[0mTensor\u001b[0m\u001b[1;33m)\u001b[0m\u001b[1;33m\u001b[0m\u001b[1;33m\u001b[0m\u001b[0m\n\u001b[1;32m-> 1047\u001b[1;33m         return F.cross_entropy(input, target, weight=self.weight,\n\u001b[0m\u001b[0;32m   1048\u001b[0m                                ignore_index=self.ignore_index, reduction=self.reduction)\n\u001b[0;32m   1049\u001b[0m \u001b[1;33m\u001b[0m\u001b[0m\n",
      "\u001b[1;32mc:\\users\\leonaire\\appdata\\local\\programs\\python\\python39\\lib\\site-packages\\torch\\nn\\functional.py\u001b[0m in \u001b[0;36mcross_entropy\u001b[1;34m(input, target, weight, size_average, ignore_index, reduce, reduction)\u001b[0m\n\u001b[0;32m   2691\u001b[0m     \u001b[1;32mif\u001b[0m \u001b[0msize_average\u001b[0m \u001b[1;32mis\u001b[0m \u001b[1;32mnot\u001b[0m \u001b[1;32mNone\u001b[0m \u001b[1;32mor\u001b[0m \u001b[0mreduce\u001b[0m \u001b[1;32mis\u001b[0m \u001b[1;32mnot\u001b[0m \u001b[1;32mNone\u001b[0m\u001b[1;33m:\u001b[0m\u001b[1;33m\u001b[0m\u001b[1;33m\u001b[0m\u001b[0m\n\u001b[0;32m   2692\u001b[0m         \u001b[0mreduction\u001b[0m \u001b[1;33m=\u001b[0m \u001b[0m_Reduction\u001b[0m\u001b[1;33m.\u001b[0m\u001b[0mlegacy_get_string\u001b[0m\u001b[1;33m(\u001b[0m\u001b[0msize_average\u001b[0m\u001b[1;33m,\u001b[0m \u001b[0mreduce\u001b[0m\u001b[1;33m)\u001b[0m\u001b[1;33m\u001b[0m\u001b[1;33m\u001b[0m\u001b[0m\n\u001b[1;32m-> 2693\u001b[1;33m     \u001b[1;32mreturn\u001b[0m \u001b[0mnll_loss\u001b[0m\u001b[1;33m(\u001b[0m\u001b[0mlog_softmax\u001b[0m\u001b[1;33m(\u001b[0m\u001b[0minput\u001b[0m\u001b[1;33m,\u001b[0m \u001b[1;36m1\u001b[0m\u001b[1;33m)\u001b[0m\u001b[1;33m,\u001b[0m \u001b[0mtarget\u001b[0m\u001b[1;33m,\u001b[0m \u001b[0mweight\u001b[0m\u001b[1;33m,\u001b[0m \u001b[1;32mNone\u001b[0m\u001b[1;33m,\u001b[0m \u001b[0mignore_index\u001b[0m\u001b[1;33m,\u001b[0m \u001b[1;32mNone\u001b[0m\u001b[1;33m,\u001b[0m \u001b[0mreduction\u001b[0m\u001b[1;33m)\u001b[0m\u001b[1;33m\u001b[0m\u001b[1;33m\u001b[0m\u001b[0m\n\u001b[0m\u001b[0;32m   2694\u001b[0m \u001b[1;33m\u001b[0m\u001b[0m\n\u001b[0;32m   2695\u001b[0m \u001b[1;33m\u001b[0m\u001b[0m\n",
      "\u001b[1;32mc:\\users\\leonaire\\appdata\\local\\programs\\python\\python39\\lib\\site-packages\\torch\\nn\\functional.py\u001b[0m in \u001b[0;36mnll_loss\u001b[1;34m(input, target, weight, size_average, ignore_index, reduce, reduction)\u001b[0m\n\u001b[0;32m   2382\u001b[0m \u001b[1;33m\u001b[0m\u001b[0m\n\u001b[0;32m   2383\u001b[0m     \u001b[1;32mif\u001b[0m \u001b[0minput\u001b[0m\u001b[1;33m.\u001b[0m\u001b[0msize\u001b[0m\u001b[1;33m(\u001b[0m\u001b[1;36m0\u001b[0m\u001b[1;33m)\u001b[0m \u001b[1;33m!=\u001b[0m \u001b[0mtarget\u001b[0m\u001b[1;33m.\u001b[0m\u001b[0msize\u001b[0m\u001b[1;33m(\u001b[0m\u001b[1;36m0\u001b[0m\u001b[1;33m)\u001b[0m\u001b[1;33m:\u001b[0m\u001b[1;33m\u001b[0m\u001b[1;33m\u001b[0m\u001b[0m\n\u001b[1;32m-> 2384\u001b[1;33m         raise ValueError(\n\u001b[0m\u001b[0;32m   2385\u001b[0m             \u001b[1;34m\"Expected input batch_size ({}) to match target batch_size ({}).\"\u001b[0m\u001b[1;33m.\u001b[0m\u001b[0mformat\u001b[0m\u001b[1;33m(\u001b[0m\u001b[0minput\u001b[0m\u001b[1;33m.\u001b[0m\u001b[0msize\u001b[0m\u001b[1;33m(\u001b[0m\u001b[1;36m0\u001b[0m\u001b[1;33m)\u001b[0m\u001b[1;33m,\u001b[0m \u001b[0mtarget\u001b[0m\u001b[1;33m.\u001b[0m\u001b[0msize\u001b[0m\u001b[1;33m(\u001b[0m\u001b[1;36m0\u001b[0m\u001b[1;33m)\u001b[0m\u001b[1;33m)\u001b[0m\u001b[1;33m\u001b[0m\u001b[1;33m\u001b[0m\u001b[0m\n\u001b[0;32m   2386\u001b[0m         )\n",
      "\u001b[1;31mValueError\u001b[0m: Expected input batch_size (200) to match target batch_size (100)."
     ]
    }
   ],
   "source": [
    "device = torch.device(\"cuda:0\" if torch.cuda.is_available() else \"cpu\")\n",
    "\n",
    "net = Net(24,50,1).float()\n",
    "nb_net = 2\n",
    "EPOCHS = 200\n",
    "optm = Adam(net.parameters(), lr = 0.001)\n",
    "criterion = nn.CrossEntropyLoss()\n",
    "for epoch in range(EPOCHS):\n",
    "    epoch_loss = 0\n",
    "    correct = 0\n",
    "    for i in tqdm(range(len(data_train))):\n",
    "        x_train, y_train = torch.from_numpy(data_train[i]['X'].astype(float)),torch.from_numpy(data_train[i]['Y'])\n",
    "        A = torch.from_numpy(data_train[i]['A'].astype(float))\n",
    "        x_train = x_train.to(device)\n",
    "        y_train = y_train.to(device)\n",
    "        loss, predictions = train(net,x_train,y_train,A,optm,nb_net, criterion)\n"
   ]
  },
  {
   "cell_type": "code",
   "execution_count": null,
   "id": "statutory-shock",
   "metadata": {},
   "outputs": [],
   "source": []
  }
 ],
 "metadata": {
  "kernelspec": {
   "display_name": "Python 3",
   "language": "python",
   "name": "python3"
  },
  "language_info": {
   "codemirror_mode": {
    "name": "ipython",
    "version": 3
   },
   "file_extension": ".py",
   "mimetype": "text/x-python",
   "name": "python",
   "nbconvert_exporter": "python",
   "pygments_lexer": "ipython3",
   "version": "3.9.1"
  }
 },
 "nbformat": 4,
 "nbformat_minor": 5
}
