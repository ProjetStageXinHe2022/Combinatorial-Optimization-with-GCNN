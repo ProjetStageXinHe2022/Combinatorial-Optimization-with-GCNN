{
 "cells": [
  {
   "cell_type": "code",
   "execution_count": 19,
   "metadata": {},
   "outputs": [],
   "source": [
    "import os\n",
    "import numpy as np\n",
    "from tqdm import tqdm\n",
    "import matplotlib.pyplot as plt\n",
    "\n",
    "import torch\n",
    "import torch.nn as nn\n",
    "import torch.nn.functional as F\n",
    "from torch.optim import Adam\n",
    "from torch.utils.data import DataLoader\n",
    "from torch.nn import init\n",
    "from utility import *"
   ]
  },
  {
   "cell_type": "markdown",
   "metadata": {},
   "source": [
    "# Read dataset"
   ]
  },
  {
   "cell_type": "code",
   "execution_count": 11,
   "metadata": {},
   "outputs": [
    {
     "name": "stderr",
     "output_type": "stream",
     "text": [
      "100%|████████████████████████████████████████████████████████████████████████████████| 100/100 [00:04<00:00, 21.88it/s]\n"
     ]
    }
   ],
   "source": [
    "data_name = \"SC100\"\n",
    "data_path = \"DataSet\"+data_name+\"/\"\n",
    "split = [0.70,0.15,0.15]\n",
    "\n",
    "dataSet = load_data(data_path)\n",
    "\n",
    "data_train,data_validation,data_test = torch.utils.data.random_split(dataSet,[int(len(dataSet) * s) for s in split])\n",
    "# print(dataSet[0]['A'])\n",
    "# for l in dataSet[0]['A']:\n",
    "#     for i in l:\n",
    "#         print(int(i!=0),end = '\\t')\n",
    "#     print()\n",
    "\n",
    "# data_train_X,data_train_Y,data_validation_X,data_validation_Y,data_test_X,data_test_Y,A = load_data()\n",
    "# print(data_train_X.shape)\n",
    "# print(data_train_Y.shape)\n",
    "# print(A.shape)\n",
    "def setup_seed(seed):\n",
    "    torch.manual_seed(seed)\n",
    "    torch.cuda.manual_seed_all(seed)\n",
    "    np.random.seed(seed)\n",
    "    torch.backends.cudnn.deterministic = True\n",
    "# 设置随机数种子"
   ]
  },
  {
   "cell_type": "markdown",
   "metadata": {},
   "source": [
    "# GCN"
   ]
  },
  {
   "attachments": {
    "image-2.png": {
     "image/png": "[encoded data removed]"
    },
    "image-3.png": {
     "image/png": "[encoded data removed]"
    },
    "image-4.png": {
     "image/png": "[encoded data removed]"
    },
    "image.png": {
     "image/png": "[encoded data removed]"
    }
   },
   "cell_type": "markdown",
   "metadata": {},
   "source": [
    "![image-2.png](attachment:image-2.png)\n",
    "\n",
    "![image-3.png](attachment:image-3.png)\n",
    "![image-4.png](attachment:image-4.png)\n",
    "\n",
    "![image.png](attachment:image.png)"
   ]
  },
  {
   "cell_type": "code",
   "execution_count": 20,
   "metadata": {},
   "outputs": [],
   "source": [
    "class simpleMLP(nn.Module):\n",
    "    def __init__(self, input_size, out_size,activate = nn.ReLU()):\n",
    "        super(simpleMLP, self).__init__()\n",
    "        self.linear = nn.Linear(input_size, out_size)\n",
    "        self.activate = activate\n",
    "        \n",
    "    def forward(self, x):\n",
    "        x = self.linear(x)\n",
    "        x = self.activate(x)\n",
    "        return x\n",
    "    \n",
    "class GNN(nn.Module):\n",
    "    def __init__(self, input_size,hidden_size,nb_MLP):\n",
    "        super(GNN,self).__init__()\n",
    "        self.input_mlp = simpleMLP(input_size, hidden_size)\n",
    "        self.mlp = nn.ModuleList(\n",
    "            [simpleMLP(hidden_size, hidden_size) for i in range(nb_MLP - 1)]   \n",
    "        )\n",
    "    \n",
    "    def forward(self, x, A):\n",
    "        x = self.input_mlp(x)\n",
    "        x = A @ x\n",
    "        for mlp_module in self.mlp:\n",
    "            x = mlp_module(x)\n",
    "            x = A @ x\n",
    "        return x\n",
    "class VariablePredictor(nn.Module):\n",
    "    def __init__(self, input_size,hidden_size,nb_MLP):\n",
    "        super(VariablePredictor,self).__init__()\n",
    "        self.GNN = GNN(input_size,hidden_size,nb_MLP)\n",
    "        self.outlayer = simpleMLP(hidden_size,1,nn.Sigmoid())    \n",
    "    \n",
    "    def forward(self,x,A):\n",
    "        x = self.GNN(x,A)\n",
    "        return self.outlayer(x)\n",
    "        "
   ]
  },
  {
   "cell_type": "markdown",
   "metadata": {},
   "source": [
    "## Train\n"
   ]
  },
  {
   "cell_type": "code",
   "execution_count": 21,
   "metadata": {},
   "outputs": [],
   "source": [
    "def train(model, x, y,A, optimizer,criterion):\n",
    "    optimizer.zero_grad()\n",
    "    output = model(x,A)[:len(y)].squeeze(dim=-1)\n",
    "#     print(\"output\",output)\n",
    "    loss =criterion(output,y)\n",
    "#     print(\"loss\",loss)\n",
    "    loss.backward()\n",
    "    optimizer.step()\n",
    "\n",
    "    return loss, output\n",
    "\n",
    "\n",
    "def valide(model,criterion,data_validation,proportion = 0.7):\n",
    "        vloss = []\n",
    "        accuracy_value = []\n",
    "        accuracy_instance = []\n",
    "        \n",
    "        accuracy_one = []\n",
    "        accuracy_one_predict = []\n",
    "        nb_predict_one = []\n",
    "        nb_one = []\n",
    "        \n",
    "        accuracy_zero = []\n",
    "        accuracy_zero_predict = []\n",
    "        nb_zero = []\n",
    "        nb_predict_zero = []\n",
    "        \n",
    "        accuracy_fixe_one = []\n",
    "        accuracy_fixe_zero = []\n",
    "        accuracy_fixe = []\n",
    "        \n",
    "        data_size = len(data_validation)\n",
    "        for i in range(data_size):\n",
    "            inputs, labels = torch.from_numpy(data_validation[i]['X']).float(),torch.from_numpy(data_validation[i]['Y']).type(torch.FloatTensor).float()\n",
    "            A = torch.from_numpy(data_validation[i]['A']).float()\n",
    "            inputs = inputs.to(device)\n",
    "            labels = labels.to(device)\n",
    "            A = A.to(device)\n",
    "            predictions = model(inputs,A)[:len(labels)].squeeze(dim=-1)\n",
    "            loss =criterion(predictions,labels)\n",
    "            A = A.cpu()\n",
    "            labels = labels.cpu()\n",
    "            predictions = predictions.cpu()\n",
    "            \n",
    "            nb_one_total = torch.sum(torch.where(labels == 1,1,0))\n",
    "            nb_zero_total = (len(labels) - nb_one_total)\n",
    "            aux= torch.Tensor([0.5])\n",
    "            y_hat = (predictions > aux).float() * 1\n",
    "            is_equal = torch.where(y_hat == labels,1,0)\n",
    "            vloss.append(loss.cpu().detach().numpy())\n",
    "            accuracy_value.append(is_equal.cpu().sum().detach().numpy()/\n",
    "                           len(labels))\n",
    "            accuracy_instance.append(int(accuracy_value[-1]==1))\n",
    "            #accuracy proportion\n",
    "            predictions_abs =  np.abs(0.5 - predictions.detach().numpy())\n",
    "            thresholds = abs(np.sort(-predictions_abs))[int(proportion * len(predictions.cpu().detach().numpy()))- 1]\n",
    "#             thresholds_low = np.sort(predictions_abs)[int(proportion_low * nb_zero_total]\n",
    "#             thresholds_up = abs(np.sort(-predictions_abs))[int(proportion_up * nb_one_total)]\n",
    "            \n",
    "            #accuracy for differents labels(0 or 1)\n",
    "            nb_one_fixe = 0\n",
    "            nb_zero_fixe = 0\n",
    "            nb_correct_one = 0\n",
    "            nb_correct_zero = 0\n",
    "            nb_correct_fixe_one = 0\n",
    "            nb_correct_fixe_zero = 0\n",
    "            nb_correct_fixe = 0\n",
    "            nb_fixe = 0 \n",
    "            for j,v in enumerate(is_equal):\n",
    "                if labels[j] == 1:\n",
    "                    nb_correct_one += v\n",
    "                else:\n",
    "                    nb_correct_zero += v\n",
    "                    \n",
    "                if predictions_abs[j] > thresholds:             \n",
    "                    if labels[j]:\n",
    "                        nb_correct_fixe_one += v\n",
    "                    else:\n",
    "                        nb_correct_fixe_zero += v\n",
    "                        \n",
    "                    if y_hat[j]:\n",
    "                        nb_one_fixe += 1\n",
    "                    else:\n",
    "                        nb_zero_fixe += 1\n",
    "\n",
    "#                 if predictions_abs[j] <= thresholds_low:\n",
    "#                     if labels[j] == 0:\n",
    "#                         nb_correct_fixe_zero += v\n",
    "#                     nb_zero_to_fixe += 1\n",
    "#                 if predictions_abs[j] >= thresholds_up:\n",
    "#                     if labels[j] == 1:\n",
    "#                         nb_correct_fixe_one += v\n",
    "#                     nb_one_to_fixe += 1\n",
    "                    \n",
    "            nb_one_total = torch.sum(torch.where(labels == 1,1,0))\n",
    "            nb_one_predict = torch.sum(torch.where(y_hat == 1,1,0))\n",
    "            accuracy_one.append((nb_correct_one/nb_one_total))\n",
    "            accuracy_one_predict.append((nb_correct_one/nb_one_predict) if nb_one_predict > 0 else 0)\n",
    "            nb_predict_one.append(nb_one_predict)\n",
    "            nb_one.append(nb_one_total)\n",
    "            \n",
    "            nb_zero_predict = (len(labels) - nb_one_predict)\n",
    "            accuracy_zero.append((nb_correct_zero/nb_zero_total))\n",
    "            accuracy_zero_predict.append((nb_correct_zero/nb_zero_predict) if nb_zero_predict > 0 else 0)\n",
    "            nb_predict_zero.append(nb_zero_predict)\n",
    "            nb_zero.append(nb_zero_total)\n",
    "            \n",
    "            accuracy_fixe.append((nb_correct_fixe_one+nb_correct_fixe_zero)/(nb_one_fixe+nb_zero_fixe))\n",
    "            accuracy_fixe_one.append(nb_correct_fixe_one/nb_one_fixe if nb_one_fixe>0 else 0)\n",
    "            accuracy_fixe_zero.append(nb_correct_fixe_zero/nb_zero_fixe if nb_zero_fixe>0 else 0)\n",
    "            \n",
    "        #     print(nb_correct_fixe.cpu(),nb_var_fixe)\n",
    "        #         print(labels,\"\\n\",predictions)\n",
    "        #         print(labels[0:10],y_hat[0:10])\n",
    "        print(\"Loss = %f,Accuracy_value = %f,Accuracy_instance = %f\"\\\n",
    "              %(np.mean(vloss),np.mean(accuracy_value),np.sum(accuracy_instance)/len(accuracy_instance)))\n",
    "        print(\"Label_One_Predict_One = %f,Predict_One_Label_One = %f,Nombre_Predict_One = %f,Nombre_One_Mean = %f\"\\\n",
    "              %(np.mean(accuracy_one),np.mean(accuracy_one_predict),np.mean(nb_predict_one),np.mean(nb_one)))\n",
    "        print(\"Label_Zero_Predict_Zero = %f,Label_Zero_Predict_Zero = %f,Nombre_Predict_Zero = %f,Nombre_Zero_Mean = %f\"\\\n",
    "              %(np.mean(accuracy_zero),np.mean(accuracy_zero_predict),np.mean(nb_predict_zero),np.mean(nb_zero)))\n",
    "        print(\"Accuracy_fixe_mean = %f,Accuracy_fixe_one = %f,Accuracy_fixe_zero = %f\"\\\n",
    "              %(np.mean(accuracy_fixe),np.mean(accuracy_fixe_one),np.mean(accuracy_fixe_zero)))"
   ]
  },
  {
   "cell_type": "code",
   "execution_count": 22,
   "metadata": {},
   "outputs": [
    {
     "name": "stdout",
     "output_type": "stream",
     "text": [
      "cuda\n"
     ]
    }
   ],
   "source": [
    "device = torch.device(\"cuda\" if torch.cuda.is_available() else \"cpu\")\n",
    "print(device)\n",
    "os.environ[\"CUDA_VISIBLE_DEVICES\"] = \"0\"\n",
    "EPOCHS = 200\n",
    "nb_mlp = 1\n",
    "criterion = nn.BCELoss()\n",
    "# torch.cuda.get_device_name(device)\n",
    "# print(torch.cuda.get_device_name(next(net.parameters()).device))\n"
   ]
  },
  {
   "cell_type": "code",
   "execution_count": 23,
   "metadata": {},
   "outputs": [],
   "source": [
    "data_train_gpu = []\n",
    "for i in range(len(data_train)):\n",
    "    inputs, labels = torch.from_numpy(data_train[i]['X']).float(),torch.from_numpy(data_train[i]['Y']).type(torch.FloatTensor).float()\n",
    "    A = torch.from_numpy(data_train[i]['A']).float()\n",
    "    inputs = inputs.to(device)\n",
    "    labels = labels.to(device)\n",
    "    A = A.to(device)\n",
    "    data_train_gpu.append([inputs,labels,A])"
   ]
  },
  {
   "cell_type": "code",
   "execution_count": 32,
   "metadata": {},
   "outputs": [
    {
     "name": "stderr",
     "output_type": "stream",
     "text": [
      "  0%|▍                                                                                 | 1/200 [00:00<00:40,  4.90it/s]"
     ]
    },
    {
     "name": "stdout",
     "output_type": "stream",
     "text": [
      "Loss = 0.053185,Accuracy_value = 0.987333,Accuracy_instance = 0.800000\n",
      "Label_One_Predict_One = 0.961656,Predict_One_Label_One = 0.965311,Nombre_Predict_One = 17.533333,Nombre_One_Mean = 17.600000\n",
      "Label_Zero_Predict_Zero = 0.992742,Label_Zero_Predict_Zero = 0.992004,Nombre_Predict_Zero = 82.466667,Nombre_Zero_Mean = 82.400000\n",
      "Accuracy_fixe_mean = 0.998068,Accuracy_fixe_one = 0.988889,Accuracy_fixe_zero = 0.999005\n"
     ]
    },
    {
     "name": "stderr",
     "output_type": "stream",
     "text": [
      " 11%|████████▉                                                                        | 22/200 [00:02<00:20,  8.84it/s]"
     ]
    },
    {
     "name": "stdout",
     "output_type": "stream",
     "text": [
      "Loss = 0.053152,Accuracy_value = 0.987333,Accuracy_instance = 0.800000\n",
      "Label_One_Predict_One = 0.961656,Predict_One_Label_One = 0.965311,Nombre_Predict_One = 17.533333,Nombre_One_Mean = 17.600000\n",
      "Label_Zero_Predict_Zero = 0.992742,Label_Zero_Predict_Zero = 0.992004,Nombre_Predict_Zero = 82.466667,Nombre_Zero_Mean = 82.400000\n",
      "Accuracy_fixe_mean = 0.998068,Accuracy_fixe_one = 0.988889,Accuracy_fixe_zero = 0.999005\n"
     ]
    },
    {
     "name": "stderr",
     "output_type": "stream",
     "text": [
      " 20%|████████████████▏                                                                | 40/200 [00:04<00:15, 10.26it/s]"
     ]
    },
    {
     "name": "stdout",
     "output_type": "stream",
     "text": [
      "Loss = 0.053121,Accuracy_value = 0.987333,Accuracy_instance = 0.800000\n",
      "Label_One_Predict_One = 0.961656,Predict_One_Label_One = 0.965311,Nombre_Predict_One = 17.533333,Nombre_One_Mean = 17.600000\n",
      "Label_Zero_Predict_Zero = 0.992742,Label_Zero_Predict_Zero = 0.992004,Nombre_Predict_Zero = 82.466667,Nombre_Zero_Mean = 82.400000\n",
      "Accuracy_fixe_mean = 0.998068,Accuracy_fixe_one = 0.988889,Accuracy_fixe_zero = 0.999005\n"
     ]
    },
    {
     "name": "stderr",
     "output_type": "stream",
     "text": [
      " 30%|████████████████████████▋                                                        | 61/200 [00:06<00:19,  7.04it/s]"
     ]
    },
    {
     "name": "stdout",
     "output_type": "stream",
     "text": [
      "Loss = 0.053091,Accuracy_value = 0.987333,Accuracy_instance = 0.800000\n",
      "Label_One_Predict_One = 0.961656,Predict_One_Label_One = 0.965311,Nombre_Predict_One = 17.533333,Nombre_One_Mean = 17.600000\n",
      "Label_Zero_Predict_Zero = 0.992742,Label_Zero_Predict_Zero = 0.992004,Nombre_Predict_Zero = 82.466667,Nombre_Zero_Mean = 82.400000\n",
      "Accuracy_fixe_mean = 0.998068,Accuracy_fixe_one = 0.988889,Accuracy_fixe_zero = 0.999005\n"
     ]
    },
    {
     "name": "stderr",
     "output_type": "stream",
     "text": [
      " 40%|████████████████████████████████▊                                                | 81/200 [00:08<00:13,  8.97it/s]"
     ]
    },
    {
     "name": "stdout",
     "output_type": "stream",
     "text": [
      "Loss = 0.053063,Accuracy_value = 0.987333,Accuracy_instance = 0.800000\n",
      "Label_One_Predict_One = 0.961656,Predict_One_Label_One = 0.965311,Nombre_Predict_One = 17.533333,Nombre_One_Mean = 17.600000\n",
      "Label_Zero_Predict_Zero = 0.992742,Label_Zero_Predict_Zero = 0.992004,Nombre_Predict_Zero = 82.466667,Nombre_Zero_Mean = 82.400000\n",
      "Accuracy_fixe_mean = 0.998068,Accuracy_fixe_one = 0.988889,Accuracy_fixe_zero = 0.998990\n"
     ]
    },
    {
     "name": "stderr",
     "output_type": "stream",
     "text": [
      " 50%|████████████████████████████████████████                                        | 100/200 [00:10<00:09, 10.26it/s]"
     ]
    },
    {
     "name": "stdout",
     "output_type": "stream",
     "text": [
      "Loss = 0.053035,Accuracy_value = 0.987333,Accuracy_instance = 0.800000\n",
      "Label_One_Predict_One = 0.961656,Predict_One_Label_One = 0.965311,Nombre_Predict_One = 17.533333,Nombre_One_Mean = 17.600000\n",
      "Label_Zero_Predict_Zero = 0.992742,Label_Zero_Predict_Zero = 0.992004,Nombre_Predict_Zero = 82.466667,Nombre_Zero_Mean = 82.400000\n",
      "Accuracy_fixe_mean = 0.998068,Accuracy_fixe_one = 0.988889,Accuracy_fixe_zero = 0.998990\n"
     ]
    },
    {
     "name": "stderr",
     "output_type": "stream",
     "text": [
      " 60%|████████████████████████████████████████████████▍                               | 121/200 [00:12<00:08,  9.09it/s]"
     ]
    },
    {
     "name": "stdout",
     "output_type": "stream",
     "text": [
      "Loss = 0.053008,Accuracy_value = 0.987333,Accuracy_instance = 0.800000\n",
      "Label_One_Predict_One = 0.961656,Predict_One_Label_One = 0.965311,Nombre_Predict_One = 17.533333,Nombre_One_Mean = 17.600000\n",
      "Label_Zero_Predict_Zero = 0.992742,Label_Zero_Predict_Zero = 0.992004,Nombre_Predict_Zero = 82.466667,Nombre_Zero_Mean = 82.400000\n",
      "Accuracy_fixe_mean = 0.998068,Accuracy_fixe_one = 0.988889,Accuracy_fixe_zero = 0.998990\n"
     ]
    },
    {
     "name": "stderr",
     "output_type": "stream",
     "text": [
      " 70%|████████████████████████████████████████████████████████▍                       | 141/200 [00:15<00:06,  8.97it/s]"
     ]
    },
    {
     "name": "stdout",
     "output_type": "stream",
     "text": [
      "Loss = 0.052983,Accuracy_value = 0.987333,Accuracy_instance = 0.800000\n",
      "Label_One_Predict_One = 0.961656,Predict_One_Label_One = 0.965311,Nombre_Predict_One = 17.533333,Nombre_One_Mean = 17.600000\n",
      "Label_Zero_Predict_Zero = 0.992742,Label_Zero_Predict_Zero = 0.992004,Nombre_Predict_Zero = 82.466667,Nombre_Zero_Mean = 82.400000\n",
      "Accuracy_fixe_mean = 0.998068,Accuracy_fixe_one = 0.988889,Accuracy_fixe_zero = 0.998990\n"
     ]
    },
    {
     "name": "stderr",
     "output_type": "stream",
     "text": [
      " 80%|████████████████████████████████████████████████████████████████▍               | 161/200 [00:17<00:04,  7.86it/s]"
     ]
    },
    {
     "name": "stdout",
     "output_type": "stream",
     "text": [
      "Loss = 0.052959,Accuracy_value = 0.987333,Accuracy_instance = 0.800000\n",
      "Label_One_Predict_One = 0.961656,Predict_One_Label_One = 0.965311,Nombre_Predict_One = 17.533333,Nombre_One_Mean = 17.600000\n",
      "Label_Zero_Predict_Zero = 0.992742,Label_Zero_Predict_Zero = 0.992004,Nombre_Predict_Zero = 82.466667,Nombre_Zero_Mean = 82.400000\n",
      "Accuracy_fixe_mean = 0.998068,Accuracy_fixe_one = 0.988889,Accuracy_fixe_zero = 0.998990\n"
     ]
    },
    {
     "name": "stderr",
     "output_type": "stream",
     "text": [
      " 90%|████████████████████████████████████████████████████████████████████████▍       | 181/200 [00:19<00:02,  8.86it/s]"
     ]
    },
    {
     "name": "stdout",
     "output_type": "stream",
     "text": [
      "Loss = 0.052936,Accuracy_value = 0.987333,Accuracy_instance = 0.800000\n",
      "Label_One_Predict_One = 0.961656,Predict_One_Label_One = 0.965311,Nombre_Predict_One = 17.533333,Nombre_One_Mean = 17.600000\n",
      "Label_Zero_Predict_Zero = 0.992742,Label_Zero_Predict_Zero = 0.992004,Nombre_Predict_Zero = 82.466667,Nombre_Zero_Mean = 82.400000\n",
      "Accuracy_fixe_mean = 0.998068,Accuracy_fixe_one = 0.988889,Accuracy_fixe_zero = 0.998990\n"
     ]
    },
    {
     "name": "stderr",
     "output_type": "stream",
     "text": [
      "100%|████████████████████████████████████████████████████████████████████████████████| 200/200 [00:21<00:00,  9.43it/s]\n"
     ]
    }
   ],
   "source": [
    "# net = VariablePredictor(24,50,nb_mlp)\n",
    "# net.to(device)\n",
    "# optm = Adam(net.parameters(), lr = 0.0001)\n",
    "for epoch in tqdm(range(EPOCHS)):\n",
    "    #validation\n",
    "    if epoch % 20 == 0:\n",
    "        valide(net,criterion,data_validation,0.7)\n",
    "    #train\n",
    "    for i in range(len(data_train_gpu)):\n",
    "        valid_inputs, valid_labels = data_train_gpu[i][0],data_train_gpu[i][1]#torch.from_numpy(data_train[i]['X']).float(),torch.from_numpy(data_train[i]['Y']).type(torch.FloatTensor).float()\n",
    "        A =data_train_gpu[i][2]# torch.from_numpy(data_train[i]['A']).float()\n",
    "#         valid_inputs = valid_inputs.to(device)\n",
    "#         valid_labels = valid_labels.to(device)\n",
    "#         A = A.to(device)\n",
    "        loss, predictions = train(net,valid_inputs,valid_labels,A,optm, criterion)"
   ]
  },
  {
   "cell_type": "markdown",
   "metadata": {},
   "source": [
    "## Test"
   ]
  },
  {
   "cell_type": "code",
   "execution_count": 28,
   "metadata": {},
   "outputs": [],
   "source": [
    "# nb_mlp = 3\n",
    "# net = VariablePredictor(24,50,nb_mlp)\n",
    "# net.to(device)\n",
    "# data_name = \"SC100\"\n",
    "model_path = \"model/\"+data_name+\"_MLP\"+nb_mlp.__str__()\n",
    "torch.save(net.state_dict(),model_path)"
   ]
  },
  {
   "cell_type": "code",
   "execution_count": 29,
   "metadata": {},
   "outputs": [
    {
     "data": {
      "text/plain": [
       "<All keys matched successfully>"
      ]
     },
     "execution_count": 29,
     "metadata": {},
     "output_type": "execute_result"
    }
   ],
   "source": [
    "model = VariablePredictor(24,50,nb_mlp).to(device)\n",
    "model.load_state_dict(torch.load(model_path))"
   ]
  },
  {
   "cell_type": "code",
   "execution_count": 30,
   "metadata": {},
   "outputs": [
    {
     "name": "stdout",
     "output_type": "stream",
     "text": [
      "Loss = 0.183923,Accuracy_value = 0.937333,Accuracy_instance = 0.466667\n",
      "Label_One_Predict_One = 0.817160,Predict_One_Label_One = 0.820096,Nombre_Predict_One = 17.733333,Nombre_One_Mean = 17.866667\n",
      "Label_Zero_Predict_Zero = 0.962805,Label_Zero_Predict_Zero = 0.961440,Nombre_Predict_Zero = 82.266667,Nombre_Zero_Mean = 82.133333\n",
      "Accuracy_fixe_mean = 0.994203,Accuracy_fixe_one = 0.966667,Accuracy_fixe_zero = 0.995025\n"
     ]
    }
   ],
   "source": [
    "valide(model,criterion,data_test,proportion = 0.7)"
   ]
  },
  {
   "cell_type": "code",
   "execution_count": null,
   "metadata": {},
   "outputs": [],
   "source": [
    "print(predictions)\n",
    "print(is_equal)"
   ]
  },
  {
   "cell_type": "code",
   "execution_count": 96,
   "metadata": {},
   "outputs": [
    {
     "name": "stdout",
     "output_type": "stream",
     "text": [
      "[4.25664075e-05 4.26519036e-05 4.27929044e-05 4.36861847e-05\n",
      " 4.44617945e-05 4.45227633e-05 4.48979263e-05 4.56902999e-05\n",
      " 4.57017122e-05 4.58360119e-05 4.58681570e-05 4.61157397e-05\n",
      " 4.62280186e-05 4.66402271e-05 4.69893421e-05 4.72380234e-05\n",
      " 4.72800712e-05 4.73000873e-05 4.73091131e-05 4.73467553e-05\n",
      " 4.73674882e-05 4.76044115e-05 4.77305512e-05 4.84585908e-05\n",
      " 4.85794917e-05 4.86337703e-05 4.88941878e-05 4.89978083e-05\n",
      " 4.92107283e-05 4.92171130e-05 4.93519983e-05 4.94780543e-05\n",
      " 5.01319155e-05 5.01907998e-05 5.02637486e-05 5.05835633e-05\n",
      " 5.07430486e-05 5.08182529e-05 5.18046909e-05 5.18419474e-05\n",
      " 5.22722075e-05 5.25503929e-05 5.34602732e-05 5.34976061e-05\n",
      " 5.35908948e-05 5.37673404e-05 5.40695801e-05 5.41877271e-05\n",
      " 5.41972368e-05 5.42600137e-05 5.43368114e-05 5.45441108e-05\n",
      " 5.46449555e-05 5.51754456e-05 5.52211386e-05 5.53303034e-05\n",
      " 5.53395366e-05 5.57681233e-05 5.59089131e-05 5.63933463e-05\n",
      " 5.65939226e-05 5.66634189e-05 5.67266179e-05 5.68492287e-05\n",
      " 5.68660871e-05 5.70078519e-05 5.70885386e-05 5.76717175e-05\n",
      " 5.83428191e-05 5.83936344e-05 5.87842915e-05 5.93162622e-05\n",
      " 5.93647565e-05 5.96169266e-05 5.98762745e-05 6.00266430e-05\n",
      " 6.02574255e-05 6.04800953e-05 6.05833629e-05 6.06948524e-05\n",
      " 6.08989358e-05 6.09761046e-05 6.11236901e-05 6.17330807e-05\n",
      " 6.21693107e-05 6.25979956e-05 6.26002657e-05 6.26016990e-05\n",
      " 6.27070258e-05 6.27133704e-05 6.27797854e-05 6.28397393e-05\n",
      " 6.34777462e-05 6.35158867e-05 6.36686455e-05 6.36693148e-05\n",
      " 6.38307829e-05 6.42183004e-05 6.43607127e-05 6.44001266e-05\n",
      " 6.52311428e-05 6.55226613e-05 6.57072451e-05 6.57226628e-05\n",
      " 6.58410936e-05 6.63090032e-05 6.68824650e-05 6.69507426e-05\n",
      " 6.70378795e-05 6.72376991e-05 6.75506235e-05 6.80313897e-05\n",
      " 6.82825921e-05 6.83151593e-05 6.84763945e-05 6.87411011e-05\n",
      " 6.89604640e-05 6.93151014e-05 6.94551782e-05 6.94633927e-05\n",
      " 6.97702271e-05 6.98785661e-05 7.01745230e-05 7.06017527e-05\n",
      " 7.14250127e-05 7.14874986e-05 7.18112788e-05 7.20291064e-05\n",
      " 7.21622782e-05 7.33252891e-05 7.37626979e-05 7.38517992e-05\n",
      " 7.39006282e-05 7.39982206e-05 7.41844706e-05 7.41916811e-05\n",
      " 7.54508364e-05 7.56801965e-05 7.59204704e-05 7.74046857e-05\n",
      " 7.76087545e-05 7.98517576e-05 8.00390626e-05 8.06056414e-05\n",
      " 8.07436518e-05 8.21729773e-05 8.25831885e-05 8.34229795e-05\n",
      " 8.38883716e-05 8.55647304e-05 8.60119690e-05 8.60496293e-05\n",
      " 8.61796943e-05 8.69189389e-05 8.73468525e-05 8.74199322e-05\n",
      " 8.79052750e-05 8.87467759e-05 8.93495016e-05 8.99921070e-05\n",
      " 9.06268760e-05 9.13508484e-05 9.19664380e-05 9.31509057e-05\n",
      " 9.32495605e-05 9.34315758e-05 9.35148273e-05 9.46358123e-05\n",
      " 9.49278401e-05 9.81546182e-05 9.88732572e-05 9.98760152e-05\n",
      " 1.00083285e-04 1.02033599e-04 1.03181192e-04 1.03963212e-04\n",
      " 1.04234103e-04 1.08584689e-04 1.09145694e-04 1.09149427e-04\n",
      " 1.09353001e-04 1.10551708e-04 1.10813038e-04 1.13151698e-04\n",
      " 1.17852323e-04 1.18917400e-04 1.19966360e-04 1.25283041e-04\n",
      " 1.25284583e-04 1.25301667e-04 1.25717677e-04 1.26419705e-04\n",
      " 1.26897867e-04 1.26938277e-04 1.30724162e-04 1.31343782e-04\n",
      " 1.35691342e-04 1.36124829e-04 1.37230018e-04 1.38881165e-04\n",
      " 1.40296717e-04 1.41108831e-04 1.41489028e-04 1.41925484e-04\n",
      " 1.42006160e-04 1.44665129e-04 1.44881298e-04 1.46104227e-04\n",
      " 1.47593673e-04 1.51550048e-04 1.52989480e-04 1.54216847e-04\n",
      " 1.54766618e-04 1.56701499e-04 1.57049726e-04 1.57107992e-04\n",
      " 1.62983008e-04 1.63614866e-04 1.64175115e-04 1.65349469e-04\n",
      " 1.65742997e-04 1.66213824e-04 1.70002982e-04 1.70520565e-04\n",
      " 1.71617357e-04 1.71884793e-04 1.73891487e-04 1.76695932e-04\n",
      " 1.78838571e-04 1.79102062e-04 1.83205790e-04 1.87994679e-04\n",
      " 1.89154569e-04 1.89889703e-04 1.93264394e-04 1.94466455e-04\n",
      " 1.98374008e-04 1.98832291e-04 1.99738832e-04 2.00357244e-04\n",
      " 2.02023468e-04 2.02211377e-04 2.02266136e-04 2.02323034e-04\n",
      " 2.04649317e-04 2.07353747e-04 2.08188154e-04 2.10045633e-04\n",
      " 2.14977888e-04 2.17029155e-04 2.19846872e-04 2.20420072e-04\n",
      " 2.21120383e-04 2.23103445e-04 2.23597919e-04 2.25949552e-04\n",
      " 2.28260629e-04 2.28315927e-04 2.40192458e-04 2.43983770e-04\n",
      " 2.45641946e-04 2.46633659e-04 2.46806361e-04 2.57210166e-04\n",
      " 2.57346779e-04 2.58235290e-04 2.58298067e-04 2.58688466e-04\n",
      " 2.59254623e-04 2.61293433e-04 2.72096775e-04 2.74458871e-04\n",
      " 2.76049454e-04 2.80426379e-04 2.81334738e-04 2.82195979e-04\n",
      " 2.84778478e-04 2.85618386e-04 2.87061441e-04 2.87997333e-04\n",
      " 2.89559510e-04 2.91746139e-04 2.92340585e-04 2.93551624e-04\n",
      " 2.95048812e-04 2.96542043e-04 3.00236832e-04 3.00404354e-04\n",
      " 3.05627938e-04 3.06032656e-04 3.09353898e-04 3.11050273e-04\n",
      " 3.11748241e-04 3.15726036e-04 3.16072052e-04 3.16331920e-04\n",
      " 3.17586266e-04 3.18223378e-04 3.19042942e-04 3.20752064e-04\n",
      " 3.23043874e-04 3.23301472e-04 3.23782937e-04 3.26961512e-04\n",
      " 3.29447794e-04 3.30189243e-04 3.30646290e-04 3.33293370e-04\n",
      " 3.39211518e-04 3.43829946e-04 3.45011009e-04 3.48312780e-04\n",
      " 3.54568998e-04 3.55972210e-04 3.57365614e-04 3.59912432e-04\n",
      " 3.61154234e-04 3.68358509e-04 3.69322312e-04 3.69759480e-04\n",
      " 3.69849557e-04 3.70008609e-04 3.72120645e-04 3.73703864e-04\n",
      " 3.77406512e-04 3.79514968e-04 3.79729230e-04 3.80870508e-04\n",
      " 3.83509992e-04 3.84418498e-04 3.87791166e-04 3.89865076e-04\n",
      " 3.94437782e-04 3.98233620e-04 3.99183627e-04 4.01414291e-04\n",
      " 4.06856125e-04 4.08442022e-04 4.11009765e-04 4.11328772e-04\n",
      " 4.14511625e-04 4.20081371e-04 4.21808829e-04 4.24160360e-04\n",
      " 4.25318809e-04 4.32295463e-04 4.40303091e-04 4.41246171e-04\n",
      " 4.42514924e-04 4.46593040e-04 4.47478960e-04 4.51386324e-04\n",
      " 4.56763722e-04 4.58530063e-04 4.58883587e-04 4.59064933e-04\n",
      " 4.61234420e-04 4.61758784e-04 4.65044839e-04 4.66141268e-04\n",
      " 4.66459489e-04 4.67866921e-04 4.70390863e-04 4.70885454e-04\n",
      " 4.71874664e-04 4.73085529e-04 4.81319934e-04 4.82048636e-04\n",
      " 4.91790532e-04 4.92177205e-04 4.94159351e-04 4.95421409e-04\n",
      " 5.00086986e-04 5.02716342e-04 5.04644704e-04 5.14744606e-04\n",
      " 5.24282979e-04 5.25052601e-04 5.25106385e-04 5.29404788e-04\n",
      " 5.30018995e-04 5.31967322e-04 5.42133523e-04 5.42239286e-04\n",
      " 5.42580441e-04 5.43233531e-04 5.49775723e-04 5.56370651e-04\n",
      " 5.57040796e-04 5.58092026e-04 5.58937900e-04 5.67058101e-04\n",
      " 5.79335261e-04 5.81061468e-04 5.86614653e-04 5.90056297e-04\n",
      " 5.91970107e-04 6.04478875e-04 6.08425762e-04 6.13990705e-04\n",
      " 6.14682271e-04 6.19679806e-04 6.23440021e-04 6.35106815e-04\n",
      " 6.42771309e-04 6.54665986e-04 6.56535500e-04 6.64511230e-04\n",
      " 6.64792489e-04 6.67801476e-04 6.75444899e-04 6.75694377e-04\n",
      " 6.85030944e-04 6.93113136e-04 7.16800860e-04 7.17094634e-04\n",
      " 7.18050986e-04 7.31157314e-04 7.32036133e-04 7.33257970e-04\n",
      " 7.41134339e-04 7.46235135e-04 7.54542241e-04 7.62747659e-04\n",
      " 7.65464734e-04 7.66723824e-04 7.68169586e-04 7.69258884e-04\n",
      " 7.76953471e-04 7.78473099e-04 7.87167053e-04 7.91406375e-04\n",
      " 7.93300394e-04 7.99630478e-04 8.04578012e-04 8.25573690e-04\n",
      " 8.29228782e-04 8.43418704e-04 8.53888167e-04 8.64782894e-04\n",
      " 8.64908972e-04 8.69897252e-04 8.95470614e-04 9.09140857e-04\n",
      " 9.23835323e-04 9.26716777e-04 9.30205279e-04 9.32919094e-04\n",
      " 9.50494898e-04 9.75133968e-04 9.78890923e-04 9.99345444e-04\n",
      " 1.04001875e-03 1.04787713e-03 1.05961133e-03 1.14109600e-03\n",
      " 1.32784387e-03 1.43088438e-02 1.43533191e-02 1.60252210e-02\n",
      " 1.80095267e-02 1.96014419e-02 2.31521055e-02 2.66832765e-02\n",
      " 2.85264980e-02 2.98256073e-02 3.06843705e-02 3.25577669e-02\n",
      " 3.34130712e-02 3.49488035e-02 4.20070887e-02 4.34793495e-02\n",
      " 5.09673469e-02 5.53654656e-02 6.30674958e-02 1.05677314e-01\n",
      " 1.19547307e-01 1.78350523e-01 1.94026560e-01 2.14612439e-01\n",
      " 3.37477505e-01 7.15127110e-01 8.29478085e-01 8.51270556e-01\n",
      " 8.79483461e-01 8.89104903e-01 8.90679657e-01 8.94391596e-01\n",
      " 8.96791577e-01 9.10225511e-01 9.21418488e-01 9.31059122e-01\n",
      " 9.40193951e-01 9.48379040e-01 9.53856051e-01 9.58348572e-01\n",
      " 9.62765336e-01 9.72108126e-01 9.83054101e-01 9.99646902e-01]\n"
     ]
    },
    {
     "data": {
      "image/png": "[encoded data removed]",
      "text/plain": [
       "<Figure size 432x288 with 1 Axes>"
      ]
     },
     "metadata": {
      "needs_background": "light"
     },
     "output_type": "display_data"
    }
   ],
   "source": [
    "p = np.sort(predictions.cpu().detach().numpy())\n",
    "print(p)\n",
    "fig, ax = plt.subplots()\n",
    "ax.plot(range(len(predictions.cpu())), p, linewidth=2.0)\n",
    "plt.show()"
   ]
  },
  {
   "cell_type": "code",
   "execution_count": null,
   "metadata": {},
   "outputs": [],
   "source": []
  }
 ],
 "metadata": {
  "kernelspec": {
   "display_name": "Python 3",
   "language": "python",
   "name": "python3"
  },
  "language_info": {
   "codemirror_mode": {
    "name": "ipython",
    "version": 3
   },
   "file_extension": ".py",
   "mimetype": "text/x-python",
   "name": "python",
   "nbconvert_exporter": "python",
   "pygments_lexer": "ipython3",
   "version": "3.8.5"
  }
 },
 "nbformat": 4,
 "nbformat_minor": 5
}
