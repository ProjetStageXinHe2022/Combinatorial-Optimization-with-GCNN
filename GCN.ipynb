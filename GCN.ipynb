{
 "cells": [
  {
   "cell_type": "code",
   "execution_count": 2,
   "id": "celtic-montana",
   "metadata": {},
   "outputs": [
    {
     "name": "stderr",
     "output_type": "stream",
     "text": [
      "/home/leonaire/anaconda3/envs/ecole/lib/python3.10/site-packages/tqdm/auto.py:22: TqdmWarning: IProgress not found. Please update jupyter and ipywidgets. See https://ipywidgets.readthedocs.io/en/stable/user_install.html\n",
      "  from .autonotebook import tqdm as notebook_tqdm\n"
     ]
    }
   ],
   "source": [
    "import os\n",
    "import numpy as np\n",
    "from tqdm import tqdm\n",
    "import matplotlib.pyplot as plt\n",
    "\n",
    "import torch\n",
    "import torch.nn as nn\n",
    "import torch.nn.functional as F"
   ]
  },
  {
   "cell_type": "markdown",
   "id": "compact-handbook",
   "metadata": {},
   "source": [
    "# Read dataset"
   ]
  },
  {
   "cell_type": "code",
   "execution_count": 52,
   "id": "valuable-production",
   "metadata": {},
   "outputs": [],
   "source": [
    "import pickle as pkl\n",
    "import json\n",
    "import ast\n",
    "\"\"\"\n",
    "param:path of folder\n",
    "return :data_train_X,data_train_Y,data_validation_X,data_validation_Y,data_test_X,data_test_Y\n",
    "\"\"\"\n",
    "def load_data(path = \"DataSet/\"):\n",
    "    split = [0.75,0.15,0.15]\n",
    "    path_set = os.listdir(path)\n",
    "    data_train_X = []\n",
    "    data_validation_X = []\n",
    "    data_test_X = []\n",
    "    data_train_Y = []\n",
    "    data_validation_Y = []\n",
    "    data_test_Y = []\n",
    "\n",
    "    index = 0\n",
    "    nb_total = len(path_set)\n",
    "    for filename in path_set:\n",
    "        #read features of constraints \n",
    "        cons_file = open(path+filename+\"/constraints_features.json\",\"rb\")\n",
    "        data = json.load(cons_file)\n",
    "        data_cons = np.array(data[\"values\"])\n",
    "\n",
    "        #read features of variables \n",
    "        var_file = open(path+filename+\"/variables_features.json\",\"rb\")\n",
    "        data = json.load(var_file)\n",
    "        data_var = np.array(data[\"values\"])\n",
    "\n",
    "        #read label \n",
    "        label_file = open(path+filename+\"/label.json\",\"rb\")\n",
    "        data = json.load(label_file)\n",
    "        bestSol = data[\"Best_Solution\"]\n",
    "        bestSol = ast.literal_eval(bestSol)\n",
    "        data_label = np.array(list(bestSol.values()))\n",
    "\n",
    "        #read edge\n",
    "        edges_file = open(path+filename+\"/edges_features.json\",\"rb\")\n",
    "        data_cons = np.hstack((data_cons,np.zeros((data_cons.shape[0],19))))\n",
    "        data_var = np.hstack((np.zeros((data_var.shape[0],5)),data_var))\n",
    "        matrix_A = np.vstack((data_cons,data_var))\n",
    "    #     print(data_cons.shape)\n",
    "    #     print(data_var.shape)\n",
    "    #     print(matrix_A.shape)\n",
    "        if index < nb_total * split[0]:\n",
    "#             print(filename)\n",
    "            data_train_X.append(matrix_A)\n",
    "            data_train_Y.append(data_label)\n",
    "        elif index < nb_total * split[1]:\n",
    "            data_validation_X.append(matrix_A)\n",
    "            data_validation_Y.append(data_label)\n",
    "        else:\n",
    "            data_test_X.append(matrix_A)\n",
    "            data_test_Y.append(data_label)\n",
    "        index += 1\n",
    "    return     np.array(data_train_X),np.array(data_train_Y),np.array(data_validation_X),np.array(data_validation_Y),np.array(data_test_X),np.array(data_test_Y)\n",
    "data_train_X,data_train_Y,data_validation_X,data_validation_Y,data_test_X,data_test_Y = load_data()"
   ]
  },
  {
   "cell_type": "markdown",
   "id": "velvet-daniel",
   "metadata": {},
   "source": [
    "# GCN"
   ]
  },
  {
   "attachments": {
    "image-2.png": {
     "image/png": "[encoded data removed]"
    },
    "image-3.png": {
     "image/png": "[encoded data removed]"
    },
    "image-4.png": {
     "image/png": "[encoded data removed]"
    },
    "image.png": {
     "image/png": "[encoded data removed]"
    }
   },
   "cell_type": "markdown",
   "id": "funded-habitat",
   "metadata": {},
   "source": [
    "![image-2.png](attachment:image-2.png)\n",
    "\n",
    "![image-3.png](attachment:image-3.png)\n",
    "![image-4.png](attachment:image-4.png)\n",
    "\n",
    "![image.png](attachment:image.png)"
   ]
  },
  {
   "cell_type": "code",
   "execution_count": 119,
   "id": "decent-moisture",
   "metadata": {},
   "outputs": [],
   "source": [
    "class MLP(nn.Module):\n",
    "    def __init__(self, in_channel, out_channel):\n",
    "        super(GCNConv, self).__init__()\n",
    "        self.linear = nn.Linear(in_channel, in_channel)\n",
    "        self.activate = nn.Relu(in_channel, out_channel)\n",
    "        \n",
    "    def forward(self, x, A):\n",
    "        x = self.linear(x)\n",
    "        x = A.mm(x)\n",
    "        x = self.activate(x)\n",
    "        return x\n",
    "        \n",
    "class Net(nn.Module):\n",
    "    def __init__(self, in_channel, out_channel):\n",
    "        super(Net,self).__init__()\n",
    "        self.mlp = MLP(in_channel, out_channel)\n",
    "        self.linear = nn.Linear(out_channel, out_channel)\n",
    "        self.activate = nn.Relu(out_channel, out_channel)\n",
    "        \n",
    "    \n",
    "    def forward(self, x, edge_index):\n",
    "        x = self.linear(x)\n",
    "        x = edges_features.mm(x)\n",
    "        x = self.activate(x)\n",
    "        \n",
    "        return x\n",
    "    \n",
    "# class Output(nn.Module):\n",
    "#     def \n",
    "    "
   ]
  },
  {
   "cell_type": "code",
   "execution_count": null,
   "id": "relative-incentive",
   "metadata": {},
   "outputs": [],
   "source": []
  }
 ],
 "metadata": {
  "kernelspec": {
   "display_name": "Python 3 (ipykernel)",
   "language": "python",
   "name": "python3"
  },
  "language_info": {
   "codemirror_mode": {
    "name": "ipython",
    "version": 3
   },
   "file_extension": ".py",
   "mimetype": "text/x-python",
   "name": "python",
   "nbconvert_exporter": "python",
   "pygments_lexer": "ipython3",
   "version": "3.10.4"
  }
 },
 "nbformat": 4,
 "nbformat_minor": 5
}
