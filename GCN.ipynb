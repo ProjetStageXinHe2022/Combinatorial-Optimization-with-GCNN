{
 "cells": [
  {
   "cell_type": "code",
   "execution_count": 4,
   "id": "considerable-windows",
   "metadata": {},
   "outputs": [],
   "source": [
    "import os\n",
    "import numpy as np\n",
    "from tqdm import tqdm\n",
    "import matplotlib.pyplot as plt\n",
    "\n",
    "import torch\n",
    "import torch.nn as nn\n",
    "import torch.nn.functional as F\n",
    "from torch.optim import Adam\n",
    "from torch.utils.data import DataLoader"
   ]
  },
  {
   "cell_type": "markdown",
   "id": "express-joint",
   "metadata": {},
   "source": [
    "# Read dataset"
   ]
  },
  {
   "cell_type": "code",
   "execution_count": 42,
   "id": "flying-breast",
   "metadata": {},
   "outputs": [
    {
     "name": "stderr",
     "output_type": "stream",
     "text": [
      "100%|███████████████████████████████████████████████████████████████████████████████| 900/900 [00:08<00:00, 110.47it/s]\n"
     ]
    }
   ],
   "source": [
    "import pickle as pkl\n",
    "import json\n",
    "import ast\n",
    "\n",
    "\"\"\"\n",
    "param:path of folder\n",
    "return :data_train_X,data_train_Y,data_validation_X,data_validation_Y,data_test_X,data_test_Y\n",
    "\"\"\"\n",
    "def load_data(path = \"DataSet100/\"):\n",
    "    path_set = os.listdir(path)\n",
    "    dataSet = []\n",
    "    for filename in tqdm(path_set):\n",
    "        #read features of constraints \n",
    "        cons_file = open(path+filename+\"/constraints_features.json\",\"rb\")\n",
    "        data = json.load(cons_file)\n",
    "        data_cons = np.array(data[\"values\"])\n",
    "        nb_cons = data_cons.shape[0]\n",
    "        cons_file.close()\n",
    "        \n",
    "        #read features of variables \n",
    "        var_file = open(path+filename+\"/variables_features.json\",\"rb\")\n",
    "        data = json.load(var_file)\n",
    "        data_var = np.array(data[\"values\"])\n",
    "        nb_var = data_var.shape[0]\n",
    "        var_file.close()\n",
    "            #compose H\n",
    "        data_cons = np.hstack((np.zeros((data_cons.shape[0],19)),data_cons))\n",
    "        data_var = np.hstack((data_var,np.zeros((data_var.shape[0],5))))\n",
    "        matrix_H = np.vstack((data_var,data_cons))\n",
    "        \n",
    "        #read label \n",
    "        label_file = open(path+filename+\"/label.json\",\"rb\")\n",
    "        data = json.load(label_file)\n",
    "        bestSol = data[\"Best_Solution\"]\n",
    "        data_label = np.array(bestSol)\n",
    "        label_file.close()\n",
    "        #read edge\n",
    "        edges_file = open(path+filename+\"/edges_features.json\",\"rb\")\n",
    "        data = json.load(edges_file)\n",
    "        matrix_A = np.identity(nb_cons+nb_var)\n",
    "        for i in range(len(data[\"values\"])):\n",
    "            iVar,iCons = data[\"indices\"][1][i],data[\"indices\"][0][i] \n",
    "            matrix_A[iVar][nb_var+iCons] = data[\"values\"][i]\n",
    "            matrix_A[iCons+nb_var][iVar] = data[\"values\"][i]\n",
    "        edges_file.close()\n",
    "        dataSet.append({\"X\":matrix_H,\"Y\":data_label,\"A\":matrix_A})\n",
    "        del data_cons\n",
    "    return np.array(dataSet)\n",
    "split = [0.70,0.15,0.15]\n",
    "dataSet = load_data()\n",
    "data_train,data_validation,data_test = torch.utils.data.random_split(dataSet,[int(len(dataSet) * s) for s in split])\n",
    "# print(dataSet[0]['A'])\n",
    "# for l in dataSet[0]['A']:\n",
    "#     for i in l:\n",
    "#         print(int(i!=0),end = '\\t')\n",
    "#     print()\n",
    "\n",
    "# data_train_X,data_train_Y,data_validation_X,data_validation_Y,data_test_X,data_test_Y,A = load_data()\n",
    "# print(data_train_X.shape)\n",
    "# print(data_train_Y.shape)\n",
    "# print(A.shape)\n",
    "def setup_seed(seed):\n",
    "    torch.manual_seed(seed)\n",
    "    torch.cuda.manual_seed_all(seed)\n",
    "    np.random.seed(seed)\n",
    "    torch.backends.cudnn.deterministic = True\n",
    "# 设置随机数种子"
   ]
  },
  {
   "cell_type": "markdown",
   "id": "engaged-worth",
   "metadata": {},
   "source": [
    "# GCN"
   ]
  },
  {
   "attachments": {
    "image-2.png": {
     "image/png": "[encoded data removed]"
    },
    "image-3.png": {
     "image/png": "[encoded data removed]"
    },
    "image-4.png": {
     "image/png": "[encoded data removed]"
    },
    "image.png": {
     "image/png": "[encoded data removed]"
    }
   },
   "cell_type": "markdown",
   "id": "governmental-swiss",
   "metadata": {},
   "source": [
    "![image-2.png](attachment:image-2.png)\n",
    "\n",
    "![image-3.png](attachment:image-3.png)\n",
    "![image-4.png](attachment:image-4.png)\n",
    "\n",
    "![image.png](attachment:image.png)"
   ]
  },
  {
   "cell_type": "code",
   "execution_count": 7,
   "id": "elder-plant",
   "metadata": {},
   "outputs": [],
   "source": [
    "class simpleMLP(nn.Module):\n",
    "    def __init__(self, in_channel, out_channel):\n",
    "        super(MLP, self).__init__()\n",
    "        self.linear = nn.Linear(in_channel, out_channel)\n",
    "        self.activate = nn.ReLU()\n",
    "        \n",
    "    def forward(self, x):\n",
    "        x = self.linear(x)\n",
    "        x = self.activate(x)\n",
    "        return x\n",
    "    \n",
    "class Net(nn.Module):\n",
    "    def __init__(self, in_channel,aux_channel,out_channel):\n",
    "        super(Net,self).__init__()\n",
    "        self.layer = nn.Sequential(\n",
    "            nn.Linear(aux_channel, aux_channel),\n",
    "            nn.ReLU(),\n",
    "            nn.Linear(aux_channel, aux_channel),\n",
    "        )\n",
    "        self.mlp = MLP(in_channel, aux_channel)\n",
    "        self.outlayer = nn.Sequential(\n",
    "            nn.Linear(aux_channel, aux_channel),\n",
    "            nn.ReLU(),\n",
    "            nn.Linear(aux_channel, out_channel),\n",
    "#             nn.LogSoftmax()\n",
    "            nn.Sigmoid()\n",
    "        )\n",
    "    \n",
    "    def forward(self, x, A,nb_net):\n",
    "        x = self.mlp(x,A)\n",
    "        for i in range(nb_net):\n",
    "            x = self.layer(x)\n",
    "        x = self.outlayer(x)\n",
    "        return x\n",
    "        \n",
    "    "
   ]
  },
  {
   "cell_type": "markdown",
   "id": "improving-basic",
   "metadata": {},
   "source": [
    "## Train\n"
   ]
  },
  {
   "cell_type": "code",
   "execution_count": 8,
   "id": "instant-angel",
   "metadata": {},
   "outputs": [],
   "source": [
    "def train(model, x, y,A, optimizer,nb_net,criterion):\n",
    "    optimizer.zero_grad()\n",
    "    output = model(x,A,nb_net)[:len(y)].squeeze(dim=-1)\n",
    "#     print(\"output\",output)\n",
    "    loss =criterion(output,y)\n",
    "#     print(\"loss\",loss)\n",
    "    loss.backward()\n",
    "    optimizer.step()\n",
    "\n",
    "    return loss, output"
   ]
  },
  {
   "cell_type": "code",
   "execution_count": 28,
   "id": "checked-occasions",
   "metadata": {},
   "outputs": [
    {
     "name": "stdout",
     "output_type": "stream",
     "text": [
      "cuda\n"
     ]
    }
   ],
   "source": [
    "device = torch.device(\"cuda\" if torch.cuda.is_available() else \"cpu\")\n",
    "print(device)\n",
    "os.environ[\"CUDA_VISIBLE_DEVICES\"] = \"0\"\n",
    "nb_net = 3\n",
    "EPOCHS = 200\n",
    "net = Net(24,50,1)\n",
    "net.to(device)\n",
    "optm = Adam(net.parameters(), lr = 0.001)\n",
    "criterion = nn.BCELoss()\n",
    "# torch.cuda.get_device_name(device)\n",
    "# print(next(net.parameters()).device)"
   ]
  },
  {
   "cell_type": "code",
   "execution_count": 40,
   "id": "reliable-interpretation",
   "metadata": {},
   "outputs": [
    {
     "name": "stderr",
     "output_type": "stream",
     "text": [
      "\r",
      "  0%|                                                                                          | 0/200 [00:00<?, ?it/s]"
     ]
    },
    {
     "name": "stdout",
     "output_type": "stream",
     "text": [
      "Loss = 0.391589,Accuracy_value = 0.803744,Accuracy_instance = 0.000000,Accuracy_one = 0.192776,Accuracy_zeros = 0.818593,,Accuracy_fixe = 0.819229\n"
     ]
    },
    {
     "name": "stderr",
     "output_type": "stream",
     "text": [
      " 10%|████████                                                                         | 20/200 [02:21<17:51,  5.95s/it]"
     ]
    },
    {
     "name": "stdout",
     "output_type": "stream",
     "text": [
      "Loss = 0.052048,Accuracy_value = 0.984014,Accuracy_instance = 0.000000,Accuracy_one = 0.582930,Accuracy_zeros = 0.995122,,Accuracy_fixe = 0.998230\n"
     ]
    },
    {
     "name": "stderr",
     "output_type": "stream",
     "text": [
      " 20%|████████████████▏                                                                | 40/200 [04:42<15:34,  5.84s/it]"
     ]
    },
    {
     "name": "stdout",
     "output_type": "stream",
     "text": [
      "Loss = 0.051421,Accuracy_value = 0.984054,Accuracy_instance = 0.000000,Accuracy_one = 0.576657,Accuracy_zeros = 0.995330,,Accuracy_fixe = 0.998333\n"
     ]
    },
    {
     "name": "stderr",
     "output_type": "stream",
     "text": [
      " 20%|████████████████▌                                                                | 41/200 [05:17<20:30,  7.74s/it]\n"
     ]
    },
    {
     "ename": "KeyboardInterrupt",
     "evalue": "",
     "output_type": "error",
     "traceback": [
      "\u001b[1;31m---------------------------------------------------------------------------\u001b[0m",
      "\u001b[1;31mKeyboardInterrupt\u001b[0m                         Traceback (most recent call last)",
      "Input \u001b[1;32mIn [40]\u001b[0m, in \u001b[0;36m<cell line: 4>\u001b[1;34m()\u001b[0m\n\u001b[0;32m     57\u001b[0m \u001b[38;5;28;01mfor\u001b[39;00m i \u001b[38;5;129;01min\u001b[39;00m \u001b[38;5;28mrange\u001b[39m(\u001b[38;5;28mlen\u001b[39m(data_train)):\n\u001b[0;32m     58\u001b[0m     valid_inputs, valid_labels \u001b[38;5;241m=\u001b[39m torch\u001b[38;5;241m.\u001b[39mfrom_numpy(data_train[i][\u001b[38;5;124m'\u001b[39m\u001b[38;5;124mX\u001b[39m\u001b[38;5;124m'\u001b[39m])\u001b[38;5;241m.\u001b[39mfloat(),torch\u001b[38;5;241m.\u001b[39mfrom_numpy(data_train[i][\u001b[38;5;124m'\u001b[39m\u001b[38;5;124mY\u001b[39m\u001b[38;5;124m'\u001b[39m])\u001b[38;5;241m.\u001b[39mtype(torch\u001b[38;5;241m.\u001b[39mFloatTensor)\u001b[38;5;241m.\u001b[39mfloat()\n\u001b[1;32m---> 59\u001b[0m     A \u001b[38;5;241m=\u001b[39m \u001b[43mtorch\u001b[49m\u001b[38;5;241;43m.\u001b[39;49m\u001b[43mfrom_numpy\u001b[49m\u001b[43m(\u001b[49m\u001b[43mdata_train\u001b[49m\u001b[43m[\u001b[49m\u001b[43mi\u001b[49m\u001b[43m]\u001b[49m\u001b[43m[\u001b[49m\u001b[38;5;124;43m'\u001b[39;49m\u001b[38;5;124;43mA\u001b[39;49m\u001b[38;5;124;43m'\u001b[39;49m\u001b[43m]\u001b[49m\u001b[43m)\u001b[49m\u001b[38;5;241;43m.\u001b[39;49m\u001b[43mfloat\u001b[49m\u001b[43m(\u001b[49m\u001b[43m)\u001b[49m\n\u001b[0;32m     60\u001b[0m     valid_inputs \u001b[38;5;241m=\u001b[39m valid_inputs\u001b[38;5;241m.\u001b[39mto(device)\n\u001b[0;32m     61\u001b[0m     valid_labels \u001b[38;5;241m=\u001b[39m valid_labels\u001b[38;5;241m.\u001b[39mto(device)\n",
      "\u001b[1;31mKeyboardInterrupt\u001b[0m: "
     ]
    }
   ],
   "source": [
    "net = Net(24,50,1)\n",
    "net.to(device)\n",
    "optm = Adam(net.parameters(), lr = 0.001)\n",
    "for epoch in tqdm(range(EPOCHS)):\n",
    "    #validation\n",
    "    if epoch % 20 == 0:\n",
    "        vloss = []\n",
    "        accuracy_value = []\n",
    "        accuracy_instance = []\n",
    "        accuracy_one = []\n",
    "        accuracy_zero = []\n",
    "        accuracy_fixe = []\n",
    "        proportion = 0.7\n",
    "        data_size = len(data_validation)\n",
    "        for i in range(data_size):\n",
    "            inputs, labels = torch.from_numpy(data_validation[i]['X']).float(),torch.from_numpy(data_validation[i]['Y']).type(torch.FloatTensor).float()\n",
    "            A = torch.from_numpy(data_validation[i]['A']).float()\n",
    "            inputs = inputs.to(device)\n",
    "            labels = labels.to(device)\n",
    "            A = A.to(device)\n",
    "            loss, predictions = train(net,inputs,labels,A,optm,nb_net, criterion)\n",
    "            aux= torch.Tensor([0.5]).to(device)\n",
    "            y_hat = (predictions > aux).float() * 1\n",
    "            is_equal = torch.where(y_hat == labels,1,0)\n",
    "            vloss.append(loss.cpu().detach().numpy())\n",
    "            accuracy_value.append(is_equal.cpu().sum().detach().numpy()/\n",
    "                           len(labels))\n",
    "            accuracy_instance.append(int(accuracy_value[-1]==1))\n",
    "\n",
    "            #accuracy proportion\n",
    "            nb_correct_fixe = 0\n",
    "            predictions_abs = np.abs(predictions.cpu().detach().numpy())\n",
    "            nb_var_fixe = int(proportion * len(predictions_abs))\n",
    "            thresholds = np.sort(predictions_abs)[nb_var_fixe-1]\n",
    "            #accuracy for differents labels(0 or 1)\n",
    "            nb_correct_one = 0\n",
    "            nb_correct_zero = 0\n",
    "            for j,v in enumerate(is_equal):\n",
    "                if labels[j] == 1:\n",
    "                    nb_correct_one += v\n",
    "                else:\n",
    "                    nb_correct_zero += v\n",
    "\n",
    "                if predictions_abs[j] <= thresholds:\n",
    "                    nb_correct_fixe += v\n",
    "            nb_one_total = torch.sum(torch.where(labels == 1,1,0)).cpu()\n",
    "            accuracy_one.append((nb_correct_one/nb_one_total).cpu())\n",
    "            accuracy_zero.append((nb_correct_zero/(len(predictions_abs) - nb_one_total)).cpu())\n",
    "            accuracy_fixe.append(nb_correct_fixe.cpu()/nb_var_fixe)\n",
    "        #     print(nb_correct_fixe.cpu(),nb_var_fixe)\n",
    "        #         print(labels,\"\\n\",predictions)\n",
    "        #         print(labels[0:10],y_hat[0:10])\n",
    "        print(\"Loss = %f,Accuracy_value = %f,Accuracy_instance = %f,Accuracy_one = %f,Accuracy_zeros = %f,,Accuracy_fixe = %f\"\\\n",
    "              %(np.mean(vloss),np.mean(accuracy_value),np.sum(accuracy_instance)/len(accuracy_instance),np.mean(accuracy_one),np.mean(accuracy_zero),np.mean(accuracy_fixe)))\n",
    "\n",
    "    #train\n",
    "    for i in range(len(data_train)):\n",
    "        valid_inputs, valid_labels = torch.from_numpy(data_train[i]['X']).float(),torch.from_numpy(data_train[i]['Y']).type(torch.FloatTensor).float()\n",
    "        A = torch.from_numpy(data_train[i]['A']).float()\n",
    "        valid_inputs = valid_inputs.to(device)\n",
    "        valid_labels = valid_labels.to(device)\n",
    "        A = A.to(device)\n",
    "        loss, predictions = train(net,valid_inputs,valid_labels,A,optm,nb_net, criterion)"
   ]
  },
  {
   "cell_type": "code",
   "execution_count": 43,
   "id": "cordless-terminal",
   "metadata": {},
   "outputs": [],
   "source": [
    "path = \"var100H50\"\n",
    "torch.save(net.state_dict(),path)"
   ]
  },
  {
   "cell_type": "code",
   "execution_count": 44,
   "id": "interracial-belize",
   "metadata": {},
   "outputs": [
    {
     "data": {
      "text/plain": [
       "Net(\n",
       "  (layer): Sequential(\n",
       "    (0): Linear(in_features=50, out_features=50, bias=True)\n",
       "    (1): ReLU()\n",
       "    (2): Linear(in_features=50, out_features=50, bias=True)\n",
       "  )\n",
       "  (mlp): MLP(\n",
       "    (linear): Linear(in_features=24, out_features=50, bias=True)\n",
       "    (activate): ReLU()\n",
       "  )\n",
       "  (outlayer): Sequential(\n",
       "    (0): Linear(in_features=50, out_features=50, bias=True)\n",
       "    (1): ReLU()\n",
       "    (2): Linear(in_features=50, out_features=1, bias=True)\n",
       "    (3): Sigmoid()\n",
       "  )\n",
       ")"
      ]
     },
     "execution_count": 44,
     "metadata": {},
     "output_type": "execute_result"
    }
   ],
   "source": [
    "model = Net(24,50,1).to(device)\n",
    "model.load_state_dict(torch.load(path))\n",
    "model.eval()"
   ]
  },
  {
   "cell_type": "code",
   "execution_count": 48,
   "id": "resistant-anniversary",
   "metadata": {},
   "outputs": [
    {
     "name": "stdout",
     "output_type": "stream",
     "text": [
      "Loss = 0.037494,Accuracy_value = 0.990716,Accuracy_instance = 0.770370,Accuracy_one = 0.952979,Accuracy_zeros = 0.994256,Accuracy_fixe = 0.999290，1.000000\n",
      "[tensor(1.), tensor(1.), tensor(1.), tensor(1.), tensor(1.), tensor(1.), tensor(1.), tensor(1.), tensor(1.), tensor(1.), tensor(1.), tensor(1.), tensor(1.), tensor(1.), tensor(1.), tensor(1.), tensor(1.), tensor(1.), tensor(1.), tensor(1.), tensor(1.), tensor(1.), tensor(1.), tensor(1.), tensor(1.), tensor(1.), tensor(0.9833), tensor(1.), tensor(1.), tensor(1.), tensor(1.), tensor(1.), tensor(1.), tensor(1.), tensor(1.), tensor(1.), tensor(1.), tensor(1.), tensor(1.), tensor(1.), tensor(1.), tensor(1.), tensor(1.), tensor(1.), tensor(1.), tensor(1.), tensor(1.), tensor(1.), tensor(1.), tensor(1.), tensor(1.), tensor(1.), tensor(1.), tensor(1.), tensor(1.), tensor(1.), tensor(1.), tensor(1.), tensor(1.), tensor(1.), tensor(1.), tensor(1.), tensor(1.), tensor(1.), tensor(1.), tensor(1.), tensor(1.), tensor(1.), tensor(1.), tensor(1.), tensor(1.), tensor(1.), tensor(1.), tensor(1.), tensor(1.), tensor(1.), tensor(1.), tensor(0.9875), tensor(1.), tensor(1.), tensor(1.), tensor(1.), tensor(1.), tensor(1.), tensor(1.), tensor(1.), tensor(0.9875), tensor(1.), tensor(1.), tensor(1.), tensor(1.), tensor(1.), tensor(1.), tensor(1.), tensor(1.), tensor(1.), tensor(1.), tensor(1.), tensor(1.), tensor(1.), tensor(0.9875), tensor(1.), tensor(1.), tensor(1.), tensor(1.), tensor(1.), tensor(1.), tensor(1.), tensor(1.), tensor(1.), tensor(1.), tensor(1.), tensor(1.), tensor(1.), tensor(1.), tensor(0.9875), tensor(1.), tensor(0.9833), tensor(1.), tensor(1.), tensor(1.), tensor(1.), tensor(1.), tensor(1.), tensor(1.), tensor(1.), tensor(1.), tensor(1.), tensor(0.9875), tensor(1.), tensor(1.), tensor(1.), tensor(1.), tensor(1.), tensor(1.)]\n"
     ]
    }
   ],
   "source": [
    "# i = 0\n",
    "import matplotlib as plot\n",
    "\n",
    "vloss = []\n",
    "accuracy_value = []\n",
    "accuracy_instance = []\n",
    "accuracy_one = []\n",
    "accuracy_zero = []\n",
    "accuracy_fixe = []\n",
    "proportion = 0.8\n",
    "data_size = len(data_validation)\n",
    "for i in range(data_size):\n",
    "    inputs, labels = torch.from_numpy(data_validation[i]['X']).float(),torch.from_numpy(data_validation[i]['Y']).type(torch.FloatTensor).float()\n",
    "    A = torch.from_numpy(data_validation[i]['A']).float()\n",
    "    inputs = inputs.to(device)\n",
    "    labels = labels.to(device)\n",
    "    A = A.to(device)\n",
    "    loss, predictions = train(net,inputs,labels,A,optm,nb_net, criterion)\n",
    "    aux= torch.Tensor([0.5]).to(device)\n",
    "    y_hat = (predictions > aux).float() * 1\n",
    "    is_equal = torch.where(y_hat == labels,1,0)\n",
    "    vloss.append(loss.cpu().detach().numpy())\n",
    "    accuracy_value.append(is_equal.cpu().sum().detach().numpy()/\n",
    "                   len(labels))\n",
    "    accuracy_instance.append(int(accuracy_value[-1]==1))\n",
    "    \n",
    "    #accuracy proportion\n",
    "    nb_correct_fixe = 0\n",
    "    predictions_abs = np.abs(predictions.cpu().detach().numpy())\n",
    "    nb_var_fixe = int(proportion * len(predictions_abs))\n",
    "    thresholds = np.sort(predictions_abs)[nb_var_fixe-1]\n",
    "    #accuracy for differents labels(0 or 1)\n",
    "    nb_correct_one = 0\n",
    "    nb_correct_zero = 0\n",
    "    for j,v in enumerate(is_equal):\n",
    "        if labels[j] == 1:\n",
    "            nb_correct_one += v\n",
    "        else:\n",
    "            nb_correct_zero += v\n",
    "            \n",
    "        if predictions_abs[j] <= thresholds:\n",
    "            nb_correct_fixe += v\n",
    "    \n",
    "    accuracy_one.append((nb_correct_one/torch.sum(torch.where(labels == 1,1,0))).cpu())\n",
    "    accuracy_zero.append((nb_correct_zero/torch.sum(torch.where(labels == 0,1,0))).cpu())\n",
    "    accuracy_fixe.append(nb_correct_fixe.cpu()/nb_var_fixe)\n",
    "#     print(nb_correct_fixe.cpu(),nb_var_fixe)\n",
    "#         print(labels,\"\\n\",predictions)\n",
    "#         print(labels[0:10],y_hat[0:10])\n",
    "print(\"Loss = %f,Accuracy_value = %f,Accuracy_instance = %f,Accuracy_one = %f,Accuracy_zeros = %f,Accuracy_fixe = %f，%f\"\\\n",
    "      %(np.mean(vloss),np.mean(accuracy_value),np.sum(accuracy_instance)/len(accuracy_instance),np.mean(accuracy_one),np.mean(accuracy_zero),np.mean(accuracy_fixe),len(np.where(accuracy_fixe !=1))))\n"
   ]
  },
  {
   "cell_type": "code",
   "execution_count": 59,
   "id": "b1a54efd",
   "metadata": {},
   "outputs": [
    {
     "name": "stdout",
     "output_type": "stream",
     "text": [
      "[1.7798764e-26 7.0414002e-26 9.3615640e-26 1.5383472e-25 2.9148743e-25\n",
      " 6.6009992e-25 8.7946158e-25 2.0242735e-24 2.3931243e-24 4.1087528e-24\n",
      " 4.3704590e-24 9.7689442e-24 2.2532679e-23 3.1996328e-23 6.5626664e-23\n",
      " 1.8506693e-22 2.0564512e-22 3.2699559e-22 4.9316085e-22 1.4182115e-21\n",
      " 2.0394451e-21 2.8631397e-21 7.3625012e-21 1.0094449e-20 1.2350158e-20\n",
      " 1.3149133e-20 1.3359717e-20 2.8441562e-20 3.1921036e-20 6.5421301e-20\n",
      " 1.2122752e-19 1.4594244e-19 1.7358353e-19 3.0347592e-19 3.5023796e-19\n",
      " 1.3362839e-18 2.0315980e-18 2.4861577e-18 4.9239489e-18 5.7315250e-18\n",
      " 9.4311039e-18 1.0555207e-17 1.0760434e-17 7.3737030e-17 8.6064384e-17\n",
      " 2.2354335e-16 3.4360056e-16 1.2033211e-15 1.4897341e-15 1.6745827e-15\n",
      " 2.6811456e-15 3.4930603e-15 4.6040467e-15 5.3543324e-15 1.1496419e-14\n",
      " 1.3527761e-14 2.7772943e-14 4.0452196e-14 4.0874503e-14 4.2679693e-14\n",
      " 1.1927129e-13 1.2803387e-13 2.4768870e-13 3.0216343e-13 3.6925085e-13\n",
      " 6.3391948e-12 1.0998490e-11 1.5111263e-11 4.0309381e-11 4.4360793e-11\n",
      " 8.7872001e-11 1.8023183e-10 3.0000921e-10 5.3900762e-10 7.5495993e-10\n",
      " 1.3592611e-09 2.9815823e-09 3.8231679e-08 5.4063591e-08 1.4165980e-07\n",
      " 3.5906551e-06 5.5561472e-05 7.7059936e-05 3.4066275e-04 4.5320211e-04\n",
      " 5.4400478e-04 1.0598414e-03 1.9510819e-03 2.0304371e-03 9.8586011e-01\n",
      " 9.8842466e-01 9.9037701e-01 9.9423379e-01 9.9466693e-01 9.9528956e-01\n",
      " 9.9648947e-01 9.9681491e-01 9.9817419e-01 9.9877793e-01 9.9879324e-01]\n"
     ]
    },
    {
     "data": {
      "image/png": "[encoded data removed]",
      "text/plain": [
       "<Figure size 432x288 with 1 Axes>"
      ]
     },
     "metadata": {
      "needs_background": "light"
     },
     "output_type": "display_data"
    }
   ],
   "source": [
    "aux = predictions.cpu().detach().numpy()\n",
    "fig, ax = plt.subplots()\n",
    "print(np.sort(aux))\n",
    "ax.plot(range(100), np.sort(aux), linewidth=2.0)\n",
    "plt.show()"
   ]
  },
  {
   "cell_type": "code",
   "execution_count": 50,
   "id": "8e55cfdd",
   "metadata": {},
   "outputs": [
    {
     "name": "stdout",
     "output_type": "stream",
     "text": [
      "tensor([3.5778e-07, 9.6174e-01, 4.0244e-03, 3.2602e-06, 1.0686e-05, 1.0525e-07,\n",
      "        1.3008e-02, 9.4480e-01, 6.9885e-08, 1.4092e-08, 7.8429e-09, 4.8796e-03,\n",
      "        8.1541e-08, 2.3813e-10, 3.6911e-06, 9.3336e-01, 1.8995e-08, 1.7730e-02,\n",
      "        8.9215e-08, 8.1155e-11, 3.5725e-07, 4.4088e-09, 4.3797e-07, 5.0867e-07,\n",
      "        1.1634e-08, 9.6774e-01, 1.3338e-10, 5.0136e-05, 5.9565e-08, 9.7451e-01,\n",
      "        1.9345e-07, 1.7947e-04, 5.0948e-09, 6.7948e-06, 1.4866e-07, 2.3000e-06,\n",
      "        5.9756e-08, 1.4319e-07, 6.8098e-07, 6.6191e-09, 1.2537e-04, 1.4203e-03,\n",
      "        8.0534e-04, 5.1073e-05, 4.5276e-05, 2.2240e-06, 2.0379e-04, 3.7403e-02,\n",
      "        9.3997e-01, 9.8739e-04, 3.0799e-06, 1.0677e-02, 1.7341e-04, 3.1508e-07,\n",
      "        9.5547e-01, 2.0485e-03, 5.5784e-06, 2.5257e-02, 1.5110e-07, 9.6947e-10,\n",
      "        4.5361e-10, 1.3881e-02, 8.2127e-03, 8.6181e-04, 7.8021e-06, 5.6190e-04,\n",
      "        6.3739e-02, 9.7986e-01, 7.5177e-06, 3.3613e-06, 4.0292e-07, 2.5270e-03,\n",
      "        9.6540e-08, 1.8202e-07, 7.4319e-07, 1.4010e-06, 8.7059e-07, 9.4646e-01,\n",
      "        7.7514e-03, 1.9226e-08, 3.9432e-04, 6.6099e-06, 1.3459e-04, 1.8325e-05,\n",
      "        2.2136e-05, 1.4710e-07, 8.0429e-05, 3.7902e-04, 9.3500e-10, 4.0183e-06,\n",
      "        4.1620e-08, 1.5674e-02, 7.2973e-05, 1.8324e-07, 2.0924e-04, 3.4613e-08,\n",
      "        2.8536e-04, 8.0114e-09, 2.0567e-07, 3.4188e-03, 6.6396e-09, 2.8331e-08,\n",
      "        2.6582e-07, 5.1646e-03, 2.2020e-02, 3.5206e-05, 2.2932e-04, 1.9448e-09,\n",
      "        1.4823e-07, 6.7674e-09, 9.1602e-01, 8.7975e-09, 1.5232e-06, 2.4700e-05,\n",
      "        2.0987e-02, 3.5457e-08, 1.9124e-07, 2.6320e-05, 2.2948e-07, 5.0843e-06,\n",
      "        5.7246e-07, 4.8823e-02, 2.4133e-03, 8.6883e-01, 2.9098e-07, 2.3708e-03,\n",
      "        9.7581e-01, 1.0019e-07, 3.8366e-08, 6.3279e-05, 2.1509e-07, 2.9086e-06,\n",
      "        3.8711e-06, 7.5417e-06, 1.4164e-04, 1.4498e-08, 4.6647e-03, 1.0839e-07,\n",
      "        9.4743e-01, 1.2220e-04, 6.2877e-04, 6.8567e-05, 2.8710e-09, 5.2705e-07,\n",
      "        3.4251e-04, 5.4706e-08, 3.5338e-05, 1.1216e-04, 1.5018e-08, 1.2285e-09],\n",
      "       device='cuda:0', grad_fn=<SqueezeBackward1>)\n",
      "tensor([1, 1, 1, 1, 1, 1, 1, 1, 1, 1, 1, 1, 1, 1, 1, 1, 1, 1, 1, 1, 1, 1, 1, 1,\n",
      "        1, 1, 1, 1, 1, 1, 1, 1, 1, 1, 1, 1, 1, 1, 1, 1, 1, 1, 1, 1, 1, 1, 1, 1,\n",
      "        1, 1, 1, 1, 1, 1, 1, 1, 1, 1, 1, 1, 1, 1, 1, 1, 1, 1, 1, 1, 1, 1, 1, 1,\n",
      "        1, 1, 1, 1, 1, 1, 1, 1, 1, 1, 1, 1, 1, 1, 1, 1, 1, 1, 1, 1, 1, 1, 1, 1,\n",
      "        1, 1, 1, 1, 1, 1, 1, 1, 1, 1, 1, 1, 1, 1, 1, 1, 1, 1, 1, 1, 1, 1, 1, 1,\n",
      "        1, 1, 1, 1, 1, 1, 1, 1, 1, 1, 1, 1, 1, 1, 1, 1, 1, 1, 1, 1, 1, 1, 1, 1,\n",
      "        1, 1, 1, 1, 1, 1], device='cuda:0')\n"
     ]
    }
   ],
   "source": [
    "print(predictions)\n",
    "print(is_equal)"
   ]
  },
  {
   "cell_type": "code",
   "execution_count": 23,
   "id": "0444d1fc",
   "metadata": {},
   "outputs": [
    {
     "data": {
      "image/png": "[encoded data removed]",
      "text/plain": [
       "<Figure size 432x288 with 1 Axes>"
      ]
     },
     "metadata": {
      "needs_background": "light"
     },
     "output_type": "display_data"
    }
   ],
   "source": [
    "p = np.sort(np.abs(predictions.cpu().detach().numpy()))\n",
    "fig, ax = plt.subplots()\n",
    "ax.plot(range(150), p, linewidth=2.0)\n",
    "plt.show()"
   ]
  },
  {
   "cell_type": "code",
   "execution_count": 22,
   "id": "c7277eba",
   "metadata": {},
   "outputs": [
    {
     "data": {
      "text/plain": [
       "array([2.29073576e-05, 2.93063367e-05, 3.03375982e-05, 3.11598924e-05,\n",
       "       3.23385830e-05, 3.27126836e-05, 3.30558541e-05, 3.31437950e-05,\n",
       "       3.58737852e-05, 3.75816453e-05, 3.82391772e-05, 3.83544357e-05,\n",
       "       3.90589594e-05, 3.93755399e-05, 3.99274541e-05, 4.02713849e-05,\n",
       "       4.06531108e-05, 4.10377579e-05, 4.11684814e-05, 4.15976901e-05,\n",
       "       4.20327779e-05, 4.24290592e-05, 4.29528918e-05, 4.32200068e-05,\n",
       "       4.34262038e-05, 4.35298607e-05, 4.41331395e-05, 4.46975646e-05,\n",
       "       4.51299420e-05, 4.62914104e-05, 4.72585198e-05, 4.77069370e-05,\n",
       "       4.79975715e-05, 4.81159441e-05, 4.91310129e-05, 4.98621957e-05,\n",
       "       5.03013871e-05, 5.14680250e-05, 5.17566914e-05, 5.25878932e-05,\n",
       "       5.26455406e-05, 5.28642850e-05, 5.40116525e-05, 5.41505324e-05,\n",
       "       5.42638008e-05, 5.42659727e-05, 5.51028825e-05, 5.57315980e-05,\n",
       "       5.68554569e-05, 5.75074591e-05, 5.76187267e-05, 5.77463979e-05,\n",
       "       5.83146757e-05, 5.94194098e-05, 6.06602516e-05, 6.08320697e-05,\n",
       "       6.12098447e-05, 6.17207188e-05, 6.20121064e-05, 6.21067957e-05,\n",
       "       6.21145009e-05, 6.28708513e-05, 6.36190671e-05, 6.36848636e-05,\n",
       "       6.48856949e-05, 6.49248177e-05, 6.78965880e-05, 6.81036327e-05,\n",
       "       6.85884734e-05, 6.89457374e-05, 6.89865774e-05, 6.93614566e-05,\n",
       "       6.97357100e-05, 6.99600423e-05, 7.01929312e-05, 7.15895512e-05,\n",
       "       7.18522497e-05, 7.30477332e-05, 7.31269029e-05, 7.33316556e-05,\n",
       "       7.36748261e-05, 7.38520830e-05, 7.41327749e-05, 7.56485970e-05,\n",
       "       7.61394258e-05, 7.72163912e-05, 7.74613218e-05, 7.77658861e-05,\n",
       "       7.99704721e-05, 8.14169325e-05, 8.14547529e-05, 8.21339563e-05,\n",
       "       8.22903676e-05, 8.32136284e-05, 8.45444083e-05, 8.46003750e-05,\n",
       "       8.49722928e-05, 8.54289829e-05, 8.57704363e-05, 8.60163200e-05,\n",
       "       8.66045448e-05, 8.67239651e-05, 8.72146775e-05, 8.95075354e-05,\n",
       "       9.04543704e-05, 9.08039437e-05, 9.09545706e-05, 9.13778567e-05,\n",
       "       9.29690796e-05, 9.31891045e-05, 9.35767312e-05, 9.51828188e-05,\n",
       "       9.56431977e-05, 9.57910597e-05, 9.64095379e-05, 9.65929357e-05,\n",
       "       9.67918240e-05, 9.69449757e-05, 9.76111041e-05, 9.77134478e-05,\n",
       "       9.95388618e-05, 1.01423422e-04, 1.02143109e-04, 1.02286300e-04,\n",
       "       1.06818785e-04, 1.19389479e-04, 1.37290743e-04, 1.44410282e-04,\n",
       "       1.45750513e-04, 2.33646540e-04, 1.15237013e-03, 2.10122229e-03,\n",
       "       2.82454188e-03, 3.99935478e-03, 4.07224288e-03, 9.03209392e-03,\n",
       "       3.07192560e-02, 3.08646131e-02, 3.23657468e-02, 4.46317010e-02,\n",
       "       9.16117728e-01, 9.83297944e-01, 9.86057043e-01, 9.86460328e-01,\n",
       "       9.86556172e-01, 9.87919211e-01, 9.89974797e-01, 9.90411699e-01,\n",
       "       9.92237151e-01, 9.94190991e-01], dtype=float32)"
      ]
     },
     "execution_count": 22,
     "metadata": {},
     "output_type": "execute_result"
    }
   ],
   "source": []
  },
  {
   "cell_type": "code",
   "execution_count": null,
   "id": "590c93d7",
   "metadata": {},
   "outputs": [],
   "source": []
  }
 ],
 "metadata": {
  "kernelspec": {
   "display_name": "Python 3 (ipykernel)",
   "language": "python",
   "name": "python3"
  },
  "language_info": {
   "codemirror_mode": {
    "name": "ipython",
    "version": 3
   },
   "file_extension": ".py",
   "mimetype": "text/x-python",
   "name": "python",
   "nbconvert_exporter": "python",
   "pygments_lexer": "ipython3",
   "version": "3.9.12"
  }
 },
 "nbformat": 4,
 "nbformat_minor": 5
}
