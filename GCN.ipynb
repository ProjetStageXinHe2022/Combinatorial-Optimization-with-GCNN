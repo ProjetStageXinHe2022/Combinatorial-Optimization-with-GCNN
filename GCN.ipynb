{
 "cells": [
  {
   "cell_type": "code",
   "execution_count": 1,
   "id": "24ce6631",
   "metadata": {},
   "outputs": [],
   "source": [
    "import os\n",
    "import numpy as np\n",
    "from tqdm import tqdm\n",
    "import matplotlib.pyplot as plt\n",
    "\n",
    "import torch\n",
    "import torch.nn as nn\n",
    "import torch.nn.functional as F\n",
    "from torch.optim import Adam\n",
    "from torch.utils.data import DataLoader\n",
    "from torch.nn import init\n",
    "from tabulate import tabulate\n",
    "import csv\n",
    "from focal_Loss import *\n",
    "from utility import *\n",
    "from torch.utils.tensorboard import SummaryWriter  \n"
   ]
  },
  {
   "cell_type": "markdown",
   "id": "2900ec36",
   "metadata": {},
   "source": [
    "# Read dataset"
   ]
  },
  {
   "cell_type": "code",
   "execution_count": 2,
   "id": "ec9032d6",
   "metadata": {},
   "outputs": [
    {
     "name": "stderr",
     "output_type": "stream",
     "text": [
      "100%|████████████████████████████████████████████████████████████████████████████████| 300/300 [01:37<00:00,  3.07it/s]\n"
     ]
    },
    {
     "name": "stdout",
     "output_type": "stream",
     "text": [
      "cuda\n"
     ]
    }
   ],
   "source": [
    "data_name = \"SC1000\"\n",
    "# data_name = \"CFL30\"\n",
    "\n",
    "data_path = \"DataSet\"+data_name+\"/\"\n",
    "split = [0.70,0.15,0.15]\n",
    "\n",
    "dataSet = load_data(data_path)\n",
    "\n",
    "data_train,data_validation,data_test = torch.utils.data.random_split(dataSet,[int(len(dataSet) * s) for s in split])\n",
    "# print(dataSet[0]['A'])\n",
    "# for l in dataSet[0]['A']:\n",
    "#     for i in l:\n",
    "#         print(int(i!=0),end = '\\t')\n",
    "#     print()\n",
    "\n",
    "# data_train_X,data_train_Y,data_validation_X,data_validation_Y,data_test_X,data_test_Y,A = load_data()\n",
    "# print(data_train_X.shape)\n",
    "# print(data_train_Y.shape)\n",
    "# print(A.shape)\n",
    "def setup_seed(seed):\n",
    "    torch.manual_seed(seed)\n",
    "    torch.cuda.manual_seed_all(seed)\n",
    "    np.random.seed(seed)\n",
    "    torch.backends.cudnn.deterministic = True\n",
    "\n",
    "device = torch.device(\"cuda\" if torch.cuda.is_available() else \"cpu\")\n",
    "os.environ[\"CUDA_VISIBLE_DEVICES\"] = \"0\"\n",
    "print(device)\n",
    "if device == torch.device(\"cuda\"):\n",
    "#     torch.cuda.empty_cache()\n",
    "    data_train_gpu = []\n",
    "    for i in range(len(data_train)):\n",
    "        inputs, labels = torch.from_numpy(data_train[i]['X']).float(),torch.from_numpy(data_train[i]['Y']).type(torch.FloatTensor).float()\n",
    "        A = torch.from_numpy(data_train[i]['A']).float()\n",
    "        inputs = inputs.to(device)\n",
    "        labels = labels.to(device)\n",
    "        A = A.to(device)\n",
    "        data_train_gpu.append([inputs,labels,A])\n",
    "    data_valide_gpu = []\n",
    "    for i in range(len(data_validation)):\n",
    "        inputs, labels = torch.from_numpy(data_validation[i]['X']).float(),torch.from_numpy(data_validation[i]['Y']).type(torch.FloatTensor).float()\n",
    "        A = torch.from_numpy(data_validation[i]['A']).float()\n",
    "        inputs = inputs.to(device)\n",
    "        labels = labels.to(device)\n",
    "        A = A.to(device)\n",
    "        data_valide_gpu.append([inputs,labels,A])\n",
    "        \n",
    "    data_test_gpu = []\n",
    "    for i in range(len(data_test)):\n",
    "        inputs, labels = torch.from_numpy(data_test[i]['X']).float(),torch.from_numpy(data_test[i]['Y']).type(torch.FloatTensor).float()\n",
    "        A = torch.from_numpy(data_test[i]['A']).float()\n",
    "        inputs = inputs.to(device)\n",
    "        labels = labels.to(device)\n",
    "        A = A.to(device)\n",
    "        data_test_gpu.append([inputs,labels,A])"
   ]
  },
  {
   "cell_type": "code",
   "execution_count": 3,
   "id": "175932ab",
   "metadata": {},
   "outputs": [],
   "source": [
    "def valide(model,criterion,data_validation,proportion = 0.7):\n",
    "        vloss = []\n",
    "        accuracy_value = []\n",
    "        accuracy_instance = []\n",
    "        \n",
    "        accuracy_one = []\n",
    "        accuracy_one_predict = []\n",
    "        nb_predict_one = []\n",
    "        nb_one = []\n",
    "        \n",
    "        accuracy_zero = []\n",
    "        accuracy_zero_predict = []\n",
    "        nb_zero = []\n",
    "        nb_predict_zero = []\n",
    "        \n",
    "        accuracy_fixe_one = []\n",
    "        accuracy_fixe_zero = []  \n",
    "        accuracy_fixe = []\n",
    "        \n",
    "        data_size = len(data_validation)\n",
    "        for i in range(data_size):\n",
    "            if device == torch.device(\"cuda\"):\n",
    "                inputs, labels = data_validation[i][0],data_validation[i][1]#torch.from_numpy(data_train[i]['X']).float(),torch.from_numpy(data_train[i]['Y']).type(torch.FloatTensor).float()\n",
    "                A =data_validation[i][2]# torch.from_numpy(data_train[i]['A']).float()\n",
    "            else:\n",
    "                inputs, labels =torch.from_numpy(data_train[i]['X']).float(),torch.from_numpy(data_train[i]['Y']).type(torch.FloatTensor).float()\n",
    "                A =torch.from_numpy(data_train[i]['A']).float()\n",
    "            predictions = model(inputs,A)[:len(labels)].squeeze(dim=-1)\n",
    "            loss =criterion(predictions,labels)\n",
    "            A = A.cpu()\n",
    "            labels = labels.cpu()\n",
    "            predictions = predictions.cpu()\n",
    "            \n",
    "            nb_one_total = torch.sum(torch.where(labels == 1,1,0))\n",
    "            nb_zero_total = (len(labels) - nb_one_total)\n",
    "            aux= torch.Tensor([0.5])\n",
    "            y_hat = (predictions > aux).float() * 1\n",
    "            is_equal = torch.where(y_hat == labels,1,0)\n",
    "            vloss.append(loss.cpu().detach().numpy())\n",
    "            accuracy_value.append(is_equal.cpu().sum().detach().numpy()/\n",
    "                           len(labels))\n",
    "            accuracy_instance.append(int(accuracy_value[-1]==1))\n",
    "            #accuracy proportion\n",
    "            predictions_abs =  np.abs(0.5 - predictions.detach().numpy())\n",
    "            thresholds = abs(np.sort(-predictions_abs))[int(proportion * len(predictions.cpu().detach().numpy()))- 1]\n",
    "#             thresholds_low = np.sort(predictions_abs)[int(proportion_low * nb_zero_total]\n",
    "#             thresholds_up = abs(np.sort(-predictions_abs))[int(proportion_up * nb_one_total)]\n",
    "            \n",
    "            #accuracy for differents labels(0 or 1)\n",
    "            nb_one_fixe = 0\n",
    "            nb_zero_fixe = 0\n",
    "            nb_correct_one = 0\n",
    "            nb_correct_zero = 0\n",
    "            nb_correct_fixe_one = 0\n",
    "            nb_correct_fixe_zero = 0\n",
    "            nb_correct_fixe = 0\n",
    "            nb_fixe = 0 \n",
    "            for j,v in enumerate(is_equal):\n",
    "                if labels[j] == 1:\n",
    "                    nb_correct_one += v\n",
    "                else:\n",
    "                    nb_correct_zero += v\n",
    "\n",
    "                if predictions_abs[j] >= thresholds:             \n",
    "                    if labels[j]:\n",
    "                        nb_correct_fixe_one += v\n",
    "                    else:\n",
    "                        nb_correct_fixe_zero += v\n",
    "                        \n",
    "                    if y_hat[j]:\n",
    "                        nb_one_fixe += 1\n",
    "                    else:\n",
    "                        nb_zero_fixe += 1\n",
    "\n",
    "#                 if predictions_abs[j] <= thresholds_low:\n",
    "#                     if labels[j] == 0:\n",
    "#                         nb_correct_fixe_zero += v\n",
    "#                     nb_zero_to_fixe += 1\n",
    "#                 if predictions_abs[j] >= thresholds_up:\n",
    "#                     if labels[j] == 1:\n",
    "#                         nb_correct_fixe_one += v\n",
    "#                     nb_one_to_fixe += 1\n",
    "                    \n",
    "            nb_one_total = torch.sum(torch.where(labels == 1,1,0))\n",
    "            nb_one_predict = torch.sum(torch.where(y_hat == 1,1,0))\n",
    "            accuracy_one.append((nb_correct_one/nb_one_total))\n",
    "            accuracy_one_predict.append((nb_correct_one/nb_one_predict) if nb_one_predict > 0 else 0)\n",
    "            nb_predict_one.append(nb_one_predict)\n",
    "            nb_one.append(nb_one_total)\n",
    "            \n",
    "            nb_zero_predict = (len(labels) - nb_one_predict)\n",
    "            accuracy_zero.append((nb_correct_zero/nb_zero_total))\n",
    "            accuracy_zero_predict.append((nb_correct_zero/nb_zero_predict) if nb_zero_predict > 0 else 0)\n",
    "            nb_predict_zero.append(nb_zero_predict)\n",
    "            nb_zero.append(nb_zero_total)\n",
    "            \n",
    "            accuracy_fixe.append((nb_correct_fixe_one+nb_correct_fixe_zero)/(nb_one_fixe+nb_zero_fixe))\n",
    "            accuracy_fixe_one.append(nb_correct_fixe_one/nb_one_fixe if nb_one_fixe>0 else 0)\n",
    "            accuracy_fixe_zero.append(nb_correct_fixe_zero/nb_zero_fixe if nb_zero_fixe>0 else 0)\n",
    "            \n",
    "        #     print(nb_correct_fixe.cpu(),nb_var_fixe)\n",
    "        #         print(labels,\"\\n\",predictions)\n",
    "        #         print(labels[0:10],y_hat[0:10])\n",
    "        msg = (\"Loss = %f,Accuracy_value = %f,Accuracy_instance = %f\\n\"\\\n",
    "              %(np.mean(vloss),np.mean(accuracy_value),np.sum(accuracy_instance)/len(accuracy_instance)))\n",
    "        msg +=(\"Label_One_Predict_One = %f,Predict_One_Label_One = %f,Nombre_Predict_One = %f,Nombre_One_Mean = %f\\n\"\\\n",
    "              %(np.mean(accuracy_one),np.mean(accuracy_one_predict),np.mean(nb_predict_one),np.mean(nb_one)))\n",
    "        msg +=(\"Label_Zero_Predict_Zero = %f,Label_Zero_Predict_Zero = %f,Nombre_Predict_Zero = %f,Nombre_Zero_Mean = %f\\n\"\\\n",
    "              %(np.mean(accuracy_zero),np.mean(accuracy_zero_predict),np.mean(nb_predict_zero),np.mean(nb_zero)))\n",
    "        msg +=(\"Accuracy_fixe_mean = %f,Accuracy_fixe_one = %f,Accuracy_fixe_zero = %f\\n\"\\\n",
    "              %(np.mean(accuracy_fixe),np.mean(accuracy_fixe_one),np.mean(accuracy_fixe_zero)))\n",
    "        print(msg)\n",
    "        return msg,np.mean(accuracy_value),np.sum(accuracy_instance)/len(accuracy_instance),np.mean(accuracy_fixe_one),np.mean(accuracy_fixe_zero)"
   ]
  },
  {
   "cell_type": "markdown",
   "id": "75ecad4a",
   "metadata": {},
   "source": [
    "# GCN"
   ]
  },
  {
   "cell_type": "code",
   "execution_count": 4,
   "id": "fe67f691",
   "metadata": {},
   "outputs": [],
   "source": [
    "class simpleMLP(nn.Module):\n",
    "    def __init__(self, input_size, out_size,activate = nn.ReLU()):\n",
    "        super(simpleMLP, self).__init__()\n",
    "        self.linear = nn.Linear(input_size, out_size)\n",
    "        self.activate = activate\n",
    "        \n",
    "    def forward(self, x):\n",
    "        x = self.linear(x)\n",
    "        x = self.activate(x)\n",
    "        return x\n",
    "    \n",
    "class GNN(nn.Module):\n",
    "    def __init__(self, input_size,hidden_size,nb_MLP,layerNorm = False):\n",
    "        super(GNN,self).__init__()\n",
    "        self.size_mlp = nb_MLP\n",
    "        self.mlp = nn.ModuleList(\n",
    "            [simpleMLP(input_size, hidden_size)]+[simpleMLP(hidden_size, hidden_size)]+[simpleMLP(hidden_size*2, hidden_size) for i in range(self.size_mlp - 2)]   \n",
    "        )\n",
    "        self.layerNorm = nn.ModuleList(\n",
    "            [nn.LayerNorm(hidden_size) for i in range(self.size_mlp)]\n",
    "        )\n",
    "    \n",
    "    def forward(self, x, A):\n",
    "        for i in range(self.size_mlp):\n",
    "            x = self.mlp[i](x)\n",
    "            y = A @ x\n",
    "            y = self.layerNorm[i](y)\n",
    "            if i != 0:\n",
    "                x = torch.cat([y,x],1)#sum plutot que con\n",
    "            else:\n",
    "                x = y\n",
    "        return x\n",
    "    \n",
    "class VariablePredictor(nn.Module):\n",
    "    def __init__(self, input_size,hidden_size,nb_MLP):\n",
    "        super(VariablePredictor,self).__init__()\n",
    "        self.GNN = GNN(input_size,hidden_size,nb_MLP)\n",
    "        self.outlayer = simpleMLP(hidden_size*2,1,nn.Sigmoid())    \n",
    "    \n",
    "    def forward(self,x,A):\n",
    "        x = self.GNN(x,A)\n",
    "        return self.outlayer(x)\n",
    "     "
   ]
  },
  {
   "cell_type": "markdown",
   "id": "d577d052",
   "metadata": {},
   "source": [
    "## Train\n"
   ]
  },
  {
   "cell_type": "code",
   "execution_count": 5,
   "id": "5df9752b",
   "metadata": {},
   "outputs": [],
   "source": [
    "def train(net,criterion,optm,data_valide,proportion,writer,batch_size = 1,EPOCHS=500,do_valide = True,do_log = True,epochs_continue = 0):\n",
    "    aux= torch.Tensor([0.5]).to(device)\n",
    "    for epoch in tqdm(range(epochs_continue,epochs_continue+EPOCHS)):\n",
    "        #validation\n",
    "        if do_valide and epoch % 50 == 0:\n",
    "            v = valide(net,criterion,data_valide,proportion)\n",
    "            if do_log:\n",
    "                writer.add_scalar('Accuracy_fixe_one ', v[3], epoch)\n",
    "                writer.add_scalar('Accuracy_fixe_zero ', v[4], epoch)\n",
    "        #train\n",
    "        data_size = len(data_train)\n",
    "        log = []\n",
    "        for i in range(data_size):\n",
    "            if device == torch.device(\"cuda\"):\n",
    "                train_inputs, train_labels = data_train_gpu[i][0],data_train_gpu[i][1]#torch.from_numpy(data_train[i]['X']).float(),torch.from_numpy(data_train[i]['Y']).type(torch.FloatTensor).float()\n",
    "                A =data_train_gpu[i][2]# torch.from_numpy(data_train[i]['A']).float()\n",
    "            else:\n",
    "                train_inputs, train_labels = torch.from_numpy(data_train[i]['X']).float(),torch.from_numpy(data_train[i]['Y']).type(torch.FloatTensor).float()\n",
    "                A = torch.from_numpy(data_train[i]['A']).float()    \n",
    "\n",
    "            predictions = net(train_inputs,A)[:len(train_labels)].squeeze(dim=-1)\n",
    "            loss =criterion(predictions,train_labels)\n",
    "            loss.backward()\n",
    "            if epoch % batch_size == 0:\n",
    "                optm.step()\n",
    "                optm.zero_grad()\n",
    "            writer.add_scalar('LearningRate',optm.param_groups[0]['lr'], epoch)\n",
    "            scheduler.step()\n",
    "            gradient_norm = 0\n",
    "            for p in net.parameters():\n",
    "                param_norm = p.grad.detach().data.norm(2)\n",
    "                gradient_norm += param_norm.item() ** 2\n",
    "            gradient_norm = gradient_norm ** 0.5\n",
    "\n",
    "            y_hat = (predictions > aux).float() * 1\n",
    "            is_equal = torch.where(y_hat == train_labels,1,0)\n",
    "            acc = is_equal.cpu().sum().detach().numpy()/len(train_labels)\n",
    "            log.append([loss.cpu().detach().numpy(),acc,gradient_norm])\n",
    "        \n",
    "        log = np.array(log).T\n",
    "        if do_log:\n",
    "            writer.add_scalar('Loss', np.mean(log[0]), epoch)\n",
    "            writer.add_scalar('Accuracy', np.mean(log[1]), epoch)\n",
    "            writer.add_scalar('Gradient_norm', np.mean(log[2]), epoch)\n"
   ]
  },
  {
   "cell_type": "code",
   "execution_count": 6,
   "id": "17cc4020",
   "metadata": {},
   "outputs": [
    {
     "name": "stdout",
     "output_type": "stream",
     "text": [
      "cuda\n"
     ]
    }
   ],
   "source": [
    "print(device)\n"
   ]
  },
  {
   "cell_type": "code",
   "execution_count": 17,
   "id": "76df8a3f",
   "metadata": {},
   "outputs": [
    {
     "name": "stderr",
     "output_type": "stream",
     "text": [
      "\r",
      "  0%|                                                                                         | 0/1000 [00:00<?, ?it/s]"
     ]
    },
    {
     "name": "stdout",
     "output_type": "stream",
     "text": [
      "Loss = 0.690703,Accuracy_value = 0.346762,Accuracy_instance = 0.000000\n",
      "Label_One_Predict_One = 0.594002,Predict_One_Label_One = 0.026991,Nombre_Predict_One = 806.366667,Nombre_One_Mean = 35.100000\n",
      "Label_Zero_Predict_Zero = 0.339031,Label_Zero_Predict_Zero = 0.964751,Nombre_Predict_Zero = 418.133333,Nombre_Zero_Mean = 1189.400000\n",
      "Accuracy_fixe_mean = 0.400582,Accuracy_fixe_one = 0.025992,Accuracy_fixe_zero = 0.969724\n",
      "\n"
     ]
    },
    {
     "name": "stderr",
     "output_type": "stream",
     "text": [
      "  1%|▋                                                                                | 9/1000 [00:13<25:18,  1.53s/it]\n"
     ]
    },
    {
     "ename": "KeyboardInterrupt",
     "evalue": "",
     "output_type": "error",
     "traceback": [
      "\u001b[1;31m---------------------------------------------------------------------------\u001b[0m",
      "\u001b[1;31mKeyboardInterrupt\u001b[0m                         Traceback (most recent call last)",
      "Input \u001b[1;32mIn [17]\u001b[0m, in \u001b[0;36m<cell line: 11>\u001b[1;34m()\u001b[0m\n\u001b[0;32m     24\u001b[0m optm \u001b[38;5;241m=\u001b[39m Adam(net\u001b[38;5;241m.\u001b[39mparameters(), lr \u001b[38;5;241m=\u001b[39m learning_rate)\n\u001b[0;32m     26\u001b[0m scheduler \u001b[38;5;241m=\u001b[39m torch\u001b[38;5;241m.\u001b[39moptim\u001b[38;5;241m.\u001b[39mlr_scheduler\u001b[38;5;241m.\u001b[39mExponentialLR(optm, gamma\u001b[38;5;241m=\u001b[39m\u001b[38;5;241m1\u001b[39m\u001b[38;5;241m-\u001b[39m\u001b[38;5;241m10e-6\u001b[39m)\n\u001b[1;32m---> 27\u001b[0m \u001b[43mtrain\u001b[49m\u001b[43m(\u001b[49m\u001b[43mnet\u001b[49m\u001b[43m,\u001b[49m\u001b[43mcriterion\u001b[49m\u001b[43m,\u001b[49m\u001b[43moptm\u001b[49m\u001b[43m,\u001b[49m\u001b[43mdata_valide_gpu\u001b[49m\u001b[43m,\u001b[49m\u001b[43mproportion\u001b[49m\u001b[43m,\u001b[49m\u001b[43mwriter\u001b[49m\u001b[43m,\u001b[49m\u001b[43mbatch_size\u001b[49m\u001b[43m \u001b[49m\u001b[38;5;241;43m=\u001b[39;49m\u001b[43m \u001b[49m\u001b[43mbatch_size\u001b[49m\u001b[43m,\u001b[49m\u001b[43mEPOCHS\u001b[49m\u001b[38;5;241;43m=\u001b[39;49m\u001b[43mEPOCHS\u001b[49m\u001b[43m,\u001b[49m\u001b[43mdo_valide\u001b[49m\u001b[43m \u001b[49m\u001b[38;5;241;43m=\u001b[39;49m\u001b[43m \u001b[49m\u001b[38;5;28;43;01mTrue\u001b[39;49;00m\u001b[43m,\u001b[49m\u001b[43mdo_log\u001b[49m\u001b[43m \u001b[49m\u001b[38;5;241;43m=\u001b[39;49m\u001b[43m \u001b[49m\u001b[38;5;28;43;01mTrue\u001b[39;49;00m\u001b[43m)\u001b[49m\n\u001b[0;32m     28\u001b[0m model_path \u001b[38;5;241m=\u001b[39m \u001b[38;5;124m\"\u001b[39m\u001b[38;5;124mmodel/\u001b[39m\u001b[38;5;124m\"\u001b[39m\u001b[38;5;241m+\u001b[39mtrain_name\n\u001b[0;32m     29\u001b[0m torch\u001b[38;5;241m.\u001b[39msave(net\u001b[38;5;241m.\u001b[39mstate_dict(),model_path)\n",
      "Input \u001b[1;32mIn [16]\u001b[0m, in \u001b[0;36mtrain\u001b[1;34m(net, criterion, optm, data_valide, proportion, writer, batch_size, EPOCHS, do_valide, do_log, epochs_continue)\u001b[0m\n\u001b[0;32m     21\u001b[0m predictions \u001b[38;5;241m=\u001b[39m net(train_inputs,A)[:\u001b[38;5;28mlen\u001b[39m(train_labels)]\u001b[38;5;241m.\u001b[39msqueeze(dim\u001b[38;5;241m=\u001b[39m\u001b[38;5;241m-\u001b[39m\u001b[38;5;241m1\u001b[39m)\n\u001b[0;32m     22\u001b[0m loss \u001b[38;5;241m=\u001b[39mcriterion(predictions,train_labels)\n\u001b[1;32m---> 23\u001b[0m \u001b[43mloss\u001b[49m\u001b[38;5;241;43m.\u001b[39;49m\u001b[43mbackward\u001b[49m\u001b[43m(\u001b[49m\u001b[43m)\u001b[49m\n\u001b[0;32m     24\u001b[0m \u001b[38;5;28;01mif\u001b[39;00m epoch \u001b[38;5;241m%\u001b[39m batch_size \u001b[38;5;241m==\u001b[39m \u001b[38;5;241m0\u001b[39m:\n\u001b[0;32m     25\u001b[0m     optm\u001b[38;5;241m.\u001b[39mstep()\n",
      "File \u001b[1;32m~\\anaconda3\\lib\\site-packages\\torch\\_tensor.py:363\u001b[0m, in \u001b[0;36mTensor.backward\u001b[1;34m(self, gradient, retain_graph, create_graph, inputs)\u001b[0m\n\u001b[0;32m    354\u001b[0m \u001b[38;5;28;01mif\u001b[39;00m has_torch_function_unary(\u001b[38;5;28mself\u001b[39m):\n\u001b[0;32m    355\u001b[0m     \u001b[38;5;28;01mreturn\u001b[39;00m handle_torch_function(\n\u001b[0;32m    356\u001b[0m         Tensor\u001b[38;5;241m.\u001b[39mbackward,\n\u001b[0;32m    357\u001b[0m         (\u001b[38;5;28mself\u001b[39m,),\n\u001b[1;32m   (...)\u001b[0m\n\u001b[0;32m    361\u001b[0m         create_graph\u001b[38;5;241m=\u001b[39mcreate_graph,\n\u001b[0;32m    362\u001b[0m         inputs\u001b[38;5;241m=\u001b[39minputs)\n\u001b[1;32m--> 363\u001b[0m \u001b[43mtorch\u001b[49m\u001b[38;5;241;43m.\u001b[39;49m\u001b[43mautograd\u001b[49m\u001b[38;5;241;43m.\u001b[39;49m\u001b[43mbackward\u001b[49m\u001b[43m(\u001b[49m\u001b[38;5;28;43mself\u001b[39;49m\u001b[43m,\u001b[49m\u001b[43m \u001b[49m\u001b[43mgradient\u001b[49m\u001b[43m,\u001b[49m\u001b[43m \u001b[49m\u001b[43mretain_graph\u001b[49m\u001b[43m,\u001b[49m\u001b[43m \u001b[49m\u001b[43mcreate_graph\u001b[49m\u001b[43m,\u001b[49m\u001b[43m \u001b[49m\u001b[43minputs\u001b[49m\u001b[38;5;241;43m=\u001b[39;49m\u001b[43minputs\u001b[49m\u001b[43m)\u001b[49m\n",
      "File \u001b[1;32m~\\anaconda3\\lib\\site-packages\\torch\\autograd\\__init__.py:173\u001b[0m, in \u001b[0;36mbackward\u001b[1;34m(tensors, grad_tensors, retain_graph, create_graph, grad_variables, inputs)\u001b[0m\n\u001b[0;32m    168\u001b[0m     retain_graph \u001b[38;5;241m=\u001b[39m create_graph\n\u001b[0;32m    170\u001b[0m \u001b[38;5;66;03m# The reason we repeat same the comment below is that\u001b[39;00m\n\u001b[0;32m    171\u001b[0m \u001b[38;5;66;03m# some Python versions print out the first line of a multi-line function\u001b[39;00m\n\u001b[0;32m    172\u001b[0m \u001b[38;5;66;03m# calls in the traceback and some print out the last line\u001b[39;00m\n\u001b[1;32m--> 173\u001b[0m \u001b[43mVariable\u001b[49m\u001b[38;5;241;43m.\u001b[39;49m\u001b[43m_execution_engine\u001b[49m\u001b[38;5;241;43m.\u001b[39;49m\u001b[43mrun_backward\u001b[49m\u001b[43m(\u001b[49m\u001b[43m  \u001b[49m\u001b[38;5;66;43;03m# Calls into the C++ engine to run the backward pass\u001b[39;49;00m\n\u001b[0;32m    174\u001b[0m \u001b[43m    \u001b[49m\u001b[43mtensors\u001b[49m\u001b[43m,\u001b[49m\u001b[43m \u001b[49m\u001b[43mgrad_tensors_\u001b[49m\u001b[43m,\u001b[49m\u001b[43m \u001b[49m\u001b[43mretain_graph\u001b[49m\u001b[43m,\u001b[49m\u001b[43m \u001b[49m\u001b[43mcreate_graph\u001b[49m\u001b[43m,\u001b[49m\u001b[43m \u001b[49m\u001b[43minputs\u001b[49m\u001b[43m,\u001b[49m\n\u001b[0;32m    175\u001b[0m \u001b[43m    \u001b[49m\u001b[43mallow_unreachable\u001b[49m\u001b[38;5;241;43m=\u001b[39;49m\u001b[38;5;28;43;01mTrue\u001b[39;49;00m\u001b[43m,\u001b[49m\u001b[43m \u001b[49m\u001b[43maccumulate_grad\u001b[49m\u001b[38;5;241;43m=\u001b[39;49m\u001b[38;5;28;43;01mTrue\u001b[39;49;00m\u001b[43m)\u001b[49m\n",
      "\u001b[1;31mKeyboardInterrupt\u001b[0m: "
     ]
    }
   ],
   "source": [
    "nb_mlp = 3\n",
    "proportion = 0.8\n",
    "feature_size = 24\n",
    "H = 50\n",
    "info_valide = []\n",
    "gamma = 0.5\n",
    "alpha = 0.25\n",
    "batch_size = 1\n",
    "EPOCHS = 1000\n",
    "learning_rate = 0.001\n",
    "for nb_mlp in [6]:\n",
    "    criterion = nn.BCELoss()\n",
    "#     criterion = FocalLoss(gamma=gamma,alpha = alpha)\n",
    "    if criterion.__str__()==\"BCELoss()\":\n",
    "        train_name = data_name+\"_BCE_\"+\\\n",
    "            nb_mlp.__str__()+\"MLP_\"+H.__str__()+\"TailleH_\"+batch_size.__str__()+\"batch_size_scheduler10e-6_\"+\"layernorm+cat_\"\n",
    "    elif criterion.__str__()==\"FocalLoss()\":\n",
    "        train_name = data_name+\"_FL_\"+gamma.__str__()+\"Gamma_\"+alpha.__str__()+\"Alpha_\"+\\\n",
    "            nb_mlp.__str__()+\"MLP_\"+H.__str__()+\"TailleH_\"+batch_size.__str__()+\"batch_size_scheduler\"+\"layernorm+cat\"\n",
    "\n",
    "    writer = SummaryWriter('./logs/CFL/'+train_name+\"/\")\n",
    "    net = VariablePredictor(feature_size,H,nb_mlp)\n",
    "    net.to(device)\n",
    "    optm = Adam(net.parameters(), lr = learning_rate)\n",
    "\n",
    "    scheduler = torch.optim.lr_scheduler.ExponentialLR(optm, gamma=1-10e-6)\n",
    "    train(net,criterion,optm,data_valide_gpu,proportion,writer,batch_size = batch_size,EPOCHS=EPOCHS,do_valide = True,do_log = True)\n",
    "    model_path = \"model/\"+train_name\n",
    "    torch.save(net.state_dict(),model_path)\n",
    "    msg=valide(net,criterion,data_test_gpu,proportion = proportion)\n",
    "    info_valide.append(msg[1:])\n",
    "    with open('./logs/'+train_name+\"/valide_log.txt\", \"w\") as txtfile:\n",
    "        print(\"{}\".format(msg), file=txtfile)"
   ]
  },
  {
   "cell_type": "code",
   "execution_count": 12,
   "id": "94e90176",
   "metadata": {},
   "outputs": [
    {
     "name": "stdout",
     "output_type": "stream",
     "text": [
      "Loss = 0.024658,Accuracy_value = 0.990844,Accuracy_instance = 0.400000\n",
      "Label_One_Predict_One = 0.863333,Predict_One_Label_One = 0.857629,Nombre_Predict_One = 24.155556,Nombre_One_Mean = 23.955556\n",
      "Label_Zero_Predict_Zero = 0.995078,Label_Zero_Predict_Zero = 0.995374,Nombre_Predict_Zero = 884.733333,Nombre_Zero_Mean = 884.933333\n",
      "Accuracy_fixe_mean = 0.999796,Accuracy_fixe_one = 0.395556,Accuracy_fixe_zero = 0.999868\n",
      "\n"
     ]
    }
   ],
   "source": [
    "m=valide(net,nn.BCELoss(),data_test_gpu,proportion = 0.9)"
   ]
  },
  {
   "cell_type": "markdown",
   "id": "538ac302",
   "metadata": {},
   "source": [
    "## Test"
   ]
  },
  {
   "cell_type": "code",
   "execution_count": 13,
   "id": "9b25a1a6",
   "metadata": {},
   "outputs": [
    {
     "name": "stdout",
     "output_type": "stream",
     "text": [
      "Loss = 0.015471,Accuracy_value = 0.994624,Accuracy_instance = 0.622222\n",
      "Label_One_Predict_One = 0.910637,Predict_One_Label_One = 0.905976,Nombre_Predict_One = 22.155556,Nombre_One_Mean = 22.000000\n",
      "Label_Zero_Predict_Zero = 0.997140,Label_Zero_Predict_Zero = 0.997300,Nombre_Predict_Zero = 864.511111,Nombre_Zero_Mean = 864.666667\n",
      "Accuracy_fixe_mean = 1.000000,Accuracy_fixe_one = 0.022222,Accuracy_fixe_zero = 1.000000\n",
      "\n"
     ]
    },
    {
     "data": {
      "text/plain": [
       "('Loss = 0.015471,Accuracy_value = 0.994624,Accuracy_instance = 0.622222\\nLabel_One_Predict_One = 0.910637,Predict_One_Label_One = 0.905976,Nombre_Predict_One = 22.155556,Nombre_One_Mean = 22.000000\\nLabel_Zero_Predict_Zero = 0.997140,Label_Zero_Predict_Zero = 0.997300,Nombre_Predict_Zero = 864.511111,Nombre_Zero_Mean = 864.666667\\nAccuracy_fixe_mean = 1.000000,Accuracy_fixe_one = 0.022222,Accuracy_fixe_zero = 1.000000\\n',\n",
       " 0.994624074074074,\n",
       " 0.6222222222222222,\n",
       " 0.022222222222222223,\n",
       " 1.0)"
      ]
     },
     "execution_count": 13,
     "metadata": {},
     "output_type": "execute_result"
    }
   ],
   "source": [
    "train_name = \"SC1000_BCE_3MLP_50TailleH_1batch_size_layernorm+cat\"\n",
    "model_path = \"model/\"+train_name\n",
    "criterion = nn.BCELoss()\n",
    "model = VariablePredictor(24,50,3).to(device)\n",
    "model.load_state_dict(torch.load(model_path))\n",
    "valide(model,criterion,data_test_gpu,proportion = 0.8)"
   ]
  },
  {
   "cell_type": "markdown",
   "id": "573b7c09",
   "metadata": {},
   "source": [
    "# Analyse\n"
   ]
  },
  {
   "cell_type": "code",
   "execution_count": 13,
   "id": "739bb78b",
   "metadata": {},
   "outputs": [],
   "source": [
    "def predict(model,data_validation):\n",
    "        predictions_values = []\n",
    "        is_predict_correct = []\n",
    "        data_size = len(data_validation)\n",
    "        y_hats = []\n",
    "        labels = []\n",
    "        for i in range(data_size):\n",
    "            if data_validation[0][0].device == \"cpu\":\n",
    "                inputs, label = torch.from_numpy(data_validation[i]['X']).float(),\\\n",
    "                                torch.from_numpy(data_validation[i]['Y']).type(torch.FloatTensor).float()\n",
    "                A = torch.from_numpy(data_validation[i]['A']).float()\n",
    "                inputs = inputs.to(device)\n",
    "                label = label.to(device)\n",
    "                A = A.to(device)\n",
    "            else:\n",
    "                inputs, label = data_validation[i][0],data_validation[i][1]\n",
    "                A =data_validation[i][2]\n",
    "                \n",
    "            predictions = model(inputs,A)[:len(label)].squeeze(dim=-1)\n",
    "            label = label.cpu()\n",
    "            predictions = predictions.cpu()\n",
    "            predictions_values.append(predictions)\n",
    "\n",
    "            aux= torch.Tensor([0.5])\n",
    "            y_hat = (predictions > aux).float() * 1\n",
    "            is_equal = torch.where(y_hat == label,1,0)\n",
    "            is_predict_correct.append(is_equal)\n",
    "            y_hats.append(y_hat)\n",
    "            labels.append(label)\n",
    "        return predictions_values,labels,y_hats,is_predict_correct\n",
    "\n",
    "def fixe_proportionally(predictions_values,labels,y_hat,is_predict_correct,proportion = 0.7): \n",
    "        hist_nb_one_fixe = []\n",
    "        hist_nb_zero_fixe = []\n",
    "        accuracy_fixe_one = []\n",
    "        accuracy_fixe_zero = []  \n",
    "        \n",
    "        data_size = len(predictions_values)\n",
    "        for i in range(data_size):\n",
    "            problem_size = len(y_hat[i])\n",
    "            nb_one_total = torch.sum(torch.where(labels[i] == 1,1,0))\n",
    "            nb_zero_total = (problem_size - nb_one_total)\n",
    "            aux= torch.Tensor([0.5])\n",
    "            predictions_norm =  np.abs(0.5 - predictions_values[i].detach().numpy())\n",
    "            thresholds = abs(np.sort(-predictions_norm))[int(proportion * problem_size)- 1]\n",
    "            nb_one_fixe = 0\n",
    "            nb_zero_fixe = 0\n",
    "            nb_correct_fixe_one = 0\n",
    "            nb_correct_fixe_zero = 0\n",
    "            nb_correct_fixe = 0\n",
    "            nb_fixe = 0 \n",
    "            for j,v in enumerate(is_predict_correct[i]):\n",
    "                if predictions_norm[j] >= thresholds:             \n",
    "                    if labels[i][j]:\n",
    "                        nb_correct_fixe_one += v\n",
    "                    else:\n",
    "                        nb_correct_fixe_zero += v\n",
    "                        \n",
    "                    if y_hat[i][j]:\n",
    "                        nb_one_fixe += 1\n",
    "                    else:\n",
    "                        nb_zero_fixe += 1\n",
    "            hist_nb_one_fixe.append(nb_one_fixe)\n",
    "            hist_nb_zero_fixe.append(nb_zero_fixe)\n",
    "            accuracy_fixe_one.append(nb_correct_fixe_one/nb_one_fixe if nb_one_fixe>0 else 0)\n",
    "            accuracy_fixe_zero.append(nb_correct_fixe_zero/nb_zero_fixe if nb_zero_fixe>0 else 0)\n",
    "        return np.mean(accuracy_fixe_one),np.mean(hist_nb_one_fixe),np.mean(accuracy_fixe_zero),np.mean(hist_nb_zero_fixe)\n",
    "    \n",
    "def fixe_one_epsilon(predictions_values,y_hats,labels,e = 0.01):\n",
    "    nbs_fixe = []\n",
    "    accs_fixe = []\n",
    "    props = []\n",
    "    data_size = len(data_validation)\n",
    "    thresholds = 1 - e\n",
    "    for i in range(data_size):\n",
    "        problem_size = len(labels[i])\n",
    "        nb_fixe = 0\n",
    "        nb_correct_fixe = 0\n",
    "        nb_one_total = torch.sum(torch.where(labels[i] == 1,1,0))\n",
    "        for j in range(problem_size):\n",
    "            if predictions[i][j] >= thresholds:  \n",
    "                nb_fixe += 1\n",
    "                if y_hats[i][j] and labels[i][j]:\n",
    "                    nb_correct_fixe += 1\n",
    "        nbs_fixe.append(nb_fixe)\n",
    "        accs_fixe.append(nb_correct_fixe/nb_fixe if nb_fixe > 0 else 0)        \n",
    "        props.append(nb_correct_fixe/nb_one_total)\n",
    "    return np.mean(accs_fixe),np.mean(nbs_fixe),np.mean(props)\n",
    "\n",
    "def get_cost_effective(data_instance):\n",
    "    features = data_instance[0]\n",
    "    labels = data_instance[1]\n",
    "    size = len(labels)\n",
    "    A=data_instance[2] \n",
    "    return [float(features[i][0]/sum(torch.where(A[i]==0,0,1))) for i in range(size)]\n",
    "\n",
    "\n",
    "\n",
    "    "
   ]
  },
  {
   "cell_type": "code",
   "execution_count": 218,
   "id": "467af181",
   "metadata": {},
   "outputs": [
    {
     "name": "stdout",
     "output_type": "stream",
     "text": [
      "Loss = 0.033526,Accuracy_value = 0.985000,Accuracy_instance = 0.000000\n",
      "Label_One_Predict_One = 0.800000,Predict_One_Label_One = 0.848485,Nombre_Predict_One = 33.000000,Nombre_One_Mean = 35.000000\n",
      "Label_Zero_Predict_Zero = 0.993464,Label_Zero_Predict_Zero = 0.990874,Nombre_Predict_Zero = 767.000000,Nombre_Zero_Mean = 765.000000\n",
      "Accuracy_fixe_mean = 0.985000,Accuracy_fixe_one = 0.848485,Accuracy_fixe_zero = 0.990874\n",
      "\n"
     ]
    }
   ],
   "source": [
    "_ = valide(net,criterion,[data_test_gpu[0]],proportion = 1)"
   ]
  },
  {
   "cell_type": "code",
   "execution_count": 15,
   "id": "38e9d419",
   "metadata": {},
   "outputs": [
    {
     "name": "stderr",
     "output_type": "stream",
     "text": [
      "100%|██████████████████████████████████████████████████████████████████████████████████| 45/45 [13:58<00:00, 18.63s/it]\n"
     ]
    }
   ],
   "source": [
    "prediction_mean = np.zeros((500))\n",
    "data_size = len(data_test_gpu)\n",
    "for i in tqdm(range(data_size)):\n",
    "    cost_effective = get_cost_effective(data_test_gpu[i])\n",
    "    aux_dict = {}\n",
    "    for j,v in enumerate(cost_effective):\n",
    "        aux_dict[j] = v\n",
    "    aux_dict = sorted(aux_dict.items(), key = lambda kv:(kv[1], kv[0]))\n",
    "    inputs, label = data_test_gpu[i][0],data_test_gpu[i][1]\n",
    "    A =data_test_gpu[i][2]\n",
    "\n",
    "    predictions = net(inputs,A)[:len(label)].squeeze(dim=-1)\n",
    "    label = label.cpu()\n",
    "    predictions = predictions.cpu()\n",
    "\n",
    "    cost_effective_reorder = []\n",
    "    predictions_reorder=[]\n",
    "    for idx in range(len(prediction_mean)):\n",
    "        prediction_mean[idx]+=float(predictions[aux_dict[idx][0]])\n"
   ]
  },
  {
   "cell_type": "code",
   "execution_count": 21,
   "id": "335c8bdb",
   "metadata": {},
   "outputs": [],
   "source": [
    "A = A.cpu().numpy()"
   ]
  },
  {
   "cell_type": "code",
   "execution_count": 63,
   "id": "af3e7f16",
   "metadata": {},
   "outputs": [
    {
     "name": "stdout",
     "output_type": "stream",
     "text": [
      "[[ 0.          0.          0.         ...  0.          0.\n",
      "   0.        ]\n",
      " [ 0.          0.          0.         ...  0.          0.\n",
      "  -0.04981355]\n",
      " [ 0.          0.          0.         ... -0.05234239  0.\n",
      "   0.        ]\n",
      " ...\n",
      " [ 0.          0.          0.         ...  0.          0.\n",
      "   0.        ]\n",
      " [ 0.          0.          0.         ...  0.          0.\n",
      "   0.        ]\n",
      " [ 0.          0.          0.         ...  0.          0.\n",
      "   0.        ]]\n"
     ]
    }
   ],
   "source": [
    "size = int(A.shape[0]/2)\n",
    "print(A[:size,size:])"
   ]
  },
  {
   "cell_type": "code",
   "execution_count": 164,
   "id": "46e8ff56",
   "metadata": {},
   "outputs": [],
   "source": [
    "score = get_cost_effective(data_test_gpu[0])"
   ]
  },
  {
   "cell_type": "code",
   "execution_count": 16,
   "id": "516bcedf",
   "metadata": {},
   "outputs": [],
   "source": [
    "def heuristique(score,A):\n",
    "    size = len(score)\n",
    "    size_cons = A.shape[0] - size\n",
    "    A = A.cpu().numpy()[:size,size_cons:]\n",
    "    solution = np.zeros((size))\n",
    "    nb_cover_original = [len(np.where(A[i]==0)[0])for i in range(size)]\n",
    "    while len(A[0]) > 0:\n",
    "        nb_cover = [len(np.where(A[i]!=0)[0]) for i in range(size)]\n",
    "        i_max = 0\n",
    "        v_max = 0\n",
    "        for i,v in enumerate(score):\n",
    "            aux = v * nb_cover[i] / nb_cover_original[i]\n",
    "            if aux > v_max :\n",
    "                i_max = i\n",
    "                v_max = aux\n",
    "        solution[i_max] = 1\n",
    "        for i_cons in np.where(A[i_max]!=0)[0][::-1]:\n",
    "            A = np.delete(A, i_cons, axis=1)\n",
    "    return solution"
   ]
  },
  {
   "cell_type": "code",
   "execution_count": 14,
   "id": "ea4da91e",
   "metadata": {},
   "outputs": [
    {
     "data": {
      "text/plain": [
       "<All keys matched successfully>"
      ]
     },
     "execution_count": 14,
     "metadata": {},
     "output_type": "execute_result"
    }
   ],
   "source": [
    "train_name = \"SC1000_BCE_3MLP_50TailleH_1batch_size_layernorm+cat\"\n",
    "model_path = \"model/\"+train_name\n",
    "criterion = nn.BCELoss()\n",
    "net = VariablePredictor(24,50,3).to(device)\n",
    "net.load_state_dict(torch.load(model_path))\n"
   ]
  },
  {
   "cell_type": "code",
   "execution_count": null,
   "id": "8b6fad6d",
   "metadata": {},
   "outputs": [],
   "source": [
    "valide(net,criterion,data_test_gpu,proportion = 0.8)"
   ]
  },
  {
   "cell_type": "code",
   "execution_count": 18,
   "id": "1f1c9c4f",
   "metadata": {},
   "outputs": [
    {
     "name": "stderr",
     "output_type": "stream",
     "text": [
      "\r",
      "  0%|                                                                                           | 0/45 [00:00<?, ?it/s]"
     ]
    },
    {
     "name": "stdout",
     "output_type": "stream",
     "text": [
      "1000\n",
      "1000\n"
     ]
    },
    {
     "name": "stderr",
     "output_type": "stream",
     "text": [
      "\r",
      "  2%|█▊                                                                                 | 1/45 [00:03<02:55,  3.99s/it]"
     ]
    },
    {
     "name": "stdout",
     "output_type": "stream",
     "text": [
      "1000 1000\n",
      "1000 1000\n",
      "1000\n",
      "800\n"
     ]
    },
    {
     "name": "stderr",
     "output_type": "stream",
     "text": [
      "\r",
      "  4%|███▋                                                                               | 2/45 [00:08<03:15,  4.54s/it]"
     ]
    },
    {
     "name": "stdout",
     "output_type": "stream",
     "text": [
      "800 800\n",
      "800 800\n",
      "800\n",
      "1000\n"
     ]
    },
    {
     "name": "stderr",
     "output_type": "stream",
     "text": [
      "\r",
      "  7%|█████▌                                                                             | 3/45 [00:12<02:50,  4.05s/it]"
     ]
    },
    {
     "name": "stdout",
     "output_type": "stream",
     "text": [
      "1000 1000\n",
      "1000 1000\n",
      "1000\n",
      "500\n"
     ]
    },
    {
     "name": "stderr",
     "output_type": "stream",
     "text": [
      "\r",
      "  9%|███████▍                                                                           | 4/45 [00:14<02:15,  3.31s/it]"
     ]
    },
    {
     "name": "stdout",
     "output_type": "stream",
     "text": [
      "500 500\n",
      "500 500\n",
      "500\n",
      "1200\n"
     ]
    },
    {
     "name": "stderr",
     "output_type": "stream",
     "text": [
      "\r",
      " 11%|█████████▏                                                                         | 5/45 [00:48<09:38, 14.46s/it]"
     ]
    },
    {
     "name": "stdout",
     "output_type": "stream",
     "text": [
      "1200 1200\n",
      "1200 1200\n",
      "1200\n",
      "800\n"
     ]
    },
    {
     "name": "stderr",
     "output_type": "stream",
     "text": [
      "\r",
      " 13%|███████████                                                                        | 6/45 [00:53<07:08, 10.99s/it]"
     ]
    },
    {
     "name": "stdout",
     "output_type": "stream",
     "text": [
      "800 800\n",
      "800 800\n",
      "800\n",
      "1200\n"
     ]
    },
    {
     "name": "stderr",
     "output_type": "stream",
     "text": [
      "\r",
      " 16%|████████████▉                                                                      | 7/45 [01:25<11:29, 18.13s/it]"
     ]
    },
    {
     "name": "stdout",
     "output_type": "stream",
     "text": [
      "1200 1200\n",
      "1200 1200\n",
      "1200\n",
      "1000\n"
     ]
    },
    {
     "name": "stderr",
     "output_type": "stream",
     "text": [
      "\r",
      " 18%|██████████████▊                                                                    | 8/45 [01:28<08:11, 13.28s/it]"
     ]
    },
    {
     "name": "stdout",
     "output_type": "stream",
     "text": [
      "1000 1000\n",
      "1000 1000\n",
      "1000\n",
      "1000\n"
     ]
    },
    {
     "name": "stderr",
     "output_type": "stream",
     "text": [
      "\r",
      " 20%|████████████████▌                                                                  | 9/45 [01:31<05:58,  9.97s/it]"
     ]
    },
    {
     "name": "stdout",
     "output_type": "stream",
     "text": [
      "1000 1000\n",
      "1000 1000\n",
      "1000\n",
      "1000\n"
     ]
    },
    {
     "name": "stderr",
     "output_type": "stream",
     "text": [
      "\r",
      " 22%|██████████████████▏                                                               | 10/45 [01:35<04:41,  8.05s/it]"
     ]
    },
    {
     "name": "stdout",
     "output_type": "stream",
     "text": [
      "1000 1000\n",
      "1000 1000\n",
      "1000\n",
      "800\n"
     ]
    },
    {
     "name": "stderr",
     "output_type": "stream",
     "text": [
      "\r",
      " 24%|████████████████████                                                              | 11/45 [01:37<03:37,  6.39s/it]"
     ]
    },
    {
     "name": "stdout",
     "output_type": "stream",
     "text": [
      "800 800\n",
      "800 800\n",
      "800\n",
      "500\n"
     ]
    },
    {
     "name": "stderr",
     "output_type": "stream",
     "text": [
      "\r",
      " 27%|█████████████████████▊                                                            | 12/45 [01:39<02:40,  4.87s/it]"
     ]
    },
    {
     "name": "stdout",
     "output_type": "stream",
     "text": [
      "500 500\n",
      "500 500\n",
      "500\n",
      "1000\n"
     ]
    },
    {
     "name": "stderr",
     "output_type": "stream",
     "text": [
      "\r",
      " 29%|███████████████████████▋                                                          | 13/45 [01:42<02:17,  4.29s/it]"
     ]
    },
    {
     "name": "stdout",
     "output_type": "stream",
     "text": [
      "1000 1000\n",
      "1000 1000\n",
      "1000\n",
      "800\n"
     ]
    },
    {
     "name": "stderr",
     "output_type": "stream",
     "text": [
      "\r",
      " 31%|█████████████████████████▌                                                        | 14/45 [01:46<02:17,  4.42s/it]"
     ]
    },
    {
     "name": "stdout",
     "output_type": "stream",
     "text": [
      "800 800\n",
      "800 800\n",
      "800\n",
      "800\n"
     ]
    },
    {
     "name": "stderr",
     "output_type": "stream",
     "text": [
      "\r",
      " 33%|███████████████████████████▎                                                      | 15/45 [01:49<01:56,  3.88s/it]"
     ]
    },
    {
     "name": "stdout",
     "output_type": "stream",
     "text": [
      "800 800\n",
      "800 800\n",
      "800\n",
      "1000\n"
     ]
    },
    {
     "name": "stderr",
     "output_type": "stream",
     "text": [
      "\r",
      " 36%|█████████████████████████████▏                                                    | 16/45 [01:55<02:12,  4.56s/it]"
     ]
    },
    {
     "name": "stdout",
     "output_type": "stream",
     "text": [
      "1000 1000\n",
      "1000 1000\n",
      "1000\n",
      "1200\n"
     ]
    },
    {
     "name": "stderr",
     "output_type": "stream",
     "text": [
      "\r",
      " 38%|██████████████████████████████▉                                                   | 17/45 [02:32<06:42, 14.38s/it]"
     ]
    },
    {
     "name": "stdout",
     "output_type": "stream",
     "text": [
      "1200 1200\n",
      "1200 1200\n",
      "1200\n",
      "1200\n"
     ]
    },
    {
     "name": "stderr",
     "output_type": "stream",
     "text": [
      "\r",
      " 40%|████████████████████████████████▊                                                 | 18/45 [03:08<09:16, 20.62s/it]"
     ]
    },
    {
     "name": "stdout",
     "output_type": "stream",
     "text": [
      "1200 1200\n",
      "1200 1200\n",
      "1200\n",
      "800\n"
     ]
    },
    {
     "name": "stderr",
     "output_type": "stream",
     "text": [
      "\r",
      " 42%|██████████████████████████████████▌                                               | 19/45 [03:10<06:34, 15.18s/it]"
     ]
    },
    {
     "name": "stdout",
     "output_type": "stream",
     "text": [
      "800 800\n",
      "800 800\n",
      "800\n",
      "1000\n"
     ]
    },
    {
     "name": "stderr",
     "output_type": "stream",
     "text": [
      "\r",
      " 44%|████████████████████████████████████▍                                             | 20/45 [03:14<04:55, 11.80s/it]"
     ]
    },
    {
     "name": "stdout",
     "output_type": "stream",
     "text": [
      "1000 1000\n",
      "1000 1000\n",
      "1000\n",
      "1000\n"
     ]
    },
    {
     "name": "stderr",
     "output_type": "stream",
     "text": [
      "\r",
      " 47%|██████████████████████████████████████▎                                           | 21/45 [03:20<04:00, 10.00s/it]"
     ]
    },
    {
     "name": "stdout",
     "output_type": "stream",
     "text": [
      "1000 1000\n",
      "1000 1000\n",
      "1000\n",
      "500\n"
     ]
    },
    {
     "name": "stderr",
     "output_type": "stream",
     "text": [
      "\r",
      " 49%|████████████████████████████████████████                                          | 22/45 [03:21<02:52,  7.51s/it]"
     ]
    },
    {
     "name": "stdout",
     "output_type": "stream",
     "text": [
      "500 500\n",
      "500 500\n",
      "500\n",
      "800\n"
     ]
    },
    {
     "name": "stderr",
     "output_type": "stream",
     "text": [
      "\r",
      " 51%|█████████████████████████████████████████▉                                        | 23/45 [03:24<02:14,  6.10s/it]"
     ]
    },
    {
     "name": "stdout",
     "output_type": "stream",
     "text": [
      "800 800\n",
      "800 800\n",
      "800\n",
      "800\n"
     ]
    },
    {
     "name": "stderr",
     "output_type": "stream",
     "text": [
      "\r",
      " 53%|███████████████████████████████████████████▋                                      | 24/45 [03:27<01:46,  5.06s/it]"
     ]
    },
    {
     "name": "stdout",
     "output_type": "stream",
     "text": [
      "800 800\n",
      "800 800\n",
      "800\n",
      "1000\n"
     ]
    },
    {
     "name": "stderr",
     "output_type": "stream",
     "text": [
      "\r",
      " 56%|█████████████████████████████████████████████▌                                    | 25/45 [03:33<01:49,  5.46s/it]"
     ]
    },
    {
     "name": "stdout",
     "output_type": "stream",
     "text": [
      "1000 1000\n",
      "1000 1000\n",
      "1000\n",
      "1000\n"
     ]
    },
    {
     "name": "stderr",
     "output_type": "stream",
     "text": [
      "\r",
      " 58%|███████████████████████████████████████████████▍                                  | 26/45 [03:39<01:47,  5.67s/it]"
     ]
    },
    {
     "name": "stdout",
     "output_type": "stream",
     "text": [
      "1000 1000\n",
      "1000 1000\n",
      "1000\n",
      "1200\n"
     ]
    },
    {
     "name": "stderr",
     "output_type": "stream",
     "text": [
      "\r",
      " 60%|█████████████████████████████████████████████████▏                                | 27/45 [04:14<04:16, 14.23s/it]"
     ]
    },
    {
     "name": "stdout",
     "output_type": "stream",
     "text": [
      "1200 1200\n",
      "1200 1200\n",
      "1200\n",
      "1200\n"
     ]
    },
    {
     "name": "stderr",
     "output_type": "stream",
     "text": [
      "\r",
      " 62%|███████████████████████████████████████████████████                               | 28/45 [04:49<05:47, 20.45s/it]"
     ]
    },
    {
     "name": "stdout",
     "output_type": "stream",
     "text": [
      "1200 1200\n",
      "1200 1200\n",
      "1200\n",
      "1000\n"
     ]
    },
    {
     "name": "stderr",
     "output_type": "stream",
     "text": [
      "\r",
      " 64%|████████████████████████████████████████████████████▊                             | 29/45 [04:52<04:07, 15.47s/it]"
     ]
    },
    {
     "name": "stdout",
     "output_type": "stream",
     "text": [
      "1000 1000\n",
      "1000 1000\n",
      "1000\n",
      "500\n"
     ]
    },
    {
     "name": "stderr",
     "output_type": "stream",
     "text": [
      "\r",
      " 67%|██████████████████████████████████████████████████████▋                           | 30/45 [04:54<02:49, 11.30s/it]"
     ]
    },
    {
     "name": "stdout",
     "output_type": "stream",
     "text": [
      "500 500\n",
      "500 500\n",
      "500\n",
      "1000\n"
     ]
    },
    {
     "name": "stderr",
     "output_type": "stream",
     "text": [
      "\r",
      " 69%|████████████████████████████████████████████████████████▍                         | 31/45 [04:57<02:04,  8.87s/it]"
     ]
    },
    {
     "name": "stdout",
     "output_type": "stream",
     "text": [
      "1000 1000\n",
      "1000 1000\n",
      "1000\n",
      "500\n"
     ]
    },
    {
     "name": "stderr",
     "output_type": "stream",
     "text": [
      "\r",
      " 71%|██████████████████████████████████████████████████████████▎                       | 32/45 [04:59<01:26,  6.67s/it]"
     ]
    },
    {
     "name": "stdout",
     "output_type": "stream",
     "text": [
      "500 500\n",
      "500 500\n",
      "500\n",
      "1000\n"
     ]
    },
    {
     "name": "stderr",
     "output_type": "stream",
     "text": [
      "\r",
      " 73%|████████████████████████████████████████████████████████████▏                     | 33/45 [05:02<01:07,  5.61s/it]"
     ]
    },
    {
     "name": "stdout",
     "output_type": "stream",
     "text": [
      "1000 1000\n",
      "1000 1000\n",
      "1000\n",
      "1000\n"
     ]
    },
    {
     "name": "stderr",
     "output_type": "stream",
     "text": [
      "\r",
      " 76%|█████████████████████████████████████████████████████████████▉                    | 34/45 [05:06<00:56,  5.14s/it]"
     ]
    },
    {
     "name": "stdout",
     "output_type": "stream",
     "text": [
      "1000 1000\n",
      "1000 1000\n",
      "1000\n",
      "500\n"
     ]
    },
    {
     "name": "stderr",
     "output_type": "stream",
     "text": [
      "\r",
      " 78%|███████████████████████████████████████████████████████████████▊                  | 35/45 [05:07<00:40,  4.05s/it]"
     ]
    },
    {
     "name": "stdout",
     "output_type": "stream",
     "text": [
      "500 500\n",
      "500 500\n",
      "500\n",
      "500\n"
     ]
    },
    {
     "name": "stderr",
     "output_type": "stream",
     "text": [
      "\r",
      " 80%|█████████████████████████████████████████████████████████████████▌                | 36/45 [05:10<00:32,  3.61s/it]"
     ]
    },
    {
     "name": "stdout",
     "output_type": "stream",
     "text": [
      "500 500\n",
      "500 500\n",
      "500\n",
      "1200\n"
     ]
    },
    {
     "name": "stderr",
     "output_type": "stream",
     "text": [
      "\r",
      " 82%|███████████████████████████████████████████████████████████████████▍              | 37/45 [05:47<01:49, 13.67s/it]"
     ]
    },
    {
     "name": "stdout",
     "output_type": "stream",
     "text": [
      "1200 1200\n",
      "1200 1200\n",
      "1200\n",
      "1000\n"
     ]
    },
    {
     "name": "stderr",
     "output_type": "stream",
     "text": [
      "\r",
      " 84%|█████████████████████████████████████████████████████████████████████▏            | 38/45 [05:51<01:13, 10.56s/it]"
     ]
    },
    {
     "name": "stdout",
     "output_type": "stream",
     "text": [
      "1000 1000\n",
      "1000 1000\n",
      "1000\n",
      "1000\n"
     ]
    },
    {
     "name": "stderr",
     "output_type": "stream",
     "text": [
      "\r",
      " 87%|███████████████████████████████████████████████████████████████████████           | 39/45 [05:54<00:49,  8.30s/it]"
     ]
    },
    {
     "name": "stdout",
     "output_type": "stream",
     "text": [
      "1000 1000\n",
      "1000 1000\n",
      "1000\n",
      "800\n"
     ]
    },
    {
     "name": "stderr",
     "output_type": "stream",
     "text": [
      "\r",
      " 89%|████████████████████████████████████████████████████████████████████████▉         | 40/45 [05:56<00:33,  6.62s/it]"
     ]
    },
    {
     "name": "stdout",
     "output_type": "stream",
     "text": [
      "800 800\n",
      "800 800\n",
      "800\n",
      "800\n"
     ]
    },
    {
     "name": "stderr",
     "output_type": "stream",
     "text": [
      "\r",
      " 91%|██████████████████████████████████████████████████████████████████████████▋       | 41/45 [05:59<00:22,  5.55s/it]"
     ]
    },
    {
     "name": "stdout",
     "output_type": "stream",
     "text": [
      "800 800\n",
      "800 800\n",
      "800\n",
      "800\n"
     ]
    },
    {
     "name": "stderr",
     "output_type": "stream",
     "text": [
      "\r",
      " 93%|████████████████████████████████████████████████████████████████████████████▌     | 42/45 [06:03<00:15,  5.11s/it]"
     ]
    },
    {
     "name": "stdout",
     "output_type": "stream",
     "text": [
      "800 800\n",
      "800 800\n",
      "800\n",
      "500\n"
     ]
    },
    {
     "name": "stderr",
     "output_type": "stream",
     "text": [
      "\r",
      " 96%|██████████████████████████████████████████████████████████████████████████████▎   | 43/45 [06:06<00:08,  4.48s/it]"
     ]
    },
    {
     "name": "stdout",
     "output_type": "stream",
     "text": [
      "500 500\n",
      "500 500\n",
      "500\n",
      "1200\n"
     ]
    },
    {
     "name": "stderr",
     "output_type": "stream",
     "text": [
      "\r",
      " 98%|████████████████████████████████████████████████████████████████████████████████▏ | 44/45 [06:44<00:14, 14.35s/it]"
     ]
    },
    {
     "name": "stdout",
     "output_type": "stream",
     "text": [
      "1200 1200\n",
      "1200 1200\n",
      "1200\n",
      "500\n"
     ]
    },
    {
     "name": "stderr",
     "output_type": "stream",
     "text": [
      "100%|██████████████████████████████████████████████████████████████████████████████████| 45/45 [06:45<00:00,  9.01s/it]"
     ]
    },
    {
     "name": "stdout",
     "output_type": "stream",
     "text": [
      "500 500\n",
      "500 500\n"
     ]
    },
    {
     "name": "stderr",
     "output_type": "stream",
     "text": [
      "\n"
     ]
    }
   ],
   "source": [
    "data_size = len(data_test_gpu)\n",
    "# nb_corrects = [[],[],[]]\n",
    "nb_corrects = [[],[]]\n",
    "accs = [[],[],[]]\n",
    "for i in tqdm(range(data_size)):\n",
    "    predictions = net(data_test_gpu[i][0],data_test_gpu[i][2]).squeeze(dim=-1)[:len(data_test_gpu[i][1])]\n",
    "    aux= torch.Tensor([0.5]).to(device)\n",
    "    y_hat = (predictions > aux).float() * 1\n",
    "    res_gcn = y_hat.cpu().numpy()\n",
    "\n",
    "#     score = get_cost_effective(data_test_gpu[i])\n",
    "#     res_coute = heuristique(score,data_test_gpu[i][2])\n",
    "\n",
    "    res_prect = heuristique(predictions,data_test_gpu[i][2])\n",
    "\n",
    "    labels = data_test_gpu[i][1].cpu().numpy()\n",
    "    # print(np.where(res_coute==1),np.where(res_gcn==1),np.where(labels==1),np.where(res_prect==1))\n",
    "    for k,res in enumerate([res_gcn,res_prect]):##,res_coute]):\n",
    "        print(len(res_gcn),len(res_prect))#,len(res_coute))\n",
    "        nb_corret = 0\n",
    "        for j,v in enumerate(res):\n",
    "            nb_corret += int(v == labels[j] and v == 1)\n",
    "        nb_corrects[k].append(nb_corret)\n",
    "        accs[k].append(nb_corret/len(np.where(res==1)[0]))\n",
    "for i in accs:\n",
    "    print(np.mean(i))"
   ]
  },
  {
   "cell_type": "code",
   "execution_count": 19,
   "id": "775e7c62",
   "metadata": {},
   "outputs": [
    {
     "name": "stdout",
     "output_type": "stream",
     "text": [
      "0.9059759455721788\n",
      "0.6178941455705121\n",
      "nan\n"
     ]
    },
    {
     "name": "stderr",
     "output_type": "stream",
     "text": [
      "C:\\Users\\Leonaire\\anaconda3\\lib\\site-packages\\numpy\\core\\fromnumeric.py:3474: RuntimeWarning: Mean of empty slice.\n",
      "  return _methods._mean(a, axis=axis, dtype=dtype,\n",
      "C:\\Users\\Leonaire\\anaconda3\\lib\\site-packages\\numpy\\core\\_methods.py:189: RuntimeWarning: invalid value encountered in double_scalars\n",
      "  ret = ret.dtype.type(ret / rcount)\n"
     ]
    }
   ],
   "source": []
  },
  {
   "cell_type": "code",
   "execution_count": 22,
   "id": "917df968",
   "metadata": {},
   "outputs": [],
   "source": [
    "predictions = net(data_test_gpu[0][0],data_test_gpu[0][2]).squeeze(dim=-1)[:len(data_test_gpu[0][1])]\n",
    "aux= torch.Tensor([0.5]).to(device)\n",
    "y_hat = (predictions > aux).float() * 1\n",
    "solu0 = y_hat.cpu().numpy()\n",
    "A0 = data_test_gpu[0][2]"
   ]
  },
  {
   "cell_type": "code",
   "execution_count": 36,
   "id": "db561f22",
   "metadata": {},
   "outputs": [],
   "source": [
    "def is_realisable(solu,A):\n",
    "    size_var = len(solu)\n",
    "    size_cons = A.shape[0] - size_var\n",
    "    A = A.cpu().numpy()[:size_var,size_cons:]\n",
    "#     print(solu,A)\n",
    "    for i,v in enumerate(solu):\n",
    "        if v:\n",
    "#             print(len(np.where(A[i]!=0)[0]))\n",
    "            for i_cons in np.where(A[i]!=0)[0][::-1]:\n",
    "                A = np.delete(A, i_cons, axis=1)\n",
    "    return A.shape[1]"
   ]
  },
  {
   "cell_type": "code",
   "execution_count": 37,
   "id": "9cf6decc",
   "metadata": {},
   "outputs": [
    {
     "name": "stderr",
     "output_type": "stream",
     "text": [
      "100%|██████████████████████████████████████████████████████████████████████████████████| 45/45 [00:26<00:00,  1.69it/s]"
     ]
    },
    {
     "name": "stdout",
     "output_type": "stream",
     "text": [
      "[9, 24, 11, 9, 213, 20, 212, 14, 6, 18, 7, 6, 10, 26, 10, 22, 232, 227, 8, 22, 19, 10, 13, 10, 27, 26, 202, 207, 9, 9, 19, 7, 13, 23, 10, 14, 213, 10, 9, 13, 13, 19, 13, 213, 5]\n"
     ]
    },
    {
     "name": "stderr",
     "output_type": "stream",
     "text": [
      "\n"
     ]
    }
   ],
   "source": [
    "nb_cons_reste = []\n",
    "for i in tqdm(range(data_size)):\n",
    "    predictions = net(data_test_gpu[i][0],data_test_gpu[i][2]).squeeze(dim=-1)[:len(data_test_gpu[i][1])]\n",
    "    aux= torch.Tensor([0.5]).to(device)\n",
    "    y_hat = (predictions > aux).float() * 1\n",
    "    solu = y_hat.cpu().numpy()\n",
    "    A = data_test_gpu[i][2]\n",
    "    nb_cons_reste.append(is_realisable(solu,A))\n",
    "print(nb_cons_reste)"
   ]
  },
  {
   "cell_type": "code",
   "execution_count": 68,
   "id": "36067f50",
   "metadata": {},
   "outputs": [
    {
     "name": "stdout",
     "output_type": "stream",
     "text": [
      "(array([0, 2, 3], dtype=int64),)\n"
     ]
    }
   ],
   "source": [
    "aux=np.array([[1,0,5,6],[0,1,8,4],[6,3,1,0],[7,3,0,1]])\n",
    "print(np.where(aux[0]!=0))"
   ]
  },
  {
   "cell_type": "code",
   "execution_count": 16,
   "id": "428b7191",
   "metadata": {},
   "outputs": [
    {
     "data": {
      "image/png": "[encoded data removed]",
      "text/plain": [
       "<Figure size 432x288 with 1 Axes>"
      ]
     },
     "metadata": {
      "needs_background": "light"
     },
     "output_type": "display_data"
    }
   ],
   "source": [
    "prediction_means = prediction_mean/data_size\n",
    "fig, ax = plt.subplots()\n",
    "# acc_one,= ax.plot(range(len(cost_effective_reorder)),cost_effective_reorder, linewidth=2.0,label=r'')\n",
    "nb_one,= ax.plot(range(len(prediction_means)),prediction_means , linewidth=2.0)\n",
    "plt.title(\"Prediction-Cout_Moyen\")\n",
    "plt.xlabel('Ascending order of cost-effective')\n",
    "plt.ylabel('prediction_means')\n",
    "plt.savefig(\"image/Prediction_Cout_Moyen\")\n",
    "plt.grid()\n",
    "plt.show()"
   ]
  },
  {
   "cell_type": "code",
   "execution_count": 100,
   "id": "2c743388",
   "metadata": {},
   "outputs": [],
   "source": [
    "# model_name = data_name+\"_MLP\"+nb_mlp.__str__()+\"Gamma0.5\"\n",
    "nb_mlp = 1\n",
    "# data_name = \"SC1000\"\n",
    "\n",
    "# model_name = data_name+\"_MLP\"+nb_mlp.__str__()\n",
    "# model_name = data_name+\"_MLP\"+nb_mlp.__str__()+\"Gamma0.5\"\n",
    "# model_name = \"CFL30_NoCov_OnlyOutLayer\"\n",
    "# model_name = \"CFL30_BCE_3MLP\"\n",
    "# model_name = \"SC1000_NoCov_OnlyOutLayer\"\n",
    "model_name = \"SC1000_FL_0.5Gamma_0.25Alpha_1MLP50TailleH\"\n",
    "\n",
    "\n",
    "model_path = \"model/\"+model_name\n",
    "\n",
    "model = VariablePredictor(24,50,nb_mlp).to(device)\n",
    "# model = VariablePredictor_OnlyOutLayer(24,24,nb_mlp).to(device)\n",
    "\n",
    "model.load_state_dict(torch.load(model_path))\n",
    "predictions,labels,y_hats,is_corrects = predict(model,data_test_gpu)\n",
    "# _=valide(model,criterion,data_test_gpu,proportion = 0.9)"
   ]
  },
  {
   "cell_type": "code",
   "execution_count": 139,
   "id": "790554f8",
   "metadata": {},
   "outputs": [
    {
     "data": {
      "image/png": "[encoded data removed]",
      "text/plain": [
       "<Figure size 432x288 with 1 Axes>"
      ]
     },
     "metadata": {
      "needs_background": "light"
     },
     "output_type": "display_data"
    }
   ],
   "source": [
    "test_epsilon = []\n",
    "epsilons = [0.01 * i for i in range(0,30,1)]+[0.01 * i for i in range(30,51,10)]\n",
    "for e in epsilons:\n",
    "    test_epsilon.append([e]+list(fixe_one_epsilon(predictions,y_hats,labels,e)))\n",
    "header=[\"Epsilon\", \"Accuracy_fixe_one\", \"Number_fixe_one\",\"Correct_One/Total_One\"]\n",
    "# print(tabulate(test_epsilon, headers=header))\n",
    "\n",
    "with open(\"CSV/\"+model_name+\"_epsilon.csv\",\"w\") as csvfile: \n",
    "    writer = csv.writer(csvfile)\n",
    "    writer.writerow(header)\n",
    "    writer.writerows(test_epsilon)\n",
    "\n",
    "fig, ax = plt.subplots()\n",
    "values = np.array(test_epsilon).T\n",
    "acc_one,= ax.plot(values[0], values[1], linewidth=2.0,label=r'Acc_fixe_one')\n",
    "maxv = int(max(values[2]))\n",
    "nb_one,= ax.plot(values[0], values[2]/maxv, linewidth=2.0,label=r'Nb_fixe_one/'+maxv.__str__())\n",
    "plt.legend(handles=[acc_one,nb_one],loc=\"best\",)\n",
    "plt.title(model_name+\"_epsilon\")\n",
    "plt.savefig(\"image/\"+model_name+\"_epsilon.png\")\n",
    "plt.grid()\n",
    "plt.show()\n"
   ]
  },
  {
   "cell_type": "code",
   "execution_count": 140,
   "id": "cf9b3a85",
   "metadata": {},
   "outputs": [
    {
     "data": {
      "image/png": "[encoded data removed]",
      "text/plain": [
       "<Figure size 432x288 with 1 Axes>"
      ]
     },
     "metadata": {
      "needs_background": "light"
     },
     "output_type": "display_data"
    }
   ],
   "source": [
    "test_values = []\n",
    "proportions = [0.1 * i for i in range(1,8)]+[0.01 * i for i in range(80,101)]\n",
    "for p in proportions:\n",
    "    test_values.append([p]+list(fixe_proportionally(predictions,labels,y_hats,is_corrects,proportion = p)))\n",
    "header=[\"Proportion\", \"Accuracy_fixe_one\", \"Number_fixe_one\",\"Accuracy_fixe_zero\", \"Number_fixe_zero\"] \n",
    "# print(tabulate(test_values, headers=header))\n",
    "\n",
    "with open(\"CSV/\"+model_name+\"_proportion.csv\",\"w\") as csvfile: \n",
    "    writer = csv.writer(csvfile)\n",
    "    writer.writerow(header)\n",
    "    writer.writerows(test_values)\n",
    "\n",
    "fig, ax = plt.subplots()\n",
    "values = np.array(test_values).T\n",
    "acc_one,= ax.plot(values[0], values[1], linewidth=2.0,label=r'Acc_fixe_one')\n",
    "maxv = int(max(values[2]))\n",
    "nb_one,= ax.plot(values[0], values[2]/maxv, linewidth=2.0,label=r'Nb_fixe_one/'+maxv.__str__())\n",
    "plt.legend(handles=[acc_one,nb_one],loc=\"best\",)\n",
    "plt.title(model_name+\"_proportion\")\n",
    "plt.savefig(\"image/\"+model_name+\"_prop.png\")\n",
    "plt.grid()\n",
    "plt.show()"
   ]
  },
  {
   "cell_type": "code",
   "execution_count": null,
   "id": "4723e84c",
   "metadata": {},
   "outputs": [],
   "source": []
  }
 ],
 "metadata": {
  "kernelspec": {
   "display_name": "Python 3 (ipykernel)",
   "language": "python",
   "name": "python3"
  },
  "language_info": {
   "codemirror_mode": {
    "name": "ipython",
    "version": 3
   },
   "file_extension": ".py",
   "mimetype": "text/x-python",
   "name": "python",
   "nbconvert_exporter": "python",
   "pygments_lexer": "ipython3",
   "version": "3.10.4"
  }
 },
 "nbformat": 4,
 "nbformat_minor": 5
}
