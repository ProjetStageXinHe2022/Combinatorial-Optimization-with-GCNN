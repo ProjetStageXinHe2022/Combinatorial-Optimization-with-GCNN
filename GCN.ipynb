{
 "cells": [
  {
   "cell_type": "code",
   "execution_count": 1,
   "metadata": {},
   "outputs": [],
   "source": [
    "import os\n",
    "import numpy as np\n",
    "from tqdm import tqdm\n",
    "import matplotlib.pyplot as plt\n",
    "\n",
    "import torch\n",
    "import torch.nn as nn\n",
    "import torch.nn.functional as F\n",
    "from torch.optim import Adam\n",
    "from torch.utils.data import DataLoader"
   ]
  },
  {
   "cell_type": "markdown",
   "metadata": {},
   "source": [
    "# Read dataset"
   ]
  },
  {
   "cell_type": "code",
   "execution_count": 23,
   "metadata": {},
   "outputs": [],
   "source": [
    "import pickle as pkl\n",
    "import json\n",
    "import ast\n",
    "np.set_printoptions(threshold=np.inf)\n",
    "\"\"\"\n",
    "param:path of folder\n",
    "return :data_train_X,data_train_Y,data_validation_X,data_validation_Y,data_test_X,data_test_Y\n",
    "\"\"\"\n",
    "def load_data(path = \"DataSet500/\"):\n",
    "    path_set = os.listdir(path)\n",
    "    dataSet = []\n",
    "    for filename in path_set:\n",
    "        #read features of constraints \n",
    "        cons_file = open(path+filename+\"/constraints_features.json\",\"rb\")\n",
    "        data = json.load(cons_file)\n",
    "        data_cons = np.array(data[\"values\"])\n",
    "        nb_cons = data_cons.shape[0]\n",
    "        #read features of variables \n",
    "        var_file = open(path+filename+\"/variables_features.json\",\"rb\")\n",
    "        data = json.load(var_file)\n",
    "        data_var = np.array(data[\"values\"])\n",
    "        nb_var = data_var.shape[0]\n",
    "        #compose H\n",
    "        data_cons = np.hstack((np.zeros((data_cons.shape[0],19)),data_cons))\n",
    "        data_var = np.hstack((data_var,np.zeros((data_var.shape[0],5))))\n",
    "        matrix_H = np.vstack((data_var,data_cons))\n",
    "        \n",
    "        #read label \n",
    "        label_file = open(path+filename+\"/label.json\",\"rb\")\n",
    "        data = json.load(label_file)\n",
    "        bestSol = data[\"Best_Solution\"]\n",
    "        data_label = np.array(bestSol)\n",
    "\n",
    "        #read edge\n",
    "        edges_file = open(path+filename+\"/edges_features.json\",\"rb\")\n",
    "        data = json.load(edges_file)\n",
    "        matrix_A = np.identity(nb_cons+nb_var)\n",
    "        for i in range(len(data[\"values\"])):\n",
    "            iVar,iCons = data[\"indices\"][1][i],data[\"indices\"][0][i] \n",
    "            matrix_A[iVar][nb_var+iCons] = data[\"values\"][i]\n",
    "            matrix_A[iCons+nb_var][iVar] = data[\"values\"][i]\n",
    "        \n",
    "        dataSet.append({\"X\":matrix_H,\"Y\":data_label,\"A\":matrix_A})\n",
    "        \n",
    "    return np.array(dataSet)\n",
    "split = [0.70,0.15,0.15]\n",
    "dataSet = load_data()\n",
    "data_train,data_validation,data_test = torch.utils.data.random_split(dataSet,[int(len(dataSet) * s) for s in split])\n",
    "# print(dataSet[0]['A'])\n",
    "# for l in dataSet[0]['A']:\n",
    "#     for i in l:\n",
    "#         print(int(i!=0),end = '\\t')\n",
    "#     print()\n",
    "\n",
    "# data_train_X,data_train_Y,data_validation_X,data_validation_Y,data_test_X,data_test_Y,A = load_data()\n",
    "# print(data_train_X.shape)\n",
    "# print(data_train_Y.shape)\n",
    "# print(A.shape)\n"
   ]
  },
  {
   "cell_type": "markdown",
   "metadata": {},
   "source": [
    "# GCN"
   ]
  },
  {
   "attachments": {
    "image-2.png": {
     "image/png": "[encoded data removed]"
    },
    "image-3.png": {
     "image/png": "[encoded data removed]"
    },
    "image-4.png": {
     "image/png": "[encoded data removed]"
    },
    "image.png": {
     "image/png": "[encoded data removed]"
    }
   },
   "cell_type": "markdown",
   "metadata": {},
   "source": [
    "![image-2.png](attachment:image-2.png)\n",
    "\n",
    "![image-3.png](attachment:image-3.png)\n",
    "![image-4.png](attachment:image-4.png)\n",
    "\n",
    "![image.png](attachment:image.png)"
   ]
  },
  {
   "cell_type": "code",
   "execution_count": 3,
   "metadata": {},
   "outputs": [],
   "source": [
    "class MLP(nn.Module):\n",
    "    def __init__(self, in_channel, out_channel):\n",
    "        super(MLP, self).__init__()\n",
    "        self.linear = nn.Linear(in_channel, out_channel)\n",
    "        self.activate = nn.ReLU()\n",
    "        \n",
    "    def forward(self, x, A):\n",
    "        x = self.linear(x)\n",
    "        x = self.activate(x)\n",
    "        x = A.mm(x)       \n",
    "        return x\n",
    "    \n",
    "class Net(nn.Module):\n",
    "    def __init__(self, in_channel,aux_channel,out_channel):\n",
    "        super(Net,self).__init__()\n",
    "        self.layer = nn.Sequential(\n",
    "            nn.Linear(aux_channel, aux_channel),\n",
    "            \n",
    "            \n",
    "            nn.ReLU(),\n",
    "            nn.Linear(aux_channel, aux_channel),\n",
    "        )\n",
    "        self.mlp = MLP(in_channel, aux_channel)\n",
    "        self.outlayer = nn.Sequential(\n",
    "            nn.Linear(aux_channel, aux_channel),\n",
    "            nn.ReLU(),\n",
    "            nn.Linear(aux_channel, out_channel),\n",
    "#             nn.LogSoftmax()\n",
    "            nn.Sigmoid()\n",
    "        )\n",
    "    \n",
    "    def forward(self, x, A,nb_net):\n",
    "        x = self.mlp(x,A)\n",
    "        for i in range(nb_net):\n",
    "            x = self.layer(x)\n",
    "        x = self.outlayer(x)\n",
    "        return x\n",
    "\n",
    "    "
   ]
  },
  {
   "cell_type": "markdown",
   "metadata": {},
   "source": [
    "## Train\n"
   ]
  },
  {
   "cell_type": "code",
   "execution_count": 4,
   "metadata": {},
   "outputs": [],
   "source": [
    "def train(model, x, y,A, optimizer,nb_net,criterion):\n",
    "    optimizer.zero_grad()\n",
    "    output = model(x,A,nb_net)[:len(y)].squeeze(dim=-1)\n",
    "#     print(\"output\",output)\n",
    "    loss =criterion(output,y)\n",
    "#     print(\"loss\",loss)\n",
    "    loss.backward()\n",
    "    optimizer.step()\n",
    "\n",
    "    return loss, output"
   ]
  },
  {
   "cell_type": "code",
   "execution_count": 30,
   "metadata": {},
   "outputs": [
    {
     "name": "stdout",
     "output_type": "stream",
     "text": [
      "cuda\n",
      "Epoch 0,Loss = 0.445904,Accuracy = 0.953467,Accuracy_Exactly = 0.000000\n"
     ]
    },
    {
     "ename": "KeyboardInterrupt",
     "evalue": "",
     "output_type": "error",
     "traceback": [
      "\u001b[1;31m---------------------------------------------------------------------------\u001b[0m",
      "\u001b[1;31mKeyboardInterrupt\u001b[0m                         Traceback (most recent call last)",
      "\u001b[1;32m<ipython-input-30-3e36394467a1>\u001b[0m in \u001b[0;36m<module>\u001b[1;34m\u001b[0m\n\u001b[0;32m     38\u001b[0m         \u001b[0mvalid_labels\u001b[0m \u001b[1;33m=\u001b[0m \u001b[0mvalid_labels\u001b[0m\u001b[1;33m.\u001b[0m\u001b[0mto\u001b[0m\u001b[1;33m(\u001b[0m\u001b[0mdevice\u001b[0m\u001b[1;33m)\u001b[0m\u001b[1;33m\u001b[0m\u001b[1;33m\u001b[0m\u001b[0m\n\u001b[0;32m     39\u001b[0m         \u001b[0mA\u001b[0m \u001b[1;33m=\u001b[0m \u001b[0mA\u001b[0m\u001b[1;33m.\u001b[0m\u001b[0mto\u001b[0m\u001b[1;33m(\u001b[0m\u001b[0mdevice\u001b[0m\u001b[1;33m)\u001b[0m\u001b[1;33m\u001b[0m\u001b[1;33m\u001b[0m\u001b[0m\n\u001b[1;32m---> 40\u001b[1;33m         \u001b[0mloss\u001b[0m\u001b[1;33m,\u001b[0m \u001b[0mpredictions\u001b[0m \u001b[1;33m=\u001b[0m \u001b[0mtrain\u001b[0m\u001b[1;33m(\u001b[0m\u001b[0mnet\u001b[0m\u001b[1;33m,\u001b[0m\u001b[0mvalid_inputs\u001b[0m\u001b[1;33m,\u001b[0m\u001b[0mvalid_labels\u001b[0m\u001b[1;33m,\u001b[0m\u001b[0mA\u001b[0m\u001b[1;33m,\u001b[0m\u001b[0moptm\u001b[0m\u001b[1;33m,\u001b[0m\u001b[0mnb_net\u001b[0m\u001b[1;33m,\u001b[0m \u001b[0mcriterion\u001b[0m\u001b[1;33m)\u001b[0m\u001b[1;33m\u001b[0m\u001b[1;33m\u001b[0m\u001b[0m\n\u001b[0m",
      "\u001b[1;32m<ipython-input-4-fca261eede19>\u001b[0m in \u001b[0;36mtrain\u001b[1;34m(model, x, y, A, optimizer, nb_net, criterion)\u001b[0m\n\u001b[0;32m      5\u001b[0m     \u001b[0mloss\u001b[0m \u001b[1;33m=\u001b[0m\u001b[0mcriterion\u001b[0m\u001b[1;33m(\u001b[0m\u001b[0moutput\u001b[0m\u001b[1;33m,\u001b[0m\u001b[0my\u001b[0m\u001b[1;33m)\u001b[0m\u001b[1;33m\u001b[0m\u001b[1;33m\u001b[0m\u001b[0m\n\u001b[0;32m      6\u001b[0m \u001b[1;31m#     print(\"loss\",loss)\u001b[0m\u001b[1;33m\u001b[0m\u001b[1;33m\u001b[0m\u001b[1;33m\u001b[0m\u001b[0m\n\u001b[1;32m----> 7\u001b[1;33m     \u001b[0mloss\u001b[0m\u001b[1;33m.\u001b[0m\u001b[0mbackward\u001b[0m\u001b[1;33m(\u001b[0m\u001b[1;33m)\u001b[0m\u001b[1;33m\u001b[0m\u001b[1;33m\u001b[0m\u001b[0m\n\u001b[0m\u001b[0;32m      8\u001b[0m     \u001b[0moptimizer\u001b[0m\u001b[1;33m.\u001b[0m\u001b[0mstep\u001b[0m\u001b[1;33m(\u001b[0m\u001b[1;33m)\u001b[0m\u001b[1;33m\u001b[0m\u001b[1;33m\u001b[0m\u001b[0m\n\u001b[0;32m      9\u001b[0m \u001b[1;33m\u001b[0m\u001b[0m\n",
      "\u001b[1;32mD:\\Program\\Anaconda\\lib\\site-packages\\torch\\_tensor.py\u001b[0m in \u001b[0;36mbackward\u001b[1;34m(self, gradient, retain_graph, create_graph, inputs)\u001b[0m\n\u001b[0;32m    361\u001b[0m                 \u001b[0mcreate_graph\u001b[0m\u001b[1;33m=\u001b[0m\u001b[0mcreate_graph\u001b[0m\u001b[1;33m,\u001b[0m\u001b[1;33m\u001b[0m\u001b[1;33m\u001b[0m\u001b[0m\n\u001b[0;32m    362\u001b[0m                 inputs=inputs)\n\u001b[1;32m--> 363\u001b[1;33m         \u001b[0mtorch\u001b[0m\u001b[1;33m.\u001b[0m\u001b[0mautograd\u001b[0m\u001b[1;33m.\u001b[0m\u001b[0mbackward\u001b[0m\u001b[1;33m(\u001b[0m\u001b[0mself\u001b[0m\u001b[1;33m,\u001b[0m \u001b[0mgradient\u001b[0m\u001b[1;33m,\u001b[0m \u001b[0mretain_graph\u001b[0m\u001b[1;33m,\u001b[0m \u001b[0mcreate_graph\u001b[0m\u001b[1;33m,\u001b[0m \u001b[0minputs\u001b[0m\u001b[1;33m=\u001b[0m\u001b[0minputs\u001b[0m\u001b[1;33m)\u001b[0m\u001b[1;33m\u001b[0m\u001b[1;33m\u001b[0m\u001b[0m\n\u001b[0m\u001b[0;32m    364\u001b[0m \u001b[1;33m\u001b[0m\u001b[0m\n\u001b[0;32m    365\u001b[0m     \u001b[1;32mdef\u001b[0m \u001b[0mregister_hook\u001b[0m\u001b[1;33m(\u001b[0m\u001b[0mself\u001b[0m\u001b[1;33m,\u001b[0m \u001b[0mhook\u001b[0m\u001b[1;33m)\u001b[0m\u001b[1;33m:\u001b[0m\u001b[1;33m\u001b[0m\u001b[1;33m\u001b[0m\u001b[0m\n",
      "\u001b[1;32mD:\\Program\\Anaconda\\lib\\site-packages\\torch\\autograd\\__init__.py\u001b[0m in \u001b[0;36mbackward\u001b[1;34m(tensors, grad_tensors, retain_graph, create_graph, grad_variables, inputs)\u001b[0m\n\u001b[0;32m    171\u001b[0m     \u001b[1;31m# some Python versions print out the first line of a multi-line function\u001b[0m\u001b[1;33m\u001b[0m\u001b[1;33m\u001b[0m\u001b[1;33m\u001b[0m\u001b[0m\n\u001b[0;32m    172\u001b[0m     \u001b[1;31m# calls in the traceback and some print out the last line\u001b[0m\u001b[1;33m\u001b[0m\u001b[1;33m\u001b[0m\u001b[1;33m\u001b[0m\u001b[0m\n\u001b[1;32m--> 173\u001b[1;33m     Variable._execution_engine.run_backward(  # Calls into the C++ engine to run the backward pass\n\u001b[0m\u001b[0;32m    174\u001b[0m         \u001b[0mtensors\u001b[0m\u001b[1;33m,\u001b[0m \u001b[0mgrad_tensors_\u001b[0m\u001b[1;33m,\u001b[0m \u001b[0mretain_graph\u001b[0m\u001b[1;33m,\u001b[0m \u001b[0mcreate_graph\u001b[0m\u001b[1;33m,\u001b[0m \u001b[0minputs\u001b[0m\u001b[1;33m,\u001b[0m\u001b[1;33m\u001b[0m\u001b[1;33m\u001b[0m\u001b[0m\n\u001b[0;32m    175\u001b[0m         allow_unreachable=True, accumulate_grad=True)  # Calls into the C++ engine to run the backward pass\n",
      "\u001b[1;31mKeyboardInterrupt\u001b[0m: "
     ]
    }
   ],
   "source": [
    "device = torch.device(\"cuda\" if torch.cuda.is_available() else \"cpu\")\n",
    "print(device)\n",
    "net = Net(24,10,1).to(device)\n",
    "nb_net = 4\n",
    "EPOCHS = 200\n",
    "optm = Adam(net.parameters(), lr = 0.001)\n",
    "criterion = nn.BCELoss()\n",
    "os.environ[\"CUDA_VISIBLE_DEVICES\"] = \"0\"\n",
    "for epoch in range(EPOCHS):\n",
    "    if epoch % 20 == 0:\n",
    "        vloss = []\n",
    "        accuracy = []\n",
    "        accuracy_exactly = []\n",
    "        data_size = len(data_validation)\n",
    "        for i in range(data_size):\n",
    "            inputs, labels = torch.from_numpy(data_validation[i]['X']).float(),torch.from_numpy(data_validation[i]['Y']).type(torch.FloatTensor).float()\n",
    "            A = torch.from_numpy(data_validation[i]['A']).float()\n",
    "            inputs = inputs.to(device)\n",
    "            labels = labels.to(device)\n",
    "            A = A.to(device)\n",
    "            loss, predictions = train(net,inputs,labels,A,optm,nb_net, criterion)\n",
    "            aux= torch.Tensor([0.5]).to(device)\n",
    "            y_hat = (predictions > aux).float() * 1\n",
    "            is_equal = torch.where(y_hat == labels,1,0)\n",
    "            vloss.append(loss.cpu().detach().numpy())\n",
    "            accuracy.append(is_equal.cpu().sum().detach().numpy()/\n",
    "                           len(labels))\n",
    "            accuracy_exactly.append(int(accuracy[-1]==1))\n",
    "            \n",
    "#         print(labels,\"\\n\",predictions)\n",
    "#         print(labels[0:10],y_hat[0:10])\n",
    "        print(\"Epoch %d,Loss = %f,Accuracy = %f,Accuracy_Exactly = %f\"%(epoch,np.mean(vloss),np.mean(accuracy),np.sum(accuracy_exactly)/len(accuracy_exactly)))\n",
    "\n",
    "    for i in range(len(data_train)):\n",
    "        valid_inputs, valid_labels = torch.from_numpy(data_train[i]['X']).float(),torch.from_numpy(data_train[i]['Y']).type(torch.FloatTensor).float()\n",
    "        A = torch.from_numpy(data_train[i]['A']).float()\n",
    "        valid_inputs = valid_inputs.to(device)\n",
    "        valid_labels = valid_labels.to(device)\n",
    "        A = A.to(device)\n",
    "        loss, predictions = train(net,valid_inputs,valid_labels,A,optm,nb_net, criterion)"
   ]
  },
  {
   "cell_type": "code",
   "execution_count": 143,
   "metadata": {},
   "outputs": [
    {
     "name": "stdout",
     "output_type": "stream",
     "text": [
      "tensor([0., 1., 1., 0., 0., 1., 1., 1., 0., 1., 0., 0., 1., 0., 0., 0., 0., 0.,\n",
      "        0., 0., 1., 0., 0., 1., 0., 0., 1., 0., 0., 0., 0., 0., 0., 0., 0., 0.,\n",
      "        0., 0., 0., 0., 0., 0., 0., 0., 0., 0., 0., 0., 0., 0., 0., 1., 0., 0.,\n",
      "        0., 1., 0., 0., 0., 0., 0., 0., 0., 0., 0., 0., 0., 0., 0., 0., 0., 0.,\n",
      "        0., 0., 1., 0., 0., 0., 0., 1., 0., 1., 0., 0., 0., 0., 0., 0., 0., 0.,\n",
      "        0., 0., 0., 0., 0., 0., 0., 1., 0., 0.]) \n",
      " tensor([0., 1., 1., 0., 0., 1., 1., 1., 0., 1., 0., 0., 1., 0., 0., 0., 0., 0.,\n",
      "        0., 0., 1., 0., 0., 1., 0., 0., 1., 0., 0., 0., 0., 0., 0., 0., 0., 0.,\n",
      "        0., 0., 0., 0., 0., 0., 0., 0., 0., 0., 0., 0., 0., 0., 0., 1., 0., 0.,\n",
      "        0., 1., 0., 0., 0., 0., 0., 0., 0., 0., 0., 0., 0., 0., 0., 0., 0., 0.,\n",
      "        0., 0., 1., 0., 0., 0., 0., 1., 0., 1., 0., 0., 0., 0., 0., 0., 0., 0.,\n",
      "        0., 0., 0., 0., 0., 0., 0., 1., 0., 0.])\n"
     ]
    }
   ],
   "source": [
    "print(labels,\"\\n\",y_hat)"
   ]
  },
  {
   "cell_type": "code",
   "execution_count": null,
   "metadata": {},
   "outputs": [],
   "source": []
  }
 ],
 "metadata": {
  "kernelspec": {
   "display_name": "Python 3",
   "language": "python",
   "name": "python3"
  },
  "language_info": {
   "codemirror_mode": {
    "name": "ipython",
    "version": 3
   },
   "file_extension": ".py",
   "mimetype": "text/x-python",
   "name": "python",
   "nbconvert_exporter": "python",
   "pygments_lexer": "ipython3",
   "version": "3.8.5"
  }
 },
 "nbformat": 4,
 "nbformat_minor": 5
}
