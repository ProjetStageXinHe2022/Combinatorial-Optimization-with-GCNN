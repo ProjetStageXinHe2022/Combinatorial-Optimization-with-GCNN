{
 "cells": [
  {
   "cell_type": "code",
   "execution_count": 1,
   "metadata": {},
   "outputs": [],
   "source": [
    "import os\n",
    "import numpy as np\n",
    "from tqdm import tqdm\n",
    "import matplotlib.pyplot as plt\n",
    "\n",
    "import torch\n",
    "import torch.nn as nn\n",
    "import torch.nn.functional as F\n",
    "from torch.optim import Adam\n",
    "from torch.utils.data import DataLoader\n",
    "from torch.nn import init\n",
    "from tabulate import tabulate\n",
    "\n",
    "from focal_Loss import *\n",
    "from utility import *"
   ]
  },
  {
   "cell_type": "markdown",
   "metadata": {},
   "source": [
    "# Read dataset"
   ]
  },
  {
   "cell_type": "code",
   "execution_count": 2,
   "metadata": {},
   "outputs": [
    {
     "name": "stderr",
     "output_type": "stream",
     "text": [
      "100%|████████████████████████████████████████████████████████████████████████████████| 300/300 [00:23<00:00, 12.74it/s]\n"
     ]
    }
   ],
   "source": [
    "data_name = \"SC500\"\n",
    "# data_name = \"CFL30\"\n",
    "data_path = \"DataSet\"+data_name+\"/\"\n",
    "split = [0.70,0.15,0.15]\n",
    "\n",
    "dataSet = load_data(data_path)\n",
    "\n",
    "data_train,data_validation,data_test = torch.utils.data.random_split(dataSet,[int(len(dataSet) * s) for s in split])\n",
    "# print(dataSet[0]['A'])\n",
    "# for l in dataSet[0]['A']:\n",
    "#     for i in l:\n",
    "#         print(int(i!=0),end = '\\t')\n",
    "#     print()\n",
    "\n",
    "# data_train_X,data_train_Y,data_validation_X,data_validation_Y,data_test_X,data_test_Y,A = load_data()\n",
    "# print(data_train_X.shape)\n",
    "# print(data_train_Y.shape)\n",
    "# print(A.shape)\n",
    "def setup_seed(seed):\n",
    "    torch.manual_seed(seed)\n",
    "    torch.cuda.manual_seed_all(seed)\n",
    "    np.random.seed(seed)\n",
    "    torch.backends.cudnn.deterministic = True\n",
    "# 设置随机数种子"
   ]
  },
  {
   "cell_type": "markdown",
   "metadata": {},
   "source": [
    "# GCN"
   ]
  },
  {
   "cell_type": "code",
   "execution_count": 7,
   "metadata": {},
   "outputs": [],
   "source": [
    "class simpleMLP(nn.Module):\n",
    "    def __init__(self, input_size, out_size,activate = nn.ReLU()):\n",
    "        super(simpleMLP, self).__init__()\n",
    "        self.linear = nn.Linear(input_size, out_size)\n",
    "        self.activate = activate\n",
    "        \n",
    "    def forward(self, x):\n",
    "        x = self.linear(x)\n",
    "        x = self.activate(x)\n",
    "        return x\n",
    "    \n",
    "# class GNN(nn.Module):\n",
    "#     def __init__(self, input_size,hidden_size,nb_MLP):\n",
    "#         super(GNN,self).__init__()\n",
    "#         self.mlp = nn.ModuleList(\n",
    "#             [simpleMLP(input_size, hidden_size)]+[simpleMLP(hidden_size, hidden_size) for i in range(nb_MLP - 1)]   \n",
    "#         )\n",
    "    \n",
    "#     def forward(self, x, A):\n",
    "#         for mlp_module in self.mlp:\n",
    "#             x = mlp_module(x)\n",
    "#             x = A @ x\n",
    "#         return x\n",
    "    \n",
    "class GNN(nn.Module):\n",
    "    def __init__(self, input_size,hidden_size,nb_MLP):\n",
    "        super(GNN,self).__init__()\n",
    "        self.input_mlp = simpleMLP(input_size, hidden_size)\n",
    "        self.mlp = nn.ModuleList(\n",
    "            [simpleMLP(hidden_size, hidden_size) for i in range(nb_MLP - 1)]   \n",
    "        )\n",
    "    \n",
    "    def forward(self, x, A):\n",
    "        x = self.input_mlp(x)\n",
    "        x = A @ x\n",
    "        for mlp_module in self.mlp:\n",
    "            x = mlp_module(x)\n",
    "            x = A @ x\n",
    "        return x\n",
    "    \n",
    "class VariablePredictor(nn.Module):\n",
    "    def __init__(self, input_size,hidden_size,nb_MLP):\n",
    "        super(VariablePredictor,self).__init__()\n",
    "        self.GNN = GNN(input_size,hidden_size,nb_MLP)\n",
    "        self.outlayer = simpleMLP(hidden_size,1,nn.Sigmoid())    \n",
    "    \n",
    "    def forward(self,x,A):\n",
    "        x = self.GNN(x,A)\n",
    "        return self.outlayer(x)\n",
    "\n",
    "\n",
    "\n",
    "\n",
    "class VariablePredictor_OnlyOutLayer(nn.Module):\n",
    "    def __init__(self, input_size,hidden_size,nb_MLP):\n",
    "        super(VariablePredictor_OnlyOutLayer,self).__init__()\n",
    "#         self.GNN = GNN(input_size,hidden_size,nb_MLP)\n",
    "        self.outlayer = simpleMLP(hidden_size,1,nn.Sigmoid())    \n",
    "    \n",
    "    def forward(self,x,A):\n",
    "#         x = self.GNN(x,A)\n",
    "        return self.outlayer(x)        "
   ]
  },
  {
   "cell_type": "markdown",
   "metadata": {},
   "source": [
    "## Train\n"
   ]
  },
  {
   "cell_type": "code",
   "execution_count": 8,
   "metadata": {},
   "outputs": [],
   "source": [
    "def train(model, x, y,A, optimizer,criterion):\n",
    "    optimizer.zero_grad()\n",
    "    output = model(x,A)[:len(y)].squeeze(dim=-1)\n",
    "#     print(\"output\",output)\n",
    "    loss =criterion(output,y)\n",
    "#     print(\"loss\",loss)\n",
    "    loss.backward()\n",
    "    optimizer.step()\n",
    "\n",
    "    return loss, output\n",
    "\n",
    "\n",
    "def valide(model,criterion,data_validation,proportion = 0.7):\n",
    "        vloss = []\n",
    "        accuracy_value = []\n",
    "        accuracy_instance = []\n",
    "        \n",
    "        accuracy_one = []\n",
    "        accuracy_one_predict = []\n",
    "        nb_predict_one = []\n",
    "        nb_one = []\n",
    "        \n",
    "        accuracy_zero = []\n",
    "        accuracy_zero_predict = []\n",
    "        nb_zero = []\n",
    "        nb_predict_zero = []\n",
    "        \n",
    "        accuracy_fixe_one = []\n",
    "        accuracy_fixe_zero = []  \n",
    "        accuracy_fixe = []\n",
    "        \n",
    "        data_size = len(data_validation)\n",
    "        for i in range(data_size):\n",
    "            if device == torch.device(\"cuda\"):\n",
    "                inputs, labels = data_validation[i][0],data_validation[i][1]#torch.from_numpy(data_train[i]['X']).float(),torch.from_numpy(data_train[i]['Y']).type(torch.FloatTensor).float()\n",
    "                A =data_validation[i][2]# torch.from_numpy(data_train[i]['A']).float()\n",
    "            else:\n",
    "                inputs, labels =torch.from_numpy(data_train[i]['X']).float(),torch.from_numpy(data_train[i]['Y']).type(torch.FloatTensor).float()\n",
    "                A =torch.from_numpy(data_train[i]['A']).float()\n",
    "            predictions = model(inputs,A)[:len(labels)].squeeze(dim=-1)\n",
    "            loss =criterion(predictions,labels)\n",
    "            A = A.cpu()\n",
    "            labels = labels.cpu()\n",
    "            predictions = predictions.cpu()\n",
    "            \n",
    "            nb_one_total = torch.sum(torch.where(labels == 1,1,0))\n",
    "            nb_zero_total = (len(labels) - nb_one_total)\n",
    "            aux= torch.Tensor([0.5])\n",
    "            y_hat = (predictions > aux).float() * 1\n",
    "            is_equal = torch.where(y_hat == labels,1,0)\n",
    "            vloss.append(loss.cpu().detach().numpy())\n",
    "            accuracy_value.append(is_equal.cpu().sum().detach().numpy()/\n",
    "                           len(labels))\n",
    "            accuracy_instance.append(int(accuracy_value[-1]==1))\n",
    "            #accuracy proportion\n",
    "            predictions_abs =  np.abs(0.5 - predictions.detach().numpy())\n",
    "            thresholds = abs(np.sort(-predictions_abs))[int(proportion * len(predictions.cpu().detach().numpy()))- 1]\n",
    "#             thresholds_low = np.sort(predictions_abs)[int(proportion_low * nb_zero_total]\n",
    "#             thresholds_up = abs(np.sort(-predictions_abs))[int(proportion_up * nb_one_total)]\n",
    "            \n",
    "            #accuracy for differents labels(0 or 1)\n",
    "            nb_one_fixe = 0\n",
    "            nb_zero_fixe = 0\n",
    "            nb_correct_one = 0\n",
    "            nb_correct_zero = 0\n",
    "            nb_correct_fixe_one = 0\n",
    "            nb_correct_fixe_zero = 0\n",
    "            nb_correct_fixe = 0\n",
    "            nb_fixe = 0 \n",
    "            for j,v in enumerate(is_equal):\n",
    "                if labels[j] == 1:\n",
    "                    nb_correct_one += v\n",
    "                else:\n",
    "                    nb_correct_zero += v\n",
    "\n",
    "                if predictions_abs[j] >= thresholds:             \n",
    "                    if labels[j]:\n",
    "                        nb_correct_fixe_one += v\n",
    "                    else:\n",
    "                        nb_correct_fixe_zero += v\n",
    "                        \n",
    "                    if y_hat[j]:\n",
    "                        nb_one_fixe += 1\n",
    "                    else:\n",
    "                        nb_zero_fixe += 1\n",
    "\n",
    "#                 if predictions_abs[j] <= thresholds_low:\n",
    "#                     if labels[j] == 0:\n",
    "#                         nb_correct_fixe_zero += v\n",
    "#                     nb_zero_to_fixe += 1\n",
    "#                 if predictions_abs[j] >= thresholds_up:\n",
    "#                     if labels[j] == 1:\n",
    "#                         nb_correct_fixe_one += v\n",
    "#                     nb_one_to_fixe += 1\n",
    "                    \n",
    "            nb_one_total = torch.sum(torch.where(labels == 1,1,0))\n",
    "            nb_one_predict = torch.sum(torch.where(y_hat == 1,1,0))\n",
    "            accuracy_one.append((nb_correct_one/nb_one_total))\n",
    "            accuracy_one_predict.append((nb_correct_one/nb_one_predict) if nb_one_predict > 0 else 0)\n",
    "            nb_predict_one.append(nb_one_predict)\n",
    "            nb_one.append(nb_one_total)\n",
    "            \n",
    "            nb_zero_predict = (len(labels) - nb_one_predict)\n",
    "            accuracy_zero.append((nb_correct_zero/nb_zero_total))\n",
    "            accuracy_zero_predict.append((nb_correct_zero/nb_zero_predict) if nb_zero_predict > 0 else 0)\n",
    "            nb_predict_zero.append(nb_zero_predict)\n",
    "            nb_zero.append(nb_zero_total)\n",
    "            \n",
    "            accuracy_fixe.append((nb_correct_fixe_one+nb_correct_fixe_zero)/(nb_one_fixe+nb_zero_fixe))\n",
    "            accuracy_fixe_one.append(nb_correct_fixe_one/nb_one_fixe if nb_one_fixe>0 else 0)\n",
    "            accuracy_fixe_zero.append(nb_correct_fixe_zero/nb_zero_fixe if nb_zero_fixe>0 else 0)\n",
    "            \n",
    "        #     print(nb_correct_fixe.cpu(),nb_var_fixe)\n",
    "        #         print(labels,\"\\n\",predictions)\n",
    "        #         print(labels[0:10],y_hat[0:10])\n",
    "        print(\"Loss = %f,Accuracy_value = %f,Accuracy_instance = %f\"\\\n",
    "              %(np.mean(vloss),np.mean(accuracy_value),np.sum(accuracy_instance)/len(accuracy_instance)))\n",
    "        print(\"Label_One_Predict_One = %f,Predict_One_Label_One = %f,Nombre_Predict_One = %f,Nombre_One_Mean = %f\"\\\n",
    "              %(np.mean(accuracy_one),np.mean(accuracy_one_predict),np.mean(nb_predict_one),np.mean(nb_one)))\n",
    "        print(\"Label_Zero_Predict_Zero = %f,Label_Zero_Predict_Zero = %f,Nombre_Predict_Zero = %f,Nombre_Zero_Mean = %f\"\\\n",
    "              %(np.mean(accuracy_zero),np.mean(accuracy_zero_predict),np.mean(nb_predict_zero),np.mean(nb_zero)))\n",
    "        print(\"Accuracy_fixe_mean = %f,Accuracy_fixe_one = %f,Accuracy_fixe_zero = %f\"\\\n",
    "              %(np.mean(accuracy_fixe),np.mean(accuracy_fixe_one),np.mean(accuracy_fixe_zero)))\n",
    "        return np.mean(accuracy_value),np.sum(accuracy_instance)/len(accuracy_instance),np.mean(accuracy_fixe_one),np.mean(accuracy_fixe_zero)"
   ]
  },
  {
   "cell_type": "code",
   "execution_count": 26,
   "metadata": {},
   "outputs": [
    {
     "name": "stdout",
     "output_type": "stream",
     "text": [
      "cuda\n"
     ]
    }
   ],
   "source": [
    "device = torch.device(\"cuda\" if torch.cuda.is_available() else \"cpu\")\n",
    "# device = \"cpu\"\n",
    "print(device)\n",
    "os.environ[\"CUDA_VISIBLE_DEVICES\"] = \"0\"\n",
    "EPOCHS = 300\n",
    "nb_mlp = 1\n",
    "gam = 0.5\n",
    "# criterion = nn.BCELoss()\n",
    "criterion = FocalLoss(gamma=gam)\n",
    "# torch.cuda.get_device_name(device)\n",
    "# print(torch.cuda.get_device_name(next(net.parameters()).device))\n"
   ]
  },
  {
   "cell_type": "code",
   "execution_count": 27,
   "metadata": {},
   "outputs": [
    {
     "name": "stdout",
     "output_type": "stream",
     "text": [
      "cuda\n"
     ]
    }
   ],
   "source": [
    "if device == torch.device(\"cuda\"):\n",
    "    print(device)\n",
    "#     torch.cuda.empty_cache()\n",
    "    data_train_gpu = []\n",
    "    for i in range(len(data_train)):\n",
    "        inputs, labels = torch.from_numpy(data_train[i]['X']).float(),torch.from_numpy(data_train[i]['Y']).type(torch.FloatTensor).float()\n",
    "        A = torch.from_numpy(data_train[i]['A']).float()\n",
    "        inputs = inputs.to(device)\n",
    "        labels = labels.to(device)\n",
    "        A = A.to(device)\n",
    "        data_train_gpu.append([inputs,labels,A])\n",
    "    data_valide_gpu = []\n",
    "    for i in range(len(data_validation)):\n",
    "        inputs, labels = torch.from_numpy(data_validation[i]['X']).float(),torch.from_numpy(data_validation[i]['Y']).type(torch.FloatTensor).float()\n",
    "        A = torch.from_numpy(data_validation[i]['A']).float()\n",
    "        inputs = inputs.to(device)\n",
    "        labels = labels.to(device)\n",
    "        A = A.to(device)\n",
    "        data_valide_gpu.append([inputs,labels,A])\n",
    "    data_test_gpu = []\n",
    "    for i in range(len(data_test)):\n",
    "        inputs, labels = torch.from_numpy(data_test[i]['X']).float(),torch.from_numpy(data_test[i]['Y']).type(torch.FloatTensor).float()\n",
    "        A = torch.from_numpy(data_test[i]['A']).float()\n",
    "        inputs = inputs.to(device)\n",
    "        labels = labels.to(device)\n",
    "        A = A.to(device)\n",
    "        data_test_gpu.append([inputs,labels,A])"
   ]
  },
  {
   "cell_type": "code",
   "execution_count": 29,
   "metadata": {
    "scrolled": false
   },
   "outputs": [
    {
     "name": "stderr",
     "output_type": "stream",
     "text": [
      "\r",
      "  0%|                                                                                          | 0/200 [00:00<?, ?it/s]"
     ]
    },
    {
     "name": "stdout",
     "output_type": "stream",
     "text": [
      "Loss = 0.123449,Accuracy_value = 0.995289,Accuracy_instance = 0.711111\n",
      "Label_One_Predict_One = 0.951483,Predict_One_Label_One = 0.948693,Nombre_Predict_One = 22.444444,Nombre_One_Mean = 22.400000\n",
      "Label_Zero_Predict_Zero = 0.997475,Label_Zero_Predict_Zero = 0.997567,Nombre_Predict_Zero = 477.555556,Nombre_Zero_Mean = 477.600000\n",
      "Accuracy_fixe_mean = 0.998443,Accuracy_fixe_one = 0.967562,Accuracy_fixe_zero = 0.999606\n"
     ]
    },
    {
     "name": "stderr",
     "output_type": "stream",
     "text": [
      " 25%|████████████████████▎                                                            | 50/200 [00:20<00:58,  2.58it/s]"
     ]
    },
    {
     "name": "stdout",
     "output_type": "stream",
     "text": [
      "Loss = 0.123449,Accuracy_value = 0.995289,Accuracy_instance = 0.711111\n",
      "Label_One_Predict_One = 0.951483,Predict_One_Label_One = 0.948693,Nombre_Predict_One = 22.444444,Nombre_One_Mean = 22.400000\n",
      "Label_Zero_Predict_Zero = 0.997475,Label_Zero_Predict_Zero = 0.997567,Nombre_Predict_Zero = 477.555556,Nombre_Zero_Mean = 477.600000\n",
      "Accuracy_fixe_mean = 0.997562,Accuracy_fixe_one = 0.962296,Accuracy_fixe_zero = 0.999038\n"
     ]
    },
    {
     "name": "stderr",
     "output_type": "stream",
     "text": [
      " 50%|████████████████████████████████████████                                        | 100/200 [00:40<00:39,  2.54it/s]"
     ]
    },
    {
     "name": "stdout",
     "output_type": "stream",
     "text": [
      "Loss = 0.123449,Accuracy_value = 0.995289,Accuracy_instance = 0.711111\n",
      "Label_One_Predict_One = 0.951483,Predict_One_Label_One = 0.948693,Nombre_Predict_One = 22.444444,Nombre_One_Mean = 22.400000\n",
      "Label_Zero_Predict_Zero = 0.997475,Label_Zero_Predict_Zero = 0.997567,Nombre_Predict_Zero = 477.555556,Nombre_Zero_Mean = 477.600000\n",
      "Accuracy_fixe_mean = 0.997259,Accuracy_fixe_one = 0.961265,Accuracy_fixe_zero = 0.998803\n"
     ]
    },
    {
     "name": "stderr",
     "output_type": "stream",
     "text": [
      " 75%|████████████████████████████████████████████████████████████                    | 150/200 [01:01<00:19,  2.55it/s]"
     ]
    },
    {
     "name": "stdout",
     "output_type": "stream",
     "text": [
      "Loss = 0.123449,Accuracy_value = 0.995289,Accuracy_instance = 0.711111\n",
      "Label_One_Predict_One = 0.951483,Predict_One_Label_One = 0.948693,Nombre_Predict_One = 22.444444,Nombre_One_Mean = 22.400000\n",
      "Label_Zero_Predict_Zero = 0.997475,Label_Zero_Predict_Zero = 0.997567,Nombre_Predict_Zero = 477.555556,Nombre_Zero_Mean = 477.600000\n",
      "Accuracy_fixe_mean = 0.996996,Accuracy_fixe_one = 0.958721,Accuracy_fixe_zero = 0.998709\n"
     ]
    },
    {
     "name": "stderr",
     "output_type": "stream",
     "text": [
      "100%|████████████████████████████████████████████████████████████████████████████████| 200/200 [01:22<00:00,  2.43it/s]\n"
     ]
    }
   ],
   "source": [
    "# net = VariablePredictor(24,50,nb_mlp)\n",
    "# net.to(device)\n",
    "# optm = Adam(net.parameters(), lr = 0.0001)\n",
    "\n",
    "# hist = []\n",
    "\n",
    "for epoch in tqdm(range(EPOCHS)):\n",
    "    #validation\n",
    "    if epoch % 50 == 0:\n",
    "        if device == torch.device(\"cuda\"):\n",
    "            v = [valide(net,criterion,data_valide_gpu,0.7)]\n",
    "            hist.append([epoch]+v)\n",
    "        else:\n",
    "            valide(net,criterion,data_validation,0.7)\n",
    "    #train\n",
    "    for i in range(len(data_train)):\n",
    "        if device == torch.device(\"cuda\"):\n",
    "            train_inputs, train_labels = data_train_gpu[i][0],data_train_gpu[i][1]#torch.from_numpy(data_train[i]['X']).float(),torch.from_numpy(data_train[i]['Y']).type(torch.FloatTensor).float()\n",
    "            A =data_train_gpu[i][2]# torch.from_numpy(data_train[i]['A']).float()\n",
    "        else:\n",
    "            train_inputs, train_labels = torch.from_numpy(data_train[i]['X']).float(),torch.from_numpy(data_train[i]['Y']).type(torch.FloatTensor).float()\n",
    "            A = torch.from_numpy(data_train[i]['A']).float()\n",
    "        loss, predictions = train(net,train_inputs,train_labels,A,optm, criterion)"
   ]
  },
  {
   "cell_type": "code",
   "execution_count": 65,
   "metadata": {},
   "outputs": [
    {
     "name": "stdout",
     "output_type": "stream",
     "text": [
      "[[0, (0.08426666666666666, 0.0, 0.0005924316433568795, 0.17291545470555622)], [50, (0.9950222222222223, 0.6222222222222222, 0.022222222222222223, 0.999746)], [100, (0.995288888888889, 0.6888888888888889, 0.0, 0.9997472)], [150, (0.995288888888889, 0.6888888888888889, 0.0, 0.9997494)], [200, (0.9952000000000001, 0.6444444444444445, 0.0, 0.99974906)], [250, (0.9952, 0.6444444444444445, 0.022222222222222223, 0.99968517)], [300, (0.995288888888889, 0.6444444444444445, 0.2222222222222222, 0.99955624)], [350, (0.995288888888889, 0.6444444444444445, 0.3333333333333333, 0.999239)], [400, (0.995288888888889, 0.6444444444444445, 0.3333333333333333, 0.9993014)], [450, (0.995288888888889, 0.6444444444444445, 0.3333333333333333, 0.99924314)]]\n"
     ]
    }
   ],
   "source": [
    "print(hist)\n",
    "histFL = hist"
   ]
  },
  {
   "cell_type": "code",
   "execution_count": 67,
   "metadata": {},
   "outputs": [
    {
     "data": {
      "text/plain": [
       "[[0, (0.08426666666666666, 0.0, 0.0005924316433568795, 0.17291545470555622)],\n",
       " [50,\n",
       "  (0.9950222222222223, 0.6222222222222222, 0.022222222222222223, 0.999746)],\n",
       " [100, (0.995288888888889, 0.6888888888888889, 0.0, 0.9997472)],\n",
       " [150, (0.995288888888889, 0.6888888888888889, 0.0, 0.9997494)],\n",
       " [200, (0.9952000000000001, 0.6444444444444445, 0.0, 0.99974906)],\n",
       " [250, (0.9952, 0.6444444444444445, 0.022222222222222223, 0.99968517)],\n",
       " [300,\n",
       "  (0.995288888888889, 0.6444444444444445, 0.2222222222222222, 0.99955624)],\n",
       " [350, (0.995288888888889, 0.6444444444444445, 0.3333333333333333, 0.999239)],\n",
       " [400, (0.995288888888889, 0.6444444444444445, 0.3333333333333333, 0.9993014)],\n",
       " [450,\n",
       "  (0.995288888888889, 0.6444444444444445, 0.3333333333333333, 0.99924314)]]"
      ]
     },
     "execution_count": 67,
     "metadata": {},
     "output_type": "execute_result"
    }
   ],
   "source": [
    "histBCE\n",
    "histFL"
   ]
  },
  {
   "cell_type": "code",
   "execution_count": 31,
   "metadata": {},
   "outputs": [
    {
     "name": "stdout",
     "output_type": "stream",
     "text": [
      "Loss = 0.124041,Accuracy_value = 0.992444,Accuracy_instance = 0.622222\n",
      "Label_One_Predict_One = 0.917331,Predict_One_Label_One = 0.920504,Nombre_Predict_One = 21.044444,Nombre_One_Mean = 21.177778\n",
      "Label_Zero_Predict_Zero = 0.996168,Label_Zero_Predict_Zero = 0.995893,Nombre_Predict_Zero = 478.955556,Nombre_Zero_Mean = 478.822222\n",
      "Accuracy_fixe_mean = 0.995849,Accuracy_fixe_one = 0.938945,Accuracy_fixe_zero = 0.998332\n"
     ]
    }
   ],
   "source": [
    "_=valide(net,criterion,data_test_gpu,proportion = 0.9)"
   ]
  },
  {
   "cell_type": "code",
   "execution_count": 68,
   "metadata": {},
   "outputs": [
    {
     "name": "stdout",
     "output_type": "stream",
     "text": [
      "Loss = 0.042933,Accuracy_value = 0.993422,Accuracy_instance = 0.555556\n",
      "Label_One_Predict_One = 0.925031,Predict_One_Label_One = 0.927614,Nombre_Predict_One = 22.355556,Nombre_One_Mean = 22.444444\n",
      "Label_Zero_Predict_Zero = 0.996638,Label_Zero_Predict_Zero = 0.996457,Nombre_Predict_Zero = 477.644444,Nombre_Zero_Mean = 477.555556\n",
      "Accuracy_fixe_mean = 0.999224,Accuracy_fixe_one = 0.400000,Accuracy_fixe_zero = 0.999223\n"
     ]
    },
    {
     "data": {
      "text/plain": [
       "(0.9934222222222222, 0.5555555555555556, 0.4, 0.9992228)"
      ]
     },
     "execution_count": 68,
     "metadata": {},
     "output_type": "execute_result"
    }
   ],
   "source": [
    "_=valide(net,criterion,data_test_gpu,proportion = 0.8)"
   ]
  },
  {
   "cell_type": "markdown",
   "metadata": {},
   "source": [
    "## Test"
   ]
  },
  {
   "cell_type": "code",
   "execution_count": 32,
   "metadata": {},
   "outputs": [],
   "source": [
    "# nb_mlp = 1\n",
    "# net = VariablePredictor(24,50,nb_mlp)\n",
    "# net.to(device)\n",
    "# data_name = \"SC100\"\n",
    "\n",
    "model_path = \"model/\"+data_name+\"_MLP\"+nb_mlp.__str__()+\"Gamma0.5_Epoch300\"\n",
    "torch.save(net.state_dict(),model_path)\n"
   ]
  },
  {
   "cell_type": "code",
   "execution_count": null,
   "metadata": {},
   "outputs": [],
   "source": [
    "# model_path = \"model/SC1000_MLP3_NoA\"\n",
    "model_path = \"model/CFL30_MLP3_NoA\"\n",
    "torch.save(net.state_dict(),model_path)"
   ]
  },
  {
   "cell_type": "code",
   "execution_count": 79,
   "metadata": {},
   "outputs": [
    {
     "name": "stdout",
     "output_type": "stream",
     "text": [
      "Loss = 0.086726,Accuracy_value = 0.993511,Accuracy_instance = 0.600000\n",
      "Label_One_Predict_One = 0.927759,Predict_One_Label_One = 0.927113,Nombre_Predict_One = 22.444444,Nombre_One_Mean = 22.444444\n",
      "Label_Zero_Predict_Zero = 0.996592,Label_Zero_Predict_Zero = 0.996596,Nombre_Predict_Zero = 477.555556,Nombre_Zero_Mean = 477.555556\n",
      "Accuracy_fixe_mean = 0.996271,Accuracy_fixe_one = 0.928301,Accuracy_fixe_zero = 0.999600\n"
     ]
    },
    {
     "data": {
      "text/plain": [
       "(0.9935111111111112, 0.6, 0.92830133, 0.99960005)"
      ]
     },
     "execution_count": 79,
     "metadata": {},
     "output_type": "execute_result"
    }
   ],
   "source": [
    "# model_path = \"model/SC1000_MLP1\"\n",
    "model = VariablePredictor(24,50,1).to(device)\n",
    "model.load_state_dict(torch.load(model_path))\n",
    "valide(model,criterion,data_test_gpu,proportion = 0.8)"
   ]
  },
  {
   "cell_type": "code",
   "execution_count": null,
   "metadata": {},
   "outputs": [],
   "source": [
    "# model_path = \"model/SC1000_NoCov_OnlyOutLayer\"\n",
    "model_path = \"model/CFL30_NoCov_OnlyOutLayer\"\n",
    "model = VariablePredictor_OnlyOutLayer(24,24,nb_mlp).to(device)\n",
    "model.load_state_dict(torch.load(model_path))\n",
    "valide(model,criterion,data_test,proportion = 0.7)"
   ]
  },
  {
   "cell_type": "code",
   "execution_count": null,
   "metadata": {},
   "outputs": [],
   "source": [
    "model = VariablePredictor(24,50,nb_mlp).to(device)\n"
   ]
  },
  {
   "cell_type": "markdown",
   "metadata": {},
   "source": [
    "# Analyse\n"
   ]
  },
  {
   "cell_type": "code",
   "execution_count": 15,
   "metadata": {},
   "outputs": [],
   "source": [
    "def predict(model,data_validation):\n",
    "        predictions_values = []\n",
    "        is_predict_correct = []\n",
    "        data_size = len(data_validation)\n",
    "        y_hats = []\n",
    "        labels = []\n",
    "        for i in range(data_size):\n",
    "            if data_validation[0][0].device == \"cpu\":\n",
    "                inputs, label = torch.from_numpy(data_validation[i]['X']).float(),\\\n",
    "                                torch.from_numpy(data_validation[i]['Y']).type(torch.FloatTensor).float()\n",
    "                A = torch.from_numpy(data_validation[i]['A']).float()\n",
    "                inputs = inputs.to(device)\n",
    "                label = label.to(device)\n",
    "                A = A.to(device)\n",
    "            else:\n",
    "                inputs, label = data_validation[i][0],data_validation[i][1]\n",
    "                A =data_validation[i][2]\n",
    "            predictions = model(inputs,A)[:len(label)].squeeze(dim=-1)\n",
    "            label = label.cpu()\n",
    "            predictions = predictions.cpu()\n",
    "            predictions_values.append(predictions)\n",
    "\n",
    "            aux= torch.Tensor([0.5])\n",
    "            y_hat = (predictions > aux).float() * 1\n",
    "            is_equal = torch.where(y_hat == label,1,0)\n",
    "            is_predict_correct.append(is_equal)\n",
    "            y_hats.append(y_hat)\n",
    "            labels.append(label)\n",
    "        return predictions_values,labels,y_hats,is_predict_correct\n",
    "\n",
    "def fixe_proportionally(predictions_values,labels,y_hat,is_predict_correct,proportion = 0.7): \n",
    "        hist_nb_one_fixe = []\n",
    "        hist_nb_zero_fixe = []\n",
    "        accuracy_fixe_one = []\n",
    "        accuracy_fixe_zero = []  \n",
    "        \n",
    "        data_size = len(predictions_values)\n",
    "        for i in range(data_size):\n",
    "            problem_size = len(y_hat[i])\n",
    "            nb_one_total = torch.sum(torch.where(labels[i] == 1,1,0))\n",
    "            nb_zero_total = (problem_size - nb_one_total)\n",
    "            aux= torch.Tensor([0.5])\n",
    "            predictions_norm =  np.abs(0.5 - predictions_values[i].detach().numpy())\n",
    "            thresholds = abs(np.sort(-predictions_norm))[int(proportion * problem_size)- 1]\n",
    "            \n",
    "            nb_one_fixe = 0\n",
    "            nb_zero_fixe = 0\n",
    "            nb_correct_fixe_one = 0\n",
    "            nb_correct_fixe_zero = 0\n",
    "            nb_correct_fixe = 0\n",
    "            nb_fixe = 0 \n",
    "            for j,v in enumerate(is_predict_correct[i]):\n",
    "                if predictions_norm[j] >= thresholds:             \n",
    "                    if labels[i][j]:\n",
    "                        nb_correct_fixe_one += v\n",
    "                    else:\n",
    "                        nb_correct_fixe_zero += v\n",
    "                        \n",
    "                    if y_hat[i][j]:\n",
    "                        nb_one_fixe += 1\n",
    "                    else:\n",
    "                        nb_zero_fixe += 1\n",
    "            hist_nb_one_fixe.append(nb_one_fixe)\n",
    "            hist_nb_zero_fixe.append(nb_zero_fixe)\n",
    "            accuracy_fixe_one.append(nb_correct_fixe_one/nb_one_fixe if nb_one_fixe>0 else 0)\n",
    "            accuracy_fixe_zero.append(nb_correct_fixe_zero/nb_zero_fixe if nb_zero_fixe>0 else 0)\n",
    "        return np.mean(accuracy_fixe_one),np.mean(hist_nb_one_fixe),np.mean(accuracy_fixe_zero),np.mean(hist_nb_zero_fixe)\n",
    "    \n",
    "def fixe_one_epsilon(predictions_values,y_hats,labels,e = 0.01):\n",
    "    nbs_fixe = []\n",
    "    accs_fixe = []\n",
    "    props = []\n",
    "    data_size = len(data_validation)\n",
    "    thresholds = 1 - e\n",
    "    for i in range(data_size):\n",
    "        problem_size = len(labels[i])\n",
    "        nb_fixe = 0\n",
    "        nb_correct_fixe = 0\n",
    "        nb_one_total = torch.sum(torch.where(labels[i] == 1,1,0))\n",
    "        for j in range(problem_size):\n",
    "            if predictions[i][j] >= thresholds:  \n",
    "                nb_fixe += 1\n",
    "                if y_hats[i][j] and labels[i][j]:\n",
    "                    nb_correct_fixe += 1\n",
    "        nbs_fixe.append(nb_fixe)\n",
    "        accs_fixe.append(nb_correct_fixe/nb_fixe if nb_fixe > 0 else 0)        \n",
    "        props.append(nb_correct_fixe/nb_one_total)\n",
    "    return np.mean(accs_fixe),np.mean(nbs_fixe),np.mean(props)"
   ]
  },
  {
   "cell_type": "code",
   "execution_count": 58,
   "metadata": {},
   "outputs": [],
   "source": [
    "# model_name = data_name+\"_MLP\"+nb_mlp.__str__()+\"Gamma0.5\"\n",
    "nb_mlp = 3\n",
    "data_name = \"SC1000\"\n",
    "model_name = data_name+\"_MLP\"+nb_mlp.__str__()\n",
    "model_path = \"model/\"+model_name\n",
    "model = VariablePredictor(24,50,nb_mlp).to(device)\n",
    "model.load_state_dict(torch.load(model_path))\n",
    "predictions,labels,y_hats,is_corrects = predict(model,data_test_gpu)\n"
   ]
  },
  {
   "cell_type": "code",
   "execution_count": 59,
   "metadata": {},
   "outputs": [
    {
     "name": "stdout",
     "output_type": "stream",
     "text": [
      "  Epsilon    Accuracy_fixe_one    Number_fixe_one    Correct_One/Total_One\n",
      "---------  -------------------  -----------------  -----------------------\n",
      "     0               0                  0                      0\n",
      "     0.01            0                  0                      0\n",
      "     0.02            0                  0                      0\n",
      "     0.03            0                  0                      0\n",
      "     0.04            0                  0                      0\n",
      "     0.05            0                  0                      0\n",
      "     0.06            0                  0                      0\n",
      "     0.07            0                  0                      0\n",
      "     0.08            0                  0                      0\n",
      "     0.09            0                  0                      0\n",
      "     0.1             0                  0                      0\n",
      "     0.11            0.0222222          0.0222222              0.000766284\n",
      "     0.12            0.0222222          0.0222222              0.000766284\n",
      "     0.13            0.0222222          0.0222222              0.000766284\n",
      "     0.14            0.0222222          0.0222222              0.000766284\n",
      "     0.15            0.0222222          0.0222222              0.000766284\n",
      "     0.16            0.0222222          0.0222222              0.000766284\n",
      "     0.17            0.0666667          0.0666667              0.00232622\n",
      "     0.18            0.0666667          0.0666667              0.00232622\n",
      "     0.19            0.0666667          0.0666667              0.00232622\n",
      "     0.2             0.0666667          0.0666667              0.00232622\n",
      "     0.21            0.0666667          0.0666667              0.00232622\n",
      "     0.22            0.0666667          0.0666667              0.00232622\n",
      "     0.23            0.0888889          0.0888889              0.00306696\n",
      "     0.24            0.0888889          0.0888889              0.00306696\n",
      "     0.25            0.0888889          0.111111               0.0038077\n",
      "     0.26            0.0888889          0.133333               0.00457398\n",
      "     0.27            0.111111           0.155556               0.00531472\n",
      "     0.28            0.111111           0.2                    0.00684729\n",
      "     0.29            0.133333           0.222222               0.00761357\n",
      "     0.3             0.155556           0.266667               0.0092029\n",
      "     0.4             0.222222           0.555556               0.0193896\n",
      "     0.5             0.266667           1.11111                0.0392334\n"
     ]
    },
    {
     "data": {
      "image/png": "[encoded data removed]",
      "text/plain": [
       "<Figure size 432x288 with 1 Axes>"
      ]
     },
     "metadata": {
      "needs_background": "light"
     },
     "output_type": "display_data"
    }
   ],
   "source": [
    "test_epsilon = []\n",
    "epsilons = [0.01 * i for i in range(0,30,1)]+[0.01 * i for i in range(30,51,10)]\n",
    "for e in epsilons:\n",
    "    test_epsilon.append([e]+list(fixe_one_epsilon(predictions,y_hats,labels,e)))\n",
    "print(tabulate(test_epsilon, headers=[\"Epsilon\", \"Accuracy_fixe_one\", \"Number_fixe_one\",\"Correct_One/Total_One\"]))\n",
    "\n",
    "fig, ax = plt.subplots()\n",
    "values = np.array(test_epsilon).T\n",
    "acc_one,= ax.plot(values[0], values[1], linewidth=2.0,label=r'Acc_fixe_one')\n",
    "maxv = int(max(values[2]))\n",
    "nb_one,= ax.plot(values[0], values[2]/maxv, linewidth=2.0,label=r'Nb_fixe_one/'+maxv.__str__())\n",
    "plt.legend(handles=[acc_one,nb_one],loc=\"best\",)\n",
    "plt.title(model_name+\"_epsilon\")\n",
    "plt.savefig(\"image/\"+model_name+\"_epsilon.png\")\n",
    "plt.grid()\n",
    "plt.show()\n"
   ]
  },
  {
   "cell_type": "code",
   "execution_count": 60,
   "metadata": {},
   "outputs": [
    {
     "name": "stdout",
     "output_type": "stream",
     "text": [
      "  Proportion    Accuracy_fixe_one    Number_fixe_one    Accuracy_fixe_zero    Number_fixe_zero\n",
      "------------  -------------------  -----------------  --------------------  ------------------\n",
      "        0.1             0                  0                      0.999906             254.644\n",
      "        0.2             0                  0                      0.999906             275.867\n",
      "        0.3             0                  0                      0.999906             294.156\n",
      "        0.4             0                  0                      0.999906             323.756\n",
      "        0.5             0                  0                      0.999817             354.489\n",
      "        0.6             0                  0                      0.999832             375.733\n",
      "        0.7             0                  0                      0.99978              399.444\n",
      "        0.8             0                  0                      0.99974              425.556\n",
      "        0.81            0                  0                      0.999742             428.511\n",
      "        0.82            0                  0                      0.999744             430.467\n",
      "        0.83            0                  0                      0.999746             433.6\n",
      "        0.84            0                  0                      0.999748             436.044\n",
      "        0.85            0                  0                      0.999749             440.644\n",
      "        0.86            0                  0                      0.999699             443.467\n",
      "        0.87            0                  0                      0.999651             446\n",
      "        0.88            0                  0                      0.999654             449.244\n",
      "        0.89            0                  0                      0.999457             452.089\n",
      "        0.9             0                  0                      0.999165             455.4\n",
      "        0.91            0                  0                      0.998978             458.8\n",
      "        0.92            0                  0                      0.99865              462.578\n",
      "        0.93            0                  0                      0.998329             466.511\n",
      "        0.94            0                  0                      0.997448             470.733\n",
      "        0.95            0.0222222          0.0222222              0.995555             475.311\n",
      "        0.96            0.0666667          0.0888889              0.992496             480.089\n",
      "        0.97            0.111111           0.177778               0.985832             484.822\n",
      "        0.98            0.177778           0.444444               0.977294             489.556\n",
      "        0.99            0.222222           0.688889               0.968294             494.311\n",
      "        1               0.266667           1.11111                0.959763             498.889\n"
     ]
    },
    {
     "data": {
      "image/png": "[encoded data removed]",
      "text/plain": [
       "<Figure size 432x288 with 1 Axes>"
      ]
     },
     "metadata": {
      "needs_background": "light"
     },
     "output_type": "display_data"
    }
   ],
   "source": [
    "test_values = []\n",
    "proportions = [0.1 * i for i in range(1,8)]+[0.01 * i for i in range(80,101)]\n",
    "for p in proportions:\n",
    "    test_values.append([p]+list(fixe_proportionally(predictions,labels,y_hats,is_corrects,proportion = p)))\n",
    "    \n",
    "print(tabulate(test_values, headers=[\"Proportion\", \"Accuracy_fixe_one\", \"Number_fixe_one\",\"Accuracy_fixe_zero\", \"Number_fixe_zero\"]))\n",
    "fig, ax = plt.subplots()\n",
    "values = np.array(test_values).T\n",
    "acc_one,= ax.plot(values[0], values[1], linewidth=2.0,label=r'Acc_fixe_one')\n",
    "maxv = int(max(values[2]))\n",
    "nb_one,= ax.plot(values[0], values[2]/maxv, linewidth=2.0,label=r'Nb_fixe_one/'+maxv.__str__())\n",
    "plt.legend(handles=[acc_one,nb_one],loc=\"best\",)\n",
    "plt.title(model_name+\"proportion\")\n",
    "plt.savefig(\"image/\"+model_name+\"_prop.png\")\n",
    "plt.grid()\n",
    "plt.show()"
   ]
  },
  {
   "cell_type": "code",
   "execution_count": null,
   "metadata": {},
   "outputs": [],
   "source": []
  }
 ],
 "metadata": {
  "kernelspec": {
   "display_name": "Python 3",
   "language": "python",
   "name": "python3"
  },
  "language_info": {
   "codemirror_mode": {
    "name": "ipython",
    "version": 3
   },
   "file_extension": ".py",
   "mimetype": "text/x-python",
   "name": "python",
   "nbconvert_exporter": "python",
   "pygments_lexer": "ipython3",
   "version": "3.8.5"
  }
 },
 "nbformat": 4,
 "nbformat_minor": 5
}
