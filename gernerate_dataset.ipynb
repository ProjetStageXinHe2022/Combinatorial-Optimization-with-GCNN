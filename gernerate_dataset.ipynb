{
 "cells": [
  {
   "cell_type": "code",
   "execution_count": 2,
   "id": "f7305f0d",
   "metadata": {},
   "outputs": [],
   "source": [
    "import ecole\n",
    "import shutil\n",
    "import os\n",
    "import sys\n",
    "import time\n",
    "import numpy as np\n",
    "from tqdm import trange\n",
    "import gurobipy as gb\n",
    "import pyscipopt as pyscip\n",
    "from gurobipy import GRB\n",
    "import pickle as pkl\n",
    "\n",
    "from dump_data import *\n",
    "\n",
    "scip_parameters = {\"branching/scorefunc\": \"s\",\n",
    "                   \"separating/maxrounds\": 0,\n",
    "                   \"limits/time\": 360,\n",
    "                   \"presolving/maxrounds\": 0,\n",
    "#                    \"constraints/linear/singletonstuffing\": False,\n",
    "#                    \"constraints/linear/rangedrowartcons\": False,\n",
    "#                    \"constraints/and/maxprerounds\" :0,\n",
    "#                    \"constraints/and/presolusehashing\": False,\n",
    "#                    \"constraints/benders/maxprerounds\": 0,\n",
    "#                    \"constraints/benderslp/iterlimit\": 0,\n",
    "#                    \"reading/dynamicrows\": False,\n",
    "#                    \"separator/oddcycle/cutthreshold\":0,\n",
    "                  }\n",
    "\n",
    "class HiddenPrints:\n",
    "    def __enter__(self):\n",
    "        self._original_stdout = sys.stdout\n",
    "        sys.stdout = open(os.devnull, 'w')\n",
    "\n",
    "    def __exit__(self, exc_type, exc_val, exc_tb):\n",
    "        sys.stdout.close()\n",
    "        sys.stdout = self._original_stdout\n"
   ]
  },
  {
   "cell_type": "markdown",
   "id": "bfc1839f",
   "metadata": {},
   "source": [
    "# Generate Problem and collect features"
   ]
  },
  {
   "cell_type": "code",
   "execution_count": 3,
   "id": "1a28221f",
   "metadata": {},
   "outputs": [
    {
     "name": "stdout",
     "output_type": "stream",
     "text": [
      "Generate with Row:100,Col:100,Density:0.100000\n"
     ]
    },
    {
     "name": "stderr",
     "output_type": "stream",
     "text": [
      "100%|█████████████████████████████████████████| 100/100 [01:03<00:00,  1.58it/s]\n"
     ]
    },
    {
     "name": "stdout",
     "output_type": "stream",
     "text": [
      "Generate with Row:100,Col:100,Density:0.150000\n"
     ]
    },
    {
     "name": "stderr",
     "output_type": "stream",
     "text": [
      "100%|█████████████████████████████████████████| 100/100 [01:06<00:00,  1.50it/s]\n"
     ]
    },
    {
     "name": "stdout",
     "output_type": "stream",
     "text": [
      "Generate with Row:100,Col:100,Density:0.200000\n"
     ]
    },
    {
     "name": "stderr",
     "output_type": "stream",
     "text": [
      "100%|█████████████████████████████████████████| 100/100 [01:00<00:00,  1.64it/s]\n"
     ]
    },
    {
     "name": "stdout",
     "output_type": "stream",
     "text": [
      "Generate with Row:100,Col:150,Density:0.100000\n"
     ]
    },
    {
     "name": "stderr",
     "output_type": "stream",
     "text": [
      "100%|█████████████████████████████████████████| 100/100 [01:29<00:00,  1.12it/s]\n"
     ]
    },
    {
     "name": "stdout",
     "output_type": "stream",
     "text": [
      "Generate with Row:100,Col:150,Density:0.150000\n"
     ]
    },
    {
     "name": "stderr",
     "output_type": "stream",
     "text": [
      "100%|█████████████████████████████████████████| 100/100 [01:21<00:00,  1.22it/s]\n"
     ]
    },
    {
     "name": "stdout",
     "output_type": "stream",
     "text": [
      "Generate with Row:100,Col:150,Density:0.200000\n"
     ]
    },
    {
     "name": "stderr",
     "output_type": "stream",
     "text": [
      "100%|█████████████████████████████████████████| 100/100 [01:26<00:00,  1.16it/s]\n"
     ]
    },
    {
     "name": "stdout",
     "output_type": "stream",
     "text": [
      "Generate with Row:100,Col:200,Density:0.100000\n"
     ]
    },
    {
     "name": "stderr",
     "output_type": "stream",
     "text": [
      "100%|█████████████████████████████████████████| 100/100 [01:57<00:00,  1.17s/it]\n"
     ]
    },
    {
     "name": "stdout",
     "output_type": "stream",
     "text": [
      "Generate with Row:100,Col:200,Density:0.150000\n"
     ]
    },
    {
     "name": "stderr",
     "output_type": "stream",
     "text": [
      "100%|█████████████████████████████████████████| 100/100 [01:38<00:00,  1.01it/s]\n"
     ]
    },
    {
     "name": "stdout",
     "output_type": "stream",
     "text": [
      "Generate with Row:100,Col:200,Density:0.200000\n"
     ]
    },
    {
     "name": "stderr",
     "output_type": "stream",
     "text": [
      "100%|█████████████████████████████████████████| 100/100 [01:32<00:00,  1.08it/s]\n"
     ]
    },
    {
     "name": "stdout",
     "output_type": "stream",
     "text": [
      "Generate with Row:200,Col:200,Density:0.100000\n"
     ]
    },
    {
     "name": "stderr",
     "output_type": "stream",
     "text": [
      "100%|█████████████████████████████████████████| 100/100 [01:51<00:00,  1.12s/it]\n"
     ]
    },
    {
     "name": "stdout",
     "output_type": "stream",
     "text": [
      "Generate with Row:200,Col:200,Density:0.150000\n"
     ]
    },
    {
     "name": "stderr",
     "output_type": "stream",
     "text": [
      "100%|█████████████████████████████████████████| 100/100 [01:45<00:00,  1.05s/it]\n"
     ]
    },
    {
     "name": "stdout",
     "output_type": "stream",
     "text": [
      "Generate with Row:200,Col:200,Density:0.200000\n"
     ]
    },
    {
     "name": "stderr",
     "output_type": "stream",
     "text": [
      "100%|█████████████████████████████████████████| 100/100 [01:42<00:00,  1.03s/it]\n"
     ]
    },
    {
     "name": "stdout",
     "output_type": "stream",
     "text": [
      "Generate with Row:200,Col:300,Density:0.100000\n"
     ]
    },
    {
     "name": "stderr",
     "output_type": "stream",
     "text": [
      "100%|█████████████████████████████████████████| 100/100 [02:08<00:00,  1.28s/it]\n"
     ]
    },
    {
     "name": "stdout",
     "output_type": "stream",
     "text": [
      "Generate with Row:200,Col:300,Density:0.150000\n"
     ]
    },
    {
     "name": "stderr",
     "output_type": "stream",
     "text": [
      "100%|█████████████████████████████████████████| 100/100 [02:09<00:00,  1.30s/it]\n"
     ]
    },
    {
     "name": "stdout",
     "output_type": "stream",
     "text": [
      "Generate with Row:200,Col:300,Density:0.200000\n"
     ]
    },
    {
     "name": "stderr",
     "output_type": "stream",
     "text": [
      "100%|█████████████████████████████████████████| 100/100 [02:06<00:00,  1.26s/it]\n"
     ]
    },
    {
     "name": "stdout",
     "output_type": "stream",
     "text": [
      "Generate with Row:200,Col:400,Density:0.100000\n"
     ]
    },
    {
     "name": "stderr",
     "output_type": "stream",
     "text": [
      "100%|█████████████████████████████████████████| 100/100 [02:44<00:00,  1.64s/it]\n"
     ]
    },
    {
     "name": "stdout",
     "output_type": "stream",
     "text": [
      "Generate with Row:200,Col:400,Density:0.150000\n"
     ]
    },
    {
     "name": "stderr",
     "output_type": "stream",
     "text": [
      "100%|█████████████████████████████████████████| 100/100 [02:24<00:00,  1.44s/it]\n"
     ]
    },
    {
     "name": "stdout",
     "output_type": "stream",
     "text": [
      "Generate with Row:200,Col:400,Density:0.200000\n"
     ]
    },
    {
     "name": "stderr",
     "output_type": "stream",
     "text": [
      "100%|█████████████████████████████████████████| 100/100 [02:51<00:00,  1.72s/it]\n"
     ]
    },
    {
     "name": "stdout",
     "output_type": "stream",
     "text": [
      "Generate with Row:300,Col:300,Density:0.100000\n"
     ]
    },
    {
     "name": "stderr",
     "output_type": "stream",
     "text": [
      "100%|█████████████████████████████████████████| 100/100 [02:36<00:00,  1.57s/it]\n"
     ]
    },
    {
     "name": "stdout",
     "output_type": "stream",
     "text": [
      "Generate with Row:300,Col:300,Density:0.150000\n"
     ]
    },
    {
     "name": "stderr",
     "output_type": "stream",
     "text": [
      "100%|█████████████████████████████████████████| 100/100 [02:20<00:00,  1.40s/it]\n"
     ]
    },
    {
     "name": "stdout",
     "output_type": "stream",
     "text": [
      "Generate with Row:300,Col:300,Density:0.200000\n"
     ]
    },
    {
     "name": "stderr",
     "output_type": "stream",
     "text": [
      "100%|█████████████████████████████████████████| 100/100 [02:15<00:00,  1.36s/it]\n"
     ]
    },
    {
     "name": "stdout",
     "output_type": "stream",
     "text": [
      "Generate with Row:300,Col:450,Density:0.100000\n"
     ]
    },
    {
     "name": "stderr",
     "output_type": "stream",
     "text": [
      "100%|█████████████████████████████████████████| 100/100 [03:21<00:00,  2.01s/it]\n"
     ]
    },
    {
     "name": "stdout",
     "output_type": "stream",
     "text": [
      "Generate with Row:300,Col:450,Density:0.150000\n"
     ]
    },
    {
     "name": "stderr",
     "output_type": "stream",
     "text": [
      "100%|█████████████████████████████████████████| 100/100 [03:07<00:00,  1.88s/it]\n"
     ]
    },
    {
     "name": "stdout",
     "output_type": "stream",
     "text": [
      "Generate with Row:300,Col:450,Density:0.200000\n"
     ]
    },
    {
     "name": "stderr",
     "output_type": "stream",
     "text": [
      "100%|█████████████████████████████████████████| 100/100 [03:10<00:00,  1.90s/it]\n"
     ]
    },
    {
     "name": "stdout",
     "output_type": "stream",
     "text": [
      "Generate with Row:300,Col:600,Density:0.100000\n"
     ]
    },
    {
     "name": "stderr",
     "output_type": "stream",
     "text": [
      "100%|█████████████████████████████████████████| 100/100 [04:25<00:00,  2.65s/it]\n"
     ]
    },
    {
     "name": "stdout",
     "output_type": "stream",
     "text": [
      "Generate with Row:300,Col:600,Density:0.150000\n"
     ]
    },
    {
     "name": "stderr",
     "output_type": "stream",
     "text": [
      "100%|█████████████████████████████████████████| 100/100 [04:19<00:00,  2.59s/it]\n"
     ]
    },
    {
     "name": "stdout",
     "output_type": "stream",
     "text": [
      "Generate with Row:300,Col:600,Density:0.200000\n"
     ]
    },
    {
     "name": "stderr",
     "output_type": "stream",
     "text": [
      "100%|█████████████████████████████████████████| 100/100 [04:07<00:00,  2.48s/it]\n"
     ]
    },
    {
     "name": "stdout",
     "output_type": "stream",
     "text": [
      "Generate with Row:400,Col:400,Density:0.100000\n"
     ]
    },
    {
     "name": "stderr",
     "output_type": "stream",
     "text": [
      "100%|█████████████████████████████████████████| 100/100 [03:48<00:00,  2.29s/it]\n"
     ]
    },
    {
     "name": "stdout",
     "output_type": "stream",
     "text": [
      "Generate with Row:400,Col:400,Density:0.150000\n"
     ]
    },
    {
     "name": "stderr",
     "output_type": "stream",
     "text": [
      "100%|█████████████████████████████████████████| 100/100 [03:17<00:00,  1.98s/it]\n"
     ]
    },
    {
     "name": "stdout",
     "output_type": "stream",
     "text": [
      "Generate with Row:400,Col:400,Density:0.200000\n"
     ]
    },
    {
     "name": "stderr",
     "output_type": "stream",
     "text": [
      "100%|█████████████████████████████████████████| 100/100 [03:19<00:00,  2.00s/it]\n"
     ]
    },
    {
     "name": "stdout",
     "output_type": "stream",
     "text": [
      "Generate with Row:400,Col:600,Density:0.100000\n"
     ]
    },
    {
     "name": "stderr",
     "output_type": "stream",
     "text": [
      "100%|█████████████████████████████████████████| 100/100 [05:46<00:00,  3.47s/it]\n"
     ]
    },
    {
     "name": "stdout",
     "output_type": "stream",
     "text": [
      "Generate with Row:400,Col:600,Density:0.150000\n"
     ]
    },
    {
     "name": "stderr",
     "output_type": "stream",
     "text": [
      "100%|█████████████████████████████████████████| 100/100 [04:51<00:00,  2.91s/it]\n"
     ]
    },
    {
     "name": "stdout",
     "output_type": "stream",
     "text": [
      "Generate with Row:400,Col:600,Density:0.200000\n"
     ]
    },
    {
     "name": "stderr",
     "output_type": "stream",
     "text": [
      "100%|█████████████████████████████████████████| 100/100 [04:44<00:00,  2.84s/it]\n"
     ]
    },
    {
     "name": "stdout",
     "output_type": "stream",
     "text": [
      "Generate with Row:400,Col:800,Density:0.100000\n"
     ]
    },
    {
     "name": "stderr",
     "output_type": "stream",
     "text": [
      "100%|█████████████████████████████████████████| 100/100 [06:59<00:00,  4.19s/it]\n"
     ]
    },
    {
     "name": "stdout",
     "output_type": "stream",
     "text": [
      "Generate with Row:400,Col:800,Density:0.150000\n"
     ]
    },
    {
     "name": "stderr",
     "output_type": "stream",
     "text": [
      "100%|█████████████████████████████████████████| 100/100 [07:21<00:00,  4.42s/it]\n"
     ]
    },
    {
     "name": "stdout",
     "output_type": "stream",
     "text": [
      "Generate with Row:400,Col:800,Density:0.200000\n"
     ]
    },
    {
     "name": "stderr",
     "output_type": "stream",
     "text": [
      "100%|█████████████████████████████████████████| 100/100 [04:56<00:00,  2.97s/it]\n"
     ]
    },
    {
     "name": "stdout",
     "output_type": "stream",
     "text": [
      "Generate with Row:500,Col:500,Density:0.100000\n"
     ]
    },
    {
     "name": "stderr",
     "output_type": "stream",
     "text": [
      "100%|█████████████████████████████████████████| 100/100 [05:16<00:00,  3.17s/it]\n"
     ]
    },
    {
     "name": "stdout",
     "output_type": "stream",
     "text": [
      "Generate with Row:500,Col:500,Density:0.150000\n"
     ]
    },
    {
     "name": "stderr",
     "output_type": "stream",
     "text": [
      "100%|█████████████████████████████████████████| 100/100 [04:45<00:00,  2.86s/it]\n"
     ]
    },
    {
     "name": "stdout",
     "output_type": "stream",
     "text": [
      "Generate with Row:500,Col:500,Density:0.200000\n"
     ]
    },
    {
     "name": "stderr",
     "output_type": "stream",
     "text": [
      "100%|█████████████████████████████████████████| 100/100 [05:01<00:00,  3.01s/it]\n"
     ]
    },
    {
     "name": "stdout",
     "output_type": "stream",
     "text": [
      "Generate with Row:500,Col:750,Density:0.100000\n"
     ]
    },
    {
     "name": "stderr",
     "output_type": "stream",
     "text": [
      "100%|█████████████████████████████████████████| 100/100 [08:28<00:00,  5.09s/it]\n"
     ]
    },
    {
     "name": "stdout",
     "output_type": "stream",
     "text": [
      "Generate with Row:500,Col:750,Density:0.150000\n"
     ]
    },
    {
     "name": "stderr",
     "output_type": "stream",
     "text": [
      "100%|█████████████████████████████████████████| 100/100 [07:35<00:00,  4.55s/it]\n"
     ]
    },
    {
     "name": "stdout",
     "output_type": "stream",
     "text": [
      "Generate with Row:500,Col:750,Density:0.200000\n"
     ]
    },
    {
     "name": "stderr",
     "output_type": "stream",
     "text": [
      "100%|█████████████████████████████████████████| 100/100 [05:09<00:00,  3.10s/it]\n"
     ]
    },
    {
     "name": "stdout",
     "output_type": "stream",
     "text": [
      "Generate with Row:500,Col:1000,Density:0.100000\n"
     ]
    },
    {
     "name": "stderr",
     "output_type": "stream",
     "text": [
      "100%|█████████████████████████████████████████| 100/100 [11:04<00:00,  6.65s/it]\n"
     ]
    },
    {
     "name": "stdout",
     "output_type": "stream",
     "text": [
      "Generate with Row:500,Col:1000,Density:0.150000\n"
     ]
    },
    {
     "name": "stderr",
     "output_type": "stream",
     "text": [
      "100%|█████████████████████████████████████████| 100/100 [07:21<00:00,  4.42s/it]\n"
     ]
    },
    {
     "name": "stdout",
     "output_type": "stream",
     "text": [
      "Generate with Row:500,Col:1000,Density:0.200000\n"
     ]
    },
    {
     "name": "stderr",
     "output_type": "stream",
     "text": [
      "100%|█████████████████████████████████████████| 100/100 [06:58<00:00,  4.18s/it]\n"
     ]
    }
   ],
   "source": [
    "if os.path.exists(\"DataSet/\"):\n",
    "    shutil.rmtree(\"DataSet/\")\n",
    "os.mkdir(\"DataSet/\")\n",
    "\n",
    "env = ecole.environment.Branching(\\\n",
    "            observation_function = ecole.observation.NodeBipartite(),scip_params = scip_parameters)\n",
    "\n",
    "for row in [100,200,300,400,500]:\n",
    "    for coef_col in [1,1.5,2]: \n",
    "        for d in [0.1,0.15,0.2]:\n",
    "            col = int(coef_col * row)\n",
    "            setCover = ecole.instance.SetCoverGenerator(n_rows = row, n_cols = col,density = d) \n",
    "            print(\"Generate with Row:%d,Col:%d,Density:%f\" % (row,col,d))\n",
    "            for n in trange(1,101):\n",
    "                done = False\n",
    "                while(not done):\n",
    "                    try:\n",
    "                        problme_name = \\\n",
    "                            \"set_cover_{\"+row.__str__()+\"*\"+col.__str__()+\"_\"+d.__str__()+\"_\"+n.__str__()+\"}\"\n",
    "                        instance = next(setCover)\n",
    "                        #save problm lp\n",
    "                        problme_name = \\\n",
    "                            \"set_cover_{\"+row.__str__()+\"*\"+col.__str__()+\"_\"+d.__str__()+\"_\"+n.__str__()+\"}\"\n",
    "                        os.mkdir(\"DataSet/\"+problme_name)\n",
    "                        instance.write_problem(\"DataSet/\"+problme_name+\"/problem.lp\")\n",
    "                        #save features\n",
    "                        obs, _, _, _, _ = env.reset(instance)\n",
    "                        dumpRowFeatures(\"DataSet/\"+problme_name+\"/constraints_features.json\",obs.row_features)\n",
    "                        dumpVariableFeatures(\"DataSet/\"+problme_name+\"/variables_features.json\",obs.variable_features)\n",
    "                        dumpEdgeFeatures(\"DataSet/\"+problme_name+\"/edges_features.pkl\",obs.edge_features)\n",
    "                        done = True             \n",
    "                    except Exception as ex:\n",
    "#                         print(\"Erreur:%s\"%ex)\n",
    "                        done = False\n",
    "                        shutil.rmtree(\"DataSet/\"+problme_name)\n",
    "            "
   ]
  },
  {
   "cell_type": "markdown",
   "id": "444dfcc6",
   "metadata": {},
   "source": [
    "# Collect labels"
   ]
  },
  {
   "cell_type": "code",
   "execution_count": 5,
   "id": "cfbdc87a",
   "metadata": {},
   "outputs": [
    {
     "name": "stdout",
     "output_type": "stream",
     "text": [
      "Solve with Row:100,Col:100,Density:0.100000\n"
     ]
    },
    {
     "name": "stderr",
     "output_type": "stream",
     "text": [
      "100%|█████████████████████████████████████████| 100/100 [00:21<00:00,  4.63it/s]\n"
     ]
    },
    {
     "name": "stdout",
     "output_type": "stream",
     "text": [
      "Solve with Row:100,Col:100,Density:0.150000\n"
     ]
    },
    {
     "name": "stderr",
     "output_type": "stream",
     "text": [
      "100%|█████████████████████████████████████████| 100/100 [00:22<00:00,  4.39it/s]\n"
     ]
    },
    {
     "name": "stdout",
     "output_type": "stream",
     "text": [
      "Solve with Row:100,Col:100,Density:0.200000\n"
     ]
    },
    {
     "name": "stderr",
     "output_type": "stream",
     "text": [
      "100%|█████████████████████████████████████████| 100/100 [00:22<00:00,  4.50it/s]\n"
     ]
    },
    {
     "name": "stdout",
     "output_type": "stream",
     "text": [
      "Solve with Row:100,Col:150,Density:0.100000\n"
     ]
    },
    {
     "name": "stderr",
     "output_type": "stream",
     "text": [
      "100%|█████████████████████████████████████████| 100/100 [00:27<00:00,  3.64it/s]\n"
     ]
    },
    {
     "name": "stdout",
     "output_type": "stream",
     "text": [
      "Solve with Row:100,Col:150,Density:0.150000\n"
     ]
    },
    {
     "name": "stderr",
     "output_type": "stream",
     "text": [
      "100%|█████████████████████████████████████████| 100/100 [00:27<00:00,  3.61it/s]\n"
     ]
    },
    {
     "name": "stdout",
     "output_type": "stream",
     "text": [
      "Solve with Row:100,Col:150,Density:0.200000\n"
     ]
    },
    {
     "name": "stderr",
     "output_type": "stream",
     "text": [
      "100%|█████████████████████████████████████████| 100/100 [00:28<00:00,  3.54it/s]\n"
     ]
    },
    {
     "name": "stdout",
     "output_type": "stream",
     "text": [
      "Solve with Row:100,Col:200,Density:0.100000\n"
     ]
    },
    {
     "name": "stderr",
     "output_type": "stream",
     "text": [
      "100%|█████████████████████████████████████████| 100/100 [00:30<00:00,  3.23it/s]\n"
     ]
    },
    {
     "name": "stdout",
     "output_type": "stream",
     "text": [
      "Solve with Row:100,Col:200,Density:0.150000\n"
     ]
    },
    {
     "name": "stderr",
     "output_type": "stream",
     "text": [
      "100%|█████████████████████████████████████████| 100/100 [00:29<00:00,  3.43it/s]\n"
     ]
    },
    {
     "name": "stdout",
     "output_type": "stream",
     "text": [
      "Solve with Row:100,Col:200,Density:0.200000\n"
     ]
    },
    {
     "name": "stderr",
     "output_type": "stream",
     "text": [
      "100%|█████████████████████████████████████████| 100/100 [00:29<00:00,  3.36it/s]\n"
     ]
    },
    {
     "name": "stdout",
     "output_type": "stream",
     "text": [
      "Solve with Row:200,Col:200,Density:0.100000\n"
     ]
    },
    {
     "name": "stderr",
     "output_type": "stream",
     "text": [
      "100%|█████████████████████████████████████████| 100/100 [01:00<00:00,  1.66it/s]\n"
     ]
    },
    {
     "name": "stdout",
     "output_type": "stream",
     "text": [
      "Solve with Row:200,Col:200,Density:0.150000\n"
     ]
    },
    {
     "name": "stderr",
     "output_type": "stream",
     "text": [
      "100%|█████████████████████████████████████████| 100/100 [00:50<00:00,  1.96it/s]\n"
     ]
    },
    {
     "name": "stdout",
     "output_type": "stream",
     "text": [
      "Solve with Row:200,Col:200,Density:0.200000\n"
     ]
    },
    {
     "name": "stderr",
     "output_type": "stream",
     "text": [
      "100%|█████████████████████████████████████████| 100/100 [00:48<00:00,  2.04it/s]\n"
     ]
    },
    {
     "name": "stdout",
     "output_type": "stream",
     "text": [
      "Solve with Row:200,Col:300,Density:0.100000\n"
     ]
    },
    {
     "name": "stderr",
     "output_type": "stream",
     "text": [
      "100%|█████████████████████████████████████████| 100/100 [01:11<00:00,  1.40it/s]\n"
     ]
    },
    {
     "name": "stdout",
     "output_type": "stream",
     "text": [
      "Solve with Row:200,Col:300,Density:0.150000\n"
     ]
    },
    {
     "name": "stderr",
     "output_type": "stream",
     "text": [
      "100%|█████████████████████████████████████████| 100/100 [01:09<00:00,  1.44it/s]\n"
     ]
    },
    {
     "name": "stdout",
     "output_type": "stream",
     "text": [
      "Solve with Row:200,Col:300,Density:0.200000\n"
     ]
    },
    {
     "name": "stderr",
     "output_type": "stream",
     "text": [
      "100%|█████████████████████████████████████████| 100/100 [01:02<00:00,  1.60it/s]\n"
     ]
    },
    {
     "name": "stdout",
     "output_type": "stream",
     "text": [
      "Solve with Row:200,Col:400,Density:0.100000\n"
     ]
    },
    {
     "name": "stderr",
     "output_type": "stream",
     "text": [
      "100%|█████████████████████████████████████████| 100/100 [01:19<00:00,  1.25it/s]\n"
     ]
    },
    {
     "name": "stdout",
     "output_type": "stream",
     "text": [
      "Solve with Row:200,Col:400,Density:0.150000\n"
     ]
    },
    {
     "name": "stderr",
     "output_type": "stream",
     "text": [
      "100%|█████████████████████████████████████████| 100/100 [01:21<00:00,  1.23it/s]\n"
     ]
    },
    {
     "name": "stdout",
     "output_type": "stream",
     "text": [
      "Solve with Row:200,Col:400,Density:0.200000\n"
     ]
    },
    {
     "name": "stderr",
     "output_type": "stream",
     "text": [
      "100%|█████████████████████████████████████████| 100/100 [01:23<00:00,  1.19it/s]\n"
     ]
    },
    {
     "name": "stdout",
     "output_type": "stream",
     "text": [
      "Solve with Row:300,Col:300,Density:0.100000\n"
     ]
    },
    {
     "name": "stderr",
     "output_type": "stream",
     "text": [
      "100%|█████████████████████████████████████████| 100/100 [01:57<00:00,  1.17s/it]\n"
     ]
    },
    {
     "name": "stdout",
     "output_type": "stream",
     "text": [
      "Solve with Row:300,Col:300,Density:0.150000\n"
     ]
    },
    {
     "name": "stderr",
     "output_type": "stream",
     "text": [
      "100%|█████████████████████████████████████████| 100/100 [01:39<00:00,  1.00it/s]\n"
     ]
    },
    {
     "name": "stdout",
     "output_type": "stream",
     "text": [
      "Solve with Row:300,Col:300,Density:0.200000\n"
     ]
    },
    {
     "name": "stderr",
     "output_type": "stream",
     "text": [
      "100%|█████████████████████████████████████████| 100/100 [01:20<00:00,  1.24it/s]\n"
     ]
    },
    {
     "name": "stdout",
     "output_type": "stream",
     "text": [
      "Solve with Row:300,Col:450,Density:0.100000\n"
     ]
    },
    {
     "name": "stderr",
     "output_type": "stream",
     "text": [
      "100%|█████████████████████████████████████████| 100/100 [02:30<00:00,  1.50s/it]\n"
     ]
    },
    {
     "name": "stdout",
     "output_type": "stream",
     "text": [
      "Solve with Row:300,Col:450,Density:0.150000\n"
     ]
    },
    {
     "name": "stderr",
     "output_type": "stream",
     "text": [
      "100%|█████████████████████████████████████████| 100/100 [02:08<00:00,  1.28s/it]\n"
     ]
    },
    {
     "name": "stdout",
     "output_type": "stream",
     "text": [
      "Solve with Row:300,Col:450,Density:0.200000\n"
     ]
    },
    {
     "name": "stderr",
     "output_type": "stream",
     "text": [
      "100%|█████████████████████████████████████████| 100/100 [02:08<00:00,  1.28s/it]\n"
     ]
    },
    {
     "name": "stdout",
     "output_type": "stream",
     "text": [
      "Solve with Row:300,Col:600,Density:0.100000\n"
     ]
    },
    {
     "name": "stderr",
     "output_type": "stream",
     "text": [
      "100%|█████████████████████████████████████████| 100/100 [02:53<00:00,  1.73s/it]\n"
     ]
    },
    {
     "name": "stdout",
     "output_type": "stream",
     "text": [
      "Solve with Row:300,Col:600,Density:0.150000\n"
     ]
    },
    {
     "name": "stderr",
     "output_type": "stream",
     "text": [
      "100%|█████████████████████████████████████████| 100/100 [02:44<00:00,  1.65s/it]\n"
     ]
    },
    {
     "name": "stdout",
     "output_type": "stream",
     "text": [
      "Solve with Row:300,Col:600,Density:0.200000\n"
     ]
    },
    {
     "name": "stderr",
     "output_type": "stream",
     "text": [
      "100%|█████████████████████████████████████████| 100/100 [02:29<00:00,  1.50s/it]\n"
     ]
    },
    {
     "name": "stdout",
     "output_type": "stream",
     "text": [
      "Solve with Row:400,Col:400,Density:0.100000\n"
     ]
    },
    {
     "name": "stderr",
     "output_type": "stream",
     "text": [
      "100%|█████████████████████████████████████████| 100/100 [03:35<00:00,  2.15s/it]\n"
     ]
    },
    {
     "name": "stdout",
     "output_type": "stream",
     "text": [
      "Solve with Row:400,Col:400,Density:0.150000\n"
     ]
    },
    {
     "name": "stderr",
     "output_type": "stream",
     "text": [
      "100%|█████████████████████████████████████████| 100/100 [02:37<00:00,  1.58s/it]\n"
     ]
    },
    {
     "name": "stdout",
     "output_type": "stream",
     "text": [
      "Solve with Row:400,Col:400,Density:0.200000\n"
     ]
    },
    {
     "name": "stderr",
     "output_type": "stream",
     "text": [
      "100%|█████████████████████████████████████████| 100/100 [02:33<00:00,  1.54s/it]\n"
     ]
    },
    {
     "name": "stdout",
     "output_type": "stream",
     "text": [
      "Solve with Row:400,Col:600,Density:0.100000\n"
     ]
    },
    {
     "name": "stderr",
     "output_type": "stream",
     "text": [
      "100%|█████████████████████████████████████████| 100/100 [05:42<00:00,  3.42s/it]\n"
     ]
    },
    {
     "name": "stdout",
     "output_type": "stream",
     "text": [
      "Solve with Row:400,Col:600,Density:0.150000\n"
     ]
    },
    {
     "name": "stderr",
     "output_type": "stream",
     "text": [
      "100%|█████████████████████████████████████████| 100/100 [04:04<00:00,  2.44s/it]\n"
     ]
    },
    {
     "name": "stdout",
     "output_type": "stream",
     "text": [
      "Solve with Row:400,Col:600,Density:0.200000\n"
     ]
    },
    {
     "name": "stderr",
     "output_type": "stream",
     "text": [
      "100%|█████████████████████████████████████████| 100/100 [03:54<00:00,  2.34s/it]\n"
     ]
    },
    {
     "name": "stdout",
     "output_type": "stream",
     "text": [
      "Solve with Row:400,Col:800,Density:0.100000\n"
     ]
    },
    {
     "name": "stderr",
     "output_type": "stream",
     "text": [
      "100%|█████████████████████████████████████████| 100/100 [07:20<00:00,  4.40s/it]\n"
     ]
    },
    {
     "name": "stdout",
     "output_type": "stream",
     "text": [
      "Solve with Row:400,Col:800,Density:0.150000\n"
     ]
    },
    {
     "name": "stderr",
     "output_type": "stream",
     "text": [
      "100%|█████████████████████████████████████████| 100/100 [05:50<00:00,  3.50s/it]\n"
     ]
    },
    {
     "name": "stdout",
     "output_type": "stream",
     "text": [
      "Solve with Row:400,Col:800,Density:0.200000\n"
     ]
    },
    {
     "name": "stderr",
     "output_type": "stream",
     "text": [
      "100%|█████████████████████████████████████████| 100/100 [04:50<00:00,  2.90s/it]\n"
     ]
    },
    {
     "name": "stdout",
     "output_type": "stream",
     "text": [
      "Solve with Row:500,Col:500,Density:0.100000\n"
     ]
    },
    {
     "name": "stderr",
     "output_type": "stream",
     "text": [
      "100%|█████████████████████████████████████████| 100/100 [08:56<00:00,  5.36s/it]\n"
     ]
    },
    {
     "name": "stdout",
     "output_type": "stream",
     "text": [
      "Solve with Row:500,Col:500,Density:0.150000\n"
     ]
    },
    {
     "name": "stderr",
     "output_type": "stream",
     "text": [
      "100%|█████████████████████████████████████████| 100/100 [05:41<00:00,  3.41s/it]\n"
     ]
    },
    {
     "name": "stdout",
     "output_type": "stream",
     "text": [
      "Solve with Row:500,Col:500,Density:0.200000\n"
     ]
    },
    {
     "name": "stderr",
     "output_type": "stream",
     "text": [
      "100%|█████████████████████████████████████████| 100/100 [04:45<00:00,  2.86s/it]\n"
     ]
    },
    {
     "name": "stdout",
     "output_type": "stream",
     "text": [
      "Solve with Row:500,Col:750,Density:0.100000\n"
     ]
    },
    {
     "name": "stderr",
     "output_type": "stream",
     "text": [
      "100%|█████████████████████████████████████████| 100/100 [09:49<00:00,  5.90s/it]\n"
     ]
    },
    {
     "name": "stdout",
     "output_type": "stream",
     "text": [
      "Solve with Row:500,Col:750,Density:0.150000\n"
     ]
    },
    {
     "name": "stderr",
     "output_type": "stream",
     "text": [
      "100%|█████████████████████████████████████████| 100/100 [08:04<00:00,  4.85s/it]\n"
     ]
    },
    {
     "name": "stdout",
     "output_type": "stream",
     "text": [
      "Solve with Row:500,Col:750,Density:0.200000\n"
     ]
    },
    {
     "name": "stderr",
     "output_type": "stream",
     "text": [
      "100%|█████████████████████████████████████████| 100/100 [06:22<00:00,  3.83s/it]\n"
     ]
    },
    {
     "name": "stdout",
     "output_type": "stream",
     "text": [
      "Solve with Row:500,Col:1000,Density:0.100000\n"
     ]
    },
    {
     "name": "stderr",
     "output_type": "stream",
     "text": [
      "100%|█████████████████████████████████████████| 100/100 [15:00<00:00,  9.00s/it]\n"
     ]
    },
    {
     "name": "stdout",
     "output_type": "stream",
     "text": [
      "Solve with Row:500,Col:1000,Density:0.150000\n"
     ]
    },
    {
     "name": "stderr",
     "output_type": "stream",
     "text": [
      "100%|█████████████████████████████████████████| 100/100 [09:47<00:00,  5.87s/it]\n"
     ]
    },
    {
     "name": "stdout",
     "output_type": "stream",
     "text": [
      "Solve with Row:500,Col:1000,Density:0.200000\n"
     ]
    },
    {
     "name": "stderr",
     "output_type": "stream",
     "text": [
      "100%|█████████████████████████████████████████| 100/100 [08:10<00:00,  4.90s/it]"
     ]
    },
    {
     "name": "stdout",
     "output_type": "stream",
     "text": [
      "0.0\n",
      "(array([], dtype=int64),)\n"
     ]
    },
    {
     "name": "stderr",
     "output_type": "stream",
     "text": [
      "\n"
     ]
    }
   ],
   "source": [
    "if os.path.exists(\"DataSet/label/\"):\n",
    "    shutil.rmtree(\"DataSet/label/\")\n",
    "os.mkdir(\"DataSet/label/\")\n",
    "gapList = []\n",
    "for row in [100,200,300,400,500]:\n",
    "    for coef_col in [1,1.5,2]: \n",
    "        for d in [0.1,0.15,0.2]:\n",
    "            col = int(coef_col * row)\n",
    "            print(\"Solve with Row:%d,Col:%d,Density:%f\" % (row,col,d))\n",
    "            for n in trange(1,101):\n",
    "#                 #save label\n",
    "                with HiddenPrints():\n",
    "                    problme_name = \\\n",
    "                            \"set_cover_{\"+row.__str__()+\"*\"+col.__str__()+\"_\"+d.__str__()+\"_\"+n.__str__()+\"}\"\n",
    "#                     solver = gb.read(\"problem/\"+problme_name+\".lp\")\n",
    "#                     solver.optimize()\n",
    "#                     dumpSolution_Gurobi(\"DataSet/label/\"+problme_name+\"_label.json\",solver)\n",
    "                    solver = ecole.scip.Model.from_file(\"DataSet/\"+problme_name+\"/problem.lp\")\n",
    "                    aspyscip = solver.as_pyscipopt()\n",
    "                    aspyscip.setPresolve(pyscip.SCIP_PARAMSETTING.OFF)\n",
    "                    aspyscip.optimize()\n",
    "                    gapList.append(aspyscip.getGap())\n",
    "                    dumpSolution_Ecole(\"DataSet/\"+problme_name+\"/label.json\",aspyscip)\n",
    "                    \n",
    "gap = np.array(gapList)\n",
    "print(np.mean(gap))\n",
    "print(np.where(gap != 0))"
   ]
  },
  {
   "cell_type": "code",
   "execution_count": null,
   "id": "d8ac895e",
   "metadata": {},
   "outputs": [],
   "source": [
    "#scip\n",
    "with HiddenPrints():\n",
    "    model_scip = pyscip.scip.Model()\n",
    "    model_scip.setPresolve(pyscip.SCIP_PARAMSETTING.OFF)\n",
    "    model_scip.readProblem(filename=\"debugFile/set_cover_test.lp\",extension = \"lp\")\n",
    "    # model_scip.readProblem(filename=\"debugFile/debug_diffc.lp\",extension = \"lp\")\n",
    "\n",
    "model_scip.optimize()\n",
    "# time.sleep(1)\n",
    "print(\"\\n\",model_scip.getBestSol())\n",
    "\n",
    "# print(\"Ecole*********************\")\n",
    "# # with HiddenPrints():\n",
    "# solver = ecole.scip.Model.from_file(\"debugFile/debug.lp\")\n",
    "# aspyscip = solver.as_pyscipopt()\n",
    "# aspyscip.setPresolve(pyscip.SCIP_PARAMSETTING.OFF)\n",
    "# aspyscip.optimize()\n",
    "# gap = aspyscip.getGap()\n",
    "# sol = aspyscip.getBestSol()\n",
    "# print(sol,gap)\n",
    "\n",
    "# #gurobi\n",
    "# print(\"Gurobi*********************\")\n",
    "# with HiddenPrints():\n",
    "#     model = gb.read(\"debugFile/debug.lp\")\n",
    "#     model.optimize()\n",
    "# for var in model.getVars():\n",
    "#     print(f\"{var.varName}: {round(var.X, 3)}\")\n",
    "\n"
   ]
  },
  {
   "cell_type": "code",
   "execution_count": null,
   "id": "7b501a0f",
   "metadata": {},
   "outputs": [],
   "source": [
    "setCover = ecole.instance.SetCoverGenerator\\\n",
    "            (n_rows=300, n_cols=300,density=0.1)\n",
    "env = ecole.environment.Branching(observation_function = ecole.observation.NodeBipartite(),\\\n",
    "                                scip_params = scip_parameters)\n",
    "instance = next(setCover)\n",
    "print(instance)\n",
    "problme_name = \"set_cover_test\"\n",
    "instance.write_problem(\"debugFile/\"+problme_name+\".lp\")\n",
    "\n",
    "obs, action_set, _, _, _ = env.reset(instance)\n",
    "print(obs.row_features.shape)\n",
    "print(obs.edge_features.shape)\n",
    "print(obs.variable_features.shape)\n",
    "\n",
    "# setCover = ecole.instance.SetCoverGenerator\\\n",
    "#             (n_rows=300, n_cols=300,density=0.1)\n",
    "# env = ecole.environment.Branching(observation_function = ecole.observation.NodeBipartite(),\\\n",
    "#                                 scip_params = scip_parameters)\n",
    "# instance = next(setCover)\n",
    "# print(instance)\n",
    "# problme_name = \"set_cover_test\"\n",
    "# instance.write_problem(\"debugFile/\"+problme_name+\".lp\")\n",
    "\n",
    "\n",
    "# dynamic = ecole.dynamics.BranchingDynamics()\n",
    "# dynamic.reset_dynamics(instance)\n",
    "# obsteur = ecole.observation.NodeBipartite()\n",
    "# obsteur.before_reset(instance)\n",
    "# obs= obsteur.extract(instance,False)\n",
    "# print(obs.row_features.shape)\n",
    "# dumpRowFeatures(problme_name+\"_row_features.json\",obs.row_features)"
   ]
  },
  {
   "cell_type": "code",
   "execution_count": null,
   "id": "e3d09da1",
   "metadata": {},
   "outputs": [],
   "source": [
    "env = ecole.environment.Branching(observation_function = ecole.observation.NodeBipartite(),\\\n",
    "                                scip_params = scip_parameters)\n",
    "instance = ecole.scip.Model.from_file(\"debugFile/test_feature.lp\")\n",
    "print(instance)\n",
    "\n",
    "obs, action_set, _, _, _ = env.reset(instance)\n",
    "print(obs.row_features.shape)\n",
    "print(obs.edge_features.shape)\n",
    "print(obs.variable_features.shape)\n",
    "print(obs.row_features[0])\n",
    "print(obs.variable_features[0])"
   ]
  },
  {
   "cell_type": "code",
   "execution_count": null,
   "id": "07fdc7c4",
   "metadata": {},
   "outputs": [],
   "source": [
    "gap_test = gapList"
   ]
  },
  {
   "cell_type": "code",
   "execution_count": null,
   "id": "71f786cc",
   "metadata": {},
   "outputs": [],
   "source": [
    "for row in [100,150,200]:\n",
    "    for coef_col in [1,1.5,2]: \n",
    "        for d in [0.1,0.15,0.2]:\n",
    "            col = int(coef_col * row)\n",
    "            print(\"Solve with Row:%d,Col:%d,Density:%f\" % (row,col,d))\n",
    "            for n in range(1,2):\n",
    "#                 #save label\n",
    "                problme_name = \\\n",
    "                        \"set_cover_{\"+row.__str__()+\"*\"+col.__str__()+\"_\"+d.__str__()+\"_\"+n.__str__()+\"}\"\n",
    "#                     solver = gb.read(\"problem/\"+problme_name+\".lp\")\n",
    "#                     solver.optimize()\n",
    "#                     dumpSolution_Gurobi(\"DataSet/label/\"+problme_name+\"_label.json\",solver)\n",
    "#                 solver = ecole.scip.Model.from_file(\"DataSet/problem/\"+problme_name+\".lp\")\n",
    "#                 aspyscip = solver.as_pyscipopt()\n",
    "#                 aspyscip.setPresolve(pyscip.SCIP_PARAMSETTING.OFF)\n",
    "#                 aspyscip.optimize()\n",
    "                model_scip = pyscip.scip.Model()\n",
    "                model_scip.setPresolve(pyscip.SCIP_PARAMSETTING.OFF)\n",
    "                model_scip.readProblem(filename=\"DataSet/problem/\"+problme_name+\".lp\")\n",
    "                model_scip.optimize()"
   ]
  },
  {
   "cell_type": "code",
   "execution_count": null,
   "id": "0ce3de96",
   "metadata": {},
   "outputs": [],
   "source": []
  }
 ],
 "metadata": {
  "kernelspec": {
   "display_name": "Python 3 (ipykernel)",
   "language": "python",
   "name": "python3"
  },
  "language_info": {
   "codemirror_mode": {
    "name": "ipython",
    "version": 3
   },
   "file_extension": ".py",
   "mimetype": "text/x-python",
   "name": "python",
   "nbconvert_exporter": "python",
   "pygments_lexer": "ipython3",
   "version": "3.10.4"
  }
 },
 "nbformat": 4,
 "nbformat_minor": 5
}
