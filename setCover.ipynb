{
 "cells": [
  {
   "cell_type": "code",
   "execution_count": 73,
   "id": "f7305f0d",
   "metadata": {},
   "outputs": [],
   "source": [
    "import ecole\n",
    "import shutil\n",
    "import os\n",
    "import sys\n",
    "import time\n",
    "import numpy as np\n",
    "from tqdm import trange\n",
    "import gurobipy as gb\n",
    "import pyscipopt as pyscip\n",
    "from gurobipy import GRB\n",
    "import pickle as pkl\n",
    "\n",
    "from dump_data import *\n",
    "\n",
    "scip_parameters = {\"branching/scorefunc\": \"s\",\n",
    "                   \"separating/maxrounds\": 0,\n",
    "                   \"limits/time\": 360,\n",
    "                   \"presolving/maxrounds\": 0,\n",
    "#                    \"constraints/linear/singletonstuffing\": False,\n",
    "#                    \"constraints/linear/rangedrowartcons\": False,\n",
    "#                    \"constraints/and/maxprerounds\" :0,\n",
    "#                    \"constraints/and/presolusehashing\": False,\n",
    "#                    \"constraints/benders/maxprerounds\": 0,\n",
    "#                    \"constraints/benderslp/iterlimit\": 0,\n",
    "#                    \"reading/dynamicrows\": False,\n",
    "#                    \"separator/oddcycle/cutthreshold\":0,\n",
    "                  }\n",
    "\n",
    "class HiddenPrints:\n",
    "    def __enter__(self):\n",
    "        self._original_stdout = sys.stdout\n",
    "        sys.stdout = open(os.devnull, 'w')\n",
    "\n",
    "    def __exit__(self, exc_type, exc_val, exc_tb):\n",
    "        sys.stdout.close()\n",
    "        sys.stdout = self._original_stdout\n"
   ]
  },
  {
   "cell_type": "markdown",
   "id": "bfc1839f",
   "metadata": {},
   "source": [
    "# Generate Problem and collect features"
   ]
  },
  {
   "cell_type": "code",
   "execution_count": 71,
   "id": "1a28221f",
   "metadata": {},
   "outputs": [
    {
     "name": "stdout",
     "output_type": "stream",
     "text": [
      "Generate with Row:100,Col:100,Density:0.100000\n"
     ]
    },
    {
     "name": "stderr",
     "output_type": "stream",
     "text": [
      "100%|█████████████████████████████████████████| 100/100 [00:04<00:00, 24.13it/s]\n"
     ]
    }
   ],
   "source": [
    "if os.path.exists(\"DataSet/\"):\n",
    "    shutil.rmtree(\"DataSet/\")\n",
    "os.mkdir(\"DataSet/\")\n",
    "\n",
    "env = ecole.environment.Branching(\\\n",
    "            observation_function = ecole.observation.NodeBipartite(),scip_params = scip_parameters)\n",
    "\n",
    "for row in [100,200,300,400,500]:\n",
    "    for coef_col in [1,1.5,2]: \n",
    "        for d in [0.1,0.15,0.2]:\n",
    "            col = int(coef_col * row)\n",
    "            setCover = ecole.instance.SetCoverGenerator(n_rows = row, n_cols = col,density = d) \n",
    "            print(\"Generate with Row:%d,Col:%d,Density:%f\" % (row,col,d))\n",
    "            for n in trange(1,101):\n",
    "                done = False\n",
    "                while(not done):\n",
    "                    try:\n",
    "                        problme_name = \\\n",
    "                            \"set_cover_{\"+row.__str__()+\"*\"+col.__str__()+\"_\"+d.__str__()+\"_\"+n.__str__()+\"}\"\n",
    "                        instance = next(setCover)\n",
    "                        #save problm lp\n",
    "                        problme_name = \\\n",
    "                            \"set_cover_{\"+row.__str__()+\"*\"+col.__str__()+\"_\"+d.__str__()+\"_\"+n.__str__()+\"}\"\n",
    "                        os.mkdir(\"DataSet/\"+problme_name)\n",
    "                        instance.write_problem(\"DataSet/\"+problme_name+\"/problem.lp\")\n",
    "                        #save features\n",
    "                        obs, _, _, _, _ = env.reset(instance)\n",
    "                        dumpRowFeatures(\"DataSet/\"+problme_name+\"/constraints_features.json\",obs.row_features)\n",
    "                        dumpVariableFeatures(\"DataSet/\"+problme_name+\"/variables_features.json\",obs.variable_features)\n",
    "                        dumpEdgeFeatures(\"DataSet/\"+problme_name+\"/edges_features.pkl\",obs.edge_features,row,col)\n",
    "                        done = True             \n",
    "                    except Exception as ex:\n",
    "#                         print(\"Erreur:%s\"%ex)\n",
    "                        done = False\n",
    "                        shutil.rmtree(\"DataSet/\"+problme_name)\n",
    "            "
   ]
  },
  {
   "cell_type": "markdown",
   "id": "444dfcc6",
   "metadata": {},
   "source": [
    "# Collect labels"
   ]
  },
  {
   "cell_type": "code",
   "execution_count": 72,
   "id": "cfbdc87a",
   "metadata": {},
   "outputs": [
    {
     "name": "stdout",
     "output_type": "stream",
     "text": [
      "Solve with Row:100,Col:100,Density:0.100000\n"
     ]
    },
    {
     "name": "stderr",
     "output_type": "stream",
     "text": [
      "  0%|                                                   | 0/100 [00:00<?, ?it/s]\n"
     ]
    },
    {
     "ename": "NameError",
     "evalue": "name 'HiddenPrints' is not defined",
     "output_type": "error",
     "traceback": [
      "\u001b[0;31m---------------------------------------------------------------------------\u001b[0m",
      "\u001b[0;31mNameError\u001b[0m                                 Traceback (most recent call last)",
      "Input \u001b[0;32mIn [72]\u001b[0m, in \u001b[0;36m<cell line: 5>\u001b[0;34m()\u001b[0m\n\u001b[1;32m      9\u001b[0m             \u001b[38;5;28mprint\u001b[39m(\u001b[38;5;124m\"\u001b[39m\u001b[38;5;124mSolve with Row:\u001b[39m\u001b[38;5;132;01m%d\u001b[39;00m\u001b[38;5;124m,Col:\u001b[39m\u001b[38;5;132;01m%d\u001b[39;00m\u001b[38;5;124m,Density:\u001b[39m\u001b[38;5;132;01m%f\u001b[39;00m\u001b[38;5;124m\"\u001b[39m \u001b[38;5;241m%\u001b[39m (row,col,d))\n\u001b[1;32m     10\u001b[0m             \u001b[38;5;28;01mfor\u001b[39;00m n \u001b[38;5;129;01min\u001b[39;00m trange(\u001b[38;5;241m1\u001b[39m,\u001b[38;5;241m101\u001b[39m):\n\u001b[1;32m     11\u001b[0m \u001b[38;5;66;03m#                 #save label\u001b[39;00m\n\u001b[0;32m---> 12\u001b[0m                 \u001b[38;5;28;01mwith\u001b[39;00m \u001b[43mHiddenPrints\u001b[49m():\n\u001b[1;32m     13\u001b[0m                     problme_name \u001b[38;5;241m=\u001b[39m \\\n\u001b[1;32m     14\u001b[0m                             \u001b[38;5;124m\"\u001b[39m\u001b[38;5;124mset_cover_\u001b[39m\u001b[38;5;124m{\u001b[39m\u001b[38;5;124m\"\u001b[39m\u001b[38;5;241m+\u001b[39mrow\u001b[38;5;241m.\u001b[39m\u001b[38;5;21m__str__\u001b[39m()\u001b[38;5;241m+\u001b[39m\u001b[38;5;124m\"\u001b[39m\u001b[38;5;124m*\u001b[39m\u001b[38;5;124m\"\u001b[39m\u001b[38;5;241m+\u001b[39mcol\u001b[38;5;241m.\u001b[39m\u001b[38;5;21m__str__\u001b[39m()\u001b[38;5;241m+\u001b[39m\u001b[38;5;124m\"\u001b[39m\u001b[38;5;124m_\u001b[39m\u001b[38;5;124m\"\u001b[39m\u001b[38;5;241m+\u001b[39md\u001b[38;5;241m.\u001b[39m\u001b[38;5;21m__str__\u001b[39m()\u001b[38;5;241m+\u001b[39m\u001b[38;5;124m\"\u001b[39m\u001b[38;5;124m_\u001b[39m\u001b[38;5;124m\"\u001b[39m\u001b[38;5;241m+\u001b[39mn\u001b[38;5;241m.\u001b[39m\u001b[38;5;21m__str__\u001b[39m()\u001b[38;5;241m+\u001b[39m\u001b[38;5;124m\"\u001b[39m\u001b[38;5;124m}\u001b[39m\u001b[38;5;124m\"\u001b[39m\n\u001b[1;32m     15\u001b[0m \u001b[38;5;66;03m#                     solver = gb.read(\"problem/\"+problme_name+\".lp\")\u001b[39;00m\n\u001b[1;32m     16\u001b[0m \u001b[38;5;66;03m#                     solver.optimize()\u001b[39;00m\n\u001b[1;32m     17\u001b[0m \u001b[38;5;66;03m#                     dumpSolution_Gurobi(\"DataSet/label/\"+problme_name+\"_label.json\",solver)\u001b[39;00m\n",
      "\u001b[0;31mNameError\u001b[0m: name 'HiddenPrints' is not defined"
     ]
    }
   ],
   "source": [
    "if os.path.exists(\"DataSet/label/\"):\n",
    "    shutil.rmtree(\"DataSet/label/\")\n",
    "os.mkdir(\"DataSet/label/\")\n",
    "gapList = []\n",
    "for row in [100]:\n",
    "    for coef_col in [1]: \n",
    "        for d in [0.1]:\n",
    "            col = int(coef_col * row)\n",
    "            print(\"Solve with Row:%d,Col:%d,Density:%f\" % (row,col,d))\n",
    "            for n in trange(1,101):\n",
    "#                 #save label\n",
    "                with HiddenPrints():\n",
    "                    problme_name = \\\n",
    "                            \"set_cover_{\"+row.__str__()+\"*\"+col.__str__()+\"_\"+d.__str__()+\"_\"+n.__str__()+\"}\"\n",
    "#                     solver = gb.read(\"problem/\"+problme_name+\".lp\")\n",
    "#                     solver.optimize()\n",
    "#                     dumpSolution_Gurobi(\"DataSet/label/\"+problme_name+\"_label.json\",solver)\n",
    "                    solver = ecole.scip.Model.from_file(\"DataSet/\"+problme_name+\"/problem.lp\")\n",
    "                    aspyscip = solver.as_pyscipopt()\n",
    "                    aspyscip.setPresolve(pyscip.SCIP_PARAMSETTING.OFF)\n",
    "                    aspyscip.optimize()\n",
    "                    gapList.append(aspyscip.getGap())\n",
    "                    dumpSolution_Ecole(\"DataSet/\"+problme_name+\"/label.json\",aspyscip)\n",
    "                    \n",
    "gap = np.array(gapList)\n",
    "print(np.mean(gap))\n",
    "print(np.where(gap != 0))"
   ]
  },
  {
   "cell_type": "code",
   "execution_count": null,
   "id": "d8ac895e",
   "metadata": {},
   "outputs": [],
   "source": [
    "#scip\n",
    "with HiddenPrints():\n",
    "    model_scip = pyscip.scip.Model()\n",
    "    model_scip.setPresolve(pyscip.SCIP_PARAMSETTING.OFF)\n",
    "    model_scip.readProblem(filename=\"debugFile/set_cover_test.lp\",extension = \"lp\")\n",
    "    # model_scip.readProblem(filename=\"debugFile/debug_diffc.lp\",extension = \"lp\")\n",
    "\n",
    "model_scip.optimize()\n",
    "# time.sleep(1)\n",
    "print(\"\\n\",model_scip.getBestSol())\n",
    "\n",
    "# print(\"Ecole*********************\")\n",
    "# # with HiddenPrints():\n",
    "# solver = ecole.scip.Model.from_file(\"debugFile/debug.lp\")\n",
    "# aspyscip = solver.as_pyscipopt()\n",
    "# aspyscip.setPresolve(pyscip.SCIP_PARAMSETTING.OFF)\n",
    "# aspyscip.optimize()\n",
    "# gap = aspyscip.getGap()\n",
    "# sol = aspyscip.getBestSol()\n",
    "# print(sol,gap)\n",
    "\n",
    "# #gurobi\n",
    "# print(\"Gurobi*********************\")\n",
    "# with HiddenPrints():\n",
    "#     model = gb.read(\"debugFile/debug.lp\")\n",
    "#     model.optimize()\n",
    "# for var in model.getVars():\n",
    "#     print(f\"{var.varName}: {round(var.X, 3)}\")\n",
    "\n"
   ]
  },
  {
   "cell_type": "code",
   "execution_count": 7,
   "id": "7b501a0f",
   "metadata": {},
   "outputs": [
    {
     "name": "stdout",
     "output_type": "stream",
     "text": [
      "(10, 5)\n",
      "[10, 10]\n",
      "(10, 19)\n"
     ]
    }
   ],
   "source": [
    "import ecole\n",
    "import shutil\n",
    "import os\n",
    "import sys\n",
    "import time\n",
    "import numpy as np\n",
    "from tqdm import trange\n",
    "import gurobipy as gb\n",
    "import pyscipopt as pyscip\n",
    "from gurobipy import GRB\n",
    "import pickle as pkl\n",
    "\n",
    "from dump_data import *\n",
    "\n",
    "scip_parameters = {\"branching/scorefunc\": \"s\",\n",
    "                   \"separating/maxrounds\": 0,\n",
    "                   \"limits/time\": 360,\n",
    "                   \"presolving/maxrounds\": 0,\n",
    "                   \"separating/maxroundsroot\" : 0,\n",
    "                   \"separating/maxcutsroot\": 0,\n",
    "                   \"separating/maxcuts\": 0,\n",
    "                   \"propagating/maxroundsroot\" : 0,\n",
    "                   \"lp/presolving\" : False,\n",
    "                   \"constraints/linear/sortvars\": False,\n",
    "                   \"heuristics/shiftandpropagate/sortvars\": False,\n",
    "                   \"propagating/genvbounds/sort\": False,\n",
    "                   \"randomization/permutevars\": False,\n",
    "                   \"randomization/permuteconss\": False,\n",
    "                   \"presolving/gateextraction/sorting\":0,\n",
    "                   \"separating/oddcycle/sortswitch\":0,\n",
    "#                    \"constraints/linear/maxrounds\" :0,\n",
    "#                    \"constraints/linear/maxroundsroot\" : 0,\n",
    "#                    \"constraints/knapsack/maxroundsroot\" : 0,\n",
    "#                    \"separating/maxroundsrootsubrun\" : 0,\n",
    "#                    \"separating/zerohalf/maxroundsroot\" : 0,\n",
    "#                    \"separating/rlt/maxroundsroot\" : 0,\n",
    "#                    \"separating/oddcycle/maxroundsroot\" : 0,\n",
    "#                    \"separating/mixing/maxroundsroot\" : 0,\n",
    "#                    \"separating/minor/maxroundsroot\" : 0,\n",
    "#                    \"separating/interminor/maxroundsroot\" : 0,\n",
    "#                    \"separating/gomory/maxroundsroot\" : 0,\n",
    "#                    \"separating/eccuts/maxroundsroot\" : 0,\n",
    "#                    \"separating/disjunctive/maxroundsroot\" : 0,\n",
    "#                    \"separating/aggregation/maxroundsroot\" : 0,\n",
    "                   \n",
    "#                    \"constraints/linear/singletonstuffing\": False,\n",
    "#                    \"constraints/linear/rangedrowartcons\": False,\n",
    "#                    \"constraints/and/maxprerounds\" :0,\n",
    "#                    \"constraints/and/presolusehashing\": False,\n",
    "#                    \"constraints/benders/maxprerounds\": 0,\n",
    "#                    \"constraints/benderslp/iterlimit\": 0,\n",
    "#                    \"reading/dynamicrows\": False,\n",
    "#                    \"separator/oddcycle/cutthreshold\":0,\n",
    "                  }\n",
    "done = 0\n",
    "while not done:\n",
    "    try:\n",
    "        setCover = ecole.instance.SetCoverGenerator\\\n",
    "                    (n_rows=10, n_cols=10,density=0.3)\n",
    "        env = ecole.environment.Branching(observation_function = ecole.observation.NodeBipartite(),\\\n",
    "                                        scip_params = scip_parameters)\n",
    "        instance = next(setCover)\n",
    "#         print(instance)\n",
    "        problme_name = \"set_cover_test\"\n",
    "        instance.write_problem(\"debugFile/\"+problme_name+\".lp\")\n",
    "\n",
    "        obs, action_set, _, _, _ = env.reset(instance)\n",
    "        print(obs.row_features.shape)\n",
    "        print(obs.edge_features.shape)\n",
    "        print(obs.variable_features.shape)\n",
    "        done = 1\n",
    "    except:\n",
    "        pass\n",
    "    \n",
    "\n",
    "# setCover = ecole.instance.SetCoverGenerator\\\n",
    "#             (n_rows=300, n_cols=300,density=0.1)\n",
    "# env = ecole.environment.Branching(observation_function = ecole.observation.NodeBipartite(),\\\n",
    "#                                 scip_params = scip_parameters)\n",
    "# instance = next(setCover)\n",
    "# print(instance)\n",
    "# problme_name = \"set_cover_test\"\n",
    "# instance.write_problem(\"debugFile/\"+problme_name+\".lp\")"
   ]
  },
  {
   "cell_type": "code",
   "execution_count": 4,
   "id": "0b624b51",
   "metadata": {},
   "outputs": [],
   "source": [
    "dumpEdgeFeatures(\"debugFile/test_FE.json\",obs.edge_features,150,150)\n"
   ]
  },
  {
   "cell_type": "code",
   "execution_count": 41,
   "id": "df685b52",
   "metadata": {},
   "outputs": [
    {
     "name": "stdout",
     "output_type": "stream",
     "text": [
      "[[ 0.         -0.57735027  0.         -0.57735027 -0.57735027  0.\n",
      "   0.          0.          0.          0.        ]\n",
      " [-0.5         0.          0.          0.          0.         -0.5\n",
      "  -0.5         0.          0.         -0.5       ]\n",
      " [-0.70710678  0.          0.         -0.70710678  0.          0.\n",
      "   0.          0.          0.          0.        ]\n",
      " [ 0.          0.          0.         -0.70710678  0.          0.\n",
      "   0.         -0.70710678  0.          0.        ]\n",
      " [ 0.         -0.5        -0.5         0.          0.         -0.5\n",
      "  -0.5         0.          0.          0.        ]\n",
      " [ 0.          0.         -0.5        -0.5         0.          0.\n",
      "   0.         -0.5         0.         -0.5       ]\n",
      " [ 0.          0.         -0.57735027  0.          0.          0.\n",
      "  -0.57735027  0.         -0.57735027  0.        ]\n",
      " [ 0.         -0.70710678  0.          0.         -0.70710678  0.\n",
      "   0.          0.          0.          0.        ]\n",
      " [ 0.         -0.57735027  0.          0.         -0.57735027  0.\n",
      "   0.          0.         -0.57735027  0.        ]\n",
      " [ 0.          0.          0.          0.          0.          0.\n",
      "   0.         -0.57735027 -0.57735027 -0.57735027]]\n"
     ]
    }
   ],
   "source": [
    "#A\n",
    "for i in range(len(obs.edge_features.values)):\n",
    "    edges[obs.edge_features.indices[0][i]][obs.edge_features.indices[1][i]] = obs.edge_features.values[i]\n",
    "print(edges)"
   ]
  },
  {
   "cell_type": "code",
   "execution_count": 43,
   "id": "1611c22e",
   "metadata": {},
   "outputs": [
    {
     "name": "stdout",
     "output_type": "stream",
     "text": [
      "[-0.57735027 -0.5        -0.70710678 -0.70710678 -0.5        -0.5\n",
      " -0.57735027 -0.70710678 -0.57735027 -0.57735027]\n"
     ]
    }
   ],
   "source": [
    "#bias\n",
    "print(obs.row_features[:,0])"
   ]
  },
  {
   "cell_type": "code",
   "execution_count": 79,
   "id": "93a5a8d4",
   "metadata": {},
   "outputs": [
    {
     "name": "stdout",
     "output_type": "stream",
     "text": [
      "{0: [3, 4, 6], 1: [2, 5, 7, 9], 2: [0, 1, 2], 3: [0, 3, 6], 4: [0, 5, 7], 5: [2, 8], 6: [0, 5, 9], 7: [0, 1, 4, 7], 8: [3, 5, 8], 9: [4, 5]}\n"
     ]
    }
   ],
   "source": [
    "edges_dict = {}\n",
    "for i in range(len(obs.edge_features.indices[0])):\n",
    "    if obs.edge_features.indices[0][i] not in edges_dict:\n",
    "        edges_dict[obs.edge_features.indices[0][i]] = []\n",
    "    edges_dict[obs.edge_features.indices[0][i]].append(obs.edge_features.indices[1][i])\n",
    "np.set_printoptions(threshold=np.inf)\n",
    "print(edges_dict)"
   ]
  },
  {
   "cell_type": "code",
   "execution_count": 70,
   "id": "e3d09da1",
   "metadata": {},
   "outputs": [
    {
     "name": "stdout",
     "output_type": "stream",
     "text": [
      "<ecole.core.scip.Model object at 0x7f9a57a30e30>\n",
      "(10, 5)\n",
      "[10, 10]\n",
      "[0.55795062 0.04601655 0.21282652 0.27609928 0.1265455  0.14955377\n",
      " 0.49467787 0.4889258  0.00575207 0.20707446]\n",
      "{0: [5, 9], 1: [0, 3, 7], 2: [0, 3, 6, 9], 3: [1, 2, 4], 4: [1, 6], 5: [0, 5], 6: [0, 2, 4, 8], 7: [0, 3, 5, 8], 8: [1, 4, 8], 9: [0, 7, 9]}\n"
     ]
    }
   ],
   "source": [
    "scip_parameters = {\"branching/scorefunc\": \"s\",\n",
    "                   \"separating/maxrounds\": 0,\n",
    "                   \"limits/time\": 360,\n",
    "                   \"presolving/maxrounds\": 0,\n",
    "                   \"separating/maxroundsroot\" : 0,\n",
    "                   \"separating/maxcutsroot\": 0,\n",
    "                   \"separating/maxcuts\": 0,\n",
    "                   \"propagating/maxroundsroot\" : 0,\n",
    "                   \"lp/presolving\" : False,\n",
    "                   \"constraints/linear/sortvars\": False,\n",
    "                   \"heuristics/shiftandpropagate/sortvars\": False,\n",
    "                   \n",
    "                   \"propagating/genvbounds/sort\": False,\n",
    "                   \"presolving/sparsify/rowsort\": False,\n",
    "                   \n",
    "                   \"randomization/permutevars\": False,\n",
    "                   \"randomization/permuteconss\": False,\n",
    "                   \n",
    "                   \"presolving/gateextraction/sorting\":0,\n",
    "                   \"separating/oddcycle/sortswitch\":0,\n",
    "                   \"separating/oddcycle/sortrootneighbors\":False,\n",
    "                   \n",
    "#                    \"constraints/linear/maxrounds\" :0,\n",
    "#                    \"constraints/linear/maxroundsroot\" : 0,\n",
    "#                    \"constraints/knapsack/maxroundsroot\" : 0,\n",
    "#                    \"separating/maxroundsrootsubrun\" : 0,\n",
    "#                    \"separating/zerohalf/maxroundsroot\" : 0,\n",
    "#                    \"separating/rlt/maxroundsroot\" : 0,\n",
    "#                    \"separating/oddcycle/maxroundsroot\" : 0,\n",
    "#                    \"separating/mixing/maxroundsroot\" : 0,\n",
    "#                    \"separating/minor/maxroundsroot\" : 0,\n",
    "#                    \"separating/interminor/maxroundsroot\" : 0,\n",
    "#                    \"separating/gomory/maxroundsroot\" : 0,\n",
    "#                    \"separating/eccuts/maxroundsroot\" : 0,\n",
    "#                    \"separating/disjunctive/maxroundsroot\" : 0,\n",
    "#                    \"separating/aggregation/maxroundsroot\" : 0,\n",
    "                   \n",
    "#                    \"constraints/linear/singletonstuffing\": False,\n",
    "#                    \"constraints/linear/rangedrowartcons\": False,\n",
    "#                    \"constraints/and/maxprerounds\" :0,\n",
    "#                    \"constraints/and/presolusehashing\": False,\n",
    "#                    \"constraints/benders/maxprerounds\": 0,\n",
    "#                    \"constraints/benderslp/iterlimit\": 0,\n",
    "#                    \"reading/dynamicrows\": False,\n",
    "#                    \"separator/oddcycle/cutthreshold\":0,\n",
    "                  }\n",
    "env = ecole.environment.Branching(observation_function = ecole.observation.NodeBipartite(),\\\n",
    "                                scip_params = scip_parameters)\n",
    "instance = ecole.scip.Model.from_file(\"debugFile/set_cover_test.lp\")\n",
    "print(instance)\n",
    "\n",
    "obs, action_set, _, _, _ = env.reset(instance)\n",
    "print(obs.row_features.shape)\n",
    "print(obs.edge_features.shape)\n",
    "print(obs.variable_features[:,0])\n",
    "\n",
    "edges_dict = {}\n",
    "for i in range(len(obs.edge_features.indices[0])):\n",
    "    if obs.edge_features.indices[0][i] not in edges_dict:\n",
    "        edges_dict[obs.edge_features.indices[0][i]] = []\n",
    "    edges_dict[obs.edge_features.indices[0][i]].append(obs.edge_features.indices[1][i])\n",
    "np.set_printoptions(threshold=np.inf)\n",
    "print(edges_dict)\n",
    "edges = np.zeros((10,10))"
   ]
  },
  {
   "cell_type": "code",
   "execution_count": null,
   "id": "71f786cc",
   "metadata": {},
   "outputs": [],
   "source": [
    "for row in [100,150,200]:\n",
    "    for coef_col in [1,1.5,2]: \n",
    "        for d in [0.1,0.15,0.2]:\n",
    "            col = int(coef_col * row)\n",
    "            print(\"Solve with Row:%d,Col:%d,Density:%f\" % (row,col,d))\n",
    "            for n in range(1,2):\n",
    "#                 #save label\n",
    "                problme_name = \\\n",
    "                        \"set_cover_{\"+row.__str__()+\"*\"+col.__str__()+\"_\"+d.__str__()+\"_\"+n.__str__()+\"}\"\n",
    "#                     solver = gb.read(\"problem/\"+problme_name+\".lp\")\n",
    "#                     solver.optimize()\n",
    "#                     dumpSolution_Gurobi(\"DataSet/label/\"+problme_name+\"_label.json\",solver)\n",
    "#                 solver = ecole.scip.Model.from_file(\"DataSet/problem/\"+problme_name+\".lp\")\n",
    "#                 aspyscip = solver.as_pyscipopt()\n",
    "#                 aspyscip.setPresolve(pyscip.SCIP_PARAMSETTING.OFF)\n",
    "#                 aspyscip.optimize()\n",
    "                model_scip = pyscip.scip.Model()\n",
    "                model_scip.setPresolve(pyscip.SCIP_PARAMSETTING.OFF)\n",
    "                model_scip.readProblem(filename=\"DataSet/problem/\"+problme_name+\".lp\")\n",
    "                model_scip.optimize()"
   ]
  },
  {
   "cell_type": "code",
   "execution_count": null,
   "id": "0ce3de96",
   "metadata": {},
   "outputs": [],
   "source": []
  }
 ],
 "metadata": {
  "kernelspec": {
   "display_name": "Python 3 (ipykernel)",
   "language": "python",
   "name": "python3"
  },
  "language_info": {
   "codemirror_mode": {
    "name": "ipython",
    "version": 3
   },
   "file_extension": ".py",
   "mimetype": "text/x-python",
   "name": "python",
   "nbconvert_exporter": "python",
   "pygments_lexer": "ipython3",
   "version": "3.10.4"
  }
 },
 "nbformat": 4,
 "nbformat_minor": 5
}
