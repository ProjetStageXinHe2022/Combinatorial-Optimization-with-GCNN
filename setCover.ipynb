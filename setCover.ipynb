{
 "cells": [
  {
   "cell_type": "code",
   "execution_count": 1,
   "id": "f7305f0d",
   "metadata": {},
   "outputs": [],
   "source": [
    "import ecole\n",
    "import shutil\n",
    "import os\n",
    "import sys\n",
    "import time\n",
    "import numpy as np\n",
    "from tqdm import trange\n",
    "import gurobipy as gb\n",
    "import pyscipopt as pyscip\n",
    "from gurobipy import GRB\n",
    "\n",
    "scip_parameters = {\"limits/time\": 360}\n",
    "\n",
    "class HiddenPrints:\n",
    "    def __enter__(self):\n",
    "        self._original_stdout = sys.stdout\n",
    "        sys.stdout = open(os.devnull, 'w')\n",
    "\n",
    "    def __exit__(self, exc_type, exc_val, exc_tb):\n",
    "        sys.stdout.close()\n",
    "        sys.stdout = self._original_stdout\n"
   ]
  },
  {
   "cell_type": "code",
   "execution_count": 18,
   "id": "d8ac895e",
   "metadata": {},
   "outputs": [
    {
     "name": "stdout",
     "output_type": "stream",
     "text": [
      "original problem has 4 variables (4 bin, 0 int, 0 impl, 0 cont) and 4 constraints\n",
      "feasible solution found by trivial heuristic after 0.0 seconds, objective value 2.510000e+02\n",
      "presolving:\n",
      "(round 1, fast)       1 del vars, 1 del conss, 0 add conss, 0 chg bounds, 0 chg sides, 0 chg coeffs, 0 upgd conss, 0 impls, 3 clqs\n",
      "   (0.0s) running MILP presolver\n",
      "   (0.0s) MILP presolver found nothing\n",
      "(round 2, exhaustive) 1 del vars, 1 del conss, 0 add conss, 0 chg bounds, 0 chg sides, 0 chg coeffs, 3 upgd conss, 0 impls, 3 clqs\n",
      "   (0.0s) probing cycle finished: starting next cycle\n",
      "   (0.0s) symmetry computation started: requiring (bin +, int -, cont +), (fixed: bin -, int +, cont -)\n",
      "   (0.0s) no symmetry present\n",
      "presolving (3 rounds: 3 fast, 2 medium, 2 exhaustive):\n",
      " 1 deleted vars, 1 deleted constraints, 0 added constraints, 0 tightened bounds, 0 added holes, 0 changed sides, 0 changed coefficients\n",
      " 0 implications, 3 cliques\n",
      "presolved problem has 3 variables (3 bin, 0 int, 0 impl, 0 cont) and 3 constraints\n",
      "      3 constraints of type <setppc>\n",
      "transformed objective value is always integral (scale: 1)\n",
      "Presolving Time: 0.00\n",
      "\n",
      " time | node  | left  |LP iter|LP it/n|mem/heur|mdpt |vars |cons |rows |cuts |sepa|confs|strbr|  dualbound   | primalbound  |  gap   | compl. \n",
      "t 0.0s|     1 |     0 |     0 |     - | trivial|   0 |   3 |   3 |   0 |   0 |  0 |   0 |   0 | 5.100000e+01 | 2.000000e+02 | 292.16%| unknown\n",
      "p 0.0s|     1 |     0 |     0 |     - |  clique|   0 |   3 |   3 |   3 |   0 |  0 |   0 |   0 | 5.100000e+01 | 1.270000e+02 | 149.02%| unknown\n",
      "  0.0s|     1 |     0 |     0 |     - |   599k |   0 |   3 |   1 |   3 |   0 |  0 |   0 |   0 | 1.270000e+02 | 1.270000e+02 |   0.00%| unknown\n",
      "\n",
      "SCIP Status        : problem is solved [optimal solution found]\n",
      "Solving Time (sec) : 0.00\n",
      "Solving Nodes      : 1\n",
      "Primal Bound       : +1.27000000000000e+02 (3 solutions)\n",
      "Dual Bound         : +1.27000000000000e+02\n",
      "Gap                : 0.00 %\n",
      "\n",
      " {'t_x0': 1.0, 't_x1': 0.0, 't_x2': 1.0}\n",
      "Ecole*********************\n",
      "{'t_x0': 1.0, 't_x1': 0.0, 't_x2': 1.0}\n",
      "Gurobi*********************\n",
      "x0: 1.0\n",
      "x1: 0.0\n",
      "x2: 1.0\n",
      "x3: 0.0\n"
     ]
    }
   ],
   "source": [
    "#scip\n",
    "model_scip = pyscip.scip.Model()\n",
    "model_scip.readProblem(filename=\"debug2.lp\",extension = \"lp\")\n",
    "model_scip.optimize()\n",
    "time.sleep(1)\n",
    "print(\"\\n\",model_scip.getBestSol())\n",
    "\n",
    "# ecole\n",
    "print(\"Ecole*********************\")\n",
    "with HiddenPrints():\n",
    "    solver = ecole.scip.Model.from_file(\"debug2.lp\")\n",
    "    solver.solve()\n",
    "    aspyscip = solver.as_pyscipopt()\n",
    "    sol = aspyscip.getBestSol()\n",
    "print(sol)\n",
    "\n",
    "#gurobi\n",
    "print(\"Gurobi*********************\")\n",
    "with HiddenPrints():\n",
    "    model = gb.read(\"debug2.lp\")\n",
    "    model.optimize()\n",
    "for var in model.getVars():\n",
    "    print(f\"{var.varName}: {round(var.X, 3)}\")\n",
    "\n"
   ]
  },
  {
   "cell_type": "code",
   "execution_count": 3,
   "id": "7b501a0f",
   "metadata": {},
   "outputs": [
    {
     "name": "stdout",
     "output_type": "stream",
     "text": [
      "<ecole.core.scip.Model object at 0x7faf100dafb0>\n",
      "(337, 5)\n",
      "[337, 77]\n",
      "(77, 19)\n"
     ]
    }
   ],
   "source": [
    "setCover = ecole.instance.SetCoverGenerator\\\n",
    "            (n_rows=300, n_cols=400,density=0.1)\n",
    "env = ecole.environment.Branching(observation_function = ecole.observation.NodeBipartite())\n",
    "instance = next(setCover)\n",
    "print(instance)\n",
    "problme_name = \"set_cover_test\"\n",
    "instance.write_problem(problme_name+\".lp\")\n",
    "\n",
    "obs, action_set, _, _, _ = env.reset(instance)\n",
    "print(obs.row_features.shape)\n",
    "print(obs.edge_features.shape)\n",
    "print(obs.variable_features.shape)\n"
   ]
  },
  {
   "cell_type": "markdown",
   "id": "bd8e303f",
   "metadata": {},
   "source": [
    "# Dump features in file Json"
   ]
  },
  {
   "cell_type": "code",
   "execution_count": 2,
   "id": "8dc253f5",
   "metadata": {},
   "outputs": [],
   "source": [
    "import json\n",
    "def dumpRowFeatures(filename,row_features):\n",
    "    features = {}\n",
    "    num = 0\n",
    "    for node in row_features:\n",
    "        node_features = {\"bias\" : node[0],\n",
    "                    \"objective_cosine_similarity\" : node[1],\n",
    "                   \"is_tight\" : node[2],\n",
    "                   \"dual_solution_value\" : node[3],\n",
    "                   \"scaled_age\" : node[4]\n",
    "                    }\n",
    "        features[num] = node_features\n",
    "        num+=1\n",
    "    data = json.dumps(features)\n",
    "    file = open(filename,'w')\n",
    "    file.write(data)\n",
    "    file.close()\n",
    "\n",
    "def dumpVariableFeatures(filename,variable_features):\n",
    "    features = {}\n",
    "    num = 0\n",
    "    for node in variable_features:\n",
    "        node_features = {\"objective\" : node[0],\n",
    "                \"is_type_binary\" : node[1],\n",
    "               \"is_type_integer\" : node[2],\n",
    "               \"is_type_implicit_integer\" : node[3],\n",
    "               \"is_type_continuous\" : node[4],\n",
    "                \"has_lower_bound\" : node[5],\n",
    "                \"has_upper_bound\" : node[6],\n",
    "               \"normed_reduced_cost\" : node[7],\n",
    "               \"solution_value\" : node[8],\n",
    "               \"solution_frac\" : node[9],\n",
    "                \"is_solution_at_lower_bound\" : node[10],\n",
    "                \"is_solution_at_upper_bound\" : node[11],\n",
    "               \"scaled_age\" : node[12],\n",
    "               \"incumbent_value\" : node[13],\n",
    "               \"average_incumbent_value\" : node[14],\n",
    "                \"is_basis_lower\" : node[15],\n",
    "                \"is_basis_basic\" : node[16],\n",
    "               \"is_basis_upper\" : node[17],\n",
    "               \"is_basis_zero\" : node[18]\n",
    "                }\n",
    "        features[num] = node_features\n",
    "        num+=1\n",
    "    data = json.dumps(features)\n",
    "    file = open(filename,'w')\n",
    "    file.write(data)\n",
    "    file.close()\n",
    "\n",
    "def dumpSolution_Ecole(filename,solver):\n",
    "    pyscip = solver.as_pyscipopt()\n",
    "    bestsol = pyscip.getBestSol()\n",
    "    solutions = {\n",
    "        \"Best_Solution\":bestsol.__str__(),\n",
    "        \"Solution_Pool\":pyscip.getSols().__str__()\n",
    "    }\n",
    "    data = json.dumps(solutions)\n",
    "    file = open(filename,'w')\n",
    "    file.write(data)\n",
    "    file.close()\n",
    "\n",
    "def dumpSolution_Gurobi(filename,solver,nbSolMax = 10,poolGap=0.1):\n",
    "    # Limit how many solutions to collect\n",
    "    model.setParam(GRB.Param.PoolSolutions, nbSolMax)\n",
    "\n",
    "    # Limit the search space by setting a gap for the worst possible solution\n",
    "    # that will be accepted\n",
    "    model.setParam(GRB.Param.PoolGap, poolGap)\n",
    "\n",
    "    # do a systematic search for the k- best solutions\n",
    "    model.setParam(GRB.Param.PoolSearchMode, 2)\n",
    "\n",
    "    model.optimize()\n",
    "    status = model.Status\n",
    "    if status in (GRB.INF_OR_UNBD, GRB.INFEASIBLE, GRB.UNBOUNDED):\n",
    "        print('The model cannot be solved because it is infeasible or unbounded')\n",
    "        sys.exit(1)\n",
    "    if status != GRB.OPTIMAL:\n",
    "        print('Optimization was stopped with status ' + str(status))\n",
    "        sys.exit(1)\n",
    "      #the first solution is the best  \n",
    "#     #get the beat solution\n",
    "#     bestSol = {}\n",
    "#     for var in model.getVars():\n",
    "#         bestSol[var.varName] = var.X\n",
    "        \n",
    "\n",
    "    #get the solution pool\n",
    "    poolSol = {}\n",
    "    nSolution = model.SolCount\n",
    "    for e in range (nSolution):\n",
    "        sol = {}\n",
    "        model.setParam(GRB.Param.SolutionNumber, e)\n",
    "        for var in model.getVars():\n",
    "            sol[var.varName] = var.X\n",
    "        poolSol[model.PoolObjVal]=sol\n",
    "    \n",
    "    solutions = {\n",
    "        \"Nombre_Solutions\":nSolution,\n",
    "#         \"Best_Solution\":bestSol,\n",
    "        \"Solution_Pool\":poolSol\n",
    "    }\n",
    "\n",
    "    data = json.dumps(solutions)\n",
    "    file = open(filename,'w')\n",
    "    file.write(data)\n",
    "    file.close()\n",
    "    \n",
    "\n",
    "# dumpRowFeatures(\"features/row.json\",obs.row_features)\n",
    "# dumpVariableFeatures(\"features/v.json\",obs.variable_features)\n",
    "# model = gb.read(problme_name+\".lp\")\n",
    "\n",
    "# model.optimize()\n",
    "# dumpSolution_Gurobi(\"test_dump_gurobi.json\",model)"
   ]
  },
  {
   "cell_type": "markdown",
   "id": "7735affb",
   "metadata": {},
   "source": [
    "# Generate Problem and collect features"
   ]
  },
  {
   "cell_type": "code",
   "execution_count": 5,
   "id": "3d793dbe",
   "metadata": {},
   "outputs": [
    {
     "name": "stdout",
     "output_type": "stream",
     "text": [
      "Generate with Row:100,Col:100,Density:0.100000\n"
     ]
    },
    {
     "name": "stderr",
     "output_type": "stream",
     "text": [
      "100%|█████████████████████████████████████████| 100/100 [01:11<00:00,  1.40it/s]\n"
     ]
    },
    {
     "name": "stdout",
     "output_type": "stream",
     "text": [
      "Generate with Row:100,Col:100,Density:0.150000\n"
     ]
    },
    {
     "name": "stderr",
     "output_type": "stream",
     "text": [
      "100%|█████████████████████████████████████████| 100/100 [01:24<00:00,  1.18it/s]\n"
     ]
    },
    {
     "name": "stdout",
     "output_type": "stream",
     "text": [
      "Generate with Row:100,Col:100,Density:0.200000\n"
     ]
    },
    {
     "name": "stderr",
     "output_type": "stream",
     "text": [
      "100%|█████████████████████████████████████████| 100/100 [01:31<00:00,  1.09it/s]\n"
     ]
    },
    {
     "name": "stdout",
     "output_type": "stream",
     "text": [
      "Generate with Row:100,Col:150,Density:0.100000\n"
     ]
    },
    {
     "name": "stderr",
     "output_type": "stream",
     "text": [
      "100%|█████████████████████████████████████████| 100/100 [02:15<00:00,  1.36s/it]\n"
     ]
    },
    {
     "name": "stdout",
     "output_type": "stream",
     "text": [
      "Generate with Row:100,Col:150,Density:0.150000\n"
     ]
    },
    {
     "name": "stderr",
     "output_type": "stream",
     "text": [
      "100%|█████████████████████████████████████████| 100/100 [01:40<00:00,  1.01s/it]\n"
     ]
    },
    {
     "name": "stdout",
     "output_type": "stream",
     "text": [
      "Generate with Row:100,Col:150,Density:0.200000\n"
     ]
    },
    {
     "name": "stderr",
     "output_type": "stream",
     "text": [
      "100%|█████████████████████████████████████████| 100/100 [01:42<00:00,  1.03s/it]\n"
     ]
    },
    {
     "name": "stdout",
     "output_type": "stream",
     "text": [
      "Generate with Row:100,Col:200,Density:0.100000\n"
     ]
    },
    {
     "name": "stderr",
     "output_type": "stream",
     "text": [
      "100%|█████████████████████████████████████████| 100/100 [02:27<00:00,  1.47s/it]\n"
     ]
    },
    {
     "name": "stdout",
     "output_type": "stream",
     "text": [
      "Generate with Row:100,Col:200,Density:0.150000\n"
     ]
    },
    {
     "name": "stderr",
     "output_type": "stream",
     "text": [
      "100%|█████████████████████████████████████████| 100/100 [01:47<00:00,  1.07s/it]\n"
     ]
    },
    {
     "name": "stdout",
     "output_type": "stream",
     "text": [
      "Generate with Row:100,Col:200,Density:0.200000\n"
     ]
    },
    {
     "name": "stderr",
     "output_type": "stream",
     "text": [
      "100%|█████████████████████████████████████████| 100/100 [01:40<00:00,  1.00s/it]\n"
     ]
    },
    {
     "name": "stdout",
     "output_type": "stream",
     "text": [
      "Generate with Row:150,Col:150,Density:0.100000\n"
     ]
    },
    {
     "name": "stderr",
     "output_type": "stream",
     "text": [
      "100%|█████████████████████████████████████████| 100/100 [01:36<00:00,  1.03it/s]\n"
     ]
    },
    {
     "name": "stdout",
     "output_type": "stream",
     "text": [
      "Generate with Row:150,Col:150,Density:0.150000\n"
     ]
    },
    {
     "name": "stderr",
     "output_type": "stream",
     "text": [
      "100%|█████████████████████████████████████████| 100/100 [01:43<00:00,  1.04s/it]\n"
     ]
    },
    {
     "name": "stdout",
     "output_type": "stream",
     "text": [
      "Generate with Row:150,Col:150,Density:0.200000\n"
     ]
    },
    {
     "name": "stderr",
     "output_type": "stream",
     "text": [
      "100%|█████████████████████████████████████████| 100/100 [01:36<00:00,  1.04it/s]\n"
     ]
    },
    {
     "name": "stdout",
     "output_type": "stream",
     "text": [
      "Generate with Row:150,Col:225,Density:0.100000\n"
     ]
    },
    {
     "name": "stderr",
     "output_type": "stream",
     "text": [
      "100%|█████████████████████████████████████████| 100/100 [01:59<00:00,  1.20s/it]\n"
     ]
    },
    {
     "name": "stdout",
     "output_type": "stream",
     "text": [
      "Generate with Row:150,Col:225,Density:0.150000\n"
     ]
    },
    {
     "name": "stderr",
     "output_type": "stream",
     "text": [
      "100%|█████████████████████████████████████████| 100/100 [01:58<00:00,  1.19s/it]\n"
     ]
    },
    {
     "name": "stdout",
     "output_type": "stream",
     "text": [
      "Generate with Row:150,Col:225,Density:0.200000\n"
     ]
    },
    {
     "name": "stderr",
     "output_type": "stream",
     "text": [
      "100%|█████████████████████████████████████████| 100/100 [01:46<00:00,  1.06s/it]\n"
     ]
    },
    {
     "name": "stdout",
     "output_type": "stream",
     "text": [
      "Generate with Row:150,Col:300,Density:0.100000\n"
     ]
    },
    {
     "name": "stderr",
     "output_type": "stream",
     "text": [
      "100%|█████████████████████████████████████████| 100/100 [02:15<00:00,  1.36s/it]\n"
     ]
    },
    {
     "name": "stdout",
     "output_type": "stream",
     "text": [
      "Generate with Row:150,Col:300,Density:0.150000\n"
     ]
    },
    {
     "name": "stderr",
     "output_type": "stream",
     "text": [
      "100%|█████████████████████████████████████████| 100/100 [01:59<00:00,  1.19s/it]\n"
     ]
    },
    {
     "name": "stdout",
     "output_type": "stream",
     "text": [
      "Generate with Row:150,Col:300,Density:0.200000\n"
     ]
    },
    {
     "name": "stderr",
     "output_type": "stream",
     "text": [
      "100%|█████████████████████████████████████████| 100/100 [01:50<00:00,  1.11s/it]\n"
     ]
    },
    {
     "name": "stdout",
     "output_type": "stream",
     "text": [
      "Generate with Row:200,Col:200,Density:0.100000\n"
     ]
    },
    {
     "name": "stderr",
     "output_type": "stream",
     "text": [
      "100%|█████████████████████████████████████████| 100/100 [01:56<00:00,  1.17s/it]\n"
     ]
    },
    {
     "name": "stdout",
     "output_type": "stream",
     "text": [
      "Generate with Row:200,Col:200,Density:0.150000\n"
     ]
    },
    {
     "name": "stderr",
     "output_type": "stream",
     "text": [
      "100%|█████████████████████████████████████████| 100/100 [01:41<00:00,  1.02s/it]\n"
     ]
    },
    {
     "name": "stdout",
     "output_type": "stream",
     "text": [
      "Generate with Row:200,Col:200,Density:0.200000\n"
     ]
    },
    {
     "name": "stderr",
     "output_type": "stream",
     "text": [
      "100%|█████████████████████████████████████████| 100/100 [01:38<00:00,  1.01it/s]\n"
     ]
    },
    {
     "name": "stdout",
     "output_type": "stream",
     "text": [
      "Generate with Row:200,Col:300,Density:0.100000\n"
     ]
    },
    {
     "name": "stderr",
     "output_type": "stream",
     "text": [
      "100%|█████████████████████████████████████████| 100/100 [02:17<00:00,  1.38s/it]\n"
     ]
    },
    {
     "name": "stdout",
     "output_type": "stream",
     "text": [
      "Generate with Row:200,Col:300,Density:0.150000\n"
     ]
    },
    {
     "name": "stderr",
     "output_type": "stream",
     "text": [
      "100%|█████████████████████████████████████████| 100/100 [01:54<00:00,  1.14s/it]\n"
     ]
    },
    {
     "name": "stdout",
     "output_type": "stream",
     "text": [
      "Generate with Row:200,Col:300,Density:0.200000\n"
     ]
    },
    {
     "name": "stderr",
     "output_type": "stream",
     "text": [
      "100%|█████████████████████████████████████████| 100/100 [02:05<00:00,  1.25s/it]\n"
     ]
    },
    {
     "name": "stdout",
     "output_type": "stream",
     "text": [
      "Generate with Row:200,Col:400,Density:0.100000\n"
     ]
    },
    {
     "name": "stderr",
     "output_type": "stream",
     "text": [
      "100%|█████████████████████████████████████████| 100/100 [02:47<00:00,  1.67s/it]\n"
     ]
    },
    {
     "name": "stdout",
     "output_type": "stream",
     "text": [
      "Generate with Row:200,Col:400,Density:0.150000\n"
     ]
    },
    {
     "name": "stderr",
     "output_type": "stream",
     "text": [
      "100%|█████████████████████████████████████████| 100/100 [02:33<00:00,  1.53s/it]\n"
     ]
    },
    {
     "name": "stdout",
     "output_type": "stream",
     "text": [
      "Generate with Row:200,Col:400,Density:0.200000\n"
     ]
    },
    {
     "name": "stderr",
     "output_type": "stream",
     "text": [
      "100%|█████████████████████████████████████████| 100/100 [02:32<00:00,  1.52s/it]\n"
     ]
    }
   ],
   "source": [
    "# if os.path.exists(\"problem\"):\n",
    "#     shutil.rmtree(\"problem/\")\n",
    "# os.mkdir(\"problem/\")\n",
    "# if os.path.exists(\"features\"):\n",
    "#     shutil.rmtree(\"features/\")\n",
    "# os.mkdir(\"features/\")\n",
    "\n",
    "env = ecole.environment.Branching(observation_function = ecole.observation.NodeBipartite(),scip_params = scip_parameters)\n",
    "# print(obs.row_features.shape)\n",
    "# print(obs.edge_features.shape)\n",
    "# print(obs.variable_features.shape)\n",
    "\n",
    "for row in [100,150,200]:\n",
    "    for coef_col in [1,1.5,2]: \n",
    "        for d in [0.1,0.15,0.2]:\n",
    "            col = int(coef_col * row)\n",
    "            setCover = ecole.instance.SetCoverGenerator(n_rows = row, n_cols = col,density = d) \n",
    "            print(\"Generate with Row:%d,Col:%d,Density:%f\" % (row,col,d))\n",
    "            for n in trange(1,101):\n",
    "                done = False\n",
    "                while(not done):\n",
    "                    try:\n",
    "                        instance = next(setCover)\n",
    "                        #save problm lp\n",
    "                        problme_name = \\\n",
    "                            \"set_cover_{\"+row.__str__()+\"*\"+col.__str__()+\"_\"+d.__str__()+\"_\"+n.__str__()+\"}\"\n",
    "                        instance.write_problem(\"problem/\"+problme_name+\".lp\")\n",
    "                        #save features\n",
    "                        obs, _, _, _, _ = env.reset(instance)\n",
    "                        dumpRowFeatures(\"features/\"+problme_name+\"_row_features.json\",obs.row_features)\n",
    "                        dumpVariableFeatures(\"features/\"+problme_name+\"_variable_features.json\",obs.variable_features)\n",
    "                        #save label\n",
    "    #                             solver = ecole.scip.Model.from_file(\"problem/\"+problme_name+\".lp\")\n",
    "    #                             solver.solve()\n",
    "    #                             dumpSolution(\"label/\"+problme_name+\"_label.json\",solver)\n",
    "                        done = True\n",
    "                    except:\n",
    "                        done = False\n",
    "            "
   ]
  },
  {
   "cell_type": "markdown",
   "id": "f5af3a60",
   "metadata": {},
   "source": [
    "# Collect labels"
   ]
  },
  {
   "cell_type": "code",
   "execution_count": 10,
   "id": "bf715666",
   "metadata": {},
   "outputs": [
    {
     "name": "stdout",
     "output_type": "stream",
     "text": [
      "Solve with Row:100,Col:100,Density:0.100000\n"
     ]
    },
    {
     "name": "stderr",
     "output_type": "stream",
     "text": [
      "100%|█████████████████████████████████████████| 100/100 [00:04<00:00, 24.82it/s]\n"
     ]
    },
    {
     "name": "stdout",
     "output_type": "stream",
     "text": [
      "Solve with Row:100,Col:100,Density:0.150000\n"
     ]
    },
    {
     "name": "stderr",
     "output_type": "stream",
     "text": [
      "100%|█████████████████████████████████████████| 100/100 [00:04<00:00, 20.66it/s]\n"
     ]
    },
    {
     "name": "stdout",
     "output_type": "stream",
     "text": [
      "Solve with Row:100,Col:100,Density:0.200000\n"
     ]
    },
    {
     "name": "stderr",
     "output_type": "stream",
     "text": [
      "100%|█████████████████████████████████████████| 100/100 [00:05<00:00, 17.95it/s]\n"
     ]
    },
    {
     "name": "stdout",
     "output_type": "stream",
     "text": [
      "Solve with Row:100,Col:150,Density:0.100000\n"
     ]
    },
    {
     "name": "stderr",
     "output_type": "stream",
     "text": [
      "100%|█████████████████████████████████████████| 100/100 [00:04<00:00, 22.53it/s]\n"
     ]
    },
    {
     "name": "stdout",
     "output_type": "stream",
     "text": [
      "Solve with Row:100,Col:150,Density:0.150000\n"
     ]
    },
    {
     "name": "stderr",
     "output_type": "stream",
     "text": [
      "100%|█████████████████████████████████████████| 100/100 [00:05<00:00, 19.62it/s]\n"
     ]
    },
    {
     "name": "stdout",
     "output_type": "stream",
     "text": [
      "Solve with Row:100,Col:150,Density:0.200000\n"
     ]
    },
    {
     "name": "stderr",
     "output_type": "stream",
     "text": [
      "100%|█████████████████████████████████████████| 100/100 [00:05<00:00, 18.38it/s]\n"
     ]
    },
    {
     "name": "stdout",
     "output_type": "stream",
     "text": [
      "Solve with Row:100,Col:200,Density:0.100000\n"
     ]
    },
    {
     "name": "stderr",
     "output_type": "stream",
     "text": [
      "100%|█████████████████████████████████████████| 100/100 [00:05<00:00, 17.63it/s]\n"
     ]
    },
    {
     "name": "stdout",
     "output_type": "stream",
     "text": [
      "Solve with Row:100,Col:200,Density:0.150000\n"
     ]
    },
    {
     "name": "stderr",
     "output_type": "stream",
     "text": [
      "100%|█████████████████████████████████████████| 100/100 [00:05<00:00, 18.13it/s]\n"
     ]
    },
    {
     "name": "stdout",
     "output_type": "stream",
     "text": [
      "Solve with Row:100,Col:200,Density:0.200000\n"
     ]
    },
    {
     "name": "stderr",
     "output_type": "stream",
     "text": [
      "100%|█████████████████████████████████████████| 100/100 [00:05<00:00, 18.15it/s]\n"
     ]
    },
    {
     "name": "stdout",
     "output_type": "stream",
     "text": [
      "Solve with Row:150,Col:150,Density:0.100000\n"
     ]
    },
    {
     "name": "stderr",
     "output_type": "stream",
     "text": [
      "100%|█████████████████████████████████████████| 100/100 [00:06<00:00, 15.48it/s]\n"
     ]
    },
    {
     "name": "stdout",
     "output_type": "stream",
     "text": [
      "Solve with Row:150,Col:150,Density:0.150000\n"
     ]
    },
    {
     "name": "stderr",
     "output_type": "stream",
     "text": [
      "100%|█████████████████████████████████████████| 100/100 [00:06<00:00, 16.22it/s]\n"
     ]
    },
    {
     "name": "stdout",
     "output_type": "stream",
     "text": [
      "Solve with Row:150,Col:150,Density:0.200000\n"
     ]
    },
    {
     "name": "stderr",
     "output_type": "stream",
     "text": [
      "100%|█████████████████████████████████████████| 100/100 [00:06<00:00, 15.60it/s]\n"
     ]
    },
    {
     "name": "stdout",
     "output_type": "stream",
     "text": [
      "Solve with Row:150,Col:225,Density:0.100000\n"
     ]
    },
    {
     "name": "stderr",
     "output_type": "stream",
     "text": [
      "100%|█████████████████████████████████████████| 100/100 [00:06<00:00, 14.57it/s]\n"
     ]
    },
    {
     "name": "stdout",
     "output_type": "stream",
     "text": [
      "Solve with Row:150,Col:225,Density:0.150000\n"
     ]
    },
    {
     "name": "stderr",
     "output_type": "stream",
     "text": [
      "100%|█████████████████████████████████████████| 100/100 [00:07<00:00, 13.58it/s]\n"
     ]
    },
    {
     "name": "stdout",
     "output_type": "stream",
     "text": [
      "Solve with Row:150,Col:225,Density:0.200000\n"
     ]
    },
    {
     "name": "stderr",
     "output_type": "stream",
     "text": [
      "100%|█████████████████████████████████████████| 100/100 [00:07<00:00, 12.89it/s]\n"
     ]
    },
    {
     "name": "stdout",
     "output_type": "stream",
     "text": [
      "Solve with Row:150,Col:300,Density:0.100000\n"
     ]
    },
    {
     "name": "stderr",
     "output_type": "stream",
     "text": [
      "100%|█████████████████████████████████████████| 100/100 [00:07<00:00, 12.70it/s]\n"
     ]
    },
    {
     "name": "stdout",
     "output_type": "stream",
     "text": [
      "Solve with Row:150,Col:300,Density:0.150000\n"
     ]
    },
    {
     "name": "stderr",
     "output_type": "stream",
     "text": [
      "100%|█████████████████████████████████████████| 100/100 [00:08<00:00, 12.31it/s]\n"
     ]
    },
    {
     "name": "stdout",
     "output_type": "stream",
     "text": [
      "Solve with Row:150,Col:300,Density:0.200000\n"
     ]
    },
    {
     "name": "stderr",
     "output_type": "stream",
     "text": [
      "100%|█████████████████████████████████████████| 100/100 [00:08<00:00, 11.57it/s]\n"
     ]
    },
    {
     "name": "stdout",
     "output_type": "stream",
     "text": [
      "Solve with Row:200,Col:200,Density:0.100000\n"
     ]
    },
    {
     "name": "stderr",
     "output_type": "stream",
     "text": [
      "100%|█████████████████████████████████████████| 100/100 [00:09<00:00, 10.24it/s]\n"
     ]
    },
    {
     "name": "stdout",
     "output_type": "stream",
     "text": [
      "Solve with Row:200,Col:200,Density:0.150000\n"
     ]
    },
    {
     "name": "stderr",
     "output_type": "stream",
     "text": [
      "100%|█████████████████████████████████████████| 100/100 [00:10<00:00,  9.10it/s]\n"
     ]
    },
    {
     "name": "stdout",
     "output_type": "stream",
     "text": [
      "Solve with Row:200,Col:200,Density:0.200000\n"
     ]
    },
    {
     "name": "stderr",
     "output_type": "stream",
     "text": [
      "100%|█████████████████████████████████████████| 100/100 [00:09<00:00, 10.22it/s]\n"
     ]
    },
    {
     "name": "stdout",
     "output_type": "stream",
     "text": [
      "Solve with Row:200,Col:300,Density:0.100000\n"
     ]
    },
    {
     "name": "stderr",
     "output_type": "stream",
     "text": [
      "100%|█████████████████████████████████████████| 100/100 [00:10<00:00,  9.36it/s]\n"
     ]
    },
    {
     "name": "stdout",
     "output_type": "stream",
     "text": [
      "Solve with Row:200,Col:300,Density:0.150000\n"
     ]
    },
    {
     "name": "stderr",
     "output_type": "stream",
     "text": [
      "100%|█████████████████████████████████████████| 100/100 [00:11<00:00,  8.46it/s]\n"
     ]
    },
    {
     "name": "stdout",
     "output_type": "stream",
     "text": [
      "Solve with Row:200,Col:300,Density:0.200000\n"
     ]
    },
    {
     "name": "stderr",
     "output_type": "stream",
     "text": [
      "100%|█████████████████████████████████████████| 100/100 [00:13<00:00,  7.66it/s]\n"
     ]
    },
    {
     "name": "stdout",
     "output_type": "stream",
     "text": [
      "Solve with Row:200,Col:400,Density:0.100000\n"
     ]
    },
    {
     "name": "stderr",
     "output_type": "stream",
     "text": [
      "100%|█████████████████████████████████████████| 100/100 [00:12<00:00,  8.02it/s]\n"
     ]
    },
    {
     "name": "stdout",
     "output_type": "stream",
     "text": [
      "Solve with Row:200,Col:400,Density:0.150000\n"
     ]
    },
    {
     "name": "stderr",
     "output_type": "stream",
     "text": [
      "100%|█████████████████████████████████████████| 100/100 [00:14<00:00,  6.97it/s]\n"
     ]
    },
    {
     "name": "stdout",
     "output_type": "stream",
     "text": [
      "Solve with Row:200,Col:400,Density:0.200000\n"
     ]
    },
    {
     "name": "stderr",
     "output_type": "stream",
     "text": [
      "100%|█████████████████████████████████████████| 100/100 [00:16<00:00,  6.10it/s]\n"
     ]
    }
   ],
   "source": [
    "# solver = ecole.scip.Model.from_file(\"debug.lp\")\n",
    "# solver.solve()\n",
    "# print(solver.is_solved)\n",
    "# # solver.write_problem(\"debug_w\")\n",
    "# pyscip = solver.as_pyscipopt()\n",
    "# sol = pyscip.getBestSol()\n",
    "# print(sol)\n",
    "\n",
    "if os.path.exists(\"label\"):\n",
    "    shutil.rmtree(\"label/\")\n",
    "os.mkdir(\"label/\")\n",
    "for row in [100,150,200]:\n",
    "    for coef_col in [1,1.5,2]: \n",
    "        for d in [0.1,0.15,0.2]:\n",
    "            col = int(coef_col * row)\n",
    "            print(\"Solve with Row:%d,Col:%d,Density:%f\" % (row,col,d))\n",
    "            for n in trange(1,101):\n",
    "#                 #save label\n",
    "                with HiddenPrints():\n",
    "                    problme_name = \\\n",
    "                            \"set_cover_{\"+row.__str__()+\"*\"+col.__str__()+\"_\"+d.__str__()+\"_\"+n.__str__()+\"}\"\n",
    "                    solver = gb.read(\"problem/\"+problme_name+\".lp\")\n",
    "                    solver.optimize()\n",
    "    #                 solver = ecole.scip.Model.from_file(\"problem/\"+problme_name+\".lp\")\n",
    "    #                 solver.solve()\n",
    "                    dumpSolution_Gurobi(\"label/\"+problme_name+\"_label.json\",solver)"
   ]
  },
  {
   "cell_type": "code",
   "execution_count": null,
   "id": "07fdc7c4",
   "metadata": {},
   "outputs": [],
   "source": []
  },
  {
   "cell_type": "code",
   "execution_count": null,
   "id": "b1c1d89d",
   "metadata": {},
   "outputs": [],
   "source": [
    "\n"
   ]
  },
  {
   "cell_type": "code",
   "execution_count": null,
   "id": "71f786cc",
   "metadata": {},
   "outputs": [],
   "source": []
  }
 ],
 "metadata": {
  "kernelspec": {
   "display_name": "Python 3 (ipykernel)",
   "language": "python",
   "name": "python3"
  },
  "language_info": {
   "codemirror_mode": {
    "name": "ipython",
    "version": 3
   },
   "file_extension": ".py",
   "mimetype": "text/x-python",
   "name": "python",
   "nbconvert_exporter": "python",
   "pygments_lexer": "ipython3",
   "version": "3.10.4"
  }
 },
 "nbformat": 4,
 "nbformat_minor": 5
}
