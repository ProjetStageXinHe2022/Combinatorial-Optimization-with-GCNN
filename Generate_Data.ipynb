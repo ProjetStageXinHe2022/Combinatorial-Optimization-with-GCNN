{
 "cells": [
  {
   "cell_type": "code",
   "execution_count": 2,
   "id": "7ee1f980",
   "metadata": {},
   "outputs": [
    {
     "name": "stdout",
     "output_type": "stream",
     "text": [
      "Generate with Row:100,Col:100,Density:0.100000\n"
     ]
    },
    {
     "name": "stderr",
     "output_type": "stream",
     "text": [
      "100%|█████████████████████████████████████████| 100/100 [00:14<00:00,  6.94it/s]\n"
     ]
    },
    {
     "data": {
      "text/plain": [
       "0.0"
      ]
     },
     "execution_count": 2,
     "metadata": {},
     "output_type": "execute_result"
    }
   ],
   "source": [
    "import ecole\n",
    "import shutil\n",
    "import os\n",
    "import sys\n",
    "import time\n",
    "import numpy as np\n",
    "from tqdm import trange\n",
    "import pyscipopt as pyscip\n",
    "import pickle as pkl\n",
    "\n",
    "from generate_data import *\n",
    "from dump_data import *\n",
    "\n",
    "class HiddenPrints:\n",
    "    def __enter__(self):\n",
    "        self._original_stdout = sys.stdout\n",
    "        sys.stdout = open(os.devnull, 'w')\n",
    "\n",
    "    def __exit__(self, exc_type, exc_val, exc_tb):\n",
    "        sys.stdout.close()\n",
    "        sys.stdout = self._original_stdout\n",
    "        \n",
    "scip_parameters = {\"branching/scorefunc\": \"s\",\n",
    "                   \"separating/maxrounds\": 0,\n",
    "                   \"limits/time\": 360,\n",
    "                   \"conflict/enable\": False,\n",
    "                   \"presolving/maxrounds\": 0,\n",
    "                   \"presolving/maxrestarts\": 0,\n",
    "                   \"separating/maxroundsroot\" : 0,\n",
    "                   \"separating/maxcutsroot\": 0,\n",
    "                   \"separating/maxcuts\": 0,\n",
    "                   \"propagating/maxroundsroot\" : 0,\n",
    "                   \"lp/presolving\" : False,\n",
    "                  }\n",
    "\n",
    "generate_dataset(scip_parameters,path = \"DataSet/\",\\\n",
    "                 nb_cons = [100],nb_var = [1],density = [0.1])"
   ]
  },
  {
   "cell_type": "code",
   "execution_count": null,
   "id": "4ae22b44",
   "metadata": {},
   "outputs": [],
   "source": []
  }
 ],
 "metadata": {
  "kernelspec": {
   "display_name": "Python 3 (ipykernel)",
   "language": "python",
   "name": "python3"
  },
  "language_info": {
   "codemirror_mode": {
    "name": "ipython",
    "version": 3
   },
   "file_extension": ".py",
   "mimetype": "text/x-python",
   "name": "python",
   "nbconvert_exporter": "python",
   "pygments_lexer": "ipython3",
   "version": "3.10.4"
  }
 },
 "nbformat": 4,
 "nbformat_minor": 5
}
