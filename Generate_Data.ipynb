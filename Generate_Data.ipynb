{
 "cells": [
  {
   "cell_type": "code",
   "execution_count": null,
   "id": "7ee1f980",
   "metadata": {},
   "outputs": [
    {
     "name": "stdout",
     "output_type": "stream",
     "text": [
      "Generate with Row:1000,Col:1000,Density:0.100000\n"
     ]
    },
    {
     "name": "stderr",
     "output_type": "stream",
     "text": [
      "  1%|▍                                          | 1/100 [00:05<09:18,  5.64s/it]"
     ]
    },
    {
     "name": "stdout",
     "output_type": "stream",
     "text": [
      "pressed CTRL-C 1 times (5 times for forcing termination)\n"
     ]
    },
    {
     "name": "stderr",
     "output_type": "stream",
     "text": [
      "\r",
      "  2%|▊                                          | 2/100 [00:17<14:50,  9.09s/it]"
     ]
    },
    {
     "name": "stdout",
     "output_type": "stream",
     "text": [
      "pressed CTRL-C 1 times (5 times for forcing termination)\n"
     ]
    }
   ],
   "source": [
    "import ecole\n",
    "import shutil\n",
    "import os\n",
    "import sys\n",
    "import time\n",
    "import numpy as np\n",
    "from tqdm import trange\n",
    "import pyscipopt as pyscip\n",
    "import pickle as pkl\n",
    "\n",
    "from generate_data import *\n",
    "from utility import *\n",
    "\n",
    "class HiddenPrints:\n",
    "    def __enter__(self):\n",
    "        self._original_stdout = sys.stdout\n",
    "        sys.stdout = open(os.devnull, 'w')\n",
    "\n",
    "    def __exit__(self, exc_type, exc_val, exc_tb):\n",
    "        sys.stdout.close()\n",
    "        sys.stdout = self._original_stdout\n",
    "        \n",
    "scip_parameters = {\"branching/scorefunc\": \"s\",\n",
    "                   \"separating/maxrounds\": 0,\n",
    "                   \"limits/time\": 360,\n",
    "                   \"conflict/enable\": False,\n",
    "                   \"presolving/maxrounds\": 0,\n",
    "                   \"presolving/maxrestarts\": 0,\n",
    "                   \"separating/maxroundsroot\" : 0,\n",
    "                   \"separating/maxcutsroot\": 0,\n",
    "                   \"separating/maxcuts\": 0,\n",
    "                   \"propagating/maxroundsroot\" : 0,\n",
    "                   \"lp/presolving\" : False,\n",
    "                  }\n",
    "\n",
    "generate_dataset(scip_parameters,path = \"DataSet/\",nb_cons = [1000],nb_var = [1],density = [0.1],100)"
   ]
  },
  {
   "cell_type": "code",
   "execution_count": 7,
   "id": "4ae22b44",
   "metadata": {},
   "outputs": [
    {
     "name": "stdout",
     "output_type": "stream",
     "text": [
      "Generate with Row:30,Col:30\n"
     ]
    },
    {
     "name": "stderr",
     "output_type": "stream",
     "text": [
      "100%|███████████████████████████████████████████| 40/40 [00:01<00:00, 31.58it/s]\n"
     ]
    },
    {
     "name": "stdout",
     "output_type": "stream",
     "text": [
      "Generate with Row:30,Col:45\n"
     ]
    },
    {
     "name": "stderr",
     "output_type": "stream",
     "text": [
      "100%|███████████████████████████████████████████| 40/40 [00:01<00:00, 21.63it/s]\n",
      "/home/leonaire/anaconda3/envs/ecole/lib/python3.10/site-packages/numpy/core/fromnumeric.py:3474: RuntimeWarning: Mean of empty slice.\n",
      "  return _methods._mean(a, axis=axis, dtype=dtype,\n",
      "/home/leonaire/anaconda3/envs/ecole/lib/python3.10/site-packages/numpy/core/_methods.py:189: RuntimeWarning: invalid value encountered in double_scalars\n",
      "  ret = ret.dtype.type(ret / rcount)\n"
     ]
    },
    {
     "data": {
      "text/plain": [
       "nan"
      ]
     },
     "execution_count": 7,
     "metadata": {},
     "output_type": "execute_result"
    }
   ],
   "source": [
    "import ecole\n",
    "import shutil\n",
    "import os\n",
    "import sys\n",
    "import time\n",
    "import numpy as np\n",
    "import pyscipopt as pyscip\n",
    "import pickle as pkl\n",
    "from tqdm import trange\n",
    "\n",
    "from utility import *\n",
    "scip_parameters = {\"branching/scorefunc\": \"s\",\n",
    "                   \"separating/maxrounds\": 0,\n",
    "                   \"limits/time\": 360,\n",
    "                   \"conflict/enable\": False,\n",
    "                   \"presolving/maxrounds\": 0,\n",
    "                   \"presolving/maxrestarts\": 0,\n",
    "                   \"separating/maxroundsroot\" : 0,\n",
    "                   \"separating/maxcutsroot\": 0,\n",
    "                   \"separating/maxcuts\": 0,\n",
    "                   \"propagating/maxroundsroot\" : 0,\n",
    "                   \"lp/presolving\" : False,\n",
    "                  }\n",
    "def generate_dataset_CFL(scip_parameters,path = \"DataSet_Evaluate_CFL/\",\\\n",
    "                         n_customers = [500],n_facilities = [500],nb_instance = 100,only_problem = False):\n",
    "    if os.path.exists(path):\n",
    "        shutil.rmtree(path)\n",
    "    os.mkdir(path)\n",
    "\n",
    "    env = ecole.environment.Branching(\\\n",
    "                observation_function = ecole.observation.NodeBipartite(),scip_params = scip_parameters)\n",
    "    gapList = []\n",
    "    for customers in n_customers:\n",
    "        for facilities in n_facilities: \n",
    "            CFL = ecole.instance.CapacitatedFacilityLocationGenerator(n_customers = customers, n_facilities = facilities,continuous_assignment=False) \n",
    "            print(\"Generate with Row:%d,Col:%d\" % (customers,facilities))\n",
    "            for n in trange(1,nb_instance+1):\n",
    "                done = False\n",
    "                while(not done):\n",
    "                    try:\n",
    "                        problem_name = \\\n",
    "                            \"CFL_{\"+customers.__str__()+\"*\"+facilities.__str__()+\"_\"+n.__str__()+\"}\"\n",
    "                        instance = next(CFL)\n",
    "                        if only_problem:\n",
    "                            #save problm lp\n",
    "                            problem_name = \\\n",
    "                                \"CFL_{\"+customers.__str__()+\"*\"+facilities.__str__()+\"_\"+n.__str__()+\"}\"\n",
    "                            instance.write_problem(path+problem_name+\".lp\")\n",
    "                        else:\n",
    "                            #save problm lp\n",
    "                            problem_name = \\\n",
    "                                \"CFL_{\"+customers.__str__()+\"*\"+facilities.__str__()+\"_\"+n.__str__()+\"}\"\n",
    "                            os.mkdir(path+problem_name)\n",
    "                            instance.write_problem(path+problem_name+\"/problem.lp\")\n",
    "                            #save features\n",
    "                            obs, _, _, _, _ = env.reset(instance)\n",
    "                            #save constraintes features\n",
    "                            dumpRowFeatures(path+problem_name+\"/constraints_features.json\",obs.row_features)\n",
    "                            #save variables features\n",
    "                            dumpVariableFeatures(path+problem_name+\"/variables_features.json\",obs.variable_features)\n",
    "                            #save edges features\n",
    "                            original_indice = obs.variable_features[:,-1]\n",
    "                            dumpEdgeFeatures(path+problem_name+\"/edges_features.json\",obs.edge_features,original_indice)\n",
    "                            #get et save label\n",
    "                            solver = ecole.scip.Model.from_file(path+problem_name+\"/problem.lp\")\n",
    "                            aspyscip = solver.as_pyscipopt()\n",
    "                            aspyscip.setPresolve(pyscip.SCIP_PARAMSETTING.OFF)\n",
    "                            aspyscip.optimize()\n",
    "                            gapList.append(aspyscip.getGap())\n",
    "                            dumpSolution_Ecole(path+problem_name+\"/label.json\",aspyscip)\n",
    "\n",
    "                        done = True             \n",
    "                    except Exception as ex:\n",
    "#                             print(\"Erreur:%s\"%ex)\n",
    "                        done = False\n",
    "                        shutil.rmtree(path+problem_name)\n",
    "    gap = np.array(gapList)\n",
    "    return np.mean(gap)\n",
    "\n",
    "generate_dataset_CFL(scip_parameters,path = \"DataSet_Evaluate_CFL/\",\\\n",
    "                     n_customers = [30],n_facilities = [30,45],nb_instance = 40,only_problem = True)\n",
    "    \n",
    "    "
   ]
  },
  {
   "cell_type": "code",
   "execution_count": null,
   "id": "4d2385bb",
   "metadata": {},
   "outputs": [],
   "source": []
  }
 ],
 "metadata": {
  "kernelspec": {
   "display_name": "Python 3 (ipykernel)",
   "language": "python",
   "name": "python3"
  },
  "language_info": {
   "codemirror_mode": {
    "name": "ipython",
    "version": 3
   },
   "file_extension": ".py",
   "mimetype": "text/x-python",
   "name": "python",
   "nbconvert_exporter": "python",
   "pygments_lexer": "ipython3",
   "version": "3.10.4"
  }
 },
 "nbformat": 4,
 "nbformat_minor": 5
}
