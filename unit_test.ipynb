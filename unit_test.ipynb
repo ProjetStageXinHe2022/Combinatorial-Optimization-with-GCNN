{
 "cells": [
  {
   "cell_type": "code",
   "execution_count": 1,
   "id": "e16d3eda",
   "metadata": {},
   "outputs": [],
   "source": [
    "import ecole\n",
    "import shutil\n",
    "import os\n",
    "import sys\n",
    "import time\n",
    "import numpy as np\n",
    "from tqdm import trange\n",
    "import pyscipopt as pyscip\n",
    "import pickle as pkl\n",
    "from dump_data import *\n",
    "\n",
    "scip_parameters = {\"branching/scorefunc\": \"s\",\n",
    "                   \"limits/time\": 360,\n",
    "                   \"conflict/enable\": False,\n",
    "                   \n",
    "                   \"presolving/maxrounds\": 0,\n",
    "                   \"presolving/maxrestarts\": 0,\n",
    "                   \n",
    "                   \"separating/maxrounds\": 0,\n",
    "                   \"separating/maxroundsroot\" : 0,\n",
    "                   \"separating/maxcutsroot\": 0,\n",
    "                   \n",
    "                   \"propagating/maxroundsroot\" : 0,\n",
    "                   \"propagating/maxrounds\" : 0,\n",
    "                   \n",
    "                   \"randomization/permutevars\": False,\n",
    "                   \"randomization/permuteconss\": False,\n",
    "                   \"randomization/permutationseed\": 0,\n",
    "                  }\n",
    "env = ecole.environment.Branching(observation_function = ecole.observation.NodeBipartite(),\\\n",
    "                  scip_params = scip_parameters)\n"
   ]
  },
  {
   "cell_type": "code",
   "execution_count": 2,
   "id": "a8e6bf5c",
   "metadata": {},
   "outputs": [
    {
     "name": "stdout",
     "output_type": "stream",
     "text": [
      "(5, 5)\n",
      "[5, 5]\n",
      "(5, 20)\n"
     ]
    }
   ],
   "source": [
    "done = 0\n",
    "while not done:\n",
    "    try:\n",
    "        setCover = ecole.instance.SetCoverGenerator\\\n",
    "                    (n_rows=5, n_cols=5,density=0.8)\n",
    "        instance = next(setCover)\n",
    "        instance.write_problem(\"debugFile/unitest/pb.lp\")\n",
    "\n",
    "        obs, action_set, _, _, _ = env.reset(instance)\n",
    "        print(obs.row_features.shape)\n",
    "        print(obs.edge_features.shape)\n",
    "        print(obs.variable_features.shape)\n",
    "        done = 1\n",
    "    except Exception as ex:\n",
    "#         print(\"Erreur:%s\"%ex)\n",
    "        \n",
    "        pass"
   ]
  },
  {
   "cell_type": "code",
   "execution_count": null,
   "id": "eb031ec7",
   "metadata": {},
   "outputs": [],
   "source": []
  },
  {
   "cell_type": "code",
   "execution_count": 3,
   "id": "03c373d2",
   "metadata": {},
   "outputs": [
    {
     "name": "stdout",
     "output_type": "stream",
     "text": [
      "(5, 5)\n",
      "[5, 5]\n",
      "[[ 0.43803848  1.          0.          0.          0.          1.\n",
      "   1.          0.2416764  -0.         -0.          1.          0.\n",
      "   0.11111111  0.          0.07792208  1.          0.          0.\n",
      "   0.          1.        ]\n",
      " [ 0.77034353  1.          0.          0.          0.          1.\n",
      "   1.          0.57398146 -0.         -0.          1.          0.\n",
      "   0.11111111  0.          0.02597403  1.          0.          0.\n",
      "   0.          2.        ]\n",
      " [ 0.21146685  1.          0.          0.          0.          1.\n",
      "   1.         -0.          0.5         0.5         0.          0.\n",
      "   0.          1.          0.54545455  0.          1.          0.\n",
      "   0.          0.        ]\n",
      " [ 0.19636208  1.          0.          0.          0.          1.\n",
      "   1.         -0.          0.5         0.5         0.          0.\n",
      "   0.          1.          0.70562771  0.          1.          0.\n",
      "   0.          3.        ]\n",
      " [ 0.3625146   1.          0.          0.          0.          1.\n",
      "   1.         -0.          0.5         0.5         0.          0.\n",
      "   0.          0.          0.77489177  0.          1.          0.\n",
      "   0.          4.        ]]\n"
     ]
    }
   ],
   "source": [
    "done = 0\n",
    "while not done:\n",
    "    try:\n",
    "        instance = ecole.scip.Model.from_file(\"debugFile/unitest/pb.lp\")\n",
    "        obs, action_set, _, _, _ = env.reset(instance)\n",
    "        print(obs.row_features.shape)\n",
    "        print(obs.edge_features.shape)\n",
    "        print(obs.variable_features)\n",
    "        done = 1\n",
    "    except Exception as ex:\n",
    "#         print(\"Erreur:%s\"%ex)\n",
    "        pass\n",
    "    \n",
    "dumpRowFeatures(\"debugFile/unitest/constraints_features.json\",obs.row_features)\n",
    "#save variables features\n",
    "dumpVariableFeatures(\"debugFile/unitest/variables_features.json\",obs.variable_features)\n",
    "#save edges features\n",
    "original_indice = obs.variable_features[:,-1]\n",
    "dumpEdgeFeatures(\"debugFile/unitest/edges_features.json\",obs.edge_features,original_indice)\n",
    "#get et save label\n",
    "aspyscip = instance.as_pyscipopt()\n",
    "aspyscip.setPresolve(pyscip.SCIP_PARAMSETTING.OFF)\n",
    "aspyscip.optimize()\n",
    "dumpSolution_Ecole(\"debugFile/unitest/label.json\",aspyscip)"
   ]
  },
  {
   "cell_type": "code",
   "execution_count": 4,
   "id": "31ca9b9a",
   "metadata": {},
   "outputs": [],
   "source": [
    "#read features of variables \n",
    "import csv\n",
    "import json\n",
    "import numpy as np\n",
    "\n",
    "var_file = open(\"debugFile/unitest/variables_features.json\",\"rb\")\n",
    "data = json.load(var_file)\n",
    "data_var = np.array(data[\"values\"])\n",
    "data_name = np.array(data[\"names\"])\n",
    "\n",
    "csvfile = open(\"debugFile/unitest/Feature.csv\",\"wt\",newline=\"\") \n",
    "writer = csv.writer(csvfile,delimiter = \",\")\n",
    "writer.writerows(zip(data_name.tolist(),data_var[0].tolist(),data_var[1].tolist(),data_var[2].tolist(),data_var[3].tolist(),data_var[4].tolist()))\n",
    "\n",
    "# for j in range(len(data_var)):\n",
    "#     for i in range(len(data_name)):\n",
    "#         print(data_name[i],data_var[j][i])\n",
    "#     print()\n",
    "var_file = open(\"debugFile/unitest/constraints_features.json\",\"rb\")\n",
    "data = json.load(var_file)\n",
    "data_var = np.array(data[\"values\"])\n",
    "data_name = np.array(data[\"names\"])\n",
    "\n",
    "writer.writerows(\" \")\n",
    "writer.writerows(zip(data_name.tolist(),data_var[0].tolist(),data_var[1].tolist(),data_var[2].tolist(),data_var[3].tolist(),data_var[4].tolist()))\n",
    "\n",
    "\n",
    "csvfile.close()"
   ]
  },
  {
   "cell_type": "code",
   "execution_count": null,
   "id": "0a9d0515",
   "metadata": {},
   "outputs": [],
   "source": []
  }
 ],
 "metadata": {
  "kernelspec": {
   "display_name": "Python 3 (ipykernel)",
   "language": "python",
   "name": "python3"
  },
  "language_info": {
   "codemirror_mode": {
    "name": "ipython",
    "version": 3
   },
   "file_extension": ".py",
   "mimetype": "text/x-python",
   "name": "python",
   "nbconvert_exporter": "python",
   "pygments_lexer": "ipython3",
   "version": "3.10.4"
  }
 },
 "nbformat": 4,
 "nbformat_minor": 5
}
