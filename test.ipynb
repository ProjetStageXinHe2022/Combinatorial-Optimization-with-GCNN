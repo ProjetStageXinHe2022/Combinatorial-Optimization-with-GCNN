{
 "cells": [
  {
   "cell_type": "code",
   "execution_count": 1,
   "id": "f7305f0d",
   "metadata": {},
   "outputs": [],
   "source": [
    "import ecole\n",
    "import shutil\n",
    "import os\n",
    "import sys\n",
    "import time\n",
    "import numpy as np\n",
    "from tqdm import trange\n",
    "import pyscipopt as pyscip\n",
    "import pickle as pkl\n",
    "\n",
    "from generate_data import *\n",
    "from dump_data import *\n",
    "\n",
    "class HiddenPrints:\n",
    "    def __enter__(self):\n",
    "        self._original_stdout = sys.stdout\n",
    "        sys.stdout = open(os.devnull, 'w')\n",
    "\n",
    "    def __exit__(self, exc_type, exc_val, exc_tb):\n",
    "        sys.stdout.close()\n",
    "        sys.stdout = self._original_stdout\n"
   ]
  },
  {
   "cell_type": "markdown",
   "id": "bfc1839f",
   "metadata": {},
   "source": [
    "# Generate Problem and collect features"
   ]
  },
  {
   "cell_type": "code",
   "execution_count": null,
   "id": "1a28221f",
   "metadata": {},
   "outputs": [
    {
     "name": "stdout",
     "output_type": "stream",
     "text": [
      "Generate with Row:100,Col:100,Density:0.100000\n"
     ]
    },
    {
     "name": "stderr",
     "output_type": "stream",
     "text": [
      " 37%|███████████████▌                          | 37/100 [00:04<00:12,  4.95it/s]"
     ]
    },
    {
     "name": "stdout",
     "output_type": "stream",
     "text": [
      "pressed CTRL-C 1 times (5 times for forcing termination)\n"
     ]
    },
    {
     "name": "stderr",
     "output_type": "stream",
     "text": [
      " 67%|████████████████████████████▏             | 67/100 [00:08<00:03,  9.46it/s]"
     ]
    }
   ],
   "source": [
    "scip_parameters = {\"branching/scorefunc\": \"s\",\n",
    "                   \"separating/maxrounds\": 0,\n",
    "                   \"limits/time\": 360,\n",
    "                   \"conflict/enable\": False,\n",
    "                   \"presolving/maxrounds\": 0,\n",
    "                   \"presolving/maxrestarts\": 0,\n",
    "                   \"separating/maxroundsroot\" : 0,\n",
    "                   \"separating/maxcutsroot\": 0,\n",
    "                   \"separating/maxcuts\": 0,\n",
    "                   \"propagating/maxroundsroot\" : 0,\n",
    "                   \"lp/presolving\" : False,\n",
    "                  }\n",
    "generate_dataset(scip_parameters,path = \"DataSet/\",\\\n",
    "                 nb_cons = [100,200,300,400,500],nb_var = [1,1.5,2],density = [0.1,0.15,0.2])"
   ]
  },
  {
   "cell_type": "markdown",
   "id": "444dfcc6",
   "metadata": {},
   "source": [
    "# Collect labels"
   ]
  },
  {
   "cell_type": "code",
   "execution_count": 5,
   "id": "cfbdc87a",
   "metadata": {},
   "outputs": [
    {
     "name": "stdout",
     "output_type": "stream",
     "text": [
      "Solve with Row:100,Col:100,Density:0.100000\n"
     ]
    },
    {
     "name": "stderr",
     "output_type": "stream",
     "text": [
      "100%|█████████████████████████████████████████| 100/100 [00:10<00:00,  9.28it/s]"
     ]
    },
    {
     "name": "stdout",
     "output_type": "stream",
     "text": [
      "0.0\n",
      "(array([], dtype=int64),)\n"
     ]
    },
    {
     "name": "stderr",
     "output_type": "stream",
     "text": [
      "\n"
     ]
    }
   ],
   "source": [
    "\n",
    "for row in [100,200,300,400,500]:\n",
    "    for coef_col in [1,1.5,2]: \n",
    "        for d in [0.1,0.15,0.2]:\n",
    "            col = int(coef_col * row)\n",
    "            print(\"Solve with Row:%d,Col:%d,Density:%f\" % (row,col,d))\n",
    "            for n in trange(1,101):\n",
    "#                 #save label\n",
    "                with HiddenPrints():\n",
    "                    problme_name = \\\n",
    "                            \"set_cover_{\"+row.__str__()+\"*\"+col.__str__()+\"_\"+d.__str__()+\"_\"+n.__str__()+\"}\"\n",
    "#                     solver = gb.read(\"problem/\"+problme_name+\".lp\")\n",
    "#                     solver.optimize()\n",
    "#                     dumpSolution_Gurobi(\"DataSet/label/\"+problme_name+\"_label.json\",solver)\n",
    "                    solver = ecole.scip.Model.from_file(\"DataSet/\"+problme_name+\"/problem.lp\")\n",
    "                    aspyscip = solver.as_pyscipopt()\n",
    "                    aspyscip.setPresolve(pyscip.SCIP_PARAMSETTING.OFF)\n",
    "                    aspyscip.optimize()\n",
    "                    gapList.append(aspyscip.getGap())\n",
    "                    dumpSolution_Ecole(\"DataSet/\"+problme_name+\"/label.json\",aspyscip)\n",
    "                    \n",
    "gap = np.array(gapList)\n",
    "print(np.mean(gap))\n",
    "print(np.where(gap != 0))"
   ]
  },
  {
   "cell_type": "code",
   "execution_count": 52,
   "id": "062b103a",
   "metadata": {},
   "outputs": [
    {
     "name": "stdout",
     "output_type": "stream",
     "text": [
      "{'t_x0': 0.0, 't_x1': 0.0, 't_x2': 1.0, 't_x3': 0.9999999999999999, 't_x4': 1.0, 't_x5': 0.0, 't_x6': 1.0, 't_x7': 1.0, 't_x8': 0.0, 't_x9': 1.0, 't_x10': 1.0, 't_x11': 2.379049338482478e-16, 't_x12': 0.0, 't_x13': 0.0, 't_x14': 1.0, 't_x15': 0.0, 't_x16': 0.0, 't_x17': 0.0, 't_x18': 0.0, 't_x19': 7.477012206659218e-17, 't_x20': 0.0, 't_x21': 0.0, 't_x22': 0.0, 't_x23': 0.0, 't_x24': 0.0, 't_x25': 0.0, 't_x26': 0.0, 't_x27': 0.0, 't_x28': 0.0, 't_x29': 0.0, 't_x30': 0.0, 't_x31': 0.0, 't_x32': 0.0, 't_x33': 0.0, 't_x34': 0.0, 't_x35': 1.0, 't_x36': 1.0, 't_x37': 0.0, 't_x38': 0.0, 't_x39': 0.0, 't_x40': 0.0, 't_x41': 0.0, 't_x42': 0.0, 't_x43': 0.0, 't_x44': 0.0, 't_x45': 0.0, 't_x46': 0.0, 't_x47': 0.0, 't_x48': 1.0, 't_x49': 3.85179416706687e-17, 't_x50': 0.0, 't_x51': 0.0, 't_x52': 9.289621226455392e-17, 't_x53': 0.0, 't_x54': 0.0, 't_x55': 1.8126090197961738e-17, 't_x56': 0.9999999999999998, 't_x57': 0.0, 't_x58': 0.0, 't_x59': 0.0, 't_x60': 0.0, 't_x61': 0.0, 't_x62': 0.0, 't_x63': 2.220446049250313e-16, 't_x64': 0.0, 't_x65': 0.9999999999999999, 't_x66': 0.0, 't_x67': 1.0, 't_x68': 0.0, 't_x69': 0.0, 't_x70': 0.0, 't_x71': -1.2688263138573217e-16, 't_x72': 0.0, 't_x73': 0.9999999999999999, 't_x74': 0.0, 't_x75': 4.440892098500626e-16, 't_x76': 0.0, 't_x77': 0.0, 't_x78': 0.0, 't_x79': 0.0, 't_x80': 0.0, 't_x81': 0.0, 't_x82': 0.0, 't_x83': 0.0, 't_x84': 0.0, 't_x85': 0.0, 't_x86': 0.0, 't_x87': 0.0, 't_x88': 0.0, 't_x89': 0.0, 't_x90': 0.0, 't_x91': 0.0, 't_x92': 0.0, 't_x93': 0.0, 't_x94': 0.0, 't_x95': 0.0, 't_x96': 0.0, 't_x97': 0.0, 't_x98': 0.0, 't_x99': 0.0}\n",
      "[0, 0, 1, 1, 1, 0, 1, 1, 0, 1, 1, 0, 0, 0, 1, 0, 0, 0, 0, 0, 0, 0, 0, 0, 0, 0, 0, 0, 0, 0, 0, 0, 0, 0, 0, 1, 1, 0, 0, 0, 0, 0, 0, 0, 0, 0, 0, 0, 1, 0, 0, 0, 0, 0, 0, 0, 1, 0, 0, 0, 0, 0, 0, 0, 0, 1, 0, 1, 0, 0, 0, 0, 0, 1, 0, 0, 0, 0, 0, 0, 0, 0, 0, 0, 0, 0, 0, 0, 0, 0, 0, 0, 0, 0, 0, 0, 0, 0, 0, 0]\n"
     ]
    }
   ],
   "source": [
    "import ast\n",
    "instance = ecole.scip.Model.from_file(\"DataSet/set_cover_{100*100_0.1_35}/problem.lp\")\n",
    "aspyscip = instance.as_pyscipopt()\n",
    "aspyscip.setPresolve(pyscip.SCIP_PARAMSETTING.OFF)\n",
    "aspyscip.optimize()\n",
    "bestsol = aspyscip.getBestSol()\n",
    "print(bestsol)\n",
    "solutionPool = []\n",
    "for sol in aspyscip.getSols():\n",
    "    solutionPool.append(np.array(list(ast.literal_eval(sol.__repr__()).values())).astype(int))\n",
    "solutions = {\n",
    "    \"Best_Solution\":bestsol.__str__(),\n",
    "    \"Solution_Pool\":aspyscip.getSols().__str__()\n",
    "}\n",
    "print(np.around(list(ast.literal_eval(aspyscip.getSols()[0].__repr__()).values()),0).astype(int).tolist())"
   ]
  },
  {
   "cell_type": "code",
   "execution_count": null,
   "id": "d8ac895e",
   "metadata": {},
   "outputs": [],
   "source": [
    "#scip\n",
    "with HiddenPrints():\n",
    "    model_scip = pyscip.scip.Model()\n",
    "    model_scip.setPresolve(pyscip.SCIP_PARAMSETTING.OFF)\n",
    "    model_scip.readProblem(filename=\"debugFile/set_cover_test.lp\",extension = \"lp\")\n",
    "    # model_scip.readProblem(filename=\"debugFile/debug_diffc.lp\",extension = \"lp\")\n",
    "\n",
    "model_scip.optimize()\n",
    "# time.sleep(1)\n",
    "print(\"\\n\",model_scip.getBestSol())\n",
    "\n",
    "# print(\"Ecole*********************\")\n",
    "# # with HiddenPrints():\n",
    "# solver = ecole.scip.Model.from_file(\"debugFile/debug.lp\")\n",
    "# aspyscip = solver.as_pyscipopt()\n",
    "# aspyscip.setPresolve(pyscip.SCIP_PARAMSETTING.OFF)\n",
    "# aspyscip.optimize()\n",
    "# gap = aspyscip.getGap()\n",
    "# sol = aspyscip.getBestSol()\n",
    "# print(sol,gap)\n",
    "\n",
    "# #gurobi\n",
    "# print(\"Gurobi*********************\")\n",
    "# with HiddenPrints():\n",
    "#     model = gb.read(\"debugFile/debug.lp\")\n",
    "#     model.optimize()\n",
    "# for var in model.getVars():\n",
    "#     print(f\"{var.varName}: {round(var.X, 3)}\")\n",
    "\n"
   ]
  },
  {
   "cell_type": "code",
   "execution_count": 2,
   "id": "7b501a0f",
   "metadata": {},
   "outputs": [
    {
     "name": "stdout",
     "output_type": "stream",
     "text": [
      "(10, 5)\n",
      "[10, 10]\n",
      "(10, 20)\n",
      "[ 0.21156489  1.          0.          0.          0.          1.\n",
      "  1.         -0.          0.5         0.5         0.          0.\n",
      "  0.          1.          0.74825175  0.          1.          0.\n",
      "  0.          8.        ]\n",
      "[x_0, x_1, x_2, x_3, x_4, x_5, x_6, x_7, x_8, x_9]\n"
     ]
    }
   ],
   "source": [
    "import ecole\n",
    "import shutil\n",
    "import os\n",
    "import sys\n",
    "import time\n",
    "import numpy as np\n",
    "from tqdm import trange\n",
    "import pyscipopt as pyscip\n",
    "import pickle as pkl\n",
    "\n",
    "from dump_data import *\n",
    "\n",
    "scip_parameters = {\"branching/scorefunc\": \"s\",\n",
    "                   \"separating/maxrounds\": 0,\n",
    "                   \"limits/time\": 360,\n",
    "                   \"conflict/enable\": False,\n",
    "                   \"presolving/maxrounds\": 0,\n",
    "                   \"presolving/maxrestarts\": 0,\n",
    "                   \"separating/maxroundsroot\" : 0,\n",
    "                   \"separating/maxcutsroot\": 0,\n",
    "                   \"separating/maxcuts\": 0,\n",
    "                   \"propagating/maxroundsroot\" : 0,\n",
    "                   \"lp/presolving\" : False,\n",
    "                  }\n",
    "done = 0\n",
    "while not done:\n",
    "    try:\n",
    "        setCover = ecole.instance.SetCoverGenerator\\\n",
    "                    (n_rows=10, n_cols=10,density=0.3)\n",
    "        env = ecole.environment.Branching(observation_function = ecole.observation.NodeBipartite(),\\\n",
    "                                        scip_params = scip_parameters)\n",
    "        instance = next(setCover)\n",
    "        #         print(instance)\n",
    "        problme_name = \"set_cover_test\"\n",
    "        instance.write_problem(\"debugFile/\"+problme_name+\".lp\")\n",
    "\n",
    "        aspyscip = instance.as_pyscipopt()\n",
    "        aspyscip.freeTransform()\n",
    "        obs, action_set, _, _, _ = env.reset(instance)\n",
    "\n",
    "        print(obs.row_features.shape)\n",
    "        print(obs.edge_features.shape)\n",
    "        print(obs.variable_features.shape)\n",
    "        print(obs.variable_features[0])\n",
    "        \n",
    "        done = 1\n",
    "    except:\n",
    "        pass\n",
    "\n",
    "variable = aspyscip.getVars()\n",
    "print(variable)"
   ]
  },
  {
   "cell_type": "code",
   "execution_count": 5,
   "id": "f20ee62c",
   "metadata": {},
   "outputs": [
    {
     "name": "stdout",
     "output_type": "stream",
     "text": [
      "[8. 2. 9. 1. 4. 5. 7. 6. 3. 0.]\n"
     ]
    }
   ],
   "source": [
    "original_indice = obs.variable_features[:,-1]\n",
    "print(original_indice)"
   ]
  },
  {
   "cell_type": "code",
   "execution_count": 6,
   "id": "0b624b51",
   "metadata": {},
   "outputs": [],
   "source": [
    "dumpEdgeFeatures(\"debugFile/test_EDGEFE.json\",obs.edge_features,original_indice)\n",
    "dumpRowFeatures(\"debugFile/test_ROWFE.json\",obs.row_features)\n",
    "dumpVariableFeatures(\"debugFile/test_VarFE.json\",obs.variable_features)"
   ]
  },
  {
   "cell_type": "code",
   "execution_count": 8,
   "id": "846c54be",
   "metadata": {},
   "outputs": [],
   "source": [
    "\n",
    "aspyscip = instance.as_pyscipopt()\n",
    "aspyscip.setPresolve(pyscip.SCIP_PARAMSETTING.OFF)\n",
    "aspyscip.optimize()\n",
    "dumpSolution_Ecole(\"debugFile/label.json\",aspyscip)"
   ]
  },
  {
   "cell_type": "code",
   "execution_count": 86,
   "id": "1611c22e",
   "metadata": {},
   "outputs": [
    {
     "name": "stdout",
     "output_type": "stream",
     "text": [
      "<property object at 0x7f9a60ee24d0>\n",
      "[1 3 4 8 9]\n"
     ]
    }
   ],
   "source": [
    "#bias\n",
    "print(obs.RowFeatures.value)\n",
    "print(action_set)"
   ]
  },
  {
   "cell_type": "code",
   "execution_count": 79,
   "id": "93a5a8d4",
   "metadata": {},
   "outputs": [
    {
     "name": "stdout",
     "output_type": "stream",
     "text": [
      "{0: [3, 4, 6], 1: [2, 5, 7, 9], 2: [0, 1, 2], 3: [0, 3, 6], 4: [0, 5, 7], 5: [2, 8], 6: [0, 5, 9], 7: [0, 1, 4, 7], 8: [3, 5, 8], 9: [4, 5]}\n"
     ]
    }
   ],
   "source": [
    "edges_dict = {}\n",
    "for i in range(len(obs.edge_features.indices[0])):\n",
    "    if obs.edge_features.indices[0][i] not in edges_dict:\n",
    "        edges_dict[obs.edge_features.indices[0][i]] = []\n",
    "    edges_dict[obs.edge_features.indices[0][i]].append(obs.edge_features.indices[1][i])\n",
    "np.set_printoptions(threshold=np.inf)\n",
    "print(edges_dict)"
   ]
  },
  {
   "cell_type": "code",
   "execution_count": 128,
   "id": "55e22109",
   "metadata": {},
   "outputs": [],
   "source": [
    "class GetProblemeIndice:\n",
    "\n",
    "    def __init__(self):\n",
    "        pass\n",
    "\n",
    "    def before_reset(self,model):\n",
    "        pass\n",
    "    def extract(self, model,done):\n",
    "        aspyscip = model.as_pyscipopt()\n",
    "        variable = aspyscip.getVars()\n",
    "        indices = [var.getObj() for var in variable]\n",
    "        return indices"
   ]
  },
  {
   "cell_type": "code",
   "execution_count": 165,
   "id": "e3d09da1",
   "metadata": {},
   "outputs": [
    {
     "name": "stdout",
     "output_type": "stream",
     "text": [
      "<ecole.core.scip.Model object at 0x7f9a567d6cf0>\n",
      "(10, 5)\n",
      "[10, 10]\n",
      "[0.32105826 0.36248514 0.15017241 0.14499405 0.07767539 0.41426873\n",
      " 0.41944709 0.4556956  0.39873365 0.04142687]\n",
      "{0: [0, 4, 7], 1: [1, 2, 5, 6], 2: [3, 9], 3: [1, 6], 4: [5, 7, 9], 5: [2, 4, 5, 7, 8], 6: [1, 2, 3, 8], 7: [0, 7], 8: [7, 8], 9: [0, 5, 6]}\n",
      "[28.0, 81.0, 88.0, 15.0, 70.0, 80.0, 8.0, 29.0, 77.0, 62.0]\n"
     ]
    }
   ],
   "source": [
    "scip_parameters = {\"branching/scorefunc\": \"s\",\n",
    "                   \"separating/maxrounds\": 0,\n",
    "                   \"limits/time\": 360,\n",
    "                   \"conflict/enable\": False,\n",
    "                   \"presolving/maxrounds\": 0,\n",
    "                   \"presolving/maxrestarts\": 0,\n",
    "                   \"separating/maxroundsroot\" : 0,\n",
    "                   \"separating/maxcutsroot\": 0,\n",
    "                   \"separating/maxcuts\": 0,\n",
    "                   \"propagating/maxroundsroot\" : 0,\n",
    "                   \"lp/presolving\" : False,\n",
    "                   \"constraints/linear/sortvars\": False,\n",
    "                   \"heuristics/shiftandpropagate/sortvars\": False,\n",
    "                   \n",
    "                   \"propagating/genvbounds/sort\": False,\n",
    "                   \"presolving/sparsify/rowsort\": False,\n",
    "                   \n",
    "                   \"randomization/permutevars\": False,\n",
    "                   \"randomization/permuteconss\": False,\n",
    "                   \n",
    "                   \"presolving/gateextraction/sorting\":0,\n",
    "                   \"separating/oddcycle/sortswitch\":0,\n",
    "                   \"separating/oddcycle/sortrootneighbors\":False,\n",
    "                   \n",
    "#                    \"constraints/linear/maxrounds\" :0,\n",
    "#                    \"constraints/linear/maxroundsroot\" : 0,\n",
    "#                    \"constraints/knapsack/maxroundsroot\" : 0,\n",
    "#                    \"separating/maxroundsrootsubrun\" : 0,\n",
    "#                    \"separating/zerohalf/maxroundsroot\" : 0,\n",
    "#                    \"separating/rlt/maxroundsroot\" : 0,\n",
    "#                    \"separating/oddcycle/maxroundsroot\" : 0,\n",
    "#                    \"separating/mixing/maxroundsroot\" : 0,\n",
    "#                    \"separating/minor/maxroundsroot\" : 0,\n",
    "#                    \"separating/interminor/maxroundsroot\" : 0,\n",
    "#                    \"separating/gomory/maxroundsroot\" : 0,\n",
    "#                    \"separating/eccuts/maxroundsroot\" : 0,\n",
    "#                    \"separating/disjunctive/maxroundsroot\" : 0,\n",
    "#                    \"separating/aggregation/maxroundsroot\" : 0,\n",
    "                   \n",
    "#                    \"constraints/linear/singletonstuffing\": False,\n",
    "#                    \"constraints/linear/rangedrowartcons\": False,\n",
    "#                    \"constraints/and/maxprerounds\" :0,\n",
    "#                    \"constraints/and/presolusehashing\": False,\n",
    "#                    \"constraints/benders/maxprerounds\": 0,\n",
    "#                    \"constraints/benderslp/iterlimit\": 0,\n",
    "#                    \"reading/dynamicrows\": False,\n",
    "#                    \"separator/oddcycle/cutthreshold\":0,\n",
    "                  }\n",
    "env = ecole.environment.Branching(observation_function = [ecole.observation.NodeBipartite(),GetProblemeIndice()],\\\n",
    "                                scip_params = scip_parameters)\n",
    "instance = ecole.scip.Model.from_file(\"debugFile/set_cover_test.lp\")\n",
    "print(instance)\n",
    "\n",
    "obs, action_set, _, _, _ = env.reset(instance)\n",
    "get = obs[1]\n",
    "obs = obs[0]\n",
    "print(obs.row_features.shape)\n",
    "print(obs.edge_features.shape)\n",
    "print(obs.variable_features[:,0])\n",
    "\n",
    "edges_dict = {}\n",
    "for i in range(len(obs.edge_features.indices[0])):\n",
    "    if obs.edge_features.indices[0][i] not in edges_dict:\n",
    "        edges_dict[obs.edge_features.indices[0][i]] = []\n",
    "    edges_dict[obs.edge_features.indices[0][i]].append(obs.edge_features.indices[1][i])\n",
    "np.set_printoptions(threshold=np.inf)\n",
    "print(edges_dict)\n",
    "edges = np.zeros((10,10))\n",
    "\n",
    "print(get)\n",
    "dumpEdgeFeatures(\"debugFile/edges_feature.json\",obs.edge_features,10,10)"
   ]
  },
  {
   "cell_type": "code",
   "execution_count": 166,
   "id": "023cd9ae",
   "metadata": {},
   "outputs": [],
   "source": [
    "aspyscip = instance.as_pyscipopt()\n",
    "aspyscip.setPresolve(pyscip.SCIP_PARAMSETTING.OFF)\n",
    "aspyscip.optimize()\n",
    "gapList.append(aspyscip.getGap())\n",
    "dumpSolution_Ecole(\"debugFile/label_test.json\",aspyscip)"
   ]
  },
  {
   "cell_type": "code",
   "execution_count": 124,
   "id": "4cd05a6e",
   "metadata": {},
   "outputs": [
    {
     "name": "stdout",
     "output_type": "stream",
     "text": [
      "<ecole.core.scip.Model object at 0x7f9a56e9a770>\n",
      "<ecole.core.scip.Model object at 0x7f9a56d37030>\n",
      "28.0\n",
      "81.0\n",
      "88.0\n",
      "15.0\n",
      "70.0\n",
      "80.0\n",
      "8.0\n",
      "29.0\n",
      "77.0\n",
      "62.0\n"
     ]
    }
   ],
   "source": [
    "print(env.model)\n",
    "print(instance)\n",
    "aspyscip = env.model.as_pyscipopt()\n",
    "variable = aspyscip.getVars()\n",
    "for var in variable:\n",
    "    print(var.getObj() )"
   ]
  },
  {
   "cell_type": "code",
   "execution_count": null,
   "id": "71f786cc",
   "metadata": {},
   "outputs": [],
   "source": [
    "for row in [100,150,200]:\n",
    "    for coef_col in [1,1.5,2]: \n",
    "        for d in [0.1,0.15,0.2]:\n",
    "            col = int(coef_col * row)\n",
    "            print(\"Solve with Row:%d,Col:%d,Density:%f\" % (row,col,d))\n",
    "            for n in range(1,2):\n",
    "#                 #save label\n",
    "                problme_name = \\\n",
    "                        \"set_cover_{\"+row.__str__()+\"*\"+col.__str__()+\"_\"+d.__str__()+\"_\"+n.__str__()+\"}\"\n",
    "#                     solver = gb.read(\"problem/\"+problme_name+\".lp\")\n",
    "#                     solver.optimize()\n",
    "#                     dumpSolution_Gurobi(\"DataSet/label/\"+problme_name+\"_label.json\",solver)\n",
    "#                 solver = ecole.scip.Model.from_file(\"DataSet/problem/\"+problme_name+\".lp\")\n",
    "#                 aspyscip = solver.as_pyscipopt()\n",
    "#                 aspyscip.setPresolve(pyscip.SCIP_PARAMSETTING.OFF)\n",
    "#                 aspyscip.optimize()\n",
    "                model_scip = pyscip.scip.Model()\n",
    "                model_scip.setPresolve(pyscip.SCIP_PARAMSETTING.OFF)\n",
    "                model_scip.readProblem(filename=\"DataSet/problem/\"+problme_name+\".lp\")\n",
    "                model_scip.optimize()"
   ]
  },
  {
   "cell_type": "code",
   "execution_count": null,
   "id": "0ce3de96",
   "metadata": {},
   "outputs": [],
   "source": []
  }
 ],
 "metadata": {
  "kernelspec": {
   "display_name": "Python 3 (ipykernel)",
   "language": "python",
   "name": "python3"
  },
  "language_info": {
   "codemirror_mode": {
    "name": "ipython",
    "version": 3
   },
   "file_extension": ".py",
   "mimetype": "text/x-python",
   "name": "python",
   "nbconvert_exporter": "python",
   "pygments_lexer": "ipython3",
   "version": "3.10.4"
  }
 },
 "nbformat": 4,
 "nbformat_minor": 5
}
