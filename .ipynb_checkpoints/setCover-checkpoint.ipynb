{
 "cells": [
  {
   "cell_type": "code",
   "execution_count": 22,
   "id": "f7305f0d",
   "metadata": {},
   "outputs": [],
   "source": [
    "import ecole\n",
    "import shutil\n",
    "import os\n",
    "import sys\n",
    "import time\n",
    "import numpy as np\n",
    "from tqdm import trange\n",
    "import gurobipy as gb\n",
    "import pyscipopt as pyscip\n",
    "from gurobipy import GRB\n",
    "\n",
    "scip_parameters = {\"branching/scorefunc\": \"s\",\n",
    "                   \"limits/time\": 360,\n",
    "                   \"presolving/maxrounds\": 0\n",
    "                  }\n",
    "\n",
    "class HiddenPrints:\n",
    "    def __enter__(self):\n",
    "        self._original_stdout = sys.stdout\n",
    "        sys.stdout = open(os.devnull, 'w')\n",
    "\n",
    "    def __exit__(self, exc_type, exc_val, exc_tb):\n",
    "        sys.stdout.close()\n",
    "        sys.stdout = self._original_stdout\n"
   ]
  },
  {
   "cell_type": "code",
   "execution_count": 31,
   "id": "d8ac895e",
   "metadata": {},
   "outputs": [
    {
     "name": "stdout",
     "output_type": "stream",
     "text": [
      "Ecole*********************\n",
      "{'t_x0': 1.0, 't_x1': 0.0, 't_x2': 1.0, 't_x3': 0.0} 0.0\n"
     ]
    }
   ],
   "source": [
    "# #scip\n",
    "# with HiddenPrints():\n",
    "#     model_scip = pyscip.scip.Model()\n",
    "#     model_scip.setPresolve(pyscip.SCIP_PARAMSETTING.OFF)\n",
    "#     model_scip.readProblem(filename=\"debugFile/debug.lp\",extension = \"lp\")\n",
    "#     # model_scip.readProblem(filename=\"debugFile/debug_diffc.lp\",extension = \"lp\")\n",
    "\n",
    "# model_scip.optimize()\n",
    "# time.sleep(1)\n",
    "# print(\"\\n\",model_scip.getBestSol())\n",
    "\n",
    "ecole\n",
    "print(\"Ecole*********************\")\n",
    "with HiddenPrints():\n",
    "    solver = ecole.scip.Model.from_file(\"debugFile/debug.lp\")\n",
    "    aspyscip = solver.as_pyscipopt()\n",
    "    aspyscip.setPresolve(pyscip.SCIP_PARAMSETTING.OFF)\n",
    "    aspyscip.optimize()\n",
    "    gap = aspyscip.getGap()\n",
    "sol = aspyscip.getBestSol()\n",
    "print(sol,gap)\n",
    "\n",
    "# #gurobi\n",
    "# print(\"Gurobi*********************\")\n",
    "# with HiddenPrints():\n",
    "#     model = gb.read(\"debugFile/debug.lp\")\n",
    "#     model.optimize()\n",
    "# for var in model.getVars():\n",
    "#     print(f\"{var.varName}: {round(var.X, 3)}\")\n",
    "\n"
   ]
  },
  {
   "cell_type": "code",
   "execution_count": 19,
   "id": "7b501a0f",
   "metadata": {},
   "outputs": [
    {
     "name": "stdout",
     "output_type": "stream",
     "text": [
      "<ecole.core.scip.Model object at 0x7fdf9c6d1e70>\n",
      "(1041, 5)\n",
      "[1041, 500]\n",
      "(500, 19)\n"
     ]
    }
   ],
   "source": [
    "setCover = ecole.instance.SetCoverGenerator\\\n",
    "            (n_rows=1000, n_cols=500,density=0.1)\n",
    "env = ecole.environment.Branching(observation_function = ecole.observation.NodeBipartite(),\\\n",
    "                                scip_params = scip_parameters)\n",
    "instance = next(setCover)\n",
    "print(instance)\n",
    "problme_name = \"set_cover_test\"\n",
    "instance.write_problem(\"debugFile/\"+problme_name+\".lp\")\n",
    "\n",
    "obs, action_set, _, _, _ = env.reset(instance)\n",
    "print(obs.row_features.shape)\n",
    "print(obs.edge_features.shape)\n",
    "print(obs.variable_features.shape)\n"
   ]
  },
  {
   "cell_type": "markdown",
   "id": "bd8e303f",
   "metadata": {},
   "source": [
    "# Dump features in file Json"
   ]
  },
  {
   "cell_type": "code",
   "execution_count": 32,
   "id": "8dc253f5",
   "metadata": {},
   "outputs": [],
   "source": [
    "from generate_instances import *\n",
    "    \n",
    "\n",
    "# dumpRowFeatures(\"features/row.json\",obs.row_features)\n",
    "# dumpVariableFeatures(\"features/v.json\",obs.variable_features)\n",
    "# model = gb.read(problme_name+\".lp\")\n",
    "\n",
    "# model.optimize()\n",
    "# dumpSolution_Gurobi(\"test_dump_gurobi.json\",model)"
   ]
  },
  {
   "cell_type": "markdown",
   "id": "7735affb",
   "metadata": {},
   "source": [
    "# Generate Problem and collect features"
   ]
  },
  {
   "cell_type": "code",
   "execution_count": 5,
   "id": "3d793dbe",
   "metadata": {},
   "outputs": [
    {
     "name": "stdout",
     "output_type": "stream",
     "text": [
      "Generate with Row:100,Col:100,Density:0.100000\n"
     ]
    },
    {
     "name": "stderr",
     "output_type": "stream",
     "text": [
      "100%|█████████████████████████████████████████| 100/100 [01:11<00:00,  1.40it/s]\n"
     ]
    },
    {
     "name": "stdout",
     "output_type": "stream",
     "text": [
      "Generate with Row:100,Col:100,Density:0.150000\n"
     ]
    },
    {
     "name": "stderr",
     "output_type": "stream",
     "text": [
      "100%|█████████████████████████████████████████| 100/100 [01:24<00:00,  1.18it/s]\n"
     ]
    },
    {
     "name": "stdout",
     "output_type": "stream",
     "text": [
      "Generate with Row:100,Col:100,Density:0.200000\n"
     ]
    },
    {
     "name": "stderr",
     "output_type": "stream",
     "text": [
      "100%|█████████████████████████████████████████| 100/100 [01:31<00:00,  1.09it/s]\n"
     ]
    },
    {
     "name": "stdout",
     "output_type": "stream",
     "text": [
      "Generate with Row:100,Col:150,Density:0.100000\n"
     ]
    },
    {
     "name": "stderr",
     "output_type": "stream",
     "text": [
      "100%|█████████████████████████████████████████| 100/100 [02:15<00:00,  1.36s/it]\n"
     ]
    },
    {
     "name": "stdout",
     "output_type": "stream",
     "text": [
      "Generate with Row:100,Col:150,Density:0.150000\n"
     ]
    },
    {
     "name": "stderr",
     "output_type": "stream",
     "text": [
      "100%|█████████████████████████████████████████| 100/100 [01:40<00:00,  1.01s/it]\n"
     ]
    },
    {
     "name": "stdout",
     "output_type": "stream",
     "text": [
      "Generate with Row:100,Col:150,Density:0.200000\n"
     ]
    },
    {
     "name": "stderr",
     "output_type": "stream",
     "text": [
      "100%|█████████████████████████████████████████| 100/100 [01:42<00:00,  1.03s/it]\n"
     ]
    },
    {
     "name": "stdout",
     "output_type": "stream",
     "text": [
      "Generate with Row:100,Col:200,Density:0.100000\n"
     ]
    },
    {
     "name": "stderr",
     "output_type": "stream",
     "text": [
      "100%|█████████████████████████████████████████| 100/100 [02:27<00:00,  1.47s/it]\n"
     ]
    },
    {
     "name": "stdout",
     "output_type": "stream",
     "text": [
      "Generate with Row:100,Col:200,Density:0.150000\n"
     ]
    },
    {
     "name": "stderr",
     "output_type": "stream",
     "text": [
      "100%|█████████████████████████████████████████| 100/100 [01:47<00:00,  1.07s/it]\n"
     ]
    },
    {
     "name": "stdout",
     "output_type": "stream",
     "text": [
      "Generate with Row:100,Col:200,Density:0.200000\n"
     ]
    },
    {
     "name": "stderr",
     "output_type": "stream",
     "text": [
      "100%|█████████████████████████████████████████| 100/100 [01:40<00:00,  1.00s/it]\n"
     ]
    },
    {
     "name": "stdout",
     "output_type": "stream",
     "text": [
      "Generate with Row:150,Col:150,Density:0.100000\n"
     ]
    },
    {
     "name": "stderr",
     "output_type": "stream",
     "text": [
      "100%|█████████████████████████████████████████| 100/100 [01:36<00:00,  1.03it/s]\n"
     ]
    },
    {
     "name": "stdout",
     "output_type": "stream",
     "text": [
      "Generate with Row:150,Col:150,Density:0.150000\n"
     ]
    },
    {
     "name": "stderr",
     "output_type": "stream",
     "text": [
      "100%|█████████████████████████████████████████| 100/100 [01:43<00:00,  1.04s/it]\n"
     ]
    },
    {
     "name": "stdout",
     "output_type": "stream",
     "text": [
      "Generate with Row:150,Col:150,Density:0.200000\n"
     ]
    },
    {
     "name": "stderr",
     "output_type": "stream",
     "text": [
      "100%|█████████████████████████████████████████| 100/100 [01:36<00:00,  1.04it/s]\n"
     ]
    },
    {
     "name": "stdout",
     "output_type": "stream",
     "text": [
      "Generate with Row:150,Col:225,Density:0.100000\n"
     ]
    },
    {
     "name": "stderr",
     "output_type": "stream",
     "text": [
      "100%|█████████████████████████████████████████| 100/100 [01:59<00:00,  1.20s/it]\n"
     ]
    },
    {
     "name": "stdout",
     "output_type": "stream",
     "text": [
      "Generate with Row:150,Col:225,Density:0.150000\n"
     ]
    },
    {
     "name": "stderr",
     "output_type": "stream",
     "text": [
      "100%|█████████████████████████████████████████| 100/100 [01:58<00:00,  1.19s/it]\n"
     ]
    },
    {
     "name": "stdout",
     "output_type": "stream",
     "text": [
      "Generate with Row:150,Col:225,Density:0.200000\n"
     ]
    },
    {
     "name": "stderr",
     "output_type": "stream",
     "text": [
      "100%|█████████████████████████████████████████| 100/100 [01:46<00:00,  1.06s/it]\n"
     ]
    },
    {
     "name": "stdout",
     "output_type": "stream",
     "text": [
      "Generate with Row:150,Col:300,Density:0.100000\n"
     ]
    },
    {
     "name": "stderr",
     "output_type": "stream",
     "text": [
      "100%|█████████████████████████████████████████| 100/100 [02:15<00:00,  1.36s/it]\n"
     ]
    },
    {
     "name": "stdout",
     "output_type": "stream",
     "text": [
      "Generate with Row:150,Col:300,Density:0.150000\n"
     ]
    },
    {
     "name": "stderr",
     "output_type": "stream",
     "text": [
      "100%|█████████████████████████████████████████| 100/100 [01:59<00:00,  1.19s/it]\n"
     ]
    },
    {
     "name": "stdout",
     "output_type": "stream",
     "text": [
      "Generate with Row:150,Col:300,Density:0.200000\n"
     ]
    },
    {
     "name": "stderr",
     "output_type": "stream",
     "text": [
      "100%|█████████████████████████████████████████| 100/100 [01:50<00:00,  1.11s/it]\n"
     ]
    },
    {
     "name": "stdout",
     "output_type": "stream",
     "text": [
      "Generate with Row:200,Col:200,Density:0.100000\n"
     ]
    },
    {
     "name": "stderr",
     "output_type": "stream",
     "text": [
      "100%|█████████████████████████████████████████| 100/100 [01:56<00:00,  1.17s/it]\n"
     ]
    },
    {
     "name": "stdout",
     "output_type": "stream",
     "text": [
      "Generate with Row:200,Col:200,Density:0.150000\n"
     ]
    },
    {
     "name": "stderr",
     "output_type": "stream",
     "text": [
      "100%|█████████████████████████████████████████| 100/100 [01:41<00:00,  1.02s/it]\n"
     ]
    },
    {
     "name": "stdout",
     "output_type": "stream",
     "text": [
      "Generate with Row:200,Col:200,Density:0.200000\n"
     ]
    },
    {
     "name": "stderr",
     "output_type": "stream",
     "text": [
      "100%|█████████████████████████████████████████| 100/100 [01:38<00:00,  1.01it/s]\n"
     ]
    },
    {
     "name": "stdout",
     "output_type": "stream",
     "text": [
      "Generate with Row:200,Col:300,Density:0.100000\n"
     ]
    },
    {
     "name": "stderr",
     "output_type": "stream",
     "text": [
      "100%|█████████████████████████████████████████| 100/100 [02:17<00:00,  1.38s/it]\n"
     ]
    },
    {
     "name": "stdout",
     "output_type": "stream",
     "text": [
      "Generate with Row:200,Col:300,Density:0.150000\n"
     ]
    },
    {
     "name": "stderr",
     "output_type": "stream",
     "text": [
      "100%|█████████████████████████████████████████| 100/100 [01:54<00:00,  1.14s/it]\n"
     ]
    },
    {
     "name": "stdout",
     "output_type": "stream",
     "text": [
      "Generate with Row:200,Col:300,Density:0.200000\n"
     ]
    },
    {
     "name": "stderr",
     "output_type": "stream",
     "text": [
      "100%|█████████████████████████████████████████| 100/100 [02:05<00:00,  1.25s/it]\n"
     ]
    },
    {
     "name": "stdout",
     "output_type": "stream",
     "text": [
      "Generate with Row:200,Col:400,Density:0.100000\n"
     ]
    },
    {
     "name": "stderr",
     "output_type": "stream",
     "text": [
      "100%|█████████████████████████████████████████| 100/100 [02:47<00:00,  1.67s/it]\n"
     ]
    },
    {
     "name": "stdout",
     "output_type": "stream",
     "text": [
      "Generate with Row:200,Col:400,Density:0.150000\n"
     ]
    },
    {
     "name": "stderr",
     "output_type": "stream",
     "text": [
      "100%|█████████████████████████████████████████| 100/100 [02:33<00:00,  1.53s/it]\n"
     ]
    },
    {
     "name": "stdout",
     "output_type": "stream",
     "text": [
      "Generate with Row:200,Col:400,Density:0.200000\n"
     ]
    },
    {
     "name": "stderr",
     "output_type": "stream",
     "text": [
      "100%|█████████████████████████████████████████| 100/100 [02:32<00:00,  1.52s/it]\n"
     ]
    }
   ],
   "source": [
    "# if os.path.exists(\"problem\"):\n",
    "#     shutil.rmtree(\"problem/\")\n",
    "# os.mkdir(\"problem/\")\n",
    "# if os.path.exists(\"features\"):\n",
    "#     shutil.rmtree(\"features/\")\n",
    "# os.mkdir(\"features/\")\n",
    "\n",
    "env = ecole.environment.Branching(observation_function = ecole.observation.NodeBipartite(),scip_params = scip_parameters)\n",
    "# print(obs.row_features.shape)\n",
    "# print(obs.edge_features.shape)\n",
    "# print(obs.variable_features.shape)\n",
    "\n",
    "for row in [100,150,200]:\n",
    "    for coef_col in [1,1.5,2]: \n",
    "        for d in [0.1,0.15,0.2]:\n",
    "            col = int(coef_col * row)\n",
    "            setCover = ecole.instance.SetCoverGenerator(n_rows = row, n_cols = col,density = d) \n",
    "            print(\"Generate with Row:%d,Col:%d,Density:%f\" % (row,col,d))\n",
    "            for n in trange(1,101):\n",
    "                done = False\n",
    "                while(not done):\n",
    "                    try:\n",
    "                        instance = next(setCover)\n",
    "                        #save problm lp\n",
    "                        problme_name = \\\n",
    "                            \"set_cover_{\"+row.__str__()+\"*\"+col.__str__()+\"_\"+d.__str__()+\"_\"+n.__str__()+\"}\"\n",
    "                        instance.write_problem(\"DataSet/problem/\"+problme_name+\".lp\")\n",
    "                        #save features\n",
    "                        obs, _, _, _, _ = env.reset(instance)\n",
    "                        dumpRowFeatures(\"DataSet/features/\"+problme_name+\"_row_features.json\",obs.row_features)\n",
    "                        dumpVariableFeatures(\"DataSet/features/\"+problme_name+\"_variable_features.json\",obs.variable_features)\n",
    "                        \n",
    "                        done = True\n",
    "                    except:\n",
    "                        done = False\n",
    "            "
   ]
  },
  {
   "cell_type": "markdown",
   "id": "f5af3a60",
   "metadata": {},
   "source": [
    "# Collect labels"
   ]
  },
  {
   "cell_type": "code",
   "execution_count": null,
   "id": "bf715666",
   "metadata": {},
   "outputs": [
    {
     "name": "stdout",
     "output_type": "stream",
     "text": [
      "Solve with Row:100,Col:100,Density:0.100000\n"
     ]
    },
    {
     "name": "stderr",
     "output_type": "stream",
     "text": [
      "100%|█████████████████████████████████████████| 100/100 [00:23<00:00,  4.22it/s]\n"
     ]
    },
    {
     "name": "stdout",
     "output_type": "stream",
     "text": [
      "Solve with Row:100,Col:100,Density:0.150000\n"
     ]
    },
    {
     "name": "stderr",
     "output_type": "stream",
     "text": [
      "100%|█████████████████████████████████████████| 100/100 [00:25<00:00,  3.98it/s]\n"
     ]
    },
    {
     "name": "stdout",
     "output_type": "stream",
     "text": [
      "Solve with Row:100,Col:100,Density:0.200000\n"
     ]
    },
    {
     "name": "stderr",
     "output_type": "stream",
     "text": [
      "100%|█████████████████████████████████████████| 100/100 [00:24<00:00,  4.02it/s]\n"
     ]
    },
    {
     "name": "stdout",
     "output_type": "stream",
     "text": [
      "Solve with Row:100,Col:150,Density:0.100000\n"
     ]
    },
    {
     "name": "stderr",
     "output_type": "stream",
     "text": [
      "100%|█████████████████████████████████████████| 100/100 [00:31<00:00,  3.19it/s]\n"
     ]
    },
    {
     "name": "stdout",
     "output_type": "stream",
     "text": [
      "Solve with Row:100,Col:150,Density:0.150000\n"
     ]
    },
    {
     "name": "stderr",
     "output_type": "stream",
     "text": [
      "100%|█████████████████████████████████████████| 100/100 [00:27<00:00,  3.58it/s]\n"
     ]
    },
    {
     "name": "stdout",
     "output_type": "stream",
     "text": [
      "Solve with Row:100,Col:150,Density:0.200000\n"
     ]
    },
    {
     "name": "stderr",
     "output_type": "stream",
     "text": [
      "100%|█████████████████████████████████████████| 100/100 [00:28<00:00,  3.53it/s]\n"
     ]
    },
    {
     "name": "stdout",
     "output_type": "stream",
     "text": [
      "Solve with Row:100,Col:200,Density:0.100000\n"
     ]
    },
    {
     "name": "stderr",
     "output_type": "stream",
     "text": [
      "100%|█████████████████████████████████████████| 100/100 [00:31<00:00,  3.14it/s]\n"
     ]
    },
    {
     "name": "stdout",
     "output_type": "stream",
     "text": [
      "Solve with Row:100,Col:200,Density:0.150000\n"
     ]
    },
    {
     "name": "stderr",
     "output_type": "stream",
     "text": [
      " 72%|██████████████████████████████▏           | 72/100 [00:23<00:08,  3.23it/s]"
     ]
    }
   ],
   "source": [
    "# solver = ecole.scip.Model.from_file(\"debug.lp\")\n",
    "# solver.solve()\n",
    "# print(solver.is_solved)\n",
    "# # solver.write_problem(\"debug_w\")\n",
    "# pyscip = solver.as_pyscipopt()\n",
    "# sol = pyscip.getBestSol()\n",
    "# print(sol)\n",
    "\n",
    "if os.path.exists(\"DataSet/label/\"):\n",
    "    shutil.rmtree(\"DataSet/label/\")\n",
    "os.mkdir(\"DataSet/label/\")\n",
    "gapList = []\n",
    "for row in [100,150,200]:\n",
    "    for coef_col in [1,1.5,2]: \n",
    "        for d in [0.1,0.15,0.2]:\n",
    "            col = int(coef_col * row)\n",
    "            print(\"Solve with Row:%d,Col:%d,Density:%f\" % (row,col,d))\n",
    "            for n in trange(1,101):\n",
    "#                 #save label\n",
    "                with HiddenPrints():\n",
    "                    problme_name = \\\n",
    "                            \"set_cover_{\"+row.__str__()+\"*\"+col.__str__()+\"_\"+d.__str__()+\"_\"+n.__str__()+\"}\"\n",
    "#                     solver = gb.read(\"problem/\"+problme_name+\".lp\")\n",
    "#                     solver.optimize()\n",
    "#                     dumpSolution_Gurobi(\"DataSet/label/\"+problme_name+\"_label.json\",solver)\n",
    "                    solver = ecole.scip.Model.from_file(\"DataSet/problem/\"+problme_name+\".lp\")\n",
    "                    aspyscip = solver.as_pyscipopt()\n",
    "                    aspyscip.setPresolve(pyscip.SCIP_PARAMSETTING.OFF)\n",
    "                    aspyscip.optimize()\n",
    "                    gapList.append(aspyscip.getGap())\n",
    "                    dumpSolution_Ecole(\"DataSet/label/\"+problme_name,aspyscip)"
   ]
  },
  {
   "cell_type": "code",
   "execution_count": null,
   "id": "07fdc7c4",
   "metadata": {},
   "outputs": [],
   "source": []
  },
  {
   "cell_type": "code",
   "execution_count": null,
   "id": "b1c1d89d",
   "metadata": {},
   "outputs": [],
   "source": [
    "\n"
   ]
  },
  {
   "cell_type": "code",
   "execution_count": null,
   "id": "71f786cc",
   "metadata": {},
   "outputs": [],
   "source": []
  }
 ],
 "metadata": {
  "kernelspec": {
   "display_name": "Python 3 (ipykernel)",
   "language": "python",
   "name": "python3"
  },
  "language_info": {
   "codemirror_mode": {
    "name": "ipython",
    "version": 3
   },
   "file_extension": ".py",
   "mimetype": "text/x-python",
   "name": "python",
   "nbconvert_exporter": "python",
   "pygments_lexer": "ipython3",
   "version": "3.10.4"
  }
 },
 "nbformat": 4,
 "nbformat_minor": 5
}
