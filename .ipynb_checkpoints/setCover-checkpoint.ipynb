{
 "cells": [
  {
   "cell_type": "code",
   "execution_count": 3,
   "id": "f7305f0d",
   "metadata": {},
   "outputs": [],
   "source": [
    "import ecole\n",
    "import shutil\n",
    "import os\n",
    "import sys\n",
    "import time\n",
    "import numpy as np\n",
    "from tqdm import trange\n",
    "import gurobipy as gb\n",
    "import pyscipopt as pyscip\n",
    "from gurobipy import GRB\n",
    "\n",
    "scip_parameters = {\"branching/scorefunc\": \"s\",\n",
    "                   \"separating/maxrounds\": 0,\n",
    "                   \"limits/time\": 360,\n",
    "                   \"presolving/maxrounds\": 0\n",
    "                  }\n",
    "\n",
    "class HiddenPrints:\n",
    "    def __enter__(self):\n",
    "        self._original_stdout = sys.stdout\n",
    "        sys.stdout = open(os.devnull, 'w')\n",
    "\n",
    "    def __exit__(self, exc_type, exc_val, exc_tb):\n",
    "        sys.stdout.close()\n",
    "        sys.stdout = self._original_stdout\n"
   ]
  },
  {
   "cell_type": "code",
   "execution_count": 80,
   "id": "d8ac895e",
   "metadata": {},
   "outputs": [
    {
     "name": "stdout",
     "output_type": "stream",
     "text": [
      "original problem has 500 variables (500 bin, 0 int, 0 impl, 0 cont) and 1000 constraints\n",
      "\n",
      " {'t_x0': 0.0, 't_x1': 1.0, 't_x2': 0.0, 't_x3': 0.0, 't_x4': 0.0, 't_x5': 0.0, 't_x6': 1.0, 't_x7': 0.0, 't_x8': 0.0, 't_x9': 0.0, 't_x10': 1.0, 't_x11': 0.0, 't_x12': 0.0, 't_x13': 0.0, 't_x14': 0.0, 't_x15': 0.0, 't_x16': 0.0, 't_x17': 0.0, 't_x18': 0.0, 't_x19': 0.0, 't_x20': 0.0, 't_x21': 0.0, 't_x22': 1.0, 't_x23': 0.0, 't_x24': 0.0, 't_x25': 0.0, 't_x26': 0.0, 't_x27': 0.0, 't_x28': 0.0, 't_x29': 0.0, 't_x30': 0.0, 't_x31': 0.0, 't_x32': 0.0, 't_x33': 0.0, 't_x34': 0.0, 't_x35': 0.0, 't_x36': 0.0, 't_x37': 0.0, 't_x38': 0.0, 't_x39': 0.0, 't_x40': 0.0, 't_x41': 0.0, 't_x42': 0.0, 't_x43': 0.0, 't_x44': 0.0, 't_x45': 0.0, 't_x46': 0.0, 't_x47': 0.0, 't_x48': 0.0, 't_x49': 0.0, 't_x50': 0.0, 't_x51': 0.0, 't_x52': 1.0, 't_x53': 0.0, 't_x54': 0.0, 't_x55': 0.0, 't_x56': 0.0, 't_x57': 0.0, 't_x58': 0.0, 't_x59': 0.0, 't_x60': 0.0, 't_x61': 0.0, 't_x62': 0.0, 't_x63': 1.0, 't_x64': 0.0, 't_x65': 0.0, 't_x66': 0.0, 't_x67': 0.0, 't_x68': 0.0, 't_x69': 0.0, 't_x70': 0.0, 't_x71': 0.0, 't_x72': 0.0, 't_x73': 0.0, 't_x74': 0.0, 't_x75': 0.0, 't_x76': 0.0, 't_x77': 0.0, 't_x78': 0.0, 't_x79': 0.0, 't_x80': 0.0, 't_x81': 0.0, 't_x82': 0.0, 't_x83': 0.0, 't_x84': 0.0, 't_x85': 0.0, 't_x86': 0.0, 't_x87': 0.0, 't_x88': 0.0, 't_x89': 0.0, 't_x90': 0.0, 't_x91': 0.0, 't_x92': 0.0, 't_x93': 0.0, 't_x94': 0.0, 't_x95': 0.0, 't_x96': 0.0, 't_x97': 0.0, 't_x98': 0.0, 't_x99': 1.0, 't_x100': 0.0, 't_x101': 0.0, 't_x102': 0.0, 't_x103': 0.0, 't_x104': 0.0, 't_x105': 0.0, 't_x106': 0.0, 't_x107': 0.0, 't_x108': 0.0, 't_x109': 0.0, 't_x110': 0.0, 't_x111': 1.0, 't_x112': 0.0, 't_x113': 0.0, 't_x114': 0.0, 't_x115': 0.0, 't_x116': 0.0, 't_x117': 0.0, 't_x118': 0.0, 't_x119': 0.0, 't_x120': 0.0, 't_x121': 0.0, 't_x122': 0.0, 't_x123': 0.0, 't_x124': 0.0, 't_x125': 0.0, 't_x126': 0.0, 't_x127': 0.0, 't_x128': 0.0, 't_x129': 0.0, 't_x130': 0.0, 't_x131': 1.0, 't_x132': 0.0, 't_x133': 0.0, 't_x134': 0.0, 't_x135': 0.0, 't_x136': 1.0, 't_x137': 0.0, 't_x138': 0.0, 't_x139': 0.0, 't_x140': 1.0, 't_x141': 0.0, 't_x142': 0.0, 't_x143': 0.0, 't_x144': 0.0, 't_x145': 0.0, 't_x146': 0.0, 't_x147': 0.0, 't_x148': 0.0, 't_x149': 0.0, 't_x150': 0.0, 't_x151': 0.0, 't_x152': 0.0, 't_x153': 0.0, 't_x154': 0.0, 't_x155': 0.0, 't_x156': 0.0, 't_x157': 0.0, 't_x158': 0.0, 't_x159': 0.0, 't_x160': 0.0, 't_x161': 0.0, 't_x162': 0.0, 't_x163': 0.0, 't_x164': 0.0, 't_x165': 0.0, 't_x166': 0.0, 't_x167': 0.0, 't_x168': 0.0, 't_x169': 0.0, 't_x170': 0.0, 't_x171': 0.0, 't_x172': 0.0, 't_x173': 0.0, 't_x174': 0.0, 't_x175': 0.0, 't_x176': 0.0, 't_x177': 0.0, 't_x178': 0.0, 't_x179': 0.0, 't_x180': 0.0, 't_x181': 0.0, 't_x182': 0.0, 't_x183': 0.0, 't_x184': 0.0, 't_x185': 0.0, 't_x186': 0.0, 't_x187': 0.0, 't_x188': 0.0, 't_x189': 0.0, 't_x190': 0.0, 't_x191': 0.0, 't_x192': 0.0, 't_x193': 0.0, 't_x194': 0.0, 't_x195': 0.0, 't_x196': 0.0, 't_x197': 0.0, 't_x198': 0.0, 't_x199': 0.0, 't_x200': 0.0, 't_x201': 0.0, 't_x202': 0.0, 't_x203': 0.0, 't_x204': 0.0, 't_x205': 0.0, 't_x206': 0.0, 't_x207': 0.0, 't_x208': 0.0, 't_x209': 0.0, 't_x210': 1.0, 't_x211': 0.0, 't_x212': 0.0, 't_x213': 0.0, 't_x214': 0.0, 't_x215': 0.0, 't_x216': 0.0, 't_x217': 0.0, 't_x218': 0.0, 't_x219': 0.0, 't_x220': 1.0, 't_x221': 0.0, 't_x222': 0.0, 't_x223': 0.0, 't_x224': 0.0, 't_x225': 1.0, 't_x226': 0.0, 't_x227': 0.0, 't_x228': 0.0, 't_x229': 0.0, 't_x230': 0.0, 't_x231': 0.0, 't_x232': 0.0, 't_x233': 0.0, 't_x234': 1.0, 't_x235': 0.0, 't_x236': 0.0, 't_x237': 0.0, 't_x238': 0.0, 't_x239': 0.0, 't_x240': 0.0, 't_x241': 0.0, 't_x242': 0.0, 't_x243': 0.0, 't_x244': 0.0, 't_x245': 0.0, 't_x246': 0.0, 't_x247': 0.0, 't_x248': 0.0, 't_x249': 0.0, 't_x250': 0.0, 't_x251': 0.0, 't_x252': 0.0, 't_x253': 0.0, 't_x254': 0.0, 't_x255': 0.0, 't_x256': 0.0, 't_x257': 0.0, 't_x258': 0.0, 't_x259': 0.0, 't_x260': 1.0, 't_x261': 0.0, 't_x262': 0.0, 't_x263': 0.0, 't_x264': 0.0, 't_x265': 0.0, 't_x266': 0.0, 't_x267': 0.0, 't_x268': 1.0, 't_x269': 0.0, 't_x270': 0.0, 't_x271': 0.0, 't_x272': 1.0, 't_x273': 1.0, 't_x274': 0.0, 't_x275': 0.0, 't_x276': 0.0, 't_x277': 0.0, 't_x278': 0.0, 't_x279': 0.0, 't_x280': 1.0, 't_x281': 0.0, 't_x282': 0.0, 't_x283': 0.0, 't_x284': 0.0, 't_x285': 0.0, 't_x286': 0.0, 't_x287': 0.0, 't_x288': 0.0, 't_x289': 0.0, 't_x290': 0.0, 't_x291': 0.0, 't_x292': 0.0, 't_x293': 0.0, 't_x294': 0.0, 't_x295': 0.0, 't_x296': 0.0, 't_x297': 0.0, 't_x298': 1.0, 't_x299': 0.0, 't_x300': 0.0, 't_x301': 1.0, 't_x302': 0.0, 't_x303': 1.0, 't_x304': 0.0, 't_x305': 0.0, 't_x306': 0.0, 't_x307': 0.0, 't_x308': 0.0, 't_x309': 0.0, 't_x310': 1.0, 't_x311': 0.0, 't_x312': 0.0, 't_x313': 0.0, 't_x314': 0.0, 't_x315': 0.0, 't_x316': 0.0, 't_x317': 0.0, 't_x318': 0.0, 't_x319': 0.0, 't_x320': 0.0, 't_x321': 0.0, 't_x322': 0.0, 't_x323': 0.0, 't_x324': 0.0, 't_x325': 0.0, 't_x326': 0.0, 't_x327': 0.0, 't_x328': 0.0, 't_x329': 0.0, 't_x330': 0.0, 't_x331': 0.0, 't_x332': 1.0, 't_x333': 0.0, 't_x334': 0.0, 't_x335': 0.0, 't_x336': 0.0, 't_x337': 0.0, 't_x338': 0.0, 't_x339': 1.0, 't_x340': 0.0, 't_x341': 1.0, 't_x342': 1.0, 't_x343': 0.0, 't_x344': 0.0, 't_x345': 0.0, 't_x346': 0.0, 't_x347': 0.0, 't_x348': 0.0, 't_x349': 0.0, 't_x350': 0.0, 't_x351': 0.0, 't_x352': 0.0, 't_x353': 0.0, 't_x354': 0.0, 't_x355': 1.0, 't_x356': 0.0, 't_x357': 0.0, 't_x358': 0.0, 't_x359': 0.0, 't_x360': 0.0, 't_x361': 0.0, 't_x362': 0.0, 't_x363': 0.0, 't_x364': 0.0, 't_x365': 0.0, 't_x366': 0.0, 't_x367': 1.0, 't_x368': 0.0, 't_x369': 0.0, 't_x370': 0.0, 't_x371': 0.0, 't_x372': 0.0, 't_x373': 0.0, 't_x374': 0.0, 't_x375': 0.0, 't_x376': 0.0, 't_x377': 0.0, 't_x378': 0.0, 't_x379': 0.0, 't_x380': 0.0, 't_x381': 0.0, 't_x382': 0.0, 't_x383': 0.0, 't_x384': 0.0, 't_x385': 0.0, 't_x386': 0.0, 't_x387': 0.0, 't_x388': 0.0, 't_x389': 0.0, 't_x390': 0.0, 't_x391': 0.0, 't_x392': 0.0, 't_x393': 0.0, 't_x394': 0.0, 't_x395': 0.0, 't_x396': 0.0, 't_x397': 0.0, 't_x398': 0.0, 't_x399': 0.0, 't_x400': 0.0, 't_x401': 0.0, 't_x402': 0.0, 't_x403': 0.0, 't_x404': 0.0, 't_x405': 0.0, 't_x406': 0.0, 't_x407': 0.0, 't_x408': 0.0, 't_x409': 0.0, 't_x410': 0.0, 't_x411': 0.0, 't_x412': 0.0, 't_x413': 0.0, 't_x414': 0.0, 't_x415': 0.0, 't_x416': 0.0, 't_x417': 0.0, 't_x418': 0.0, 't_x419': 0.0, 't_x420': 0.0, 't_x421': 0.0, 't_x422': 0.0, 't_x423': 0.0, 't_x424': 0.0, 't_x425': 0.0, 't_x426': 0.0, 't_x427': 0.0, 't_x428': 0.0, 't_x429': 0.0, 't_x430': 0.0, 't_x431': 0.0, 't_x432': 0.0, 't_x433': 0.0, 't_x434': 0.0, 't_x435': 0.0, 't_x436': 0.0, 't_x437': 0.0, 't_x438': 0.0, 't_x439': 0.0, 't_x440': 0.0, 't_x441': 0.0, 't_x442': 0.0, 't_x443': 0.0, 't_x444': 0.0, 't_x445': 0.0, 't_x446': 0.0, 't_x447': 0.0, 't_x448': 0.0, 't_x449': 0.0, 't_x450': 0.0, 't_x451': 0.0, 't_x452': 1.0, 't_x453': 0.0, 't_x454': 0.0, 't_x455': 0.0, 't_x456': 0.0, 't_x457': 0.0, 't_x458': 0.0, 't_x459': 0.0, 't_x460': 0.0, 't_x461': 0.0, 't_x462': 0.0, 't_x463': 0.0, 't_x464': 0.0, 't_x465': 0.0, 't_x466': 0.0, 't_x467': 0.0, 't_x468': 0.0, 't_x469': 0.0, 't_x470': 0.0, 't_x471': 0.0, 't_x472': 0.0, 't_x473': 0.0, 't_x474': 0.0, 't_x475': 0.0, 't_x476': 0.0, 't_x477': 0.0, 't_x478': 0.0, 't_x479': 0.0, 't_x480': 0.0, 't_x481': 0.0, 't_x482': 1.0, 't_x483': 0.0, 't_x484': 0.0, 't_x485': 0.0, 't_x486': 0.0, 't_x487': 0.0, 't_x488': 0.0, 't_x489': 0.0, 't_x490': 0.0, 't_x491': 0.0, 't_x492': 0.0, 't_x493': 0.0, 't_x494': 0.0, 't_x495': 0.0, 't_x496': 1.0, 't_x497': 0.0, 't_x498': 1.0, 't_x499': 0.0}\n",
      "feasible solution found by trivial heuristic after 0.0 seconds, objective value 2.496200e+04\n",
      "presolving:\n",
      "   (0.0s) symmetry computation started: requiring (bin +, int -, cont +), (fixed: bin -, int +, cont -)\n",
      "   (0.0s) no symmetry present\n",
      "presolving (0 rounds: 0 fast, 0 medium, 0 exhaustive):\n",
      " 0 deleted vars, 0 deleted constraints, 0 added constraints, 0 tightened bounds, 0 added holes, 0 changed sides, 0 changed coefficients\n",
      " 0 implications, 0 cliques\n",
      "presolved problem has 500 variables (500 bin, 0 int, 0 impl, 0 cont) and 1000 constraints\n",
      "   1000 constraints of type <linear>\n",
      "transformed objective value is always integral (scale: 1)\n",
      "Presolving Time: 0.01\n",
      "transformed 1/1 original solutions to the transformed problem space\n",
      "\n",
      " time | node  | left  |LP iter|LP it/n|mem/heur|mdpt |vars |cons |rows |cuts |sepa|confs|strbr|  dualbound   | primalbound  |  gap   | compl. \n",
      "p 0.0s|     1 |     0 |     0 |     - |   locks|   0 | 500 |1000 |1000 |   0 |  0 |   0 |   0 | 0.000000e+00 | 1.234000e+03 |    Inf | unknown\n",
      "  0.1s|     1 |     0 |   441 |     - |    19M |   0 | 500 |1000 |1000 |   0 |  0 |   0 |   0 | 1.529071e+02 | 1.234000e+03 | 707.03%| unknown\n",
      "r 0.1s|     1 |     0 |   441 |     - |simplero|   0 | 500 |1000 |1000 |   0 |  0 |   0 |   0 | 1.529071e+02 | 6.330000e+02 | 313.98%| unknown\n",
      "r 0.1s|     1 |     0 |   441 |     - |rounding|   0 | 500 |1000 |1000 |   0 |  0 |   0 |   0 | 1.529071e+02 | 6.310000e+02 | 312.67%| unknown\n",
      "r 0.1s|     1 |     0 |   441 |     - |shifting|   0 | 500 |1000 |1000 |   0 |  0 |   0 |   0 | 1.529071e+02 | 6.280000e+02 | 310.71%| unknown\n",
      "i 0.1s|     1 |     0 |   441 |     - |  oneopt|   0 | 500 |1000 |1000 |   0 |  0 |   0 |   0 | 1.529071e+02 | 2.000000e+02 |  30.80%| unknown\n",
      "  0.1s|     1 |     0 |   465 |     - |    24M |   0 | 500 |1000 |1001 |   1 |  1 |   0 |   0 | 1.536983e+02 | 2.000000e+02 |  30.13%| unknown\n",
      "  0.1s|     1 |     0 |   465 |     - |    24M |   0 | 500 |1000 |1001 |   1 |  1 |   0 |   0 | 1.536983e+02 | 2.000000e+02 |  30.13%| unknown\n",
      "  0.2s|     1 |     0 |   493 |     - |    26M |   0 | 500 |1000 |1002 |   2 |  2 |   0 |   0 | 1.540364e+02 | 2.000000e+02 |  29.84%| unknown\n",
      "  0.2s|     1 |     0 |   493 |     - |    26M |   0 | 500 |1000 |1002 |   2 |  2 |   0 |   0 | 1.540364e+02 | 2.000000e+02 |  29.84%| unknown\n",
      "  0.2s|     1 |     0 |   516 |     - |    28M |   0 | 500 |1000 |1003 |   3 |  3 |   0 |   0 | 1.541704e+02 | 2.000000e+02 |  29.73%| unknown\n",
      "  0.3s|     1 |     0 |   535 |     - |    31M |   0 | 500 |1000 |1004 |   4 |  4 |   0 |   0 | 1.542689e+02 | 2.000000e+02 |  29.64%| unknown\n",
      "  0.3s|     1 |     0 |   552 |     - |    32M |   0 | 500 |1000 |1005 |   5 |  5 |   0 |   0 | 1.543099e+02 | 2.000000e+02 |  29.61%| unknown\n",
      "  0.4s|     1 |     0 |   569 |     - |    34M |   0 | 500 |1000 |1006 |   6 |  6 |   0 |   0 | 1.543219e+02 | 2.000000e+02 |  29.60%| unknown\n",
      "  0.4s|     1 |     0 |   608 |     - |    35M |   0 | 500 |1000 |1007 |   7 |  7 |   0 |   0 | 1.544120e+02 | 2.000000e+02 |  29.52%| unknown\n",
      " time | node  | left  |LP iter|LP it/n|mem/heur|mdpt |vars |cons |rows |cuts |sepa|confs|strbr|  dualbound   | primalbound  |  gap   | compl. \n",
      "  0.5s|     1 |     0 |   626 |     - |    38M |   0 | 500 |1000 |1008 |   8 |  8 |   0 |   0 | 1.544400e+02 | 2.000000e+02 |  29.50%| unknown\n",
      "  0.5s|     1 |     0 |   639 |     - |    39M |   0 | 500 |1000 |1009 |   9 |  9 |   0 |   0 | 1.544711e+02 | 2.000000e+02 |  29.47%| unknown\n",
      "  0.6s|     1 |     0 |   646 |     - |    42M |   0 | 500 |1000 |1010 |  10 | 10 |   0 |   0 | 1.544885e+02 | 2.000000e+02 |  29.46%| unknown\n",
      "  0.6s|     1 |     0 |   659 |     - |    42M |   0 | 500 |1000 |1011 |  11 | 11 |   0 |   0 | 1.545771e+02 | 2.000000e+02 |  29.39%| unknown\n",
      "  0.7s|     1 |     0 |   665 |     - |    42M |   0 | 500 |1000 |1012 |  12 | 12 |   0 |   0 | 1.545835e+02 | 2.000000e+02 |  29.38%| unknown\n",
      "  0.7s|     1 |     0 |   678 |     - |    43M |   0 | 500 |1000 |1013 |  13 | 13 |   0 |   0 | 1.546252e+02 | 2.000000e+02 |  29.34%| unknown\n",
      "  0.7s|     1 |     0 |   688 |     - |    43M |   0 | 500 |1000 |1014 |  14 | 14 |   0 |   0 | 1.546481e+02 | 2.000000e+02 |  29.33%| unknown\n",
      "  0.8s|     1 |     0 |   703 |     - |    43M |   0 | 500 |1000 |1015 |  15 | 15 |   0 |   0 | 1.546720e+02 | 2.000000e+02 |  29.31%| unknown\n",
      "  0.8s|     1 |     0 |   728 |     - |    44M |   0 | 500 |1000 |1016 |  16 | 16 |   0 |   0 | 1.547541e+02 | 2.000000e+02 |  29.24%| unknown\n",
      "  0.8s|     1 |     0 |   748 |     - |    44M |   0 | 500 |1000 |1016 |  17 | 17 |   0 |   0 | 1.547935e+02 | 2.000000e+02 |  29.20%| unknown\n",
      "  0.8s|     1 |     0 |   759 |     - |    44M |   0 | 500 |1000 |1017 |  18 | 18 |   0 |   0 | 1.548023e+02 | 2.000000e+02 |  29.20%| unknown\n",
      "  0.9s|     1 |     0 |   767 |     - |    44M |   0 | 500 |1000 |1018 |  19 | 19 |   0 |   0 | 1.548078e+02 | 2.000000e+02 |  29.19%| unknown\n",
      "  0.9s|     1 |     0 |   798 |     - |    44M |   0 | 500 |1000 |1019 |  20 | 20 |   0 |   0 | 1.548557e+02 | 2.000000e+02 |  29.15%| unknown\n",
      "  0.9s|     1 |     0 |   821 |     - |    44M |   0 | 500 |1000 |1020 |  21 | 21 |   0 |   0 | 1.548927e+02 | 2.000000e+02 |  29.12%| unknown\n",
      "  0.9s|     1 |     0 |   835 |     - |    44M |   0 | 500 |1000 |1021 |  22 | 22 |   0 |   0 | 1.549069e+02 | 2.000000e+02 |  29.11%| unknown\n",
      " time | node  | left  |LP iter|LP it/n|mem/heur|mdpt |vars |cons |rows |cuts |sepa|confs|strbr|  dualbound   | primalbound  |  gap   | compl. \n",
      "  1.0s|     1 |     0 |   853 |     - |    44M |   0 | 500 |1000 |1021 |  23 | 23 |   0 |   0 | 1.549967e+02 | 2.000000e+02 |  29.04%| unknown\n",
      "  1.0s|     1 |     0 |   871 |     - |    44M |   0 | 500 |1000 |1022 |  24 | 24 |   0 |   0 | 1.550177e+02 | 2.000000e+02 |  29.02%| unknown\n",
      "  1.0s|     1 |     0 |   884 |     - |    44M |   0 | 500 |1000 |1023 |  25 | 25 |   0 |   0 | 1.550266e+02 | 2.000000e+02 |  29.01%| unknown\n",
      "  1.0s|     1 |     0 |   904 |     - |    44M |   0 | 500 |1000 |1024 |  26 | 26 |   0 |   0 | 1.550442e+02 | 2.000000e+02 |  29.00%| unknown\n"
     ]
    },
    {
     "name": "stdout",
     "output_type": "stream",
     "text": [
      "d 1.2s|     1 |     0 |  1981 |     - |farkasdi|   0 | 500 |1000 |1024 |   0 | 28 |   0 |   0 | 1.550442e+02 | 1.940000e+02 |  25.13%| unknown\n",
      "L 2.1s|     1 |     0 |  1981 |     - |    rens|   0 | 500 |1000 |1024 |  26 | 28 |   0 |   0 | 1.550442e+02 | 1.800000e+02 |  16.10%| unknown\n",
      "  2.1s|     1 |     0 |  1981 |     - |    45M |   0 | 500 |1000 |1024 |  26 | 28 |   0 |   0 | 1.550442e+02 | 1.800000e+02 |  16.10%| unknown\n",
      "  2.1s|     1 |     0 |  1981 |     - |    45M |   0 | 500 |1000 |1024 |  26 | 28 |   0 |   0 | 1.550442e+02 | 1.800000e+02 |  16.10%| unknown\n",
      "  2.1s|     1 |     0 |  1987 |     - |    45M |   0 | 500 |1000 |1025 |  27 | 29 |   0 |   0 | 1.550470e+02 | 1.800000e+02 |  16.09%| unknown\n",
      "  2.1s|     1 |     0 |  1993 |     - |    45M |   0 | 500 |1000 |1026 |  28 | 30 |   0 |   0 | 1.550495e+02 | 1.800000e+02 |  16.09%| unknown\n",
      "  2.9s|     1 |     2 |  1993 |     - |    45M |   0 | 500 |1000 |1026 |  28 | 30 |   0 |  39 | 1.570737e+02 | 1.800000e+02 |  14.60%| unknown\n",
      "* 6.0s|    46 |    11 |  5468 | 101.2 |strongbr|   8 | 500 |1077 |1020 |  28 |  3 |  77 | 326 | 1.642489e+02 | 1.790000e+02 |   8.98%|  30.73%\n",
      "  6.7s|   100 |     5 |  8235 |  73.9 |    47M |  10 | 500 |1152 |1020 |  29 |  0 | 152 | 410 | 1.657416e+02 | 1.790000e+02 |   8.00%|  63.84%\n",
      "\n",
      "SCIP Status        : problem is solved [optimal solution found]\n",
      "Solving Time (sec) : 7.65\n",
      "Solving Nodes      : 149\n",
      "Primal Bound       : +1.79000000000000e+02 (391 solutions)\n",
      "Dual Bound         : +1.79000000000000e+02\n",
      "Gap                : 0.00 %\n"
     ]
    }
   ],
   "source": [
    "#scip\n",
    "with HiddenPrints():\n",
    "    model_scip = pyscip.scip.Model()\n",
    "    model_scip.setPresolve(pyscip.SCIP_PARAMSETTING.OFF)\n",
    "    model_scip.readProblem(filename=\"debugFile/set_cover_test.lp\",extension = \"lp\")\n",
    "    # model_scip.readProblem(filename=\"debugFile/debug_diffc.lp\",extension = \"lp\")\n",
    "\n",
    "model_scip.optimize()\n",
    "# time.sleep(1)\n",
    "print(\"\\n\",model_scip.getBestSol())\n",
    "\n",
    "# print(\"Ecole*********************\")\n",
    "# # with HiddenPrints():\n",
    "# solver = ecole.scip.Model.from_file(\"debugFile/debug.lp\")\n",
    "# aspyscip = solver.as_pyscipopt()\n",
    "# aspyscip.setPresolve(pyscip.SCIP_PARAMSETTING.OFF)\n",
    "# aspyscip.optimize()\n",
    "# gap = aspyscip.getGap()\n",
    "# sol = aspyscip.getBestSol()\n",
    "# print(sol,gap)\n",
    "\n",
    "# #gurobi\n",
    "# print(\"Gurobi*********************\")\n",
    "# with HiddenPrints():\n",
    "#     model = gb.read(\"debugFile/debug.lp\")\n",
    "#     model.optimize()\n",
    "# for var in model.getVars():\n",
    "#     print(f\"{var.varName}: {round(var.X, 3)}\")\n",
    "\n"
   ]
  },
  {
   "cell_type": "code",
   "execution_count": 4,
   "id": "7b501a0f",
   "metadata": {},
   "outputs": [
    {
     "name": "stdout",
     "output_type": "stream",
     "text": [
      "<ecole.core.scip.Model object at 0x7fe53440aa70>\n",
      "(343, 5)\n",
      "[343, 111]\n",
      "(111, 19)\n"
     ]
    }
   ],
   "source": [
    "setCover = ecole.instance.SetCoverGenerator\\\n",
    "            (n_rows=300, n_cols=300,density=0.1)\n",
    "env = ecole.environment.Branching(observation_function = ecole.observation.NodeBipartite(),\\\n",
    "                                scip_params = scip_parameters)\n",
    "instance = next(setCover)\n",
    "print(instance)\n",
    "problme_name = \"set_cover_test\"\n",
    "instance.write_problem(\"debugFile/\"+problme_name+\".lp\")\n",
    "\n",
    "obs, action_set, _, _, _ = env.reset(instance)\n",
    "print(obs.row_features.shape)\n",
    "print(obs.edge_features.shape)\n",
    "print(obs.variable_features.shape)\n"
   ]
  },
  {
   "cell_type": "code",
   "execution_count": null,
   "id": "c361df6f",
   "metadata": {},
   "outputs": [],
   "source": [
    "env.model.write_problem(\"debugFile/\"+problme_name+\".lp\")"
   ]
  },
  {
   "cell_type": "code",
   "execution_count": 88,
   "id": "e3d09da1",
   "metadata": {},
   "outputs": [
    {
     "name": "stdout",
     "output_type": "stream",
     "text": [
      "<ecole.core.scip.Model object at 0x7f445c5252f0>\n",
      "(135, 5)\n",
      "[135, 100]\n",
      "(100, 19)\n"
     ]
    }
   ],
   "source": [
    "env = ecole.environment.Branching(observation_function = ecole.observation.NodeBipartite(),\\\n",
    "                                scip_params = scip_parameters)\n",
    "instance = ecole.scip.Model.from_file(\"debugFile/test_feature.lp\")\n",
    "print(instance)\n",
    "\n",
    "obs, action_set, _, _, _ = env.reset(instance)\n",
    "print(obs.row_features.shape)\n",
    "print(obs.edge_features.shape)\n",
    "print(obs.variable_features.shape)\n",
    "dumpVariableFeatures(\"v.json\",obs.variable_features)"
   ]
  },
  {
   "cell_type": "markdown",
   "id": "bd8e303f",
   "metadata": {},
   "source": [
    "# Dump features in file Json"
   ]
  },
  {
   "cell_type": "code",
   "execution_count": 85,
   "id": "8dc253f5",
   "metadata": {},
   "outputs": [],
   "source": [
    "from dump_data import *\n",
    "    \n",
    "\n",
    "# dumpRowFeatures(\"features/row.json\",obs.row_features)\n",
    "# dumpVariableFeatures(\"features/v.json\",obs.variable_features)\n",
    "# model = gb.read(problme_name+\".lp\")\n",
    "\n",
    "# model.optimize()\n",
    "# dumpSolution_Gurobi(\"test_dump_gurobi.json\",model)"
   ]
  },
  {
   "cell_type": "markdown",
   "id": "7735affb",
   "metadata": {},
   "source": [
    "# Generate Problem and collect features"
   ]
  },
  {
   "cell_type": "code",
   "execution_count": 5,
   "id": "3d793dbe",
   "metadata": {},
   "outputs": [
    {
     "name": "stdout",
     "output_type": "stream",
     "text": [
      "Generate with Row:100,Col:100,Density:0.100000\n"
     ]
    },
    {
     "name": "stderr",
     "output_type": "stream",
     "text": [
      "100%|█████████████████████████████████████████| 100/100 [01:11<00:00,  1.40it/s]\n"
     ]
    },
    {
     "name": "stdout",
     "output_type": "stream",
     "text": [
      "Generate with Row:100,Col:100,Density:0.150000\n"
     ]
    },
    {
     "name": "stderr",
     "output_type": "stream",
     "text": [
      "100%|█████████████████████████████████████████| 100/100 [01:24<00:00,  1.18it/s]\n"
     ]
    },
    {
     "name": "stdout",
     "output_type": "stream",
     "text": [
      "Generate with Row:100,Col:100,Density:0.200000\n"
     ]
    },
    {
     "name": "stderr",
     "output_type": "stream",
     "text": [
      "100%|█████████████████████████████████████████| 100/100 [01:31<00:00,  1.09it/s]\n"
     ]
    },
    {
     "name": "stdout",
     "output_type": "stream",
     "text": [
      "Generate with Row:100,Col:150,Density:0.100000\n"
     ]
    },
    {
     "name": "stderr",
     "output_type": "stream",
     "text": [
      "100%|█████████████████████████████████████████| 100/100 [02:15<00:00,  1.36s/it]\n"
     ]
    },
    {
     "name": "stdout",
     "output_type": "stream",
     "text": [
      "Generate with Row:100,Col:150,Density:0.150000\n"
     ]
    },
    {
     "name": "stderr",
     "output_type": "stream",
     "text": [
      "100%|█████████████████████████████████████████| 100/100 [01:40<00:00,  1.01s/it]\n"
     ]
    },
    {
     "name": "stdout",
     "output_type": "stream",
     "text": [
      "Generate with Row:100,Col:150,Density:0.200000\n"
     ]
    },
    {
     "name": "stderr",
     "output_type": "stream",
     "text": [
      "100%|█████████████████████████████████████████| 100/100 [01:42<00:00,  1.03s/it]\n"
     ]
    },
    {
     "name": "stdout",
     "output_type": "stream",
     "text": [
      "Generate with Row:100,Col:200,Density:0.100000\n"
     ]
    },
    {
     "name": "stderr",
     "output_type": "stream",
     "text": [
      "100%|█████████████████████████████████████████| 100/100 [02:27<00:00,  1.47s/it]\n"
     ]
    },
    {
     "name": "stdout",
     "output_type": "stream",
     "text": [
      "Generate with Row:100,Col:200,Density:0.150000\n"
     ]
    },
    {
     "name": "stderr",
     "output_type": "stream",
     "text": [
      "100%|█████████████████████████████████████████| 100/100 [01:47<00:00,  1.07s/it]\n"
     ]
    },
    {
     "name": "stdout",
     "output_type": "stream",
     "text": [
      "Generate with Row:100,Col:200,Density:0.200000\n"
     ]
    },
    {
     "name": "stderr",
     "output_type": "stream",
     "text": [
      "100%|█████████████████████████████████████████| 100/100 [01:40<00:00,  1.00s/it]\n"
     ]
    },
    {
     "name": "stdout",
     "output_type": "stream",
     "text": [
      "Generate with Row:150,Col:150,Density:0.100000\n"
     ]
    },
    {
     "name": "stderr",
     "output_type": "stream",
     "text": [
      "100%|█████████████████████████████████████████| 100/100 [01:36<00:00,  1.03it/s]\n"
     ]
    },
    {
     "name": "stdout",
     "output_type": "stream",
     "text": [
      "Generate with Row:150,Col:150,Density:0.150000\n"
     ]
    },
    {
     "name": "stderr",
     "output_type": "stream",
     "text": [
      "100%|█████████████████████████████████████████| 100/100 [01:43<00:00,  1.04s/it]\n"
     ]
    },
    {
     "name": "stdout",
     "output_type": "stream",
     "text": [
      "Generate with Row:150,Col:150,Density:0.200000\n"
     ]
    },
    {
     "name": "stderr",
     "output_type": "stream",
     "text": [
      "100%|█████████████████████████████████████████| 100/100 [01:36<00:00,  1.04it/s]\n"
     ]
    },
    {
     "name": "stdout",
     "output_type": "stream",
     "text": [
      "Generate with Row:150,Col:225,Density:0.100000\n"
     ]
    },
    {
     "name": "stderr",
     "output_type": "stream",
     "text": [
      "100%|█████████████████████████████████████████| 100/100 [01:59<00:00,  1.20s/it]\n"
     ]
    },
    {
     "name": "stdout",
     "output_type": "stream",
     "text": [
      "Generate with Row:150,Col:225,Density:0.150000\n"
     ]
    },
    {
     "name": "stderr",
     "output_type": "stream",
     "text": [
      "100%|█████████████████████████████████████████| 100/100 [01:58<00:00,  1.19s/it]\n"
     ]
    },
    {
     "name": "stdout",
     "output_type": "stream",
     "text": [
      "Generate with Row:150,Col:225,Density:0.200000\n"
     ]
    },
    {
     "name": "stderr",
     "output_type": "stream",
     "text": [
      "100%|█████████████████████████████████████████| 100/100 [01:46<00:00,  1.06s/it]\n"
     ]
    },
    {
     "name": "stdout",
     "output_type": "stream",
     "text": [
      "Generate with Row:150,Col:300,Density:0.100000\n"
     ]
    },
    {
     "name": "stderr",
     "output_type": "stream",
     "text": [
      "100%|█████████████████████████████████████████| 100/100 [02:15<00:00,  1.36s/it]\n"
     ]
    },
    {
     "name": "stdout",
     "output_type": "stream",
     "text": [
      "Generate with Row:150,Col:300,Density:0.150000\n"
     ]
    },
    {
     "name": "stderr",
     "output_type": "stream",
     "text": [
      "100%|█████████████████████████████████████████| 100/100 [01:59<00:00,  1.19s/it]\n"
     ]
    },
    {
     "name": "stdout",
     "output_type": "stream",
     "text": [
      "Generate with Row:150,Col:300,Density:0.200000\n"
     ]
    },
    {
     "name": "stderr",
     "output_type": "stream",
     "text": [
      "100%|█████████████████████████████████████████| 100/100 [01:50<00:00,  1.11s/it]\n"
     ]
    },
    {
     "name": "stdout",
     "output_type": "stream",
     "text": [
      "Generate with Row:200,Col:200,Density:0.100000\n"
     ]
    },
    {
     "name": "stderr",
     "output_type": "stream",
     "text": [
      "100%|█████████████████████████████████████████| 100/100 [01:56<00:00,  1.17s/it]\n"
     ]
    },
    {
     "name": "stdout",
     "output_type": "stream",
     "text": [
      "Generate with Row:200,Col:200,Density:0.150000\n"
     ]
    },
    {
     "name": "stderr",
     "output_type": "stream",
     "text": [
      "100%|█████████████████████████████████████████| 100/100 [01:41<00:00,  1.02s/it]\n"
     ]
    },
    {
     "name": "stdout",
     "output_type": "stream",
     "text": [
      "Generate with Row:200,Col:200,Density:0.200000\n"
     ]
    },
    {
     "name": "stderr",
     "output_type": "stream",
     "text": [
      "100%|█████████████████████████████████████████| 100/100 [01:38<00:00,  1.01it/s]\n"
     ]
    },
    {
     "name": "stdout",
     "output_type": "stream",
     "text": [
      "Generate with Row:200,Col:300,Density:0.100000\n"
     ]
    },
    {
     "name": "stderr",
     "output_type": "stream",
     "text": [
      "100%|█████████████████████████████████████████| 100/100 [02:17<00:00,  1.38s/it]\n"
     ]
    },
    {
     "name": "stdout",
     "output_type": "stream",
     "text": [
      "Generate with Row:200,Col:300,Density:0.150000\n"
     ]
    },
    {
     "name": "stderr",
     "output_type": "stream",
     "text": [
      "100%|█████████████████████████████████████████| 100/100 [01:54<00:00,  1.14s/it]\n"
     ]
    },
    {
     "name": "stdout",
     "output_type": "stream",
     "text": [
      "Generate with Row:200,Col:300,Density:0.200000\n"
     ]
    },
    {
     "name": "stderr",
     "output_type": "stream",
     "text": [
      "100%|█████████████████████████████████████████| 100/100 [02:05<00:00,  1.25s/it]\n"
     ]
    },
    {
     "name": "stdout",
     "output_type": "stream",
     "text": [
      "Generate with Row:200,Col:400,Density:0.100000\n"
     ]
    },
    {
     "name": "stderr",
     "output_type": "stream",
     "text": [
      "100%|█████████████████████████████████████████| 100/100 [02:47<00:00,  1.67s/it]\n"
     ]
    },
    {
     "name": "stdout",
     "output_type": "stream",
     "text": [
      "Generate with Row:200,Col:400,Density:0.150000\n"
     ]
    },
    {
     "name": "stderr",
     "output_type": "stream",
     "text": [
      "100%|█████████████████████████████████████████| 100/100 [02:33<00:00,  1.53s/it]\n"
     ]
    },
    {
     "name": "stdout",
     "output_type": "stream",
     "text": [
      "Generate with Row:200,Col:400,Density:0.200000\n"
     ]
    },
    {
     "name": "stderr",
     "output_type": "stream",
     "text": [
      "100%|█████████████████████████████████████████| 100/100 [02:32<00:00,  1.52s/it]\n"
     ]
    }
   ],
   "source": [
    "# if os.path.exists(\"problem\"):\n",
    "#     shutil.rmtree(\"problem/\")\n",
    "# os.mkdir(\"problem/\")\n",
    "# if os.path.exists(\"features\"):\n",
    "#     shutil.rmtree(\"features/\")\n",
    "# os.mkdir(\"features/\")\n",
    "\n",
    "env = ecole.environment.Branching(observation_function = ecole.observation.NodeBipartite(),scip_params = scip_parameters)\n",
    "# print(obs.row_features.shape)\n",
    "# print(obs.edge_features.shape)\n",
    "# print(obs.variable_features.shape)\n",
    "\n",
    "for row in [100,150,200]:\n",
    "    for coef_col in [1,1.5,2]: \n",
    "        for d in [0.1,0.15,0.2]:\n",
    "            col = int(coef_col * row)\n",
    "            setCover = ecole.instance.SetCoverGenerator(n_rows = row, n_cols = col,density = d) \n",
    "            print(\"Generate with Row:%d,Col:%d,Density:%f\" % (row,col,d))\n",
    "            for n in trange(1,101):\n",
    "                done = False\n",
    "                while(not done):\n",
    "                    try:\n",
    "                        instance = next(setCover)\n",
    "                        #save problm lp\n",
    "                        problme_name = \\\n",
    "                            \"set_cover_{\"+row.__str__()+\"*\"+col.__str__()+\"_\"+d.__str__()+\"_\"+n.__str__()+\"}\"\n",
    "                        instance.write_problem(\"DataSet/problem/\"+problme_name+\".lp\")\n",
    "                        #save features\n",
    "                        obs, _, _, _, _ = env.reset(instance)\n",
    "                        dumpRowFeatures(\"DataSet/features/\"+problme_name+\"_row_features.json\",obs.row_features)\n",
    "                        dumpVariableFeatures(\"DataSet/features/\"+problme_name+\"_variable_features.json\",obs.variable_features)\n",
    "                        \n",
    "                        done = True\n",
    "                    except:\n",
    "                        done = False\n",
    "            "
   ]
  },
  {
   "cell_type": "markdown",
   "id": "f5af3a60",
   "metadata": {},
   "source": [
    "# Collect labels"
   ]
  },
  {
   "cell_type": "code",
   "execution_count": 33,
   "id": "bf715666",
   "metadata": {},
   "outputs": [
    {
     "name": "stdout",
     "output_type": "stream",
     "text": [
      "Solve with Row:100,Col:100,Density:0.100000\n"
     ]
    },
    {
     "name": "stderr",
     "output_type": "stream",
     "text": [
      "100%|█████████████████████████████████████████| 100/100 [00:23<00:00,  4.22it/s]\n"
     ]
    },
    {
     "name": "stdout",
     "output_type": "stream",
     "text": [
      "Solve with Row:100,Col:100,Density:0.150000\n"
     ]
    },
    {
     "name": "stderr",
     "output_type": "stream",
     "text": [
      "100%|█████████████████████████████████████████| 100/100 [00:25<00:00,  3.98it/s]\n"
     ]
    },
    {
     "name": "stdout",
     "output_type": "stream",
     "text": [
      "Solve with Row:100,Col:100,Density:0.200000\n"
     ]
    },
    {
     "name": "stderr",
     "output_type": "stream",
     "text": [
      "100%|█████████████████████████████████████████| 100/100 [00:24<00:00,  4.02it/s]\n"
     ]
    },
    {
     "name": "stdout",
     "output_type": "stream",
     "text": [
      "Solve with Row:100,Col:150,Density:0.100000\n"
     ]
    },
    {
     "name": "stderr",
     "output_type": "stream",
     "text": [
      "100%|█████████████████████████████████████████| 100/100 [00:31<00:00,  3.19it/s]\n"
     ]
    },
    {
     "name": "stdout",
     "output_type": "stream",
     "text": [
      "Solve with Row:100,Col:150,Density:0.150000\n"
     ]
    },
    {
     "name": "stderr",
     "output_type": "stream",
     "text": [
      "100%|█████████████████████████████████████████| 100/100 [00:27<00:00,  3.58it/s]\n"
     ]
    },
    {
     "name": "stdout",
     "output_type": "stream",
     "text": [
      "Solve with Row:100,Col:150,Density:0.200000\n"
     ]
    },
    {
     "name": "stderr",
     "output_type": "stream",
     "text": [
      "100%|█████████████████████████████████████████| 100/100 [00:28<00:00,  3.53it/s]\n"
     ]
    },
    {
     "name": "stdout",
     "output_type": "stream",
     "text": [
      "Solve with Row:100,Col:200,Density:0.100000\n"
     ]
    },
    {
     "name": "stderr",
     "output_type": "stream",
     "text": [
      "100%|█████████████████████████████████████████| 100/100 [00:31<00:00,  3.14it/s]\n"
     ]
    },
    {
     "name": "stdout",
     "output_type": "stream",
     "text": [
      "Solve with Row:100,Col:200,Density:0.150000\n"
     ]
    },
    {
     "name": "stderr",
     "output_type": "stream",
     "text": [
      "100%|█████████████████████████████████████████| 100/100 [00:31<00:00,  3.13it/s]\n"
     ]
    },
    {
     "name": "stdout",
     "output_type": "stream",
     "text": [
      "Solve with Row:100,Col:200,Density:0.200000\n"
     ]
    },
    {
     "name": "stderr",
     "output_type": "stream",
     "text": [
      "100%|█████████████████████████████████████████| 100/100 [00:30<00:00,  3.26it/s]\n"
     ]
    },
    {
     "name": "stdout",
     "output_type": "stream",
     "text": [
      "Solve with Row:150,Col:150,Density:0.100000\n"
     ]
    },
    {
     "name": "stderr",
     "output_type": "stream",
     "text": [
      "100%|█████████████████████████████████████████| 100/100 [00:43<00:00,  2.31it/s]\n"
     ]
    },
    {
     "name": "stdout",
     "output_type": "stream",
     "text": [
      "Solve with Row:150,Col:150,Density:0.150000\n"
     ]
    },
    {
     "name": "stderr",
     "output_type": "stream",
     "text": [
      "100%|█████████████████████████████████████████| 100/100 [00:38<00:00,  2.57it/s]\n"
     ]
    },
    {
     "name": "stdout",
     "output_type": "stream",
     "text": [
      "Solve with Row:150,Col:150,Density:0.200000\n"
     ]
    },
    {
     "name": "stderr",
     "output_type": "stream",
     "text": [
      "100%|█████████████████████████████████████████| 100/100 [00:38<00:00,  2.59it/s]\n"
     ]
    },
    {
     "name": "stdout",
     "output_type": "stream",
     "text": [
      "Solve with Row:150,Col:225,Density:0.100000\n"
     ]
    },
    {
     "name": "stderr",
     "output_type": "stream",
     "text": [
      "100%|█████████████████████████████████████████| 100/100 [00:49<00:00,  2.02it/s]\n"
     ]
    },
    {
     "name": "stdout",
     "output_type": "stream",
     "text": [
      "Solve with Row:150,Col:225,Density:0.150000\n"
     ]
    },
    {
     "name": "stderr",
     "output_type": "stream",
     "text": [
      "100%|█████████████████████████████████████████| 100/100 [00:54<00:00,  1.83it/s]\n"
     ]
    },
    {
     "name": "stdout",
     "output_type": "stream",
     "text": [
      "Solve with Row:150,Col:225,Density:0.200000\n"
     ]
    },
    {
     "name": "stderr",
     "output_type": "stream",
     "text": [
      "100%|█████████████████████████████████████████| 100/100 [00:49<00:00,  2.00it/s]\n"
     ]
    },
    {
     "name": "stdout",
     "output_type": "stream",
     "text": [
      "Solve with Row:150,Col:300,Density:0.100000\n"
     ]
    },
    {
     "name": "stderr",
     "output_type": "stream",
     "text": [
      "100%|█████████████████████████████████████████| 100/100 [01:06<00:00,  1.50it/s]\n"
     ]
    },
    {
     "name": "stdout",
     "output_type": "stream",
     "text": [
      "Solve with Row:150,Col:300,Density:0.150000\n"
     ]
    },
    {
     "name": "stderr",
     "output_type": "stream",
     "text": [
      "100%|█████████████████████████████████████████| 100/100 [00:55<00:00,  1.81it/s]\n"
     ]
    },
    {
     "name": "stdout",
     "output_type": "stream",
     "text": [
      "Solve with Row:150,Col:300,Density:0.200000\n"
     ]
    },
    {
     "name": "stderr",
     "output_type": "stream",
     "text": [
      "100%|█████████████████████████████████████████| 100/100 [00:53<00:00,  1.88it/s]\n"
     ]
    },
    {
     "name": "stdout",
     "output_type": "stream",
     "text": [
      "Solve with Row:200,Col:200,Density:0.100000\n"
     ]
    },
    {
     "name": "stderr",
     "output_type": "stream",
     "text": [
      "100%|█████████████████████████████████████████| 100/100 [01:08<00:00,  1.46it/s]\n"
     ]
    },
    {
     "name": "stdout",
     "output_type": "stream",
     "text": [
      "Solve with Row:200,Col:200,Density:0.150000\n"
     ]
    },
    {
     "name": "stderr",
     "output_type": "stream",
     "text": [
      "100%|█████████████████████████████████████████| 100/100 [01:00<00:00,  1.65it/s]\n"
     ]
    },
    {
     "name": "stdout",
     "output_type": "stream",
     "text": [
      "Solve with Row:200,Col:200,Density:0.200000\n"
     ]
    },
    {
     "name": "stderr",
     "output_type": "stream",
     "text": [
      "100%|█████████████████████████████████████████| 100/100 [00:54<00:00,  1.84it/s]\n"
     ]
    },
    {
     "name": "stdout",
     "output_type": "stream",
     "text": [
      "Solve with Row:200,Col:300,Density:0.100000\n"
     ]
    },
    {
     "name": "stderr",
     "output_type": "stream",
     "text": [
      "100%|█████████████████████████████████████████| 100/100 [01:12<00:00,  1.38it/s]\n"
     ]
    },
    {
     "name": "stdout",
     "output_type": "stream",
     "text": [
      "Solve with Row:200,Col:300,Density:0.150000\n"
     ]
    },
    {
     "name": "stderr",
     "output_type": "stream",
     "text": [
      "100%|█████████████████████████████████████████| 100/100 [01:15<00:00,  1.33it/s]\n"
     ]
    },
    {
     "name": "stdout",
     "output_type": "stream",
     "text": [
      "Solve with Row:200,Col:300,Density:0.200000\n"
     ]
    },
    {
     "name": "stderr",
     "output_type": "stream",
     "text": [
      "100%|█████████████████████████████████████████| 100/100 [01:10<00:00,  1.42it/s]\n"
     ]
    },
    {
     "name": "stdout",
     "output_type": "stream",
     "text": [
      "Solve with Row:200,Col:400,Density:0.100000\n"
     ]
    },
    {
     "name": "stderr",
     "output_type": "stream",
     "text": [
      "100%|█████████████████████████████████████████| 100/100 [01:28<00:00,  1.13it/s]\n"
     ]
    },
    {
     "name": "stdout",
     "output_type": "stream",
     "text": [
      "Solve with Row:200,Col:400,Density:0.150000\n"
     ]
    },
    {
     "name": "stderr",
     "output_type": "stream",
     "text": [
      "100%|█████████████████████████████████████████| 100/100 [01:35<00:00,  1.04it/s]\n"
     ]
    },
    {
     "name": "stdout",
     "output_type": "stream",
     "text": [
      "Solve with Row:200,Col:400,Density:0.200000\n"
     ]
    },
    {
     "name": "stderr",
     "output_type": "stream",
     "text": [
      "100%|█████████████████████████████████████████| 100/100 [01:28<00:00,  1.13it/s]\n"
     ]
    }
   ],
   "source": [
    "# solver = ecole.scip.Model.from_file(\"debug.lp\")\n",
    "# solver.solve()\n",
    "# print(solver.is_solved)\n",
    "# # solver.write_problem(\"debug_w\")\n",
    "# pyscip = solver.as_pyscipopt()\n",
    "# sol = pyscip.getBestSol()\n",
    "# print(sol)\n",
    "\n",
    "if os.path.exists(\"DataSet/label/\"):\n",
    "    shutil.rmtree(\"DataSet/label/\")\n",
    "os.mkdir(\"DataSet/label/\")\n",
    "gapList = []\n",
    "for row in [100,150,200]:\n",
    "    for coef_col in [1,1.5,2]: \n",
    "        for d in [0.1,0.15,0.2]:\n",
    "            col = int(coef_col * row)\n",
    "            print(\"Solve with Row:%d,Col:%d,Density:%f\" % (row,col,d))\n",
    "            for n in trange(1,101):\n",
    "#                 #save label\n",
    "                with HiddenPrints():\n",
    "                    problme_name = \\\n",
    "                            \"set_cover_{\"+row.__str__()+\"*\"+col.__str__()+\"_\"+d.__str__()+\"_\"+n.__str__()+\"}\"\n",
    "#                     solver = gb.read(\"problem/\"+problme_name+\".lp\")\n",
    "#                     solver.optimize()\n",
    "#                     dumpSolution_Gurobi(\"DataSet/label/\"+problme_name+\"_label.json\",solver)\n",
    "                    solver = ecole.scip.Model.from_file(\"DataSet/problem/\"+problme_name+\".lp\")\n",
    "                    aspyscip = solver.as_pyscipopt()\n",
    "                    aspyscip.setPresolve(pyscip.SCIP_PARAMSETTING.OFF)\n",
    "                    aspyscip.optimize()\n",
    "                    gapList.append(aspyscip.getGap())\n",
    "                    dumpSolution_Ecole(\"DataSet/label/\"+problme_name,aspyscip)"
   ]
  },
  {
   "cell_type": "code",
   "execution_count": 34,
   "id": "07fdc7c4",
   "metadata": {},
   "outputs": [],
   "source": [
    "gap_test = gapList"
   ]
  },
  {
   "cell_type": "code",
   "execution_count": 45,
   "id": "b1c1d89d",
   "metadata": {},
   "outputs": [
    {
     "name": "stdout",
     "output_type": "stream",
     "text": [
      "0.0\n",
      "(array([], dtype=int64),)\n"
     ]
    }
   ],
   "source": [
    "gap_test = np.array(gap_test)\n",
    "print(np.mean(gap_test))\n",
    "print(np.where(gap_test != 0))"
   ]
  },
  {
   "cell_type": "code",
   "execution_count": 46,
   "id": "71f786cc",
   "metadata": {},
   "outputs": [
    {
     "name": "stdout",
     "output_type": "stream",
     "text": [
      "Solve with Row:100,Col:100,Density:0.100000\n",
      "original problem has 100 variables (100 bin, 0 int, 0 impl, 0 cont) and 100 constraints\n",
      "feasible solution found by trivial heuristic after 0.0 seconds, objective value 5.205000e+03\n",
      "presolving:\n",
      "   (0.0s) symmetry computation started: requiring (bin +, int -, cont +), (fixed: bin -, int +, cont -)\n",
      "   (0.0s) no symmetry present\n",
      "presolving (0 rounds: 0 fast, 0 medium, 0 exhaustive):\n",
      " 0 deleted vars, 0 deleted constraints, 0 added constraints, 0 tightened bounds, 0 added holes, 0 changed sides, 0 changed coefficients\n",
      " 0 implications, 0 cliques\n",
      "presolved problem has 100 variables (100 bin, 0 int, 0 impl, 0 cont) and 100 constraints\n",
      "    100 constraints of type <linear>\n",
      "transformed objective value is always integral (scale: 1)\n",
      "Presolving Time: 0.00\n",
      "transformed 1/1 original solutions to the transformed problem space\n",
      "\n",
      " time | node  | left  |LP iter|LP it/n|mem/heur|mdpt |vars |cons |rows |cuts |sepa|confs|strbr|  dualbound   | primalbound  |  gap   | compl. \n",
      "p 0.0s|     1 |     0 |     0 |     - |   locks|   0 | 100 | 100 | 100 |   0 |  0 |   0 |   0 | 0.000000e+00 | 6.770000e+02 |    Inf | unknown\n",
      "  0.0s|     1 |     0 |    84 |     - |  1559k |   0 | 100 | 100 | 100 |   0 |  0 |   0 |   0 | 3.022404e+02 | 6.770000e+02 | 123.99%| unknown\n",
      "  0.0s|     1 |     0 |   108 |     - |  2449k |   0 | 100 | 100 | 101 |   1 |  1 |   0 |   0 | 3.075817e+02 | 6.770000e+02 | 120.10%| unknown\n",
      "  0.0s|     1 |     0 |   125 |     - |  3321k |   0 | 100 | 100 | 102 |   2 |  2 |   0 |   0 | 3.088855e+02 | 6.770000e+02 | 119.18%| unknown\n",
      "  0.0s|     1 |     0 |   143 |     - |  3799k |   0 | 100 | 100 | 103 |   3 |  3 |   0 |   0 | 3.095086e+02 | 6.770000e+02 | 118.73%| unknown\n",
      "  0.0s|     1 |     0 |   155 |     - |  4344k |   0 | 100 | 100 | 104 |   4 |  4 |   0 |   0 | 3.099108e+02 | 6.770000e+02 | 118.45%| unknown\n",
      "  0.1s|     1 |     0 |   166 |     - |  4629k |   0 | 100 | 100 | 105 |   5 |  5 |   0 |   0 | 3.101479e+02 | 6.770000e+02 | 118.28%| unknown\n",
      "  0.1s|     1 |     0 |   185 |     - |  5578k |   0 | 100 | 100 | 106 |   6 |  6 |   0 |   0 | 3.108085e+02 | 6.770000e+02 | 117.82%| unknown\n",
      "  0.1s|     1 |     0 |   201 |     - |  5630k |   0 | 100 | 100 | 107 |   7 |  7 |   0 |   0 | 3.112541e+02 | 6.770000e+02 | 117.51%| unknown\n",
      "  0.1s|     1 |     0 |   214 |     - |  5671k |   0 | 100 | 100 | 108 |   8 |  8 |   0 |   0 | 3.117207e+02 | 6.770000e+02 | 117.18%| unknown\n",
      "  0.1s|     1 |     0 |   224 |     - |  6617k |   0 | 100 | 100 | 109 |   9 |  9 |   0 |   0 | 3.119501e+02 | 6.770000e+02 | 117.02%| unknown\n",
      "  0.1s|     1 |     0 |   231 |     - |  6630k |   0 | 100 | 100 | 110 |  10 | 10 |   0 |   0 | 3.121704e+02 | 6.770000e+02 | 116.87%| unknown\n",
      "  0.1s|     1 |     0 |   237 |     - |  6642k |   0 | 100 | 100 | 111 |  11 | 11 |   0 |   0 | 3.123085e+02 | 6.770000e+02 | 116.77%| unknown\n",
      "  0.1s|     1 |     0 |   252 |     - |  6681k |   0 | 100 | 100 | 112 |  12 | 12 |   0 |   0 | 3.125439e+02 | 6.770000e+02 | 116.61%| unknown\n",
      "  0.1s|     1 |     0 |   271 |     - |  6695k |   0 | 100 | 100 | 113 |  13 | 13 |   0 |   0 | 3.134151e+02 | 6.770000e+02 | 116.01%| unknown\n",
      " time | node  | left  |LP iter|LP it/n|mem/heur|mdpt |vars |cons |rows |cuts |sepa|confs|strbr|  dualbound   | primalbound  |  gap   | compl. \n",
      "  0.1s|     1 |     0 |   277 |     - |  6707k |   0 | 100 | 100 | 114 |  14 | 14 |   0 |   0 | 3.135249e+02 | 6.770000e+02 | 115.93%| unknown\n",
      "  0.1s|     1 |     0 |   281 |     - |  6723k |   0 | 100 | 100 | 115 |  15 | 15 |   0 |   0 | 3.136529e+02 | 6.770000e+02 | 115.84%| unknown\n",
      "  0.1s|     1 |     0 |   285 |     - |  6743k |   0 | 100 | 100 | 116 |  16 | 16 |   0 |   0 | 3.137070e+02 | 6.770000e+02 | 115.81%| unknown\n",
      "  0.1s|     1 |     0 |   295 |     - |  6755k |   0 | 100 | 100 | 117 |  17 | 17 |   0 |   0 | 3.140137e+02 | 6.770000e+02 | 115.60%| unknown\n",
      "  0.1s|     1 |     0 |   302 |     - |  6830k |   0 | 100 | 100 | 118 |  18 | 18 |   0 |   0 | 3.141316e+02 | 6.770000e+02 | 115.51%| unknown\n",
      "  0.1s|     1 |     0 |   305 |     - |  6842k |   0 | 100 | 100 | 119 |  19 | 19 |   0 |   0 | 3.141445e+02 | 6.770000e+02 | 115.51%| unknown\n",
      "  0.1s|     1 |     0 |   316 |     - |  6855k |   0 | 100 | 100 | 120 |  20 | 20 |   0 |   0 | 3.145572e+02 | 6.770000e+02 | 115.22%| unknown\n",
      "  0.1s|     1 |     0 |   322 |     - |  6856k |   0 | 100 | 100 | 121 |  21 | 21 |   0 |   0 | 3.146492e+02 | 6.770000e+02 | 115.16%| unknown\n",
      "  0.1s|     1 |     0 |   325 |     - |  6858k |   0 | 100 | 100 | 122 |  22 | 22 |   0 |   0 | 3.146746e+02 | 6.770000e+02 | 115.14%| unknown\n",
      "r 0.1s|     1 |     0 |   325 |     - |ziroundi|   0 | 100 | 100 | 122 |  22 | 24 |   0 |   0 | 3.146746e+02 | 6.470000e+02 | 105.61%| unknown\n",
      "d 0.1s|     1 |     0 |   388 |     - |farkasdi|   0 | 100 | 100 | 122 |   0 | 24 |   0 |   0 | 3.146746e+02 | 5.250000e+02 |  66.84%| unknown\n",
      "d 0.1s|     1 |     0 |   395 |     - |farkasdi|   0 | 100 | 100 | 122 |   0 | 24 |   0 |   0 | 3.146746e+02 | 3.490000e+02 |  10.91%| unknown\n",
      "d 0.1s|     1 |     0 |   400 |     - |farkasdi|   0 | 100 | 100 | 122 |   0 | 24 |   0 |   0 | 3.146746e+02 | 3.280000e+02 |   4.23%| unknown\n",
      "  0.2s|     1 |     0 |   400 |     - |  6861k |   0 | 100 | 100 | 122 |  22 | 24 |   0 |   0 | 3.146746e+02 | 3.280000e+02 |   4.23%| unknown\n",
      "  0.2s|     1 |     0 |   400 |     - |  6861k |   0 | 100 | 100 | 122 |  22 | 24 |   0 |   0 | 3.146746e+02 | 3.280000e+02 |   4.23%| unknown\n",
      " time | node  | left  |LP iter|LP it/n|mem/heur|mdpt |vars |cons |rows |cuts |sepa|confs|strbr|  dualbound   | primalbound  |  gap   | compl. \n",
      "  0.2s|     1 |     0 |   410 |     - |  6861k |   0 | 100 | 100 | 123 |  23 | 25 |   0 |   0 | 3.148910e+02 | 3.280000e+02 |   4.16%| unknown\n",
      "  0.2s|     1 |     0 |   414 |     - |  6863k |   0 | 100 | 100 | 124 |  24 | 26 |   0 |   0 | 3.149162e+02 | 3.280000e+02 |   4.15%| unknown\n",
      "  0.2s|     1 |     0 |   464 |     - |  6884k |   0 | 100 |  91 | 124 |  24 | 26 |  10 |  12 | 3.238600e+02 | 3.280000e+02 |   1.28%| unknown\n",
      "  0.2s|     1 |     0 |   464 |     - |  6884k |   0 | 100 |  91 |  97 |  24 | 26 |  10 |  12 | 3.238600e+02 | 3.280000e+02 |   1.28%| unknown\n",
      "  0.2s|     1 |     0 |   471 |     - |  6884k |   0 | 100 |  91 |  98 |  25 | 27 |  10 |  12 | 3.244141e+02 | 3.280000e+02 |   1.11%| unknown\n",
      "  0.2s|     1 |     0 |   471 |     - |  6884k |   0 | 100 |  91 |  97 |  25 | 27 |  10 |  12 | 3.244141e+02 | 3.280000e+02 |   1.11%| unknown\n",
      "  0.2s|     1 |     0 |   479 |     - |  6884k |   0 | 100 |  91 |  94 |  26 | 28 |  10 |  12 | 3.247356e+02 | 3.280000e+02 |   1.01%| unknown\n",
      "  0.2s|     1 |     0 |   479 |     - |  6885k |   0 | 100 |  91 |  85 |  26 | 28 |  10 |  12 | 3.247356e+02 | 3.280000e+02 |   1.01%| unknown\n",
      "  0.2s|     1 |     0 |   479 |     - |  6885k |   0 | 100 |  35 |  85 |  26 | 28 |  10 |  12 | 3.247356e+02 | 3.280000e+02 |   1.01%| unknown\n",
      "  0.2s|     1 |     0 |   481 |     - |  6885k |   0 | 100 |  35 |  86 |  27 | 29 |  10 |  12 | 3.252179e+02 | 3.280000e+02 |   0.86%| unknown\n",
      "  0.2s|     1 |     0 |   481 |     - |  6886k |   0 | 100 |  35 |  61 |  27 | 29 |  10 |  12 | 3.252179e+02 | 3.280000e+02 |   0.86%| unknown\n",
      "  0.2s|     1 |     0 |   482 |     - |  6886k |   0 | 100 |  39 |  61 |  27 | 30 |  20 |  17 | 3.280000e+02 | 3.280000e+02 |   0.00%| unknown\n",
      "\n",
      "SCIP Status        : problem is solved [optimal solution found]\n",
      "Solving Time (sec) : 0.20\n",
      "Solving Nodes      : 1\n",
      "Primal Bound       : +3.28000000000000e+02 (61 solutions)\n",
      "Dual Bound         : +3.28000000000000e+02\n",
      "Gap                : 0.00 %\n",
      "Solve with Row:100,Col:100,Density:0.150000\n",
      "original problem has 100 variables (100 bin, 0 int, 0 impl, 0 cont) and 100 constraints\n",
      "feasible solution found by trivial heuristic after 0.0 seconds, objective value 5.209000e+03\n",
      "presolving:\n",
      "   (0.0s) symmetry computation started: requiring (bin +, int -, cont +), (fixed: bin -, int +, cont -)\n",
      "   (0.0s) no symmetry present\n",
      "presolving (0 rounds: 0 fast, 0 medium, 0 exhaustive):\n",
      " 0 deleted vars, 0 deleted constraints, 0 added constraints, 0 tightened bounds, 0 added holes, 0 changed sides, 0 changed coefficients\n",
      " 0 implications, 0 cliques\n",
      "presolved problem has 100 variables (100 bin, 0 int, 0 impl, 0 cont) and 100 constraints\n",
      "    100 constraints of type <linear>\n",
      "transformed objective value is always integral (scale: 1)\n",
      "Presolving Time: 0.00\n",
      "transformed 1/1 original solutions to the transformed problem space\n",
      "\n",
      " time | node  | left  |LP iter|LP it/n|mem/heur|mdpt |vars |cons |rows |cuts |sepa|confs|strbr|  dualbound   | primalbound  |  gap   | compl. \n",
      "p 0.0s|     1 |     0 |     0 |     -Solve with Row:100,Col:100,Density:0.200000\n"
     ]
    },
    {
     "name": "stdout",
     "output_type": "stream",
     "text": [
      "Solve with Row:100,Col:150,Density:0.100000\n",
      " |   locks|   0 | 100 | 100 | 100 |   0 |  0 |   0 |   0 | 0.000000e+00 | 5.560000e+02 |    Inf | unknown\n",
      "  0.0s|     1 |     0 |   103 |     - |  1679k |   0 | 100 | 100 | 100 |   0 |  0 |   0 |   0 | 2.234206e+02 | 5.560000e+02 | 148.86%| unknown\n",
      "r 0.0s|     1 |     0 |   103 |     - |rounding|   0 | 100 | 100 | 100 |   0 |  0 |   0 |   0 | 2.234206e+02 | 5.510000e+02 | 146.62%| unknown\n",
      "r 0.0s|     1 |     0 |   103 |     - |shifting|   0 | 100 | 100 | 100 |   0 |  0 |   0 |   0 | 2.234206e+02 | 5.500000e+02 | 146.17%| unknown\n",
      "i 0.0s|     1 |     0 |   103 |     - |  oneopt|   0 | 100 | 100 | 100 |   0 |  0 |   0 |   0 | 2.234206e+02 | 2.810000e+02 |  25.77%| unknown\n",
      "  0.0s|     1 |     0 |   124 |     - |  2729k |   0 | 100 | 100 | 101 |   1 |  1 |   0 |   0 | 2.260914e+02 | 2.810000e+02 |  24.29%| unknown\n",
      "  0.0s|     1 |     0 |   124 |     - |  2730k |   0 | 100 | 100 | 101 |   1 |  1 |   0 |   0 | 2.260914e+02 | 2.810000e+02 |  24.29%| unknown\n",
      "  0.0s|     1 |     0 |   140 |     Solve with Row:100,Col:150,Density:0.150000\n",
      "Solve with Row:100,Col:150,Density:0.200000\n",
      "- |  3459k |   0 | 100 | 100 | 102 |   2 |  2 |   0 |   0 | 2.268299e+02 | 2.810000e+02 |  23.88%| unknown\n",
      "  0.0s|     1 |     0 |   154 |     - |  4037k |   0 | 100 | 100 | 103 |   3 |  3 |   0 |   0 | 2.272950e+02 | 2.810000e+02 |  23.63%| unknown\n",
      "  0.0s|     1 |     0 |   167 |     - |  4114k |   0 | 100 | 100 | 104 |   4 |  4 |   0 |   0 | 2.282834e+02 | 2.810000e+02 |  23.09%| unknown\n",
      "  0.0s|     1 |     0 |   167 |     - |  4115k |   0 | 100 | 100 | 104 |   4 |  4 |   0 |   0 | 2.282834e+02 | 2.810000e+02 |  23.09%| unknown\n",
      "  0.1s|     1 |     0 |   183 |     - |  5528k |   0 | 100 | 100 | 105 |   5 |  5 |   0 |   0 | 2.288353e+02 | 2.810000e+02 |  22.80%| unknown\n",
      "  0.1s|     1 |     0 |   183 |     - |  5529k |   0 | 100 | 100 | 105 |   5 |  5 |   0 |   0 | 2.288353e+02 | 2.810000e+02 |  22.80%| unknown\n",
      "  0.1s|     1 |     0 |   189 |     - |  5539k |   0 | 100 | 100 | 106 |   6 |  6 |   0 |   0 | 2.289252e+02 | 2.810000e+02 |  22.75%| unknown\n",
      "  0.1s|     1 |     0 |   198 |     - |  5567k |   0 | 100 | 100 | 107 |   7 |  7 |   0 |   0 | 2.290311e+02 | 2.810000e+02 |  22.69%| unknown\n",
      " time | node  | left  |LP iter|LP it/n|mem/heur|mdpt |vars |cons |rows |cuts |sepa|confs|strbr|  dualbound   | primalbound  |  gap   | compl. \n",
      "  0.1s|     1 |     0 |   212 |     - |  5595k |   0 | 100 | 100 | 108 |   8 |  8 |   0 |   0 | 2.292206e+02 | 2.810000e+02 |  22.59%| unknown\n",
      "  0.1s|     1 |     0 |   219 |     - |  5607k |   0 | 100 | 100 | 109 |   9 |  9 |   0 |   0 | 2.293368e+02 | 2.810000e+02 |  22.53%| unknown\n",
      "  0.1s|     1 |     0 |   231 |     - |  5618k |   0 | 100 | 100 | 110 |  10 | 10 |   0 |   0 | 2.293723e+02 | 2.810000e+02 |  22.51%| unknown\n",
      "  0.1s|     1 |     0 |   236 |     - |  5630k |   0 | 100 | 100 | 111 |  11 | 11 |   0 |   0 | 2.294294e+02 | 2.810000e+02 |  22.48%| unknown\n",
      "  0.1s|     1 |     0 |   242 |     - |  5650k |   0 | 100 | 100 | 112 |  12 | 12 |   0 |   0 | 2.294694e+02 | 2.810000e+02 |  22.46%| unknown\n",
      "  0.1s|     1 |     0 |   248 |   Solve with Row:100,Col:200,Density:0.100000\n",
      "  - |  5662k |   0 | 100 | 100 | 113 |  13 | 13 |   0 |   0 | 2.295025e+02 | 2.810000e+02 |  22.44%| unknown\n",
      "  0.1s|     1 |     0 |   253 |     - |  5728k |   0 | 100 | 100 | 114 |  14 | 14 |   0 |   0 | 2.295678e+02 | 2.810000e+02 |  22.40%| unknown\n",
      "  0.1s|     1 |     0 |   261 |     - |  5739k |   0 | 100 | 100 | 115 |  15 | 15 |   0 |   0 | 2.295999e+02 | 2.810000e+02 |  22.39%| unknown\n",
      "  0.1s|     1 |     0 |   274 |     - |  5751k |   0 | 100 | 100 | 116 |  16 | 16 |   0 |   0 | 2.296547e+02 | 2.810000e+02 |  22.36%| unknown\n",
      "  0.1s|     1 |     0 |   291 |     - |  6518k |   0 | 100 | 100 | 116 |  17 | 17 |   0 |   0 | 2.296895e+02 | 2.810000e+02 |  22.34%| unknown\n",
      "  0.1s|     1 |     0 |   298 |     - |  6518k |   0 | 100 | 100 | 117 |  18 | 18 |   0 |   0 | 2.297040e+02 | 2.810000e+02 |  22.33%| unknown\n",
      "  0.1s|     1 |     0 |   308 |     - |  6530k |   0 | 100 | 100 | 118 |  19 | 19 |   0 |   0 | 2.297320e+02 | 2.810000e+02 |  22.32%| unknown\n",
      "  0.1s|     1 |     0 |   314 |     - |  6543k |   0 | 100 | 100 | 119 |  20 | 20 |   0 |   0 | 2.297697e+02 | 2.810000e+02 |  22.30%| unknown\n",
      "  0.1s|     1 |     0 |   317 |     - |  6544k |   0 | 100 | 100 | 120 |  21 | 21 |   0 |   0 | 2.297969e+02 | 2.810000e+02 |  22.28%| unknown\n",
      "  0.1s|     1 |     0 |   321 |     - |  6663k |   0 | 100 | 100 | 121 |  22 | 22 |   0 |   0 | 2.298099e+02 | 2.810000e+02 |  22.27%| unknown\n",
      " time | node  | left  |LP iter|LP it/n|mem/heur|mdpt |vars |cons |rows |cuts |sepa|confs|strbr|  dualbound   | primalbound  |  gap   | compl. \n",
      "  0.1s|     1 |     0 |   327 |     - |  6680k |   0 | 100 | 100 | 122 |  23 | 23 |   0 |   0 | 2.298421e+02 | 2.810000e+02 |  22.26%| unknown\n",
      "  0.1s|     1 |     0 |   332 |     - |  6682k |   0 | 100 | 100 | 123 |  24 | 24 |   0 |   0 | 2.298436e+02 | 2.810000e+02 |  22.26%| unknown\n",
      "  0.1s|     1 |     0 |   334 |     - |  6684k |   0 | 100 | 100 | 124 |  25 | 25 |   0 |   0 | 2.298436e+02 | 2.810000e+02 |  22.26%| unknown\n",
      "  0.1s|     1 |     0 |   339 |     - |  6686k |   0 | 100 | 100 | 125 |  26 | 26 |   0 |   0 | 2.298464e+02 | 2.810000e+02 |  22.26%| unknown\n",
      "  0.1s|     1 |     0 |   343 |     - |  6692k |   0 | 100 | 100 | 126 |  27 | 27 |   0 |   0 | 2.298753e+02 | 2.810000e+02 |  22.24%| unknown\n",
      "d 0.2s|     1 |     0 |   443 |     - |farkasdi|   0 | 100 | 100 | 126 |   0 | 29 |   0 |   0 | 2.298753e+02 | 2.560000e+02 |  11.36%| unknown\n",
      "L 0.2s|     1 |     0 |   443 |     - |    rens|   0 | 100 | 100 | 126 |  27 | 29 |   0 |   0 | 2.298753e+02 | 2.360000e+02 |   2.66%| unknown\n",
      "  0.2s|     1 |     0 |   443 |     - |  6695k |   0 | 100 | 100 | 126 |  27 | 29 |   0 |   0 | 2.298753e+02 | 2.360000e+02 |   2.66%| unknown\n",
      "  0.2s|     1 |     0 |   443 |     - |  6695k |   0 | 100 | 100 | 126 |  27 | 29 |   0 |   0 | 2.298753e+02 | 2.360000e+02 |   2.66%| unknown\n",
      "  0.2s|     1 |     0 |   446 |     - |  6695k |   0 | 100 | 100 | 127 |  28 | 30 |   0 |   0 | 2.298888e+02 | 2.360000e+02 |   2.66%| unknown\n",
      "  0.2s|     1 |     0 |   471 |     - |  6724k |   0 | 100 | 105 | 127 |  28 | 31 |  10 |   5 | 2.360000e+02 | 2.360000e+02 |   0.00%| unknown\n",
      "\n",
      "SCIP Status        : problem is solved [optimal solution found]\n",
      "Solving Time (sec) : 0.18\n",
      "Solving Nodes      : 1\n",
      "Primal Bound       : +2.36000000000000e+02 (45 solutions)\n",
      "Dual Bound         : +2.36000000000000e+02\n",
      "Gap                : 0.00 %\n",
      "original problem has 100 variables (100 bin, 0 int, 0 impl, 0 cont) and 100 constraints\n",
      "feasible solution found by trivial heuristic after 0.0 seconds, objective value 5.327000e+03\n",
      "presolving:\n",
      "   (0.0s) symmetry computation started: requiring (bin +, int -, cont +), (fixed: bin -, int +, cont -)\n",
      "   (0.0s) no symmetry present\n",
      "presolving (0 rounds: 0 fast, 0 medium, 0 exhaustive):\n",
      " 0 deleted vars, 0 deleted constraints, 0 added constraints, 0 tightened bounds, 0 added holes, 0 changed sides, 0 changed coefficients\n",
      " 0 implications, 0 cliques\n",
      "presolved problem has 100 variables (100 bin, 0 int, 0 impl, 0 cont) and 100 constraints\n",
      "    100 conSolve with Row:100,Col:200,Density:0.150000\n",
      "Solve with Row:100,Col:200,Density:0.200000\n",
      "straints of type <linear>\n",
      "transformed objective value is always integral (scale: 1)\n",
      "Presolving Time: 0.00\n",
      "transformed 1/1 original solutions to the transformed problem space\n",
      "\n",
      " time | node  | left  |LP iter|LP it/n|mem/heur|mdpt |vars |cons |rows |cuts |sepa|confs|strbr|  dualbound   | primalbound  |  gap   | compl. \n",
      "p 0.0s|     1 |     0 |     0 |     - |   locks|   0 | 100 | 100 | 100 |   0 |  0 |   0 |   0 | 0.000000e+00 | 3.520000e+02 |    Inf | unknown\n",
      "  0.0s|     1 |     0 |    89 |     - |  1765k |   0 | 100 | 100 | 100 |   0 |  0 |   0 |   0 | 1.670136e+02 | 3.520000e+02 | 110.76%| unknown\n",
      "  0.0s|     1 |     0 |   101 |     - |  2889k |   0 | 100 | 100 | 101 |   1 |  1 |   0 |   0 | 1.695148e+02 | 3.520000e+02 | 107.65%| unknown\n",
      "  0.0s|     1 |     0 |   110 |     - |  3974k |   0 | 100 | 100 | 102 |   2 |  2 |   0 |   0 | 1.699992e+02 | 3.520000e+02 | 107.06%| unknown\n",
      "  0.0s|     1 |     0 |   118 |     - |  4922k |   0 | 100 | 100 | 103 |   3 |  3 |   0 |   0 | 1.706662e+02 | 3.520000e+02 | 106.25%| unknown\n",
      "r 0.0s|     1 |     0 |   118 |     - |rounding|   0 | 100 | 100 | 103 |   3 |  3 |   0 |   0 | 1.706662e+02 | 3.490000e+02 | 104.49%| unknown\n",
      "  0.0s|     1 |     0 |   134 |     - |  5068k |   0 | 100 | 100 | 104 |   4 |  4 |   0 |   0 | 1.733357e+02 | 3.490000e+02 | 101.34%| unknown\n",
      "i 0.0s|     1 |     0 |   134 |     - |  oneopt|   0 | 100 | 100 | 104 |   4 |  4 |   0 |   0 | 1.733357e+02 | 2.130000e+02 |  22.88%| unknown\n",
      "  0.1s|     1 |     0 |   145 |     - |  5352k |   0 | 100 | 100 | 105 |   5 |  5 |   0 |   0 | 1.739664e+02 | 2.130000e+02 |  22.44%| unknown\n",
      "  0.1s|     1 |     0 |   145 |     - |  5353k |   0 | 100 | 100 | 105 |   5 |  5 |   0 |   0 | 1.739664e+02 | 2.130000e+02 |  22.44%| unknown\n",
      "  0.1s|     1 |     0 |   155 |     - |  5611k |   0 | 100 | 100 | 106 |   6 |  6 |   0 |   0 | 1.746001e+02 | 2.130000e+02 |  21.99%| unknown\n",
      "  0.1s|     1 |     0 |   172 |     - |  5930k |   0 | 100 | 100 | 107 |   7 |  7 |   0 |   0 | 1.754339e+02 | 2.130000e+02 |  21.41%| unknown\n",
      "  0.1s|     1 |     0 |   179 |     - |  6532k |   0 | 100 | 100 | 108 |   8 |  8 |   0 |   0 | 1.756422e+02 | 2.130000e+02 |  21.27%| unknown\n",
      "  0.1s|     1 |     0 |   190 |     - |  6544k |   0 | 100 | 100 | 109 |   9 |  9 |   0 |   0 | 1.758965e+02 | 2.130000e+02 |  21.09%| unknown\n",
      "  0.1s|     1 |     0 |   201 |     - |  7686k |   0 | 100 | 100 | 110 |  10 | 10 |   0 |   0 | 1.761483e+02 | 2.130000e+02 |  20.92%| unknown\n",
      " time | node  | left  |LP iter|LP it/n|mem/heur|mdpt |vars |cons |rows |cuts |sepa|confs|strbr|  dualbound   | primalbound  |  gap   | compl. \n",
      "  0.1s|     1 |     0 |   207 |     - |  7700k |   0 | 100 | 100 | 111 |  11 | 11 |   0 |   0 | 1.764044e+02 | 2.130000e+02 |  20.75%| unknown\n",
      "  0.1s|     1 |     0 |   213 |     - |  7712k |   0 | 100 | 100 | 112 |  12 | 12 |   0 |   0 | 1.765606e+02 | 2.130000e+02 |  20.64%| unknown\n",
      "  0.1s|     1 |     0 |   223 |     - |  7723k |   0 | 100 | 100 | 113 |  13 | 13 |   0 |   0 | 1.767231e+02Solve with Row:150,Col:150,Density:0.100000\n",
      "Solve with Row:150,Col:150,Density:0.150000\n",
      " | 2.130000e+02 |  20.53%| unknown\n",
      "  0.1s|     1 |     0 |   237 |     - |  7736k |   0 | 100 | 100 | 114 |  14 | 14 |   0 |   0 | 1.770468e+02 | 2.130000e+02 |  20.31%| unknown\n",
      "  0.1s|     1 |     0 |   244 |     - |  7747k |   0 | 100 | 100 | 115 |  15 | 15 |   0 |   0 | 1.772200e+02 | 2.130000e+02 |  20.19%| unknown\n",
      "  0.1s|     1 |     0 |   254 |     - |  7759k |   0 | 100 | 100 | 116 |  16 | 16 |   0 |   0 | 1.773923e+02 | 2.130000e+02 |  20.07%| unknown\n",
      "  0.1s|     1 |     0 |   267 |     - |  7771k |   0 | 100 | 100 | 117 |  17 | 18 |   0 |   0 | 1.775514e+02 | 2.130000e+02 |  19.97%| unknown\n",
      "  0.1s|     1 |     0 |   282 |     - |  7784k |   0 | 100 | 100 | 118 |  18 | 19 |   0 |   0 | 1.777870e+02 | 2.130000e+02 |  19.81%| unknown\n",
      "  0.1s|     1 |     0 |   287 |     - |  7796k |   0 | 100 | 100 | 119 |  19 | 20 |   0 |   0 | 1.778034e+02 | 2.130000e+02 |  19.80%| unknown\n",
      "  0.1s|     1 |     0 |   293 |     - |  7813k |   0 | 100 | 100 | 120 |  20 | 21 |   0 |   0 | 1.778816e+02 | 2.130000e+02 |  19.74%| unknown\n",
      "  0.1s|     1 |     0 |   298 |     - |  7814k |   0 | 100 | 100 | 121 |  21 | 22 |   0 |   0 | 1.779068e+02 | 2.130000e+02 |  19.73%| unknown\n",
      "  0.1s|     1 |     0 |   303 |     - |  7816k |   0 | 100 | 100 | 122 |  22 | 23 |   0 |   0 | 1.779204e+02 | 2.130000e+02 |  19.72%| unknown\n",
      "  0.1s|     1 |     0 |   308 |     - |  7830k |   0 | 100 | 100 | 121 |  23 | 24 |   0 |   0 | 1.779251e+02 | 2.130000e+02 |  19.71%| unknown\n",
      "  0.1s|     1 |     0 |   314 |     - |  7830k |   0 | 100 | 100 | 122 |  24 | 25 |   0 |   0 | 1.779994e+02 | 2.130000e+02 |  19.66%| unknown\n",
      "  0.2s|     1 |     0 |   318 |     - |  7845k |   0 | 100 | 100 | 123 |  25 | 26 |   0 |   0 | 1.780373e+02 | 2.130000e+02 |  19.64%| unknown\n",
      " time | node  | left  |LP iter|LP it/n|mem/heur|mdpt |vars |cons |rows |cuts |sepa|confs|strbr|  dualbound   | primalbound  |  gap   | compl. \n",
      "  0.2s|     1 |     0 |   319 |     - |  7854k |   0 | 100 | 100 | 124 |  26 | 27 |   0 |   0 | 1.780404e+02 | 2.130000e+02 |  19.64%| unknown\n",
      "  0.2s|     1 |     0 |   324 |     - |  7887k |   0 | 100 | 100 | 125 |  27 | 28 |   0 |   0 | 1.780626e+02 | 2.130000e+02 |  19.62%| unknown\n",
      "d 0.2s|     1 |     0 |   488 |     - |farkasdi|   0 | 100 | 100 | 125 |   0 | 30 |   0 |   0 | 1.780626e+02 | 2.000000e+02 |  12.32%| unknown\n",
      "L 0.2s|     1 |     0 |   488 |     - |    rens|   0 | 100 | 100 | 125 |  27 | 30 |   0 |   0 | 1.780626e+02 | 1.970000e+02 |  10.64%| unknown\n",
      "  0.2s|     1 |     0 |   488 |     - |  7905k |   0 | 100 | 100 | 125 |  27 | 30 |   0 |   0 | 1.780626e+02 | 1.970000e+02 |  10.64%| unknown\n",
      "  0.2s|     1 |     0 |   488 |     - |  7905k |   0 | 100 | 100 | 125 |  27 | 30 |   0 |   0 | 1.780626e+02 | 1.970000e+02 |  10.64%| unknown\n",
      "  0.2s|     1 |     0 |   492 |     - |  7905k |   0 | 100 | 100 | 123 |  28 | 31 |   0 |   0 | 1.780844e+02 | 1.970000e+02 |  10.62%| unknown\n"
     ]
    },
    {
     "name": "stdout",
     "output_type": "stream",
     "text": [
      "  0.2s|     1 |     0 |   494 |     - |  7905k |   0 | 100 | 100 | 124 |  29 | 32 |   0 |   0 | 1.780891e+02 | 1.970000e+02 |  10.62%| unknown\n",
      "  0.2s|     1 |     2 |   494 |     - |  7906k |   0 | 100 | 100 | 124 |  29 | 32 |   0 |  21 | 1.805465e+02 | 1.970000e+02 |   9.11%| unknown\n",
      "\n",
      "SCIP Status        : problem is solved [optimal solution found]\n",
      "Solving Time (sec) : 0.29\n",
      "Solving Nodes      : 5\n",
      "Primal Bound       : +1.97000000000000e+02 (158 solutions)\n",
      "Dual Bound         : +1.97000000000000e+02\n",
      "Gap                : 0.00 %\n",
      "original problem has 150 variables (150 bin, 0 int, 0 impl, 0 cont) and 100 constraints\n",
      "feasible solution found by trivial heuristic after 0.0 seconds, objective value 7.311000e+03\n",
      "presolving:\n",
      "   (0.0s) symmetry computation started: requiring (bin +, int -, cont +), (fixed: bin -, int +, cont -)\n",
      "   (0.0s) no symmetry present\n",
      "presolving (0 rounds: 0 fast, 0 medium, 0 exhaustive):\n",
      " 0 deleted vars, 0 deleted constraints, 0 added constraints, 0 tightened bounds, 0 added holes, 0 changed sides, 0 changed coefficients\n",
      " 0 implications, 0 cliques\n",
      "presolved problem has 150 variables (150 bin, 0 int, 0 impl, 0 cont) and 100 constraints\n",
      "    100 constraints of type <linear>\n",
      "transformed objective value is always integral (scale: 1)\n",
      "Presolving Time: 0.00\n",
      "transformed 1/1 original solutions to the transformed problem space\n",
      "\n",
      " time | node  | left  |LP iter|LP it/n|mem/heur|mdpt |vars |cons |rows |cuts |sepa|confs|strbr|  dualbound   | primalbound  |  gap   | compl. \n",
      "p 0.0s|     1 |     0 |     0 |     - |   locks|   0 | 150 | 100 | 100 |   0 |  0 |   0 |   0 | 0.000000e+00 | 5.130000e+02 |    Inf | unknown\n",
      "  0.0s|     1 |     0 |   131 |     - |  1961k |   0 | 150 | 100 | 100 |   0 |  0 |   0 |   0 | 2.064375e+02 | 5.130000e+02 | 148.50%| unknown\n",
      "r 0.0s|     1 |     0 |   131 |     - |rounding|   0 | 150 | 100 | 100 |   0 |  0 |   0 |   0 | 2.064375e+02 | 5.110000e+02 | 147.53%| unknown\n",
      "r 0.0s|     1 |     0 |   131 |     - |shifting|   0 | 150 | 100 | 100 |   0 |  0 |   0 |   0 | 2.064375e+02 | 5.080000e+02 | 146.08%| unknown\n",
      "i 0.0s|     1 |     0 |   131 |     - |  oneopt|   0 | 150 | 100 | 100 |   0 |  0 |   0 |   0 | 2.064375e+02 | 2.520000e+02 |  22.07%| unknown\n",
      "  0.0s|     1 |     0 |   136 |     - |  2366k |   0 | 150 | 100 | 101 |   1 |  1 |   0 |   0 | 2.084000e+02 | 2.520000e+02 |  20.92%| unknown\n",
      "  0.0s|     1 |     0 |   136 |     - |  2367k |   0 | 150 | 100 | 101 |   1 |  1 |   0 |   0 | 2.084000e+02 | 2.520000e+02 |  20.92%| unknown\n",
      "  0.0s|     1 |     0 |   149 |     - |  2402k |   0 | 150 | 100 | 104 |   4 |  2 |   0 |   0 | 2.096154e+02 | 2.520000e+02 |  20.22%| unknown\n",
      "  0.0s|     1 |     0 |   149 |     - |  2419k |   0 | 150 | 100 | 104 |   4 |  2 |   0 |   0 | 2.096154e+02 | 2.520000e+02 |  20.22%| unknown\n",
      "  0.0s|     1 |     0 |   158 |     - |  2741k |   0 | 150 | 100 | 105 |   5 |  3 |   0 |   0 | 2.112521e+02 | 2.520000e+02 |  19.29%| unknown\n",
      "  0.0s|     1 |     0 |   165 |     - |  3212k |   0 | 150 | 100 | 106 |   6 |  4 |   0 |   0 | 2.126000e+02 | 2.520000e+02 |  18.53%| unknown\n",
      "  0.0s|     1 |     0 |   165 |     - |  3213k |   0 | 150 | 100 | 106 |   6 |  4 |   0 |   0 | 2.126000e+02 | 2.520000e+02 |  18.53%| unknown\n",
      "  0.1s|     1 |     0 |   178 |     - |  3565k |   0 | 150 | 100 | 108 |   8 |  5 |   0 |   0 | 2.142875e+02 | 2.520000e+02 |  17.60%| unknown\n",
      "  0.1s|     1 |     0 |   178 |     - |  3566k |   0 | 150 | 100 | 108 |   8 |  5 |   0 |   0 | 2.142875e+02 | 2.520000e+02 |  17.60%| unknown\n",
      "  0.1s|     1 |     0 |   184 |     - |  3729k |   0 | 150 | 100 | 109 |   9 |  6 |   0 |   0 | 2.145793e+02 | 2.520000e+02 |  17.44%| unknown\n",
      " time | node  | left  |LP iter|LP it/n|mem/heur|mdpt |vars |cons |rows |cuts |sepa|confs|strbr|  dualbound   | primalbound  |  gap   | compl. \n",
      "  0.1s|     1 |     0 |   194 |     - |  4382k |   0 | 150 | 100 | 110 |  10 |  7 |   0 |   0 | 2.148922e+02 | 2.520000e+02 |  17.27%| unknown\n",
      "  0.1s|     1 |     0 |   198 |     - |  4695k |   0 | 150 | 100 | 111 |  11 |  8 |   0 |   0 | 2.150691e+02 | 2.520000e+02 |  17.17%| unknown\n",
      "  0.1s|     1 |     0 |   207 |     - |  5881k |   0 | 150 | 100 | 112 |  12 |  9 |   0 |   0 | 2.152683e+02 | 2.520000e+02 |  17.06%| unknown\n",
      "  0.1s|     1 |     0 |   211 |     - |  6827k |   0 | 150 | 100 | 113 |  13 | 10 |   0 |   0 | 2.154161e+02 | 2.520000e+02 |  16.98%| unknown\n",
      "  0.1s|     1 |     0 |   222 |     - |  6839k |   0 | 150 | 100 | 114 |  14 | 11 |   0 |   0 | 2.160884e+02 | 2.520000e+02 |  16.62%| unknown\n",
      "  0.1s|     1 |     0 |   231 |     - |  6877k |   0 | 150 | 100 | 115 |  15 | 12 |   0 |   0 | 2.164736e+02 | 2.520000e+02 |  16.41%| unknown\n",
      "  0.1s|     1 |     0 |   237 |     - |  6889k |   0 | 150 | 100 | 116 |  16 | 13 |   0 |   0 | 2.166461e+02 | 2.520000e+02 |  16.32%| unknown\n",
      "  0.1s|     1 |     0 |   242 |     - |  6901k |   0 | 150 | 100 | 117 |  17 | 14 |   0 |   0 | 2.167003e+02 | 2.520000e+02 |  16.29%| unknown\n",
      "  0.1s|     1 |     0 |   246 |     - |  6976k |   0 | 150 | 100 | 118 |  18 | 15 |   0 |   0 | 2.168193e+02 | 2.520000e+02 |  16.23%| unknown\n",
      "  0.1s|     1 |     0 |   255 |     - |  6988k |   0 | 150 | 100 | 119 |  19 | 16 |   0 |   0 | 2.175954e+02 | 2.520000e+02 |  15.81%| unknown\n",
      "  0.1s|     1 |     0 |   266 |     - |  7001k |   0 | 150 | 100 | 119 |  20 | 17 |   0 |   0 | 2.177695e+02 | 2.520000e+02 |  15.72%| unknown\n",
      "  0.1s|     1 |     0 |   270 |     - |  7001k |   0 | 150 | 100 | 120 |  21 | 18 |   0 |   0 | 2.177768e+02 | 2.520000e+02 |  15.71%| unknown\n",
      "  0.1s|     1 |     0 |   278 |     - |  7031k |   0 | 150 | 100 | 121 |  22 | 19 |   0 |   0 | 2.178854e+02 | 2.520000e+02 |  15.66%| unknown\n",
      "  0.1s|     1 |     0 |   282 |     - |  7044k |   0 | 150 | 100 | 122 |  23 | 20 |   0 |   0 | 2.179430e+02 | 2.520000e+02 |  15.63%| unknown\n",
      "  0.1s|     1 |     0 |   286 |     - |  7045k |   0 | 150 | 100 | 123 |  24 | 21 |   0 |   0 | 2.179533e+02 | 2.520000e+02 |  15.62%| unknown\n",
      " time | node  | left  |LP iter|LP it/n|mem/heur|mdpt |vars |cons |rows |cuts |sepa|confs|strbr|  dualbound   | primalbound  |  gap   | compl. \n",
      "  0.1s|     1 |     0 |   289 |     - |  7046k |   0 | 150 | 100 | 124 |  25 | 22 |   0 |   0 | 2.179548e+02 | 2.520000e+02 |  15.62%| unknown\n",
      "  0.2s|     1 |     0 |   293 |     - |  7047k |   0 | 150 | 100 | 122 |  26 | 23 |   0 |   0 | 2.179559e+02 | 2.520000e+02 |  15.62%| unknown\n",
      "d 0.2s|     1 |     0 |   376 |     - |farkasdi|   0 | 150 | 100 | 122 |   0 | 25 |   0 |   0 | 2.179559e+02 | 2.310000e+02 |   5.98%| unknown\n",
      "L 0.2s|     1 |     0 |   376 |     - |    rens|   0 | 150 | 100 | 122 |  26 | 25 |   0 |   0 | 2.179559e+02 | 2.240000e+02 |   2.77%| unknown\n",
      "  0.2s|     1 |     0 |   376 |     - |  7114k |   0 | 150 | 100 | 122 |  26 | 25 |   0 |   0 | 2.179559e+02 | 2.240000e+02 |   2.77%| unknown\n",
      "  0.2s|     1 |     0 |   376 |     - |  7114k |   0 | 150 | 100 | 122 |  26 | 25 |   0 |   0 | 2.179559e+02 | 2.240000e+02 |   2.77%| unknown\n",
      "  0.2s|     1 |     0 |   378 |     - |  7114k |   0 | 150 | 100 | 123 |  27 | 26 |   0 |   0 | 2.179586e+02 | 2.240000e+02 |   2.77%| unknown\n",
      "  0.2s|     1 |     0 |   380 |     - |  7114k |   0 | 150 | 100 | 124 |  28 | 27 |   0 |   0 | 2.179588e+02 | 2.240000e+02 |   2.77%| unknown\n",
      "  0.2s|     1 |     0 |   392 |     - |  7270k |   0 | 150 |  87 | 124 |  28 | 27 |   6 |  28 | 2.197124e+02 | 2.240000e+02 |   1.95%| unknown\n",
      "  0.2s|     1 |     0 |   400 |     - |  7270k |   0 | 150 |  87 | 125 |  29 | 28 |   6 |  28 | 2.197124e+02 | 2.240000e+02 |   1.95%| unknown\n",
      "  0.2s|     1 |     0 |   404 |     - |  7271k |   0 | 150 |  87 | 125 |  30 | 29 |   6 |  28 | 2.197124e+02 | 2.240000e+02 |   1.95%| unknown\n",
      "  0.2s|     1 |     0 |   413 |     - |  7271k |   0 | 150 |  76 | 125 |  30 | 29 |  12 |  34 | 2.197124e+02 | 2.240000e+02 |   1.95%| unknown\n",
      "  0.2s|     1 |     0 |   416 |     - |  7271k |   0 | 150 |  76 | 126 |  31 | 30 |  12 |  34 | 2.197124e+02 | 2.240000e+02 |   1.95%| unknown\n",
      "  0.2s|     1 |     0 |   423 |     - |  7273k |   0 | 150 |  76 | 127 |  32 | 31 |  12 |  34 | 2.197124e+02 | 2.240000e+02 |   1.95%| unknown\n",
      "  0.2s|     1 |     0 |   435 |     - |  7274k |   0 | 150 |  77 | 127 |  32 | 31 |  14 |  35 | 2.197124e+02 | 2.240000e+02 |   1.95%| unknown\n",
      " time | node  | left  |LP iter|LP it/n|mem/heur|mdpt |vars |cons |rows |cuts |sepa|confs|strbr|  dualbound   | primalbound  |  gap   | compl. \n",
      "  0.2s|     1 |     0 |   435 |     - |  7514k |   0 | 150 |  78 | 100 |  32 | 31 |  15 |  35 | 2.197124e+02 | 2.240000e+02 |   1.95%| unknown\n",
      "  0.2s|     1 |     0 |   439 |     - |  7514k |   0 | 150 |  78 | 101 |  33 | 32 |  15 |  35 | 2.197124e+02 | 2.240000e+02 |   1.95%| unknown\n",
      "  0.2s|     1 |     0 |   439 |     - |  7514k |   0 | 150 |  64 | 101 |  33 | 33 |  15 |  35 | 2.197124e+02 | 2.240000e+02 |   1.95%| unknown\n",
      "  0.2s|     1 |     0 |   448 |     - |  7514k |   0 | 150 |  65 | 101 |  33 | 35 |  19 |  37 | 2.197124e+02 | 2.240000e+02 |   1.95%| unknown\n",
      "  0.2s|     1 |     0 |   450 |     - |  7514k |   0 | 150 |  65 | 102 |  34 | 36 |  19 |  37 | 2.197124e+02 | 2.240000e+02 |   1.95%| unknown\n",
      "  0.2s|     1 |     0 |   450 |     - |  7515k |   0 | 150 |  65 |  90 |  34 | 36 |  19 |  37 | 2.197124e+02 | 2.240000e+02 |   1.95%| unknown\n",
      "  0.2s|     1 |     0 |   450 |     - |  7515k |   0 | 150 |  54 |  90 |  34 | 37 |  19 |  37 | 2.197124e+02 | 2.240000e+02 |   1.95%| unknown\n",
      "  0.2s|     1 |     0 |   451 |     - |  7515k |   0 | 150 |  54 |  91 |  35 | 38 |  19 |  37 | 2.197124e+02 | 2.240000e+02 |   1.95%| unknown\n",
      "  0.2s|     1 |     2 |   451 |     - |  7516k |   0 | 150 |  55 |  91 |  35 | 39 |  20 |  37 | 2.197124e+02 | 2.240000e+02 |   1.95%| unknown\n",
      "\n",
      "SCIP Status        : problem is solved [optimal solution found]\n",
      "Solving Time (sec) : 0.25\n",
      "Solving Nodes      : 3\n",
      "Primal Bound       : +2.24000000000000e+02 (107 solutions)\n",
      "Dual Bound         : +2.24000000000000e+02\n",
      "Gap                : 0.00 %\n",
      "original problem has 150 variables (150 bin, 0 int, 0 impl, 0 cont) and 100 constraints\n",
      "feasible solution found by trivial heuristic after 0.0 seconds, objective value 7.589000e+03\n",
      "presolving:\n",
      "   (0.0s) symmetry computation started: requiring (bin +, int -, cont +), (fixed: bin -, int +, cont -)\n",
      "   (0.0s) no symmetry present\n",
      "presolving (0 rounds: 0 fast, 0 medium, 0 exhaustive):\n",
      " 0 deleted vars, 0 deleted constraints, 0 added constraints, 0 tightened bounds, 0 added holes, 0 changed sides, 0 changed coefficients\n",
      " 0 implications, 0 cliques\n",
      "presolved problem has 150 variables (150 bin, 0 int, 0 impl, 0 cont) and 100 constraints\n",
      "    100 constraints of type <linear>\n",
      "transformed objective value is always integral (scale: 1)\n",
      "Presolving Time: 0.00\n",
      "transformed 1/1 original solutions to the transformed problem space\n",
      "\n",
      " time | node  | left  |LP iter|LP it/n|mem/heur|mdpt |vars |cons |rows |cuts |sepa|confs|strbr|  dualbound   | primalbound  |  gap   | compl. \n",
      "p 0.0s|     1 |     0 |     0 |     - |   locks|   0 | 150 | 100 | 100 |   0 |  0 |   0 |   0 | 0.000000e+00 | 5.810000e+02 |    Inf | unknown\n",
      "  0.0s|     1 |     0 |   118 |     - |  2294k |   0 | 150 | 100 | 100 |   0 |  0 |   0 |   0 | 1.666522e+02 | 5.810000e+02 | 248.63%| unknown\n",
      "r 0.0s|     1 |     0 |   118 |     - |simplero|   0 | 150 | 100 | 100 |   0 |  0 |   0 |   0 | 1.666522e+02 | 5.560000e+02 | 233.63%| unknown\n",
      "r 0.0s|     1 |     0 |   118 |     - |rounding|   0 | 150 | 100 | 100 |   0 |  0 |   0 |   0 | 1.666522e+02 | 5.340000e+02 | 220.43%| unknown\n",
      "r 0.0s|     1 |     0 |   118 |     - |shifting|   0 | 150 | 100 | 100 |   0 |  0 |   0 |   0 | 1.666522e+02 | 5.310000e+02 | 218.63%| unknown\n",
      "i 0.0s|     1 |     0 |   118 |     - |  oneopt|   0 | 150 | 100 | 100 |   0 |  0 |   0 |   0 | 1.666522e+02 | 1.900000e+02 |  14.01%| unknown\n",
      "  0.0s|     1 |     0 |   131 |     - |  3046k |   0 | 150 | 100 | 101 |   1 |  1 |   0 |   0 | 1.685102e+02 | 1.900000e+02 |  12.75%| unknown\n",
      "  0.0s|     1 |     0 |   131 |     - |  3046k |   0 | 150 | 100 | 101 |   1 |  1 |   0 |   0 | 1.685102e+02 | 1.900000e+02 |  12.75%| unknown\n",
      "  0.0s|     1 |     0 |   147 |     - |  3498k |   0 | 150 | 100 | 103 |   3 |  2 |   0 |   0 | 1.695062e+02 | 1.900000e+02 |  12.09%| unknown\n",
      "  0.0s|     1 |     0 |   162 |     - |  4048k |   0 | 150 | 100 | 104 |   4 |  3 |   0 |   0 | 1.704242e+02 | 1.900000e+02 |  11.49%| unknown\n",
      "  0.0s|     1 |     0 |   162 |     - |  4049k |   0 | 150 | 100 | 104 |   4 |  3 |   0 |   0 | 1.704242e+02 | 1.900000e+02 |  11.49%| unknown\n",
      "  0.0s|     1 |     0 |   173 |     - |  4397k |   0 | 150 | 100 | 105 |   5 |  4 |   0 |   0 | 1.706348e+02 | 1.900000e+02 |  11.35%| unknown\n",
      "  0.0s|     1 |     0 |   173 |     - |  4406k |   0 | 150 | 100 | 105 |   5 |  4 |   0 |   0 | 1.706348e+02 | 1.900000e+02 |  11.35%| unknown\n",
      "  0.1s|     1 |     0 |   187 |     - |  5262k |   0 | 150 | 100 | 106 |   6 |  5 |   0 |   0 | 1.709412e+02 | 1.900000e+02 |  11.15%| unknown\n",
      "  0.1s|     1 |     0 |   197 |     - |  5728k |   0 | 150 | 100 | 107 |   7 |  6 |   0 |   0 | 1.711811e+02 | 1.900000e+02 |  10.99%| unknown\n",
      " time | node  | left  |LP iter|LP it/n|mem/heur|mdpt |vars |cons |rows |cuts |sepa|confs|strbr|  dualbound   | primalbound  |  gap   | compl. \n",
      "  0.1s|     1 |     0 |   203 |     - |  5756k |   0 | 150 | 100 | 108 |   8 |  7 |   0 |   0 | 1.712335e+02 | 1.900000e+02 |  10.96%| unknown\n",
      "  0.1s|     1 |     0 |   216 |     - |  6816k |   0 | 150 | 100 | 109 |   9 |  8 |   0 |   0 | 1.715599e+02 | 1.900000e+02 |  10.75%| unknown\n",
      "  0.1s|     1 |     0 |   226 |     - |  7436k |   0 | 150 | 100 | 110 |  10 |  9 |   0 |   0 | 1.716035e+02 | 1.900000e+02 |  10.72%| unknown\n",
      "  0.1s|     1 |     0 |   233 |     - |  8489k |   0 | 150 | 100 | 111 |  11 | 10 |   0 |   0 | 1.716109e+02 | 1.900000e+02 |  10.72%| unknown\n",
      "  0.1s|     1 |     0 |   238 |     - |  8501k |   0 | 150 | 100 | 112 |  12 | 11 |   0 |   0 | 1.716708e+02 | 1.900000e+02 |  10.68%| unknown\n",
      "  0.1s|     1 |     0 |   245 |     - |  8529k |   0 | 150 | 100 | 113 |  13 | 12 |   0 |   0 | 1.717087e+02 | 1.900000e+02 |  10.65%| unknown\n",
      "  0.1s|     1 |     0 |   249 |     - |  8556k |   0 | 150 | 100 | 114 |  14 | 13 |   0 |   0 | 1.717321e+02 | 1.900000e+02 |  10.64%| unknown\n",
      "  0.1s|     1 |     0 |   253 |     - |  8573k |   0 | 150 | 100 | 115 |  15 | 14 |   0 |   0 | 1.717797e+02 | 1.900000e+02 |  10.61%| unknown\n",
      "  0.1s|     1 |     0 |   258 |     - |  8585k |   0 | 150 | 100 | 116 |  16 | 15 |   0 |   0 | 1.718470e+02 | 1.900000e+02 |  10.56%| unknown\n",
      "  0.1s|     1 |     0 |   267 |     - |  8609k |   0 | 150 | 100 | 117 |  17 | 16 |   0 |   0 | 1.719173e+02 | 1.900000e+02 |  10.52%| unknown\n",
      "  0.1s|     1 |     0 |   289 |     - |  8634k |   0 | 150 | 100 | 118 |  18 | 17 |   0 |   0 | 1.721622e+02 | 1.900000e+02 |  10.36%| unknown\n",
      "  0.1s|     1 |     0 |   304 |     - |  8651k |   0 | 150 | 100 | 119 |  19 | 18 |   0 |   0 | 1.723239e+02 | 1.900000e+02 |  10.26%| unknown\n",
      "  0.1s|     1 |     0 |   314 |     - |  8663k |   0 | 150 | 100 | 120 |  20 | 19 |   0 |   0 | 1.724082e+02 | 1.900000e+02 |  10.20%| unknown\n",
      "  0.2s|     1 |     0 |   330 |     - |  8700k |   0 | 150 | 100 | 121 |  21 | 20 |   0 |   0 | 1.724966e+02 | 1.900000e+02 |  10.15%| unknown\n",
      "  0.2s|     1 |     0 |   337 |     - |  8701k |   0 | 150 | 100 | 122 |  22 | 21 |   0 |   0 | 1.725630e+02 | 1.900000e+02 |  10.10%| unknown\n",
      " time | node  | left  |LP iter|LP it/n|mem/heur|mdpt |vars |cons |rows |cuts |sepa|confs|strbr|  dualbound   | primalbound  |  gap   | compl. \n",
      "  0.2s|     1 |     0 |   347 |     - |  8702k |   0 | 150 | 100 | 123 |  23 | 22 |   0 |   0 | 1.725921e+02 | 1.900000e+02 |  10.09%| unknown\n",
      "  0.2s|     1 |     0 |   362 |     - |  8703k |   0 | 150 | 100 | 123 |  24 | 23 |   0 |   0 | 1.727280e+02 | 1.900000e+02 |  10.00%| unknown\n",
      "  0.2s|     1 |     0 |   370 |     - |  8703k |   0 | 150 | 100 | 124 |  25 | 24 |   0 |   0 | 1.728120e+02 | 1.900000e+02 |   9.95%| unknown\n",
      "  0.2s|     1 |     0 |   380 |     - |  8704k |   0 | 150 | 100 | 125 |  26 | 25 |   0 |   0 | 1.728574e+02 | 1.900000e+02 |   9.92%| unknown\n",
      "  0.2s|     1 |     0 |   383 |     - |  8752k |   0 | 150 | 100 | 126 |  27 | 26 |   0 |   0 | 1.728828e+02 | 1.900000e+02 |   9.90%| unknown\n",
      "d 0.2s|     1 |     0 |   533 |     - |farkasdi|   0 | 150 | 102 | 126 |   0 | 28 |   2 |   0 | 1.728828e+02 | 1.890000e+02 |   9.32%| unknown\n",
      "L 0.2s|     1 |     0 |   637 |     - |    rens|   0 | 150 | 103 | 126 |  27 | 28 |   3 |   0 | 1.728828e+02 | 1.810000e+02 |   4.70%| unknown\n",
      "  0.2s|     1 |     0 |   637 |     - |  9000k |   0 | 150 | 103 | 126 |  27 | 28 |   3 |   0 | 1.728828e+02 | 1.810000e+02 |   4.70%| unknown\n",
      "  0.2s|     1 |     0 |   637 |     - |  9000k |   0 | 150 | 103 | 126 |  27 | 28 |   3 |   0 | 1.728828e+02 | 1.810000e+02 |   4.70%| unknown\n",
      "  0.2s|     1 |     0 |   638 |     - |  9000k |   0 | 150 | 103 | 127 |  28 | 29 |   3 |   0 | 1.728838e+02 | 1.810000e+02 |   4.69%| unknown\n",
      "  0.2s|     1 |     0 |   639 |     - |  9009k |   0 | 150 | 103 | 128 |  29 | 30 |   3 |   0 | 1.728840e+02 | 1.810000e+02 |   4.69%| unknown\n",
      "  0.3s|     1 |     0 |   656 |     - |  9585k |   0 | 150 | 107 | 128 |  29 | 30 |  13 |  27 | 1.742419e+02 | 1.810000e+02 |   3.88%| unknown\n",
      "  0.3s|     1 |     0 |   661 |     - |  9585k |   0 | 150 | 108 | 129 |  30 | 31 |  14 |  27 | 1.742419e+02 | 1.810000e+02 |   3.88%| unknown\n",
      "  0.3s|     1 |     0 |   667 |     - |  9587k |   0 | 150 | 110 | 130 |  31 | 32 |  16 |  27 | 1.742419e+02 | 1.810000e+02 |   3.88%| unknown\n",
      "  0.3s|     1 |     0 |   686 |     - |  9588k |   0 | 150 | 118 | 130 |  31 | 32 |  29 |  34 | 1.742419e+02 | 1.810000e+02 |   3.88%| unknown\n",
      " time | node  | left  |LP iter|LP it/n|mem/heur|mdpt |vars |cons |rows |cuts |sepa|confs|strbr|  dualbound   | primalbound  |  gap   | compl. \n",
      "  0.3s|     1 |     0 |   686 |     - |  9589k |   0 | 150 | 119 |  99 |  31 | 32 |  30 |  34 | 1.742419e+02 | 1.810000e+02 |   3.88%| unknown\n",
      "  0.3s|     1 |     0 |   687 |     - |  9604k |   0 | 150 | 119 | 100 |  32 | 33 |  30 |  34 | 1.742419e+02 | 1.810000e+02 |   3.88%| unknown\n",
      "  0.3s|     1 |     0 |   687 |     - |  9604k |   0 | 150 |  95 | 100 |  32 | 34 |  30 |  34 | 1.742419e+02 | 1.810000e+02 |   3.88%| unknown\n",
      "  0.3s|     1 |     0 |   690 |     - |  9604k |   0 | 150 |  96 | 100 |  32 | 36 |  32 |  36 | 1.750000e+02 | 1.810000e+02 |   3.43%| unknown\n",
      "  0.3s|     1 |     2 |   690 |     - |  9604k |   0 | 150 |  98 | 100 |  32 | 38 |  34 |  36 | 1.750000e+02 | 1.810000e+02 |   3.43%| unknown\n",
      "\n",
      "SCIP Status        : problem is solved [optimal solution found]\n",
      "Solving Time (sec) : 0.29\n",
      "Solving Nodes      : 3\n",
      "Primal Bound       : +1.81000000000000e+02 (111 solutions)\n",
      "Dual Bound         : +1.81000000000000e+02\n",
      "Gap                : 0.00 %\n",
      "original problem has 150 variables (150 bin, 0 int, 0 impl, 0 cont) and 100 constraints\n",
      "feasible solution found by trivial heuristic after 0.0 seconds, objective value 7.031000e+03\n",
      "presolving:\n",
      "   (0.0s) symmetry computation started: requiring (bin +, int -, cont +), (fixed: bin -, int +, cont -)\n",
      "   (0.0s) no symmetry present\n",
      "presolving (0 rounds: 0 fast, 0 medium, 0 exhaustive):\n",
      " 0 deleted vars, 0 deleted constraints, 0 added constraints, 0 tightened bounds, 0 added holes, 0 changed sides, 0 changed coefficients\n",
      " 0 implications, 0 cliques\n",
      "presolved problem has 150 variables (150 bin, 0 int, 0 impl, 0 cont) and 100 constraints\n",
      "    100 constraints of type <linear>\n",
      "transformed objective value is always integral (scale: 1)\n",
      "Presolving Time: 0.00\n",
      "transformed 1/1 original solutions to the transformed problem space\n",
      "\n",
      " time | node  | left  |LP iter|LP it/n|mem/heur|mdpt |vars |cons |rows |cuts |sepa|confs|strbr|  dualbound   | primalbound  |  gap   | compl. \n",
      "p 0.0s|     1 |     0 |     0 |     - |   locks|   0 | 150 | 100 | 100 |   0 |  0 |   0 |   0 | 0.000000e+00 | 4.670000e+02 |    Inf | unknown\n",
      "  0.0s|     1 |     0 |    48 |     - |  2391k |   0 | 150 | 100 | 100 |   0 |  0 |   0 |   0 | 6.904167e+01 | 4.670000e+02 | 576.40%| unknown\n",
      "r 0.0s|     1 |     0 |    48 |     - |simplero|   0 | 150 | 100 | 100 |   0 |  0 |   0 |   0 | 6.904167e+01 | 2.080000e+02 | 201.27%| unknown\n",
      "r 0.0s|     1 |     0 |    48 |     - |rounding|   0 | 150 | 100 | 100 |   0 |  0 |   0 |   0 | 6.904167e+01 | 1.990000e+02 | 188.23%| unknown\n",
      "r 0.0s|     1 |     0 |    48 |     - |shifting|   0 | 150 | 100 | 100 |   0 |  0 |   0 |   0 | 6.904167e+01 | 1.900000e+02 | 175.20%| unknown\n",
      "i 0.0s|     1 |     0 |    48 |     - |  oneopt|   0 | 150 | 100 | 100 |   0 |  0 |   0 |   0 | 6.904167e+01 | 8.000000e+01 |  15.87%| unknown\n",
      "  0.0s|     1 |     0 |    65 |     - |  2890k |   0 | 150 | 100 | 101 |   1 |  1 |   0 |   0 | 7.129412e+01 | 8.000000e+01 |  12.21%| unknown\n",
      "  0.0s|     1 |     0 |    65 |     - |  2891k |   0 | 150 | 100 | 101 |   1 |  1 |   0 |   0 | 7.129412e+01 | 8.000000e+01 |  12.21%| unknown\n",
      "  0.0s|     1 |     0 |    65 |     - |  2891k |   0 | 150 | 100 | 101 |   1 |  1 |   0 |   0 | 7.129412e+01 | 8.000000e+01 |  12.21%| unknown\n",
      "  0.0s|     1 |     0 |    69 |     - |  2941k |   0 | 150 | 100 | 102 |   2 |  2 |   0 |   0 | 7.139474e+01 | 8.000000e+01 |  12.05%| unknown\n",
      "  0.0s|     1 |     0 |    69 |     - |  2942k |   0 | 150 | 100 | 102 |   2 |  2 |   0 |   0 | 7.139474e+01 | 8.000000e+01 |  12.05%| unknown\n",
      "  0.0s|     1 |     0 |    76 |     - |  3162k |   0 | 150 | 100 | 103 |   3 |  3 |   0 |   0 | 7.185714e+01 | 8.000000e+01 |  11.33%| unknown\n",
      "  0.0s|     1 |     0 |    81 |     - |  3222k |   0 | 150 | 100 | 104 |   4 |  5 |   0 |   0 | 7.200000e+01 | 8.000000e+01 |  11.11%| unknown\n",
      "  0.0s|     1 |     0 |    81 |     - |  3223k |   0 | 150 | 100 | 104 |   4 |  5 |   0 |   0 | 7.200000e+01 | 8.000000e+01 |  11.11%| unknown\n",
      "  0.0s|     1 |     0 |    92 |     - |  3234k |   0 | 150 | 100 | 105 |   5 |  6 |   0 |   0 | 7.228814e+01 | 8.000000e+01 |  10.67%| unknown\n",
      " time | node  | left  |LP iter|LP it/n|mem/heur|mdpt |vars |cons |rows |cuts |sepa|confs|strbr|  dualbound   | primalbound  |  gap   | compl. \n",
      "  0.0s|     1 |     0 |    97 |     - |  3429k |   0 | 150 | 100 | 106 |   6 |  7 |   0 |   0 | 7.235211e+01 | 8.000000e+01 |  10.57%| unknown\n",
      "  0.1s|     1 |     0 |   106 |     - |  3661k |   0 | 150 | 100 | 107 |   7 |  8 |   0 |   0 | 7.247539e+01 | 8.000000e+01 |  10.38%| unknown\n",
      "  0.1s|     1 |     0 |   115 |     - |  3872k |   0 | 150 | 100 | 109 |   9 |  9 |   0 |   0 | 7.266869e+01 | 8.000000e+01 |  10.09%| unknown\n",
      "  0.1s|     1 |     0 |   122 |     - |  4586k |   0 | 150 | 100 | 110 |  10 | 10 |   0 |   0 | 7.287308e+01 | 8.000000e+01 |   9.78%| unknown\n",
      "  0.1s|     1 |     0 |   126 |     - |  4663k |   0 | 150 | 100 | 111 |  11 | 11 |   0 |   0 | 7.291239e+01 | 8.000000e+01 |   9.72%| unknown\n",
      "  0.1s|     1 |     0 |   133 |     - |  4679k |   0 | 150 | 100 | 112 |  12 | 12 |   0 |   0 | 7.303521e+01 | 8.000000e+01 |   9.54%| unknown\n",
      "  0.1s|     1 |     0 |   137 |     - |  4691k |   0 | 150 | 100 | 113 |  13 | 13 |   0 |   0 | 7.306071e+01 | 8.000000e+01 |   9.50%| unknown\n",
      "  0.1s|     1 |     0 |   141 |     - |  4703k |   0 | 150 | 100 | 114 |  14 | 14 |   0 |   0 | 7.308974e+01 | 8.000000e+01 |   9.45%| unknown\n",
      "  0.1s|     1 |     0 |   143 |     - |  4722k |   0 | 150 | 100 | 115 |  15 | 15 |   0 |   0 | 7.322222e+01 | 8.000000e+01 |   9.26%| unknown\n",
      "  0.1s|     1 |     0 |   151 |     - |  4734k |   0 | 150 | 100 | 116 |  16 | 16 |   0 |   0 | 7.334641e+01 | 8.000000e+01 |   9.07%| unknown\n",
      "  0.1s|     1 |     0 |   161 |     - |  4761k |   0 | 150 | 100 | 117 |  17 | 17 |   0 |   0 | 7.347222e+01 | 8.000000e+01 |   8.88%| unknown\n",
      "  0.1s|     1 |     0 |   177 |     - |  4774k |   0 | 150 | 100 | 116 |  18 | 18 |   0 |   0 | 7.401680e+01 | 8.000000e+01 |   8.08%| unknown\n",
      "  0.2s|     1 |     0 |   192 |     - |  4786k |   0 | 150 | 100 | 117 |  19 | 19 |   0 |   0 | 7.428125e+01 | 8.000000e+01 |   7.70%| unknown\n",
      "  0.2s|     1 |     0 |   198 |     - |  4786k |   0 | 150 | 100 | 118 |  20 | 20 |   0 |   0 | 7.430702e+01 | 8.000000e+01 |   7.66%| unknown\n",
      "  0.2s|     1 |     0 |   204 |     - |  4808k |   0 | 150 | 100 | 119 |  21 | 21 |   0 |   0 | 7.433333e+01 | 8.000000e+01 |   7.62%| unknown\n",
      " time | node  | left  |LP iter|LP it/n|mem/heur|mdpt |vars |cons |rows |cuts |sepa|confs|strbr|  dualbound   | primalbound  |  gap   | compl. \n",
      "  0.2s|     1 |     0 |   211 |     - |  4809k |   0 | 150 | 100 | 120 |  22 | 22 |   0 |   0 | 7.437734e+01 | 8.000000e+01 |   7.56%| unknown\n",
      "  0.2s|     1 |     0 |   212 |     - |  4810k |   0 | 150 | 100 | 121 |  23 | 23 |   0 |   0 | 7.437734e+01 | 8.000000e+01 |   7.56%| unknown\n",
      "  0.2s|     1 |     0 |   218 |     - |  4811k |   0 | 150 | 100 | 120 |  24 | 24 |   0 |   0 | 7.441233e+01 | 8.000000e+01 |   7.51%| unknown\n",
      "  0.2s|     1 |     0 |   227 |     - |  4811k |   0 | 150 | 100 | 121 |  25 | 25 |   0 |   0 | 7.450356e+01 | 8.000000e+01 |   7.38%| unknown\n",
      "  0.2s|     1 |     0 |   230 |     - |  4811k |   0 | 150 | 100 | 122 |  26 | 26 |   0 |   0 | 7.454711e+01 | 8.000000e+01 |   7.31%| unknown\n",
      "  0.2s|     1 |     0 |   233 |     - |  4812k |   0 | 150 | 100 | 123 |  27 | 27 |   0 |   0 | 7.455393e+01 | 8.000000e+01 |   7.30%| unknown\n",
      "  0.2s|     1 |     0 |   240 |     - |  4821k |   0 | 150 | 100 | 124 |  28 | 28 |   0 |   0 | 7.458159e+01 | 8.000000e+01 |   7.27%| unknown\n",
      "  0.2s|     1 |     0 |   247 |     - |  4822k |   0 | 150 | 100 | 125 |  29 | 29 |   0 |   0 | 7.460322e+01 | 8.000000e+01 |   7.23%| unknown\n",
      "  0.2s|     1 |     0 |   248 |     - |  4838k |   0 | 150 | 100 | 123 |  30 | 30 |   0 |   0 | 7.460422e+01 | 8.000000e+01 |   7.23%| unknown\n",
      "  0.2s|     1 |     0 |   253 |     - |  4838k |   0 | 150 | 100 | 124 |  31 | 31 |   0 |   0 | 7.461296e+01 | 8.000000e+01 |   7.22%| unknown\n",
      "d 0.2s|     1 |     0 |   323 |     - |farkasdi|   0 | 150 | 103 | 124 |   0 | 33 |   3 |   0 | 7.461296e+01 | 7.800000e+01 |   4.54%| unknown\n",
      "L 0.2s|     1 |     0 |   335 |     - |    rens|   0 | 150 | 108 | 124 |  31 | 33 |   8 |   0 | 7.461296e+01 | 7.700000e+01 |   3.20%| unknown\n",
      "  0.2s|     1 |     0 |   335 |     - |  5156k |   0 | 150 | 108 | 124 |  31 | 33 |   8 |   0 | 7.461296e+01 | 7.700000e+01 |   3.20%| unknown\n",
      "  0.2s|     1 |     0 |   335 |     - |  5156k |   0 | 150 | 108 | 124 |  31 | 33 |   8 |   0 | 7.461296e+01 | 7.700000e+01 |   3.20%| unknown\n",
      "  0.2s|     1 |     0 |   335 |     - |  5156k |   0 | 150 |  88 | 124 |  31 | 35 |   8 |   0 | 7.461296e+01 | 7.700000e+01 |   3.20%| unknown\n",
      " time | node  | left  |LP iter|LP it/n|mem/heur|mdpt |vars |cons |rows |cuts |sepa|confs|strbr|  dualbound   | primalbound  |  gap   | compl. \n",
      "  0.2s|     1 |     0 |   336 |     - |  5156k |   0 | 150 |  88 | 125 |  32 | 36 |   8 |   0 | 7.461511e+01 | 7.700000e+01 |   3.20%| unknown\n",
      "  0.2s|     1 |     0 |   345 |     - |  5267k |   0 | 150 |  94 | 125 |  32 | 37 |  19 |   7 | 7.700000e+01 | 7.700000e+01 |   0.00%| unknown\n",
      "\n",
      "SCIP Status        : problem is solved [optimal solution found]\n",
      "Solving Time (sec) : 0.22\n",
      "Solving Nodes      : 1\n",
      "Primal Bound       : +7.70000000000000e+01 (54 solutions)\n",
      "Dual Bound         : +7.70000000000000e+01\n",
      "Gap                : 0.00 %\n",
      "original problem has 200 variables (200 bin, 0 int, 0 impl, 0 cont) and 100 constraints\n",
      "feasible solution found by trivial heuristic after 0.0 seconds, objective value 9.463000e+03\n",
      "presolving:\n",
      "   (0.0s) symmetry computation started: requiring (bin +, int -, cont +), (fixed: bin -, int +, cont -)\n",
      "   (0.0s) no symmetry present\n",
      "presolving (0 rounds: 0 fast, 0 medium, 0 exhaustive):\n",
      " 0 deleted vars, 0 deleted constraints, 0 added constraints, 0 tightened bounds, 0 added holes, 0 changed sides, 0 changed coefficients\n",
      " 0 implications, 0 cliques\n",
      "presolved problem has 200 variables (200 bin, 0 int, 0 impl, 0 cont) and 100 constraints\n",
      "    100 constraints of type <linear>\n",
      "transformed objective value is always integral (scale: 1)\n",
      "Presolving Time: 0.00\n",
      "transformed 1/1 original solutions to the transformed problem space\n",
      "\n",
      " time | node  | left  |LP iter|LP it/n|mem/heur|mdpt |vars |cons |rows |cuts |sepa|confs|strbr|  dualbound   | primalbound  |  gap   | compl. \n",
      "p 0.0s|     1 |     0 |     0 |     - |   locks|   0 | 200 | 100 | 100 |   0 |  0 |   0 |   0 | 0.000000e+00 | 7.690000e+02 |    Inf | unknown\n",
      "  0.0s|     1 |     0 |    93 |     - |  2380k |   0 | 200 | 100 | 100 |   0 |  0 |   0 |   0 | 1.415000e+02 | 7.690000e+02 | 443.46%| unknown\n",
      "r 0.0s|     1 |     0 |    93 |     - |simplero|   0 | 200 | 100 | 100 |   0 |  0 |   0 |   0 | 1.415000e+02 | 2.830000e+02 | 100.00%| unknown\n",
      "r 0.0s|     1 |     0 |    93 |     - |rounding|   0 | 200 | 100 | 100 |   0 |  0 |   0 |   0 | 1.415000e+02 | 2.600000e+02 |  83.75%| unknown\n",
      "r 0.0s|     1 |     0 |    93 |     - |shifting|   0 | 200 | 100 | 100 |   0 |  0 |   0 |   0 | 1.415000e+02 | 2.440000e+02 |  72.44%| unknown\n",
      "i 0.0s|     1 |     0 |    93 |     - |  oneopt|   0 | 200 | 100 | 100 |   0 |  0 |   0 |   0 | 1.415000e+02 | 1.670000e+02 |  18.02%| unknown\n",
      "  0.0s|     1 |     0 |   106 |     - |  3237k |   0 | 200 | 100 | 101 |   1 |  1 |   0 |   0 | 1.456777e+02 | 1.670000e+02 |  14.64%| unknown\n",
      "  0.0s|     1 |     0 |   106 |     - |  3238k |   0 | 200 | 100 | 101 |   1 |  1 |   0 |   0 | 1.456777e+02 | 1.670000e+02 |  14.64%| unknown\n",
      "  0.0s|     1 |     0 |   118 |     - |  3756k |   0 | 200 | 100 | 103 |   3 |  2 |   0 |   0 | 1.467216e+02 | 1.670000e+02 |  13.82%| unknown\n",
      "  0.0s|     1 |     0 |   118 |     - |  3757k |   0 | 200 | 100 | 103 |   3 |  2 |   0 |   0 | 1.467216e+02 | 1.670000e+02 |  13.82%| unknown\n",
      "  0.0s|     1 |     0 |   125 |     - |  3882k |   0 | 200 | 100 | 104 |   4 |  3 |   0 |   0 | 1.469179e+02 | 1.670000e+02 |  13.67%| unknown\n",
      "  0.0s|     1 |     0 |   125 |     - |  3883k |   0 | 200 | 100 | 104 |   4 |  3 |   0 |   0 | 1.469179e+02 | 1.670000e+02 |  13.67%| unknown\n",
      "  0.1s|     1 |     0 |   129 |     - |  4331k |   0 | 200 | 100 | 105 |   5 |  4 |   0 |   0 | 1.469271e+02 | 1.670000e+02 |  13.66%| unknown\n",
      "  0.1s|     1 |     0 |   133 |     - |  4666k |   0 | 200 | 100 | 106 |   6 |  5 |   0 |   0 | 1.469355e+02 | 1.670000e+02 |  13.66%| unknown\n",
      "  0.1s|     1 |     0 |   139 |     - |  4736k |   0 | 200 | 100 | 107 |   7 |  6 |   0 |   0 | 1.469399e+02 | 1.670000e+02 |  13.65%| unknown\n",
      " time | node  | left  |LP iter|LP it/n|mem/heur|mdpt |vars |cons |rows |cuts |sepa|confs|strbr|  dualbound   | primalbound  |  gap   | compl. \n",
      "  0.1s|     1 |     0 |   142 |     - |  5354k |   0 | 200 | 100 | 108 |   8 |  7 |   0 |   0 | 1.469523e+02 | 1.670000e+02 |  13.64%| unknown\n",
      "  0.1s|     1 |     0 |   148 |     - |  5365k |   0 | 200 | 100 | 109 |   9 |  8 |   0 |   0 | 1.469816e+02 | 1.670000e+02 |  13.62%| unknown\n",
      "  0.1s|     1 |     0 |   155 |     - |  5627k |   0 | 200 | 100 | 110 |  10 |  9 |   0 |   0 | 1.470048e+02 | 1.670000e+02 |  13.60%| unknown\n",
      "  0.1s|     1 |     0 |   159 |     - |  5638k |   0 | 200 | 100 | 111 |  11 | 10 |   0 |   0 | 1.470051e+02 | 1.670000e+02 |  13.60%| unknown\n",
      "  0.1s|     1 |     0 |   169 |     - |  5650k |   0 | 200 | 100 | 112 |  12 | 11 |   0 |   0 | 1.470949e+02 | 1.670000e+02 |  13.53%| unknown\n",
      "  0.1s|     1 |     0 |   176 |     - |  5663k |   0 | 200 | 100 | 113 |  13 | 12 |   0 |   0 | 1.471289e+02 | 1.670000e+02 |  13.51%| unknown\n",
      "  0.1s|     1 |     0 |   177 |     - |  5675k |   0 | 200 | 100 | 114 |  14 | 13 |   0 |   0 | 1.471321e+02 | 1.670000e+02 |  13.50%| unknown\n",
      "  0.1s|     1 |     0 |   182 |     - |  5687k |   0 | 200 | 100 | 115 |  15 | 14 |   0 |   0 | 1.471730e+02 | 1.670000e+02 |  13.47%| unknown\n",
      "  0.1s|     1 |     0 |   186 |     - |  5699k |   0 | 200 | 100 | 116 |  16 | 15 |   0 |   0 | 1.471867e+02 | 1.670000e+02 |  13.46%| unknown\n",
      "  0.1s|     1 |     0 |   199 |     - |  5719k |   0 | 200 | 100 | 117 |  17 | 16 |   0 |   0 | 1.474650e+02 | 1.670000e+02 |  13.25%| unknown\n",
      "  0.1s|     1 |     0 |   207 |     - |  5732k |   0 | 200 | 100 | 118 |  18 | 17 |   0 |   0 | 1.475945e+02 | 1.670000e+02 |  13.15%| unknown\n",
      "  0.1s|     1 |     0 |   213 |     - |  5772k |   0 | 200 | 100 | 119 |  19 | 18 |   0 |   0 | 1.477500e+02 | 1.670000e+02 |  13.03%| unknown\n",
      "  0.1s|     1 |     0 |   220 |     - |  5784k |   0 | 200 | 100 | 120 |  20 | 19 |   0 |   0 | 1.478221e+02 | 1.670000e+02 |  12.97%| unknown\n",
      "  0.1s|     1 |     0 |   230 |     - |  5797k |   0 | 200 | 100 | 121 |  21 | 20 |   0 |   0 | 1.479106e+02 | 1.670000e+02 |  12.91%| unknown\n",
      "d 0.1s|     1 |     0 |   328 |     - |farkasdi|   0 | 200 | 100 | 121 |   0 | 22 |   0 |   0 | 1.479106e+02 | 1.600000e+02 |   8.17%| unknown\n",
      " time | node  | left  |LP iter|LP it/n|mem/heur|mdpt |vars |cons |rows |cuts |sepa|confs|strbr|  dualbound   | primalbound  |  gap   | compl. \n",
      "L 0.2s|     1 |     0 |   328 |     - |    rens|   0 | 200 | 100 | 121 |  21 | 22 |   0 |   0 | 1.479106e+02 | 1.500000e+02 |   1.41%| unknown\n",
      "  0.2s|     1 |     0 |   328 |     - |  5799k |   0 | 200 | 100 | 121 |  21 | 22 |   0 |   0 | 1.479106e+02 | 1.500000e+02 |   1.41%| unknown\n",
      "  0.2s|     1 |     0 |   328 |     - |  5799k |   0 | 200 | 100 | 121 |  21 | 22 |   0 |   0 | 1.479106e+02 | 1.500000e+02 |   1.41%| unknown\n",
      "  0.2s|     1 |     0 |   331 |     - |  5799k |   0 | 200 | 100 | 122 |  22 | 23 |   0 |   0 | 1.479162e+02 | 1.500000e+02 |   1.41%| unknown\n",
      "  0.2s|     1 |     0 |   340 |     - |  5830k |   0 | 200 | 103 | 122 |  22 | 24 |   6 |   3 | 1.500000e+02 | 1.500000e+02 |   0.00%| unknown\n",
      "\n",
      "SCIP Status        : problem is solved [optimal solution found]\n",
      "Solving Time (sec) : 0.17\n",
      "Solving Nodes      : 1\n",
      "Primal Bound       : +1.50000000000000e+02 (38 solutions)\n",
      "Dual Bound         : +1.50000000000000e+02\n",
      "Gap                : 0.00 %\n",
      "original problem has 200 variables (200 bin, 0 int, 0 impl, 0 cont) and 100 constraints\n",
      "feasible solution found by trivial heuristic after 0.0 seconds, objective value 1.036500e+04\n",
      "presolving:\n",
      "   (0.0s) symmetry computation started: requiring (bin +, int -, cont +), (fixed: bin -, int +, cont -)\n",
      "   (0.0s) no symmetry present\n",
      "presolving (0 rounds: 0 fast, 0 medium, 0 exhaustive):\n",
      " 0 deleted vars, 0 deleted constraints, 0 added constraints, 0 tightened bounds, 0 added holes, 0 changed sides, 0 changed coefficients\n",
      " 0 implications, 0 cliques\n",
      "presolved problem has 200 variables (200 bin, 0 int, 0 impl, 0 cont) and 100 constraints\n",
      "    100 constraints of type <linear>\n",
      "transformed objective value is always integral (scale: 1)\n",
      "Presolving Time: 0.00\n",
      "transformed 1/1 original solutions to the transformed problem space\n",
      "\n",
      " time | node  | left  |LP iter|LP it/n|mem/heur|mdpt |vars |cons |rows |cuts |sepa|confs|strbr|  dualbound   | primalbound  |  gap   | compl. \n",
      "p 0.0s|     1 |     0 |     0 |     - |   locks|   0 | 200 | 100 | 100 |   0 |  0 |   0 |   0 | 0.000000e+00 | 5.820000e+02 |    Inf | unknown\n",
      "  0.0s|     1 |     0 |    58 |     - |  2606k |   0 | 200 | 100 | 100 |   0 |  0 |   0 |   0 | 1.156364e+02 | 5.820000e+02 | 403.30%| unknown\n",
      "r 0.0s|     1 |     0 |    58 |     - |simplero|   0 | 200 | 100 | 100 |   0 |  0 |   0 |   0 | 1.156364e+02 | 3.050000e+02 | 163.76%| unknown\n",
      "r 0.0s|     1 |     0 |    58 |     - |rounding|   0 | 200 | 100 | 100 |   0 |  0 |   0 |   0 | 1.156364e+02 | 2.970000e+02 | 156.84%| unknown\n",
      "r 0.0s|     1 |     0 |    58 |     - |shifting|   0 | 200 | 100 | 100 |   0 |  0 |   0 |   0 | 1.156364e+02 | 2.940000e+02 | 154.25%| unknown\n",
      "i 0.0s|     1 |     0 |    58 |     - |  oneopt|   0 | 200 | 100 | 100 |   0 |  0 |   0 |   0 | 1.156364e+02 | 1.300000e+02 |  12.42%| unknown\n",
      "  0.0s|     1 |     0 |    66 |     - |  3140k |   0 | 200 | 100 | 101 |   1 |  1 |   0 |   0 | 1.160000e+02 | 1.300000e+02 |  12.07%| unknown\n",
      "  0.0s|     1 |     0 |    66 |     - |  3157k |   0 | 200 | 100 | 101 |   1 |  1 |   0 |   0 | 1.160000e+02 | 1.300000e+02 |  12.07%| unknown\n",
      "  0.0s|     1 |     0 |    74 |     - |  3448k |   0 | 200 | 100 | 102 |   2 |  2 |   0 |   0 | 1.161746e+02 | 1.300000e+02 |  11.90%| unknown\n",
      "  0.0s|     1 |     0 |    74 |     - |  3449k |   0 | 200 | 100 | 102 |   2 |  2 |   0 |   0 | 1.161746e+02 | 1.300000e+02 |  11.90%| unknown\n",
      "  0.0s|     1 |     0 |    76 |     - |  3660k |   0 | 200 | 100 | 103 |   3 |  3 |   0 |   0 | 1.163770e+02 | 1.300000e+02 |  11.71%| unknown\n",
      "  0.0s|     1 |     0 |    81 |     - |  3671k |   0 | 200 | 100 | 104 |   4 |  4 |   0 |   0 | 1.167500e+02 | 1.300000e+02 |  11.35%| unknown\n",
      "  0.0s|     1 |     0 |    85 |     - |  3997k |   0 | 200 | 100 | 105 |   5 |  5 |   0 |   0 | 1.169231e+02 | 1.300000e+02 |  11.18%| unknown\n",
      "  0.1s|     1 |     0 |    94 |     - |  4115k |   0 | 200 | 100 | 106 |   6 |  6 |   0 |   0 | 1.170833e+02 | 1.300000e+02 |  11.03%| unknown\n",
      "  0.1s|     1 |     0 |    94 |     - |  4116k |   0 | 200 | 100 | 106 |   6 |  6 |   0 |   0 | 1.170833e+02 | 1.300000e+02 |  11.03%| unknown\n",
      " time | node  | left  |LP iter|LP it/n|mem/heur|mdpt |vars |cons |rows |cuts |sepa|confs|strbr|  dualbound   | primalbound  |  gap   | compl. \n",
      "  0.1s|     1 |     0 |    99 |     - |  4544k |   0 | 200 | 100 | 107 |   7 |  7 |   0 |   0 | 1.172000e+02 | 1.300000e+02 |  10.92%| unknown\n",
      "  0.1s|     1 |     0 |   112 |     - |  5280k |   0 | 200 | 100 | 109 |   9 |  8 |   0 |   0 | 1.178293e+02 | 1.300000e+02 |  10.33%| unknown\n",
      "  0.1s|     1 |     0 |   112 |     - |  5281k |   0 | 200 | 100 | 109 |   9 |  8 |   0 |   0 | 1.178293e+02 | 1.300000e+02 |  10.33%| unknown\n",
      "  0.1s|     1 |     0 |   117 |     - |  5438k |   0 | 200 | 100 | 110 |  10 |  9 |   0 |   0 | 1.178987e+02 | 1.300000e+02 |  10.26%| unknown\n",
      "  0.1s|     1 |     0 |   123 |     - |  6204k |   0 | 200 | 100 | 111 |  11 | 10 |   0 |   0 | 1.179400e+02 | 1.300000e+02 |  10.23%| unknown\n",
      "  0.1s|     1 |     0 |   124 |     - |  6215k |   0 | 200 | 100 | 112 |  12 | 11 |   0 |   0 | 1.179554e+02 | 1.300000e+02 |  10.21%| unknown\n",
      "  0.1s|     1 |     0 |   126 |     - |  6227k |   0 | 200 | 100 | 113 |  13 | 12 |   0 |   0 | 1.179561e+02 | 1.300000e+02 |  10.21%| unknown\n",
      "  0.1s|     1 |     0 |   139 |     - |  6239k |   0 | 200 | 100 | 114 |  14 | 13 |   0 |   0 | 1.183189e+02 | 1.300000e+02 |   9.87%| unknown\n",
      "  0.1s|     1 |     0 |   139 |     - |  6239k |   0 | 200 | 100 | 114 |  14 | 13 |   0 |   0 | 1.183189e+02 | 1.300000e+02 |   9.87%| unknown\n",
      "  0.1s|     1 |     0 |   148 |     - | "
     ]
    },
    {
     "ename": "KeyboardInterrupt",
     "evalue": "",
     "output_type": "error",
     "traceback": [
      "\u001b[0;31m---------------------------------------------------------------------------\u001b[0m",
      "\u001b[0;31mKeyboardInterrupt\u001b[0m                         Traceback (most recent call last)",
      "Input \u001b[0;32mIn [46]\u001b[0m, in \u001b[0;36m<cell line: 1>\u001b[0;34m()\u001b[0m\n\u001b[1;32m     18\u001b[0m model_scip\u001b[38;5;241m.\u001b[39msetPresolve(pyscip\u001b[38;5;241m.\u001b[39mSCIP_PARAMSETTING\u001b[38;5;241m.\u001b[39mOFF)\n\u001b[1;32m     19\u001b[0m model_scip\u001b[38;5;241m.\u001b[39mreadProblem(filename\u001b[38;5;241m=\u001b[39m\u001b[38;5;124m\"\u001b[39m\u001b[38;5;124mDataSet/problem/\u001b[39m\u001b[38;5;124m\"\u001b[39m\u001b[38;5;241m+\u001b[39mproblme_name\u001b[38;5;241m+\u001b[39m\u001b[38;5;124m\"\u001b[39m\u001b[38;5;124m.lp\u001b[39m\u001b[38;5;124m\"\u001b[39m)\n\u001b[0;32m---> 20\u001b[0m \u001b[43mmodel_scip\u001b[49m\u001b[38;5;241;43m.\u001b[39;49m\u001b[43moptimize\u001b[49m\u001b[43m(\u001b[49m\u001b[43m)\u001b[49m\n",
      "\u001b[0;31mKeyboardInterrupt\u001b[0m: "
     ]
    },
    {
     "name": "stdout",
     "output_type": "stream",
     "text": [
      " 6258k |   0 | 200 | 100 | 115 |  15 | 14 |   0 |   0 | 1.185729e+02 | 1.300000e+02 |   9.64%| unknown\n",
      "  0.1s|     1 |     0 |   154 |     - |  6270k |   0 | 200 | 100 | 116 |  16 | 15 |   0 |   0 | 1.185821e+02 | 1.300000e+02 |   9.63%| unknown\n",
      "  0.1s|     1 |     0 |   157 |     - |  6336k |   0 | 200 | 100 | 117 |  17 | 16 |   0 |   0 | 1.185941e+02 | 1.300000e+02 |   9.62%| unknown\n",
      "  0.1s|     1 |     0 |   163 |     - |  6349k |   0 | 200 | 100 | 118 |  18 | 17 |   0 |   0 | 1.186159e+02 | 1.300000e+02 |   9.60%| unknown\n",
      "  0.1s|     1 |     0 |   166 |     - |  6361k |   0 | 200 | 100 | 119 |  19 | 18 |   0 |   0 | 1.186176e+02 | 1.300000e+02 |   9.60%| unknown\n",
      "  0.1s|     1 |     0 |   169 |     - |  6374k |   0 | 200 | 100 | 120 |  20 | 19 |   0 |   0 | 1.186289e+02 | 1.300000e+02 |   9.59%| unknown\n",
      " time | node  | left  |LP iter|LP it/n|mem/heur|mdpt |vars |cons |rows |cuts |sepa|confs|strbr|  dualbound   | primalbound  |  gap   | compl. \n",
      "  0.1s|     1 |     0 |   174 |     - |  6387k |   0 | 200 | 100 | 121 |  21 | 20 |   0 |   0 | 1.186343e+02 | 1.300000e+02 |   9.58%| unknown\n",
      "  0.1s|     1 |     0 |   179 |     - |  6388k |   0 | 200 | 100 | 122 |  22 | 21 |   0 |   0 | 1.186406e+02 | 1.300000e+02 |   9.57%| unknown\n",
      "  0.1s|     1 |     0 |   188 |     - |  6389k |   0 | 200 | 100 | 123 |  23 | 22 |   0 |   0 | 1.186786e+02 | 1.300000e+02 |   9.54%| unknown\n",
      "  0.1s|     1 |     0 |   193 |     - |  6390k |   0 | 200 | 100 | 119 |  24 | 23 |   0 |   0 | 1.187051e+02 | 1.300000e+02 |   9.52%| unknown\n",
      "L 0.2s|     1 |     0 |   257 |     - |    rens|   0 | 200 | 103 | 119 |  24 | 25 |   5 |   0 | 1.188314e+02 | 1.220000e+02 |   2.67%| unknown\n",
      "  0.2s|     1 |     0 |   257 |     - |  6413k |   0 | 200 |  83 | 119 |  24 | 25 |   5 |   0 | 1.188314e+02 | 1.220000e+02 |   2.67%| unknown\n",
      "  0.2s|     1 |     0 |   257 |     - |  6413k |   0 | 200 |  83 | 103 |  24 | 25 |   5 |   0 | 1.188314e+02 | 1.220000e+02 |   2.67%| unknown\n",
      "  0.2s|     1 |     0 |   261 |     - |  6413k |   0 | 200 |  83 | 104 |  25 | 26 |   5 |   0 | 1.188337e+02 | 1.220000e+02 |   2.66%| unknown\n",
      "  0.2s|     1 |     0 |   279 |     - |  6491k |   0 | 200 |  65 | 104 |  25 | 27 |  11 |  13 | 1.194357e+02 | 1.220000e+02 |   2.15%| unknown\n",
      "  0.2s|     1 |     0 |   281 |     - |  6491k |   0 | 200 |  65 | 105 |  26 | 28 |  11 |  13 | 1.195073e+02 | 1.220000e+02 |   2.09%| unknown\n",
      "  0.2s|     1 |     0 |   283 |     - |  6491k |   0 | 200 |  65 | 106 |  27 | 29 |  11 |  13 | 1.195289e+02 | 1.220000e+02 |   2.07%| unknown\n",
      "  0.2s|     1 |     0 |   292 |     - |  6491k |   0 | 200 |  68 | 106 |  27 | 29 |  17 |  18 | 1.220000e+02 | 1.220000e+02 |   0.00%| unknown\n",
      "\n",
      "SCIP Status        : problem is solved [optimal solution found]\n",
      "Solving Time (sec) : 0.19\n",
      "Solving Nodes      : 1\n",
      "Primal Bound       : +1.22000000000000e+02 (53 solutions)\n",
      "Dual Bound         : +1.22000000000000e+02\n",
      "Gap                : 0.00 %\n",
      "original problem has 200 variables (200 bin, 0 int, 0 impl, 0 cont) and 100 constraints\n",
      "feasible solution found by trivial heuristic after 0.0 seconds, objective value 9.549000e+03\n",
      "presolving:\n",
      "   (0.0s) symmetry computation started: requiring (bin +, int -, cont +), (fixed: bin -, int +, cont -)\n",
      "   (0.0s) no symmetry present\n",
      "presolving (0 rounds: 0 fast, 0 medium, 0 exhaustive):\n",
      " 0 deleted vars, 0 deleted constraints, 0 added constraints, 0 tightened bounds, 0 added holes, 0 changed sides, 0 changed coefficients\n",
      " 0 implications, 0 cliques\n",
      "presolved problem has 200 variables (200 bin, 0 int, 0 impl, 0 cont) and 100 constraints\n",
      "    100 constraints of type <linear>\n",
      "transformed objective value is always integral (scale: 1)\n",
      "Presolving Time: 0.00\n",
      "transformed 1/1 original solutions to the transformed problem space\n",
      "\n",
      " time | node  | left  |LP iter|LP it/n|mem/heur|mdpt |vars |cons |rows |cuts |sepa|confs|strbr|  dualbound   | primalbound  |  gap   | compl. \n",
      "p 0.0s|     1 |     0 |     0 |     - |   locks|   0 | 200 | 100 | 100 |   0 |  0 |   0 |   0 | 0.000000e+00 | 2.610000e+02 |    Inf | unknown\n",
      "  0.0s|     1 |     0 |    55 |     - |  2863k |   0 | 200 | 100 | 100 |   0 |  0 |   0 |   0 | 4.043243e+01 | 2.610000e+02 | 545.52%| unknown\n",
      "r 0.0s|     1 |     0 |    55 |     - |simplero|   0 | 200 | 100 | 100 |   0 |  0 |   0 |   0 | 4.043243e+01 | 1.190000e+02 | 194.32%| unknown\n",
      "r 0.0s|     1 |     0 |    55 |     - |rounding|   0 | 200 | 100 | 100 |   0 |  0 |   0 |   0 | 4.043243e+01 | 1.170000e+02 | 189.37%| unknown\n",
      "r 0.0s|     1 |     0 |    55 |     - |shifting|   0 | 200 | 100 | 100 |   0 |  0 |   0 |   0 | 4.043243e+01 | 1.110000e+02 | 174.53%| unknown\n",
      "i 0.0s|     1 |     0 |    55 |     - |  oneopt|   0 | 200 | 100 | 100 |   0 |  0 |   0 |   0 | 4.043243e+01 | 4.600000e+01 |  13.77%| unknown\n",
      "  0.0s|     1 |     0 |    61 |     - |  3836k |   0 | 200 | 100 | 101 |   1 |  1 |   0 |   0 | 4.093750e+01 | 4.600000e+01 |  12.37%| unknown\n",
      "  0.0s|     1 |     0 |    61 |     - |  3837k |   0 | 200 | 100 | 101 |   1 |  1 |   0 |   0 | 4.093750e+01 | 4.600000e+01 |  12.37%| unknown\n",
      "  0.0s|     1 |     0 |    61 |     - |  3837k |   0 | 200 | 100 | 101 |   1 |  1 |   0 |   0 | 4.093750e+01 | 4.600000e+01 |  12.37%| unknown\n",
      "  0.0s|     1 |     0 |    68 |     - |  4046k |   0 | 200 | 100 | 103 |   3 |  2 |   0 |   0 | 4.128947e+01 | 4.600000e+01 |  11.41%| unknown\n",
      "  0.0s|     1 |     0 |    81 |     - |  4105k |   0 | 200 | 100 | 104 |   4 |  3 |   0 |   0 | 4.153731e+01 | 4.600000e+01 |  10.74%| unknown\n",
      "  0.1s|     1 |     0 |    91 |     - |  4516k |   0 | 200 | 100 | 105 |   5 |  4 |   0 |   0 | 4.167273e+01 | 4.600000e+01 |  10.38%| unknown\n",
      "  0.1s|     1 |     0 |   103 |     - |  4547k |   0 | 200 | 100 | 106 |   6 |  5 |   0 |   0 | 4.180000e+01 | 4.600000e+01 |  10.05%| unknown\n",
      "  0.1s|     1 |     0 |   108 |     - |  4623k |   0 | 200 | 100 | 107 |   7 |  6 |   0 |   0 | 4.200000e+01 | 4.600000e+01 |   9.52%| unknown\n",
      "  0.1s|     1 |     0 |   119 |     - |  4797k |   0 | 200 | 100 | 108 |   8 |  7 |   0 |   0 | 4.200000e+01 | 4.600000e+01 |   9.52%| unknown\n",
      " time | node  | left  |LP iter|LP it/n|mem/heur|mdpt |vars |cons |rows |cuts |sepa|confs|strbr|  dualbound   | primalbound  |  gap   | compl. \n",
      "  0.1s|     1 |     0 |   123 |     - |  5478k |   0 | 200 | 100 | 109 |   9 |  8 |   0 |   0 | 4.200000e+01 | 4.600000e+01 |   9.52%| unknown\n",
      "  0.1s|     1 |     0 |   125 |     - |  5490k |   0 | 200 | 100 | 110 |  10 |  9 |   0 |   0 | 4.200000e+01 | 4.600000e+01 |   9.52%| unknown\n",
      "  0.1s|     1 |     0 |   130 |     - |  5506k |   0 | 200 | 100 | 111 |  11 | 10 |   0 |   0 | 4.200000e+01 | 4.600000e+01 |   9.52%| unknown\n",
      "  0.1s|     1 |     0 |   132 |     - |  5518k |   0 | 200 | 100 | 112 |  12 | 11 |   0 |   0 | 4.200000e+01 | 4.600000e+01 |   9.52%| unknown\n",
      "  0.1s|     1 |     0 |   144 |     - |  5530k |   0 | 200 | 100 | 113 |  13 | 12 |   0 |   0 | 4.204351e+01 | 4.600000e+01 |   9.41%| unknown\n",
      "  0.1s|     1 |     0 |   152 |     - |  5542k |   0 | 200 | 100 | 114 |  14 | 13 |   0 |   0 | 4.207143e+01 | 4.600000e+01 |   9.34%| unknown\n",
      "  0.1s|     1 |     0 |   161 |     - |  5568k |   0 | 200 | 100 | 115 |  15 | 14 |   0 |   0 | 4.212269e+01 | 4.600000e+01 |   9.20%| unknown\n",
      "  0.1s|     1 |     0 |   165 |     - |  5580k |   0 | 200 | 100 | 116 |  16 | 15 |   0 |   0 | 4.213261e+01 | 4.600000e+01 |   9.18%| unknown\n",
      "  0.1s|     1 |     0 |   168 |     - |  5592k |   0 | 200 | 100 | 117 |  17 | 16 |   0 |   0 | 4.213855e+01 | 4.600000e+01 |   9.16%| unknown\n",
      "  0.1s|     1 |     0 |   175 |     - |  5605k |   0 | 200 | 100 | 117 |  18 | 17 |   0 |   0 | 4.215834e+01 | 4.600000e+01 |   9.11%| unknown\n",
      "  0.1s|     1 |     0 |   181 |     - |  5614k |   0 | 200 | 100 | 118 |  19 | 18 |   0 |   0 | 4.216834e+01 | 4.600000e+01 |   9.09%| unknown\n",
      "  0.1s|     1 |     0 |   183 |     - |  5627k |   0 | 200 | 100 | 119 |  20 | 19 |   0 |   0 | 4.217191e+01 | 4.600000e+01 |   9.08%| unknown\n",
      "  0.1s|     1 |     0 |   192 |     - |  5674k |   0 | 200 | 100 | 120 |  21 | 20 |   0 |   0 | 4.218511e+01 | 4.600000e+01 |   9.04%| unknown\n",
      "  0.2s|     1 |     0 |   194 |     - |  5675k |   0 | 200 | 100 | 121 |  22 | 21 |   0 |   0 | 4.218608e+01 | 4.600000e+01 |   9.04%| unknown\n",
      "  0.2s|     1 |     0 |   201 |     - |  5676k |   0 | 200 | 100 | 122 |  23 | 22 |   0 |   0 | 4.220257e+01 | 4.600000e+01 |   9.00%| unknown\n",
      " time | node  | left  |LP iter|LP it/n|mem/heur|mdpt |vars |cons |rows |cuts |sepa|confs|strbr|  dualbound   | primalbound  |  gap   | compl. \n",
      "  0.2s|     1 |     0 |   203 |     - |  5678k |   0 | 200 | 100 | 121 |  24 | 23 |   0 |   0 | 4.220777e+01 | 4.600000e+01 |   8.98%| unknown\n",
      "  0.2s|     1 |     0 |   210 |     - |  5678k |   0 | 200 | 100 | 122 |  25 | 24 |   0 |   0 | 4.221938e+01 | 4.600000e+01 |   8.95%| unknown\n",
      "  0.2s|     1 |     0 |   216 |     - |  5678k |   0 | 200 | 100 | 123 |  26 | 25 |   0 |   0 | 4.222629e+01 | 4.600000e+01 |   8.94%| unknown\n",
      "  0.2s|     1 |     0 |   222 |     - |  5679k |   0 | 200 | 100 | 124 |  27 | 26 |   0 |   0 | 4.223476e+01 | 4.600000e+01 |   8.92%| unknown\n",
      "  0.2s|     1 |     0 |   225 |     - |  5710k |   0 | 200 | 100 | 125 |  28 | 27 |   0 |   0 | 4.223815e+01 | 4.600000e+01 |   8.91%| unknown\n",
      "L 0.2s|     1 |     0 |   316 |     - |    rens|   0 | 200 | 104 | 125 |  28 | 29 |   7 |   0 | 4.223815e+01 | 4.300000e+01 |   1.80%| unknown\n",
      "  0.2s|     1 |     0 |   316 |     - |  6052k |   0 | 200 | 104 | 125 |  28 | 29 |   7 |   0 | 4.300000e+01 | 4.300000e+01 |   0.00%| unknown\n",
      "\n",
      "SCIP Status        : problem is solved [optimal solution found]\n",
      "Solving Time (sec) : 0.19\n",
      "Solving Nodes      : 1\n",
      "Primal Bound       : +4.30000000000000e+01 (39 solutions)\n",
      "Dual Bound         : +4.30000000000000e+01\n",
      "Gap                : 0.00 %\n",
      "original problem has 150 variables (150 bin, 0 int, 0 impl, 0 cont) and 150 constraints\n",
      "feasible solution found by trivial heuristic after 0.0 seconds, objective value 7.314000e+03\n",
      "presolving:\n",
      "   (0.0s) symmetry computation started: requiring (bin +, int -, cont +), (fixed: bin -, int +, cont -)\n",
      "   (0.0s) no symmetry present\n",
      "presolving (0 rounds: 0 fast, 0 medium, 0 exhaustive):\n",
      " 0 deleted vars, 0 deleted constraints, 0 added constraints, 0 tightened bounds, 0 added holes, 0 changed sides, 0 changed coefficients\n",
      " 0 implications, 0 cliques\n",
      "presolved problem has 150 variables (150 bin, 0 int, 0 impl, 0 cont) and 150 constraints\n",
      "    150 constraints of type <linear>\n",
      "transformed objective value is always integral (scale: 1)\n",
      "Presolving Time: 0.00\n",
      "transformed 1/1 original solutions to the transformed problem space\n",
      "\n",
      " time | node  | left  |LP iter|LP it/n|mem/heur|mdpt |vars |cons |rows |cuts |sepa|confs|strbr|  dualbound   | primalbound  |  gap   | compl. \n",
      "p 0.0s|     1 |     0 |     0 |     - |   locks|   0 | 150 | 150 | 150 |   0 |  0 |   0 |   0 | 0.000000e+00 | 7.940000e+02 |    Inf | unknown\n",
      "  0.0s|     1 |     0 |   204 |     - |  2181k |   0 | 150 | 150 | 150 |   0 |  0 |   0 |   0 | 2.730833e+02 | 7.940000e+02 | 190.75%| unknown\n",
      "  0.0s|     1 |     0 |   236 |     - |  3619k |   0 | 150 | 150 | 151 |   1 |  1 |   0 |   0 | 2.744507e+02 | 7.940000e+02 | 189.31%| unknown\n",
      "  0.0s|     1 |     0 |   261 |     - |  4887k |   0 | 150 | 150 | 152 |   2 |  2 |   0 |   0 | 2.749652e+02 | 7.940000e+02 | 188.76%| unknown\n",
      "  0.0s|     1 |     0 |   285 |     - |  6965k |   0 | 150 | 150 | 153 |   3 |  3 |   0 |   0 | 2.754063e+02 | 7.940000e+02 | 188.30%| unknown\n",
      "r 0.1s|     1 |     0 |   285 |     - |rounding|   0 | 150 | 150 | 153 |   3 |  3 |   0 |   0 | 2.754063e+02 | 7.920000e+02 | 187.58%| unknown\n",
      "  0.1s|     1 |     0 |   321 |     - |  7048k |   0 | 150 | 150 | 154 |   4 |  4 |   0 |   0 | 2.760495e+02 | 7.920000e+02 | 186.91%| unknown\n",
      "i 0.1s|     1 |     0 |   321 |     - |  oneopt|   0 | 150 | 150 | 154 |   4 |  4 |   0 |   0 | 2.760495e+02 | 3.390000e+02 |  22.80%| unknown\n",
      "  0.1s|     1 |     0 |   341 |     - |  8129k |   0 | 150 | 150 | 155 |   5 |  5 |   0 |   0 | 2.764112e+02 | 3.390000e+02 |  22.64%| unknown\n",
      "  0.1s|     1 |     0 |   341 |     - |  8131k |   0 | 150 | 150 | 155 |   5 |  5 |   0 |   0 | 2.764112e+02 | 3.390000e+02 |  22.64%| unknown\n",
      "  0.1s|     1 |     0 |   366 |     - |  8942k |   0 | 150 | 150 | 156 |   6 |  6 |   0 |   0 | 2.768822e+02 | 3.390000e+02 |  22.43%| unknown\n",
      "  0.1s|     1 |     0 |   394 |     - |  9819k |   0 | 150 | 150 | 157 |   7 |  7 |   0 |   0 | 2.771710e+02 | 3.390000e+02 |  22.31%| unknown\n",
      "  0.1s|     1 |     0 |   413 |     - |    10M |   0 | 150 | 150 | 159 |   9 |  8 |   0 |   0 | 2.773011e+02 | 3.390000e+02 |  22.25%| unknown\n",
      "  0.2s|     1 |     0 |   431 |     - |    12M |   0 | 150 | 150 | 160 |  10 |  9 |   0 |   0 | 2.774496e+02 | 3.390000e+02 |  22.18%| unknown\n",
      "  0.2s|     1 |     0 |   439 |     - |    12M |   0 | 150 | 150 | 162 |  12 | 10 |   0 |   0 | 2.774955e+02 | 3.390000e+02 |  22.16%| unknown\n",
      " time | node  | left  |LP iter|LP it/n|mem/heur|mdpt |vars |cons |rows |cuts |sepa|confs|strbr|  dualbound   | primalbound  |  gap   | compl. \n",
      "  0.2s|     1 |     0 |   462 |     - |    12M |   0 | 150 | 150 | 163 |  13 | 11 |   0 |   0 | 2.776717e+02 | 3.390000e+02 |  22.09%| unknown\n",
      "  0.2s|     1 |     0 |   476 |     - |    12M |   0 | 150 | 150 | 164 |  14 | 12 |   0 |   0 | 2.777664e+02 | 3.390000e+02 |  22.04%| unknown\n",
      "  0.2s|     1 |     0 |   488 |     - |    12M |   0 | 150 | 150 | 165 |  15 | 13 |   0 |   0 | 2.780267e+02 | 3.390000e+02 |  21.93%| unknown\n",
      "  0.2s|     1 |     0 |   498 |     - |    12M |   0 | 150 | 150 | 166 |  16 | 14 |   0 |   0 | 2.781711e+02 | 3.390000e+02 |  21.87%| unknown\n",
      "  0.2s|     1 |     0 |   509 |     - |    12M |   0 | 150 | 150 | 167 |  17 | 15 |   0 |   0 | 2.782406e+02 | 3.390000e+02 |  21.84%| unknown\n",
      "  0.2s|     1 |     0 |   516 |     - |    12M |   0 | 150 | 150 | 168 |  18 | 16 |   0 |   0 | 2.782721e+02 | 3.390000e+02 |  21.82%| unknown\n",
      "  0.2s|     1 |     0 |   532 |     - |    12M |   0 | 150 | 150 | 168 |  19 | 17 |   0 |   0 | 2.783454e+02 | 3.390000e+02 |  21.79%| unknown\n",
      "  0.2s|     1 |     0 |   538 |     - |    12M |   0 | 150 | 150 | 169 |  20 | 18 |   0 |   0 | 2.783510e+02 | 3.390000e+02 |  21.79%| unknown\n",
      "  0.3s|     1 |     0 |   573 |     - |    12M |   0 | 150 | 150 | 170 |  21 | 19 |   0 |   0 | 2.785077e+02 | 3.390000e+02 |  21.72%| unknown\n",
      "  0.3s|     1 |     0 |   588 |     - |    12M |   0 | 150 | 150 | 171 |  22 | 20 |   0 |   0 | 2.785470e+02 | 3.390000e+02 |  21.70%| unknown\n",
      "  0.3s|     1 |     0 |   599 |     - |    12M |   0 | 150 | 150 | 172 |  23 | 21 |   0 |   0 | 2.786427e+02 | 3.390000e+02 |  21.66%| unknown\n",
      "d 0.3s|     1 |     0 |   813 |     - |farkasdi|   0 | 150 | 150 | 172 |   0 | 23 |   0 |   0 | 2.786427e+02 | 3.350000e+02 |  20.23%| unknown\n",
      "d 0.3s|     1 |     0 |   814 |     - |farkasdi|   0 | 150 | 150 | 172 |   0 | 23 |   0 |   0 | 2.786427e+02 | 3.060000e+02 |   9.82%| unknown\n",
      "L 0.4s|     1 |     0 |   814 |     - |    rens|   0 | 150 | 150 | 172 |  23 | 23 |   0 |   0 | 2.786427e+02 | 2.920000e+02 |   4.79%| unknown\n",
      "  0.4s|     1 |     0 |   814 |     - |    12M |   0 | 150 | 150 | 172 |  23 | 23 |   0 |   0 | 2.786427e+02 | 2.920000e+02 |   4.79%| unknown\n",
      " time | node  | left  |LP iter|LP it/n|mem/heur|mdpt |vars |cons |rows |cuts |sepa|confs|strbr|  dualbound   | primalbound  |  gap   | compl. \n",
      "  0.4s|     1 |     0 |   814 |     - |    12M |   0 | 150 | 150 | 172 |  23 | 23 |   0 |   0 | 2.786427e+02 | 2.920000e+02 |   4.79%| unknown\n",
      "  0.5s|     1 |     0 |   829 |     - |    12M |   0 | 150 | 151 | 172 |  23 | 25 |   4 |  40 | 2.816699e+02 | 2.920000e+02 |   3.67%| unknown\n",
      "  0.5s|     1 |     0 |   836 |     - |    12M |   0 | 150 | 152 | 173 |  24 | 26 |   5 |  40 | 2.816699e+02 | 2.920000e+02 |   3.67%| unknown\n",
      "  0.5s|     1 |     0 |   836 |     - |    12M |   0 | 150 | 153 | 173 |  24 | 26 |   6 |  40 | 2.816699e+02 | 2.920000e+02 |   3.67%| unknown\n",
      "  0.5s|     1 |     0 |   853 |     - |    12M |   0 | 150 | 156 | 173 |  24 | 27 |  12 |  45 | 2.816699e+02 | 2.920000e+02 |   3.67%| unknown\n",
      "  0.5s|     1 |     0 |   853 |     - |    12M |   0 | 150 | 157 | 173 |  24 | 27 |  13 |  45 | 2.816699e+02 | 2.920000e+02 |   3.67%| unknown\n",
      "  0.6s|     1 |     0 |   870 |     - |    12M |   0 | 150 | 144 | 173 |  24 | 29 |  19 |  48 | 2.816699e+02 | 2.920000e+02 |   3.67%| unknown\n",
      "  0.6s|     1 |     0 |   884 |     - |    12M |   0 | 150 | 147 | 173 |  24 | 31 |  24 |  52 | 2.821765e+02 | 2.920000e+02 |   3.48%| unknown\n",
      "  0.6s|     1 |     2 |   884 |     - |    12M |   0 | 150 | 146 | 173 |  24 | 33 |  24 |  52 | 2.821765e+02 | 2.920000e+02 |   3.48%| unknown\n",
      "\n",
      "SCIP Status        : problem is solved [optimal solution found]\n",
      "Solving Time (sec) : 0.58\n",
      "Solving Nodes      : 3\n",
      "Primal Bound       : +2.92000000000000e+02 (140 solutions)\n",
      "Dual Bound         : +2.92000000000000e+02\n",
      "Gap                : 0.00 %\n",
      "original problem has 150 variables (150 bin, 0 int, 0 impl, 0 cont) and 150 constraints\n",
      "feasible solution found by trivial heuristic after 0.0 seconds, objective value 7.683000e+03\n",
      "presolving:\n",
      "   (0.0s) symmetry computation started: requiring (bin +, int -, cont +), (fixed: bin -, int +, cont -)\n",
      "   (0.0s) no symmetry present\n",
      "presolving (0 rounds: 0 fast, 0 medium, 0 exhaustive):\n",
      " 0 deleted vars, 0 deleted constraints, 0 added constraints, 0 tightened bounds, 0 added holes, 0 changed sides, 0 changed coefficients\n",
      " 0 implications, 0 cliques\n",
      "presolved problem has 150 variables (150 bin, 0 int, 0 impl, 0 cont) and 150 constraints\n",
      "    150 constraints of type <linear>\n",
      "transformed objective value is always integral (scale: 1)\n",
      "Presolving Time: 0.00\n",
      "transformed 1/1 original solutions to the transformed problem space\n",
      "\n",
      " time | node  | left  |LP iter|LP it/n|mem/heur|mdpt |vars |cons |rows |cuts |sepa|confs|strbr|  dualbound   | primalbound  |  gap   | compl. \n",
      "p 0.0s|     1 |     0 |     0 |     - |   locks|   0 | 150 | 150 | 150 |   0 |  0 |   0 |   0 | 0.000000e+00 | 6.340000e+02 |    Inf | unknown\n",
      "  0.0s|     1 |     0 |   106 |     - |  2522k |   0 | 150 | 150 | 150 |   0 |  0 |   0 |   0 | 1.406154e+02 | 6.340000e+02 | 350.88%| unknown\n",
      "r 0.0s|     1 |     0 |   106 |     - |simplero|   0 | 150 | 150 | 150 |   0 |  0 |   0 |   0 | 1.406154e+02 | 4.860000e+02 | 245.62%| unknown\n",
      "r 0.0s|     1 |     0 |   106 |     - |rounding|   0 | 150 | 150 | 150 |   0 |  0 |   0 |   0 | 1.406154e+02 | 4.800000e+02 | 241.36%| unknown\n",
      "r 0.0s|     1 |     0 |   106 |     - |shifting|   0 | 150 | 150 | 150 |   0 |  0 |   0 |   0 | 1.406154e+02 | 4.760000e+02 | 238.51%| unknown\n",
      "i 0.0s|     1 |     0 |   106 |     - |  oneopt|   0 | 150 | 150 | 150 |   0 |  0 |   0 |   0 | 1.406154e+02 | 1.890000e+02 |  34.41%| unknown\n",
      "  0.0s|     1 |     0 |   125 |     - |  3908k |   0 | 150 | 150 | 151 |   1 |  1 |   0 |   0 | 1.429943e+02 | 1.890000e+02 |  32.17%| unknown\n",
      "  0.0s|     1 |     0 |   125 |     - |  3926k |   0 | 150 | 150 | 151 |   1 |  1 |   0 |   0 | 1.429943e+02 | 1.890000e+02 |  32.17%| unknown\n",
      "  0.0s|     1 |     0 |   144 |     - |  4762k |   0 | 150 | 150 | 152 |   2 |  2 |   0 |   0 | 1.438667e+02 | 1.890000e+02 |  31.37%| unknown\n",
      "  0.0s|     1 |     0 |   144 |     - |  4827k |   0 | 150 | 150 | 152 |   2 |  2 |   0 |   0 | 1.438667e+02 | 1.890000e+02 |  31.37%| unknown\n",
      "  0.1s|     1 |     0 |   161 |     - |  5875k |   0 | 150 | 150 | 153 |   3 |  3 |   0 |   0 | 1.444519e+02 | 1.890000e+02 |  30.84%| unknown\n",
      "  0.1s|     1 |     0 |   175 |     - |  7065k |   0 | 150 | 150 | 154 |   4 |  4 |   0 |   0 | 1.451198e+02 | 1.890000e+02 |  30.24%| unknown\n",
      "  0.1s|     1 |     0 |   188 |     - |  8031k |   0 | 150 | 150 | 155 |   5 |  5 |   0 |   0 | 1.453943e+02 | 1.890000e+02 |  29.99%| unknown\n",
      "  0.1s|     1 |     0 |   196 |     - |  8086k |   0 | 150 | 150 | 156 |   6 |  6 |   0 |   0 | 1.455104e+02 | 1.890000e+02 |  29.89%| unknown\n",
      "  0.1s|     1 |     0 |   203 |     - |  9772k |   0 | 150 | 150 | 157 |   7 |  7 |   0 |   0 | 1.455652e+02 | 1.890000e+02 |  29.84%| unknown\n",
      " time | node  | left  |LP iter|LP it/n|mem/heur|mdpt |vars |cons |rows |cuts |sepa|confs|strbr|  dualbound   | primalbound  |  gap   | compl. \n",
      "  0.1s|     1 |     0 |   213 |     - |  9854k |   0 | 150 | 150 | 158 |   8 |  8 |   0 |   0 | 1.456710e+02 | 1.890000e+02 |  29.74%| unknown\n",
      "  0.1s|     1 |     0 |   226 |     - |    10M |   0 | 150 | 150 | 160 |  10 |  9 |   0 |   0 | 1.459824e+02 | 1.890000e+02 |  29.47%| unknown\n",
      "  0.2s|     1 |     0 |   237 |     - |    11M |   0 | 150 | 150 | 161 |  11 | 10 |   0 |   0 | 1.460713e+02 | 1.890000e+02 |  29.39%| unknown\n",
      "  0.2s|     1 |     0 |   240 |     - |    11M |   0 | 150 | 150 | 162 |  12 | 11 |   0 |   0 | 1.461244e+02 | 1.890000e+02 |  29.34%| unknown\n",
      "\n",
      "SCIP Status        : solving was interrupted [user interrupt]\n",
      "Solving Time (sec) : 45.82\n",
      "Solving Nodes      : 1\n"
     ]
    }
   ],
   "source": [
    "for row in [100,150,200]:\n",
    "    for coef_col in [1,1.5,2]: \n",
    "        for d in [0.1,0.15,0.2]:\n",
    "            col = int(coef_col * row)\n",
    "            print(\"Solve with Row:%d,Col:%d,Density:%f\" % (row,col,d))\n",
    "            for n in range(1,2):\n",
    "#                 #save label\n",
    "                problme_name = \\\n",
    "                        \"set_cover_{\"+row.__str__()+\"*\"+col.__str__()+\"_\"+d.__str__()+\"_\"+n.__str__()+\"}\"\n",
    "#                     solver = gb.read(\"problem/\"+problme_name+\".lp\")\n",
    "#                     solver.optimize()\n",
    "#                     dumpSolution_Gurobi(\"DataSet/label/\"+problme_name+\"_label.json\",solver)\n",
    "#                 solver = ecole.scip.Model.from_file(\"DataSet/problem/\"+problme_name+\".lp\")\n",
    "#                 aspyscip = solver.as_pyscipopt()\n",
    "#                 aspyscip.setPresolve(pyscip.SCIP_PARAMSETTING.OFF)\n",
    "#                 aspyscip.optimize()\n",
    "                model_scip = pyscip.scip.Model()\n",
    "                model_scip.setPresolve(pyscip.SCIP_PARAMSETTING.OFF)\n",
    "                model_scip.readProblem(filename=\"DataSet/problem/\"+problme_name+\".lp\")\n",
    "                model_scip.optimize()"
   ]
  },
  {
   "cell_type": "code",
   "execution_count": null,
   "id": "0ce3de96",
   "metadata": {},
   "outputs": [],
   "source": []
  }
 ],
 "metadata": {
  "kernelspec": {
   "display_name": "Python 3 (ipykernel)",
   "language": "python",
   "name": "python3"
  },
  "language_info": {
   "codemirror_mode": {
    "name": "ipython",
    "version": 3
   },
   "file_extension": ".py",
   "mimetype": "text/x-python",
   "name": "python",
   "nbconvert_exporter": "python",
   "pygments_lexer": "ipython3",
   "version": "3.10.4"
  }
 },
 "nbformat": 4,
 "nbformat_minor": 5
}
