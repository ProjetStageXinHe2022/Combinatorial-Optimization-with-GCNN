{
 "cells": [
  {
   "cell_type": "code",
   "execution_count": 1,
   "id": "552a8844",
   "metadata": {},
   "outputs": [
    {
     "name": "stderr",
     "output_type": "stream",
     "text": [
      "/home/leonaire/anaconda3/envs/ecole/lib/python3.10/site-packages/tqdm/auto.py:22: TqdmWarning: IProgress not found. Please update jupyter and ipywidgets. See https://ipywidgets.readthedocs.io/en/stable/user_install.html\n",
      "  from .autonotebook import tqdm as notebook_tqdm\n"
     ]
    }
   ],
   "source": [
    "import ecole\n",
    "import shutil\n",
    "import os\n",
    "import sys\n",
    "import time\n",
    "import numpy as np\n",
    "import pyscipopt as pyscip\n",
    "import torch\n",
    "import torch.nn as nn\n",
    "import torch.nn.functional as F\n",
    "from torch.optim import Adam\n",
    "from torch.utils.data import DataLoader\n",
    "from torch.nn import init\n",
    "\n",
    "from utility import *\n",
    "from GCN import *"
   ]
  },
  {
   "cell_type": "code",
   "execution_count": 2,
   "id": "6d6aed39",
   "metadata": {},
   "outputs": [],
   "source": [
    "scip_parameters = {\"branching/scorefunc\": \"s\",\n",
    "                   \"separating/maxrounds\": 0,\n",
    "                   \"limits/time\": 360,\n",
    "                   \"conflict/enable\": False,\n",
    "                   \"presolving/maxrounds\": 0,\n",
    "                   \"presolving/maxrestarts\": 0,\n",
    "                   \"separating/maxroundsroot\" : 0,\n",
    "                   \"separating/maxcutsroot\": 0,\n",
    "                   \"separating/maxcuts\": 0,\n",
    "                   \"propagating/maxroundsroot\" : 0,\n",
    "                   \"lp/presolving\" : False,\n",
    "                  }"
   ]
  },
  {
   "cell_type": "code",
   "execution_count": 3,
   "id": "7cccec46",
   "metadata": {},
   "outputs": [],
   "source": [
    "def getInput(scip_parameters,path):\n",
    "    env = ecole.environment.Branching(\\\n",
    "                observation_function = ecole.observation.NodeBipartite(),scip_params = scip_parameters)\n",
    "    instance = ecole.scip.Model.from_file(path)\n",
    "    obs, _, _, _, _ = env.reset(instance)\n",
    "#     print(obs)\n",
    "    \n",
    "    row_features = np.array(obs.row_features.tolist())\n",
    "    \n",
    "    original_indice = obs.variable_features[:, -1]\n",
    "    l = len(original_indice)\n",
    "    dict_indice = np.zeros((l))\n",
    "    for i in range(l):\n",
    "        dict_indice[int(original_indice[i])] = i\n",
    "    for i in range(l):\n",
    "        obs.variable_features[i][-1] = dict_indice[i]\n",
    "    value = obs.variable_features[obs.variable_features[:, -1].argsort()]\n",
    "    variable_features = np.array(value[:, :-1].tolist())\n",
    "    \n",
    "    for i in range(len(obs.edge_features.indices[1])):\n",
    "        obs.edge_features.indices[1][i] = dict_indice[obs.edge_features.indices[1][i]]\n",
    "\n",
    "    value_edge_features = np.array(obs.edge_features.values.tolist())\n",
    "    indice_edge_features = np.array(obs.edge_features.indices.tolist())\n",
    "#     print(value_edge_features,indice_edge_features)\n",
    "\n",
    "    nb_cons = row_features.shape[0]\n",
    "    nb_var = variable_features.shape[0]\n",
    "    data_cons = np.hstack((np.zeros((nb_cons,19)),row_features))\n",
    "    data_var = np.hstack((variable_features,np.zeros((nb_var,5))))\n",
    "    matrix_H = np.vstack((data_var,data_cons))\n",
    "#     print(matrix_H)\n",
    "\n",
    "    matrix_A = np.identity(nb_cons+nb_var)\n",
    "    for i in range(len(value_edge_features)):\n",
    "        iVar,iCons = indice_edge_features[1][i],indice_edge_features[0][i] \n",
    "        matrix_A[iVar][nb_var+iCons] = value_edge_features[i]\n",
    "        matrix_A[iCons+nb_var][iVar] = value_edge_features[i]\n",
    "#     print(matrix_A)\n",
    "    return [matrix_H,matrix_A,nb_var]\n"
   ]
  },
  {
   "cell_type": "code",
   "execution_count": 15,
   "id": "76f878be",
   "metadata": {},
   "outputs": [],
   "source": [
    "def evoluate(model,H,A,nb_var,scip_parameters):\n",
    "    predictions = net(torch.from_numpy(H).float(),torch.from_numpy(A).float()).squeeze(dim=-1)[:nb_var]\n",
    "    aux= torch.Tensor([0.5])\n",
    "    y_hat = (predictions > aux).float() * 1\n",
    "    return y_hat,predictions"
   ]
  },
  {
   "cell_type": "code",
   "execution_count": 16,
   "id": "9ee887cf",
   "metadata": {},
   "outputs": [],
   "source": [
    "def heuristique(score,A):\n",
    "    size = len(score)\n",
    "    size_cons = A.shape[0] - size\n",
    "    A = A[:size,size_cons:]\n",
    "    solution = np.zeros((size))\n",
    "    nb_cover_original = [len(np.where(A[i]==0)[0])for i in range(size)]\n",
    "    while len(A[0]) > 0:\n",
    "        nb_cover = [len(np.where(A[i]!=0)[0]) for i in range(size)]\n",
    "        i_max = 0\n",
    "        v_max = 0\n",
    "        for i,v in enumerate(score):\n",
    "            aux = v * nb_cover[i] / nb_cover_original[i]\n",
    "            if aux > v_max :\n",
    "                i_max = i\n",
    "                v_max = aux\n",
    "        solution[i_max] = 1\n",
    "        for i_cons in np.where(A[i_max]!=0)[0][::-1]:\n",
    "            A = np.delete(A, i_cons, axis=1)\n",
    "    return solution"
   ]
  },
  {
   "cell_type": "code",
   "execution_count": 17,
   "id": "cc5fd61b",
   "metadata": {},
   "outputs": [],
   "source": [
    "def optimize(model,lp_file):\n",
    "    H,A,nb_var = getInput(scip_parameters,lp_file)\n",
    "    y_hat,predictions = evoluate(net,H,A,nb_var,scip_parameters)\n",
    "    res_prect = heuristique(predictions.detach().numpy(),A)\n",
    "    return res_prect,y_hat"
   ]
  },
  {
   "cell_type": "code",
   "execution_count": 18,
   "id": "d2d0ee1e",
   "metadata": {},
   "outputs": [],
   "source": [
    "lp = \"DataEvoluate/problem800.lp\"\n",
    "train_name = \"SC1000_BCE_3MLP_50TailleH_1batch_size_layernorm+cat\"\n",
    "model_path = \"model/\"+train_name\n",
    "criterion = nn.BCELoss()\n",
    "net = VariablePredictor(24,50,3)\n",
    "net.load_state_dict(torch.load(model_path,map_location=torch.device('cpu')))\n",
    "res_her,res_gnn = optimize(net,lp)"
   ]
  },
  {
   "cell_type": "code",
   "execution_count": 21,
   "id": "52be625c",
   "metadata": {},
   "outputs": [
    {
     "name": "stdout",
     "output_type": "stream",
     "text": [
      "[ 28  34  43  77  85 101 125 129 139 145 149 192 201 231 240 246 248 260\n",
      " 288 293 326 356 361 364 368 380 386 392 397]\n"
     ]
    }
   ],
   "source": [
    "print(np.where(res_her == 1)[0])"
   ]
  },
  {
   "cell_type": "code",
   "execution_count": 17,
   "id": "f958b2f9",
   "metadata": {},
   "outputs": [
    {
     "data": {
      "text/plain": [
       "211.0"
      ]
     },
     "execution_count": 17,
     "metadata": {},
     "output_type": "execute_result"
    }
   ],
   "source": [
    "solver = ecole.scip.Model.from_file(lp)\n",
    "aspyscip = solver.as_pyscipopt()\n",
    "aspyscip.setPresolve(pyscip.SCIP_PARAMSETTING.OFF)\n",
    "aspyscip.optimize()\n",
    "res_scip = np.array(np.around(list(ast.literal_eval(aspyscip.getBestSol().__repr__()).values()), 0).astype(int).tolist())\n",
    "\n",
    "\n",
    "aspyscip.getObjVal()"
   ]
  },
  {
   "cell_type": "code",
   "execution_count": 19,
   "id": "b446bead",
   "metadata": {},
   "outputs": [
    {
     "name": "stdout",
     "output_type": "stream",
     "text": [
      "GNN\n",
      "HER\n",
      "130 0.0\n",
      "245 0.0\n"
     ]
    }
   ],
   "source": [
    "print(\"GNN\")\n",
    "for i,v in enumerate(res_gnn):\n",
    "    if v != res_scip[i]:\n",
    "        print(i,v)\n",
    "print(\"HER\")\n",
    "for i,v in enumerate(res_her):\n",
    "    if v != res_scip[i]:\n",
    "        print(i,v)"
   ]
  },
  {
   "cell_type": "code",
   "execution_count": 20,
   "id": "0f5e0c69",
   "metadata": {},
   "outputs": [
    {
     "name": "stdout",
     "output_type": "stream",
     "text": [
      "130 0.0\n",
      "245 0.0\n"
     ]
    }
   ],
   "source": [
    "for i,v in enumerate(res_her):\n",
    "    if v != res_scip[i]:\n",
    "        print(i,v)\n",
    "        aspyscip.setSolVal(aspyscip.getBestSol(),aspyscip.getVars()[i],v)\n"
   ]
  },
  {
   "cell_type": "code",
   "execution_count": 21,
   "id": "a47de39f",
   "metadata": {},
   "outputs": [
    {
     "data": {
      "text/plain": [
       "199.0"
      ]
     },
     "execution_count": 21,
     "metadata": {},
     "output_type": "execute_result"
    }
   ],
   "source": [
    "aspyscip.getObjVal()"
   ]
  },
  {
   "cell_type": "code",
   "execution_count": 22,
   "id": "539523db",
   "metadata": {},
   "outputs": [],
   "source": [
    "for i,v in enumerate(res_gnn):\n",
    "    if v != res_scip[i]:\n",
    "        print(i,v,res_scip[i])"
   ]
  },
  {
   "cell_type": "code",
   "execution_count": 23,
   "id": "2e65ccb3",
   "metadata": {},
   "outputs": [
    {
     "data": {
      "text/plain": [
       "0.06030150753768844"
      ]
     },
     "execution_count": 23,
     "metadata": {},
     "output_type": "execute_result"
    }
   ],
   "source": [
    "(aspyscip.getDualbound() - aspyscip.getObjVal())/min(aspyscip.getDualbound(),aspyscip.getObjVal())"
   ]
  },
  {
   "cell_type": "code",
   "execution_count": null,
   "id": "08fed26f",
   "metadata": {},
   "outputs": [],
   "source": [
    "solver = ecole.scip.Model.from_file(lp)\n",
    "aspyscip = solver.as_pyscipopt()\n",
    "aspyscip.setPresolve(pyscip.SCIP_PARAMSETTING.OFF)\n",
    "aspyscip.getDualbound()"
   ]
  },
  {
   "cell_type": "code",
   "execution_count": null,
   "id": "b43603ea",
   "metadata": {},
   "outputs": [],
   "source": []
  }
 ],
 "metadata": {
  "kernelspec": {
   "display_name": "Python 3 (ipykernel)",
   "language": "python",
   "name": "python3"
  },
  "language_info": {
   "codemirror_mode": {
    "name": "ipython",
    "version": 3
   },
   "file_extension": ".py",
   "mimetype": "text/x-python",
   "name": "python",
   "nbconvert_exporter": "python",
   "pygments_lexer": "ipython3",
   "version": "3.10.4"
  }
 },
 "nbformat": 4,
 "nbformat_minor": 5
}
